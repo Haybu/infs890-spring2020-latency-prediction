{
 "cells": [
  {
   "cell_type": "code",
   "execution_count": 338,
   "metadata": {},
   "outputs": [],
   "source": [
    "import numpy as np\n",
    "import pandas as pd\n",
    "import matplotlib.pyplot as plt\n",
    "from sklearn.linear_model import LinearRegression\n",
    "import seaborn as sns\n",
    "from sklearn import preprocessing\n",
    "from datetime import datetime\n",
    "from scipy import stats\n",
    "\n",
    "sns.set()\n",
    "sns.set(color_codes=True)\n",
    "#sns.set_color_codes()\n",
    "\n",
    "pd.options.display.max_rows = 15\n",
    "pd.options.display.float_format = '{:,.3f}'.format"
   ]
  },
  {
   "cell_type": "code",
   "execution_count": 355,
   "metadata": {},
   "outputs": [],
   "source": [
    "file_dir = '/Users/hmohamed/github/data-research-spring2020/raw-data-linode-run3-rules/'\n",
    "\n",
    "file1 = 'no_outliers_dataset.csv'\n",
    "file2 = 'google_run.csv'\n",
    "\n",
    "linode = pd.read_csv(file_dir + file1)\n",
    "google = pd.read_csv(file_dir + file2)\n",
    "\n",
    "linode.date = pd.to_datetime(linode.date)\n",
    "linode.set_index('date', inplace=True)\n",
    "\n",
    "columns = ['svc_resp_size','svc_cpu_use','svc_req_rate','system_net_use','svc_pods'\n",
    "           ,'svc_net_use','system_cpu_use','svc_ltcy_200','svc_disk_use','svc_req_size']\n",
    "\n",
    "start_dt = '2020-02-27 22:49:50'"
   ]
  },
  {
   "cell_type": "code",
   "execution_count": 356,
   "metadata": {},
   "outputs": [
    {
     "name": "stdout",
     "output_type": "stream",
     "text": [
      "linode (2313, 10) google (1584, 15)\n"
     ]
    }
   ],
   "source": [
    "print(\"linode {} google {}\".format(linode.shape,google.shape))"
   ]
  },
  {
   "cell_type": "code",
   "execution_count": 357,
   "metadata": {},
   "outputs": [
    {
     "data": {
      "text/plain": [
       "count   1,583.000\n",
       "mean        9.289\n",
       "std         1.754\n",
       "min         0.430\n",
       "25%         9.720\n",
       "50%        10.000\n",
       "75%        10.000\n",
       "max        10.000\n",
       "Name: svc_ltcy_200, dtype: float64"
      ]
     },
     "execution_count": 357,
     "metadata": {},
     "output_type": "execute_result"
    }
   ],
   "source": [
    "linode = linode[linode.svc_ltcy_200 >= 0.1]\n",
    "#linode = linode[linode.svc_ltcy_200 < 5.47]\n",
    "\n",
    "linode.svc_ltcy_200.describe()"
   ]
  },
  {
   "cell_type": "code",
   "execution_count": 341,
   "metadata": {},
   "outputs": [
    {
     "data": {
      "text/html": [
       "<div>\n",
       "<style scoped>\n",
       "    .dataframe tbody tr th:only-of-type {\n",
       "        vertical-align: middle;\n",
       "    }\n",
       "\n",
       "    .dataframe tbody tr th {\n",
       "        vertical-align: top;\n",
       "    }\n",
       "\n",
       "    .dataframe thead th {\n",
       "        text-align: right;\n",
       "    }\n",
       "</style>\n",
       "<table border=\"1\" class=\"dataframe\">\n",
       "  <thead>\n",
       "    <tr style=\"text-align: right;\">\n",
       "      <th></th>\n",
       "      <th>svc_resp_size</th>\n",
       "      <th>svc_cpu_use</th>\n",
       "      <th>svc_req_rate</th>\n",
       "      <th>system_net_use</th>\n",
       "      <th>svc_pods</th>\n",
       "      <th>svc_net_use</th>\n",
       "      <th>system_cpu_use</th>\n",
       "      <th>svc_ltcy_200</th>\n",
       "      <th>svc_disk_use</th>\n",
       "      <th>svc_req_size</th>\n",
       "    </tr>\n",
       "  </thead>\n",
       "  <tbody>\n",
       "    <tr>\n",
       "      <th>0</th>\n",
       "      <td>0.012</td>\n",
       "      <td>0.310</td>\n",
       "      <td>0.980</td>\n",
       "      <td>3.206</td>\n",
       "      <td>7.000</td>\n",
       "      <td>0.106</td>\n",
       "      <td>2.030</td>\n",
       "      <td>0.110</td>\n",
       "      <td>0.001</td>\n",
       "      <td>0.002</td>\n",
       "    </tr>\n",
       "    <tr>\n",
       "      <th>1</th>\n",
       "      <td>0.019</td>\n",
       "      <td>0.380</td>\n",
       "      <td>1.620</td>\n",
       "      <td>3.552</td>\n",
       "      <td>7.000</td>\n",
       "      <td>0.123</td>\n",
       "      <td>2.130</td>\n",
       "      <td>0.160</td>\n",
       "      <td>0.002</td>\n",
       "      <td>0.003</td>\n",
       "    </tr>\n",
       "    <tr>\n",
       "      <th>2</th>\n",
       "      <td>0.024</td>\n",
       "      <td>0.370</td>\n",
       "      <td>2.180</td>\n",
       "      <td>3.586</td>\n",
       "      <td>7.000</td>\n",
       "      <td>0.131</td>\n",
       "      <td>2.100</td>\n",
       "      <td>0.220</td>\n",
       "      <td>0.002</td>\n",
       "      <td>0.003</td>\n",
       "    </tr>\n",
       "  </tbody>\n",
       "</table>\n",
       "</div>"
      ],
      "text/plain": [
       "   svc_resp_size  svc_cpu_use  svc_req_rate  system_net_use  svc_pods  \\\n",
       "0          0.012        0.310         0.980           3.206     7.000   \n",
       "1          0.019        0.380         1.620           3.552     7.000   \n",
       "2          0.024        0.370         2.180           3.586     7.000   \n",
       "\n",
       "   svc_net_use  system_cpu_use  svc_ltcy_200  svc_disk_use  svc_req_size  \n",
       "0        0.106           2.030         0.110         0.001         0.002  \n",
       "1        0.123           2.130         0.160         0.002         0.003  \n",
       "2        0.131           2.100         0.220         0.002         0.003  "
      ]
     },
     "execution_count": 341,
     "metadata": {},
     "output_type": "execute_result"
    }
   ],
   "source": [
    "google = google.rename(columns={'ltcy':'svc_ltcy_200'})\n",
    "google = google[columns]\n",
    "\n",
    "google.head(3)"
   ]
  },
  {
   "cell_type": "code",
   "execution_count": 342,
   "metadata": {},
   "outputs": [
    {
     "data": {
      "text/html": [
       "<div>\n",
       "<style scoped>\n",
       "    .dataframe tbody tr th:only-of-type {\n",
       "        vertical-align: middle;\n",
       "    }\n",
       "\n",
       "    .dataframe tbody tr th {\n",
       "        vertical-align: top;\n",
       "    }\n",
       "\n",
       "    .dataframe thead th {\n",
       "        text-align: right;\n",
       "    }\n",
       "</style>\n",
       "<table border=\"1\" class=\"dataframe\">\n",
       "  <thead>\n",
       "    <tr style=\"text-align: right;\">\n",
       "      <th></th>\n",
       "      <th>svc_resp_size</th>\n",
       "      <th>svc_cpu_use</th>\n",
       "      <th>svc_req_rate</th>\n",
       "      <th>system_net_use</th>\n",
       "      <th>svc_pods</th>\n",
       "      <th>svc_net_use</th>\n",
       "      <th>system_cpu_use</th>\n",
       "      <th>svc_ltcy_200</th>\n",
       "      <th>svc_disk_use</th>\n",
       "      <th>svc_req_size</th>\n",
       "    </tr>\n",
       "  </thead>\n",
       "  <tbody>\n",
       "    <tr>\n",
       "      <th>0</th>\n",
       "      <td>20.460</td>\n",
       "      <td>2.167</td>\n",
       "      <td>1.290</td>\n",
       "      <td>2.579</td>\n",
       "      <td>7.000</td>\n",
       "      <td>-0.572</td>\n",
       "      <td>2.770</td>\n",
       "      <td>0.960</td>\n",
       "      <td>5.032</td>\n",
       "      <td>1.922</td>\n",
       "    </tr>\n",
       "    <tr>\n",
       "      <th>1</th>\n",
       "      <td>40.236</td>\n",
       "      <td>-6.740</td>\n",
       "      <td>3.560</td>\n",
       "      <td>3.694</td>\n",
       "      <td>7.000</td>\n",
       "      <td>2.535</td>\n",
       "      <td>3.180</td>\n",
       "      <td>3.930</td>\n",
       "      <td>2.164</td>\n",
       "      <td>5.851</td>\n",
       "    </tr>\n",
       "    <tr>\n",
       "      <th>2</th>\n",
       "      <td>38.784</td>\n",
       "      <td>1.955</td>\n",
       "      <td>3.380</td>\n",
       "      <td>3.636</td>\n",
       "      <td>7.000</td>\n",
       "      <td>-0.662</td>\n",
       "      <td>3.390</td>\n",
       "      <td>4.000</td>\n",
       "      <td>26.683</td>\n",
       "      <td>5.593</td>\n",
       "    </tr>\n",
       "  </tbody>\n",
       "</table>\n",
       "</div>"
      ],
      "text/plain": [
       "   svc_resp_size  svc_cpu_use  svc_req_rate  system_net_use  svc_pods  \\\n",
       "0         20.460        2.167         1.290           2.579     7.000   \n",
       "1         40.236       -6.740         3.560           3.694     7.000   \n",
       "2         38.784        1.955         3.380           3.636     7.000   \n",
       "\n",
       "   svc_net_use  system_cpu_use  svc_ltcy_200  svc_disk_use  svc_req_size  \n",
       "0       -0.572           2.770         0.960         5.032         1.922  \n",
       "1        2.535           3.180         3.930         2.164         5.851  \n",
       "2       -0.662           3.390         4.000        26.683         5.593  "
      ]
     },
     "execution_count": 342,
     "metadata": {},
     "output_type": "execute_result"
    }
   ],
   "source": [
    "# reorder linode df\n",
    "linode = linode[columns]\n",
    "linode = linode.reset_index()\n",
    "linode = linode.drop(['date'], axis=1)\n",
    "linode.head(3)"
   ]
  },
  {
   "cell_type": "code",
   "execution_count": 343,
   "metadata": {},
   "outputs": [
    {
     "data": {
      "text/plain": [
       "(3897, 11)"
      ]
     },
     "execution_count": 343,
     "metadata": {},
     "output_type": "execute_result"
    }
   ],
   "source": [
    "linode['type'] = 1\n",
    "google['type'] = 2\n",
    "\n",
    "# stack them up\n",
    "stack = pd.concat([google, linode], ignore_index = True)\n",
    "stack.shape\n"
   ]
  },
  {
   "cell_type": "code",
   "execution_count": 344,
   "metadata": {},
   "outputs": [
    {
     "data": {
      "text/html": [
       "<div>\n",
       "<style scoped>\n",
       "    .dataframe tbody tr th:only-of-type {\n",
       "        vertical-align: middle;\n",
       "    }\n",
       "\n",
       "    .dataframe tbody tr th {\n",
       "        vertical-align: top;\n",
       "    }\n",
       "\n",
       "    .dataframe thead th {\n",
       "        text-align: right;\n",
       "    }\n",
       "</style>\n",
       "<table border=\"1\" class=\"dataframe\">\n",
       "  <thead>\n",
       "    <tr style=\"text-align: right;\">\n",
       "      <th></th>\n",
       "      <th>svc_resp_size</th>\n",
       "      <th>svc_cpu_use</th>\n",
       "      <th>svc_req_rate</th>\n",
       "      <th>system_net_use</th>\n",
       "      <th>svc_pods</th>\n",
       "      <th>svc_net_use</th>\n",
       "      <th>system_cpu_use</th>\n",
       "      <th>svc_ltcy_200</th>\n",
       "      <th>svc_disk_use</th>\n",
       "      <th>svc_req_size</th>\n",
       "      <th>type</th>\n",
       "    </tr>\n",
       "  </thead>\n",
       "  <tbody>\n",
       "    <tr>\n",
       "      <th>0</th>\n",
       "      <td>0.012</td>\n",
       "      <td>0.310</td>\n",
       "      <td>0.980</td>\n",
       "      <td>3.206</td>\n",
       "      <td>7.000</td>\n",
       "      <td>0.106</td>\n",
       "      <td>2.030</td>\n",
       "      <td>0.110</td>\n",
       "      <td>0.001</td>\n",
       "      <td>0.002</td>\n",
       "      <td>2</td>\n",
       "    </tr>\n",
       "    <tr>\n",
       "      <th>1</th>\n",
       "      <td>0.019</td>\n",
       "      <td>0.380</td>\n",
       "      <td>1.620</td>\n",
       "      <td>3.552</td>\n",
       "      <td>7.000</td>\n",
       "      <td>0.123</td>\n",
       "      <td>2.130</td>\n",
       "      <td>0.160</td>\n",
       "      <td>0.002</td>\n",
       "      <td>0.003</td>\n",
       "      <td>2</td>\n",
       "    </tr>\n",
       "    <tr>\n",
       "      <th>2</th>\n",
       "      <td>0.024</td>\n",
       "      <td>0.370</td>\n",
       "      <td>2.180</td>\n",
       "      <td>3.586</td>\n",
       "      <td>7.000</td>\n",
       "      <td>0.131</td>\n",
       "      <td>2.100</td>\n",
       "      <td>0.220</td>\n",
       "      <td>0.002</td>\n",
       "      <td>0.003</td>\n",
       "      <td>2</td>\n",
       "    </tr>\n",
       "  </tbody>\n",
       "</table>\n",
       "</div>"
      ],
      "text/plain": [
       "   svc_resp_size  svc_cpu_use  svc_req_rate  system_net_use  svc_pods  \\\n",
       "0          0.012        0.310         0.980           3.206     7.000   \n",
       "1          0.019        0.380         1.620           3.552     7.000   \n",
       "2          0.024        0.370         2.180           3.586     7.000   \n",
       "\n",
       "   svc_net_use  system_cpu_use  svc_ltcy_200  svc_disk_use  svc_req_size  type  \n",
       "0        0.106           2.030         0.110         0.001         0.002     2  \n",
       "1        0.123           2.130         0.160         0.002         0.003     2  \n",
       "2        0.131           2.100         0.220         0.002         0.003     2  "
      ]
     },
     "execution_count": 344,
     "metadata": {},
     "output_type": "execute_result"
    }
   ],
   "source": [
    "stack.head(3)"
   ]
  },
  {
   "cell_type": "markdown",
   "metadata": {},
   "source": [
    "# remove nulls and zeros"
   ]
  },
  {
   "cell_type": "code",
   "execution_count": 345,
   "metadata": {},
   "outputs": [
    {
     "data": {
      "text/plain": [
       "svc_resp_size    0.000\n",
       "svc_cpu_use      0.000\n",
       "svc_req_rate     0.000\n",
       "system_net_use   0.000\n",
       "svc_pods         0.000\n",
       "svc_net_use      0.000\n",
       "system_cpu_use   0.000\n",
       "svc_ltcy_200     0.000\n",
       "svc_disk_use     0.000\n",
       "svc_req_size     0.000\n",
       "type             0.000\n",
       "dtype: float64"
      ]
     },
     "execution_count": 345,
     "metadata": {},
     "output_type": "execute_result"
    }
   ],
   "source": [
    "# check for null\n",
    "stack.isnull().sum() * 100 / stack.shape[0]"
   ]
  },
  {
   "cell_type": "code",
   "execution_count": 346,
   "metadata": {},
   "outputs": [
    {
     "name": "stdout",
     "output_type": "stream",
     "text": [
      "shape with zero latency: (3897, 11)\n",
      "shape without zero latency: (3169, 11)\n"
     ]
    }
   ],
   "source": [
    "# check for minimum value to consider\n",
    "print('shape with zero latency: {}'.format(stack.shape))\n",
    "stack = stack[stack.svc_ltcy_200 >= 0.03]\n",
    "print('shape without zero latency: {}'.format(stack.shape))"
   ]
  },
  {
   "cell_type": "markdown",
   "metadata": {},
   "source": [
    "# remove outlier "
   ]
  },
  {
   "cell_type": "code",
   "execution_count": 347,
   "metadata": {},
   "outputs": [],
   "source": [
    "normalized = stack"
   ]
  },
  {
   "cell_type": "code",
   "execution_count": 354,
   "metadata": {},
   "outputs": [
    {
     "data": {
      "text/plain": [
       "count   1,583.000\n",
       "mean        0.631\n",
       "std         0.289\n",
       "min         0.030\n",
       "25%         0.420\n",
       "50%         0.620\n",
       "75%         0.855\n",
       "max         1.430\n",
       "Name: svc_ltcy_200, dtype: float64"
      ]
     },
     "execution_count": 354,
     "metadata": {},
     "output_type": "execute_result"
    }
   ],
   "source": [
    "normalized['svc_ltcy_200'].describe()"
   ]
  },
  {
   "cell_type": "code",
   "execution_count": 349,
   "metadata": {},
   "outputs": [],
   "source": [
    "# svc_req_rate\n",
    "#quantile = normalized['svc_ltcy_200'].quantile(0.01)\n",
    "#normalized = normalized[normalized['svc_ltcy_200'] > quantile]"
   ]
  },
  {
   "cell_type": "code",
   "execution_count": 350,
   "metadata": {},
   "outputs": [],
   "source": [
    "# svc_req_rate\n",
    "quantile = normalized['svc_ltcy_200'].quantile(0.50)\n",
    "normalized = normalized[normalized['svc_ltcy_200'] < quantile]"
   ]
  },
  {
   "cell_type": "markdown",
   "metadata": {},
   "source": [
    "# check latency distribution"
   ]
  },
  {
   "cell_type": "code",
   "execution_count": 351,
   "metadata": {},
   "outputs": [
    {
     "data": {
      "text/plain": [
       "Text(0.5, 1.0, 'ltcy NPP')"
      ]
     },
     "execution_count": 351,
     "metadata": {},
     "output_type": "execute_result"
    },
    {
     "data": {
      "image/png": "[encoded data removed]",
      "text/plain": [
       "<Figure size 720x360 with 2 Axes>"
      ]
     },
     "metadata": {},
     "output_type": "display_data"
    }
   ],
   "source": [
    "latency = np.power(normalized.svc_ltcy_200, 1)\n",
    "\n",
    "fig, ax = plt.subplots(1,2,figsize=(10,5))\n",
    "fig.suptitle('ltcy NPP')\n",
    "\n",
    "sns.distplot(latency, ax=ax[0])\n",
    "ax[0].set_title('ltcy Histogram')\n",
    "\n",
    "stats.probplot(latency, plot=ax[1])\n",
    "ax[1].set_title('ltcy NPP')\n"
   ]
  },
  {
   "cell_type": "code",
   "execution_count": 352,
   "metadata": {},
   "outputs": [
    {
     "data": {
      "text/plain": [
       "(3169, 11)"
      ]
     },
     "execution_count": 352,
     "metadata": {},
     "output_type": "execute_result"
    }
   ],
   "source": [
    "stack.shape"
   ]
  },
  {
   "cell_type": "code",
   "execution_count": 353,
   "metadata": {},
   "outputs": [
    {
     "name": "stdout",
     "output_type": "stream",
     "text": [
      "linode 17  google 1566\n"
     ]
    }
   ],
   "source": [
    "linode_type = normalized[normalized.type == 1]\n",
    "google_type = normalized[normalized.type == 2]\n",
    "\n",
    "print('linode {}  google {}'.format(linode_type.shape[0], google_type.shape[0]))"
   ]
  }
 ],
 "metadata": {
  "kernelspec": {
   "display_name": "Python 3",
   "language": "python",
   "name": "python3"
  },
  "language_info": {
   "codemirror_mode": {
    "name": "ipython",
    "version": 3
   },
   "file_extension": ".py",
   "mimetype": "text/x-python",
   "name": "python",
   "nbconvert_exporter": "python",
   "pygments_lexer": "ipython3",
   "version": "3.7.6"
  }
 },
 "nbformat": 4,
 "nbformat_minor": 4
}
