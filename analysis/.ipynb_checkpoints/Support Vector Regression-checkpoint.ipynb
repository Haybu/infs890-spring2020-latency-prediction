{
 "cells": [
  {
   "cell_type": "code",
   "execution_count": 27,
   "metadata": {},
   "outputs": [],
   "source": [
    "import numpy as np\n",
    "import pandas as pd\n",
    "import matplotlib.pyplot as plt\n",
    "from sklearn.svm import LinearSVR\n",
    "from sklearn.model_selection import cross_val_score\n",
    "from sklearn.model_selection import KFold\n",
    "import seaborn as sns\n",
    "from sklearn import preprocessing\n",
    "from datetime import datetime\n",
    "from scipy import stats\n",
    "from sklearn.feature_selection import SelectFromModel\n",
    "from sklearn.linear_model import LassoCV\n",
    "from sklearn.linear_model import Lasso\n",
    "from sklearn.model_selection import train_test_split\n",
    "from sklearn.preprocessing import StandardScaler\n",
    "from sklearn.pipeline import Pipeline\n",
    "\n",
    "sns.set()\n",
    "sns.set(color_codes=True)\n",
    "#sns.set_color_codes()\n",
    "\n",
    "pd.options.display.max_rows = 15\n",
    "pd.options.display.float_format = '{:,.3f}'.format"
   ]
  },
  {
   "cell_type": "code",
   "execution_count": 28,
   "metadata": {},
   "outputs": [],
   "source": [
    "# 1- read data file\n",
    "# 1- read processed file\n",
    "file_dir = '../data/processed-data/'\n",
    "\n",
    "non_normalized_data_file = 'missing_outliers_processed_dataset.csv'\n",
    "normalized_data_file = 'normalized_dataset.csv'\n",
    "factored_data_file = 'factored_dataset.csv'\n",
    "\n",
    "data = pd.read_csv(file_dir + normalized_data_file)"
   ]
  },
  {
   "cell_type": "code",
   "execution_count": 29,
   "metadata": {},
   "outputs": [
    {
     "data": {
      "text/html": [
       "<div>\n",
       "<style scoped>\n",
       "    .dataframe tbody tr th:only-of-type {\n",
       "        vertical-align: middle;\n",
       "    }\n",
       "\n",
       "    .dataframe tbody tr th {\n",
       "        vertical-align: top;\n",
       "    }\n",
       "\n",
       "    .dataframe thead th {\n",
       "        text-align: right;\n",
       "    }\n",
       "</style>\n",
       "<table border=\"1\" class=\"dataframe\">\n",
       "  <thead>\n",
       "    <tr style=\"text-align: right;\">\n",
       "      <th></th>\n",
       "      <th>ltcy</th>\n",
       "      <th>svc_cpu_use</th>\n",
       "      <th>svc_cpu_thr</th>\n",
       "      <th>svc_net_use</th>\n",
       "      <th>svc_disk_use</th>\n",
       "      <th>system_cpu_use</th>\n",
       "      <th>system_cpu_sat</th>\n",
       "      <th>system_net_use</th>\n",
       "      <th>svc_req_size</th>\n",
       "      <th>svc_resp_size</th>\n",
       "      <th>svc_pods</th>\n",
       "      <th>svc_req_rate</th>\n",
       "    </tr>\n",
       "  </thead>\n",
       "  <tbody>\n",
       "    <tr>\n",
       "      <th>0</th>\n",
       "      <td>0.332</td>\n",
       "      <td>0.557</td>\n",
       "      <td>0.332</td>\n",
       "      <td>0.325</td>\n",
       "      <td>0.037</td>\n",
       "      <td>16.982</td>\n",
       "      <td>1.591</td>\n",
       "      <td>3.206</td>\n",
       "      <td>0.002</td>\n",
       "      <td>0.012</td>\n",
       "      <td>7.000</td>\n",
       "      <td>0.980</td>\n",
       "    </tr>\n",
       "    <tr>\n",
       "      <th>1</th>\n",
       "      <td>0.400</td>\n",
       "      <td>0.616</td>\n",
       "      <td>0.300</td>\n",
       "      <td>0.351</td>\n",
       "      <td>0.047</td>\n",
       "      <td>20.583</td>\n",
       "      <td>1.608</td>\n",
       "      <td>3.552</td>\n",
       "      <td>0.003</td>\n",
       "      <td>0.019</td>\n",
       "      <td>7.000</td>\n",
       "      <td>1.620</td>\n",
       "    </tr>\n",
       "    <tr>\n",
       "      <th>2</th>\n",
       "      <td>0.469</td>\n",
       "      <td>0.608</td>\n",
       "      <td>0.316</td>\n",
       "      <td>0.362</td>\n",
       "      <td>0.039</td>\n",
       "      <td>19.448</td>\n",
       "      <td>1.390</td>\n",
       "      <td>3.586</td>\n",
       "      <td>0.003</td>\n",
       "      <td>0.024</td>\n",
       "      <td>7.000</td>\n",
       "      <td>2.180</td>\n",
       "    </tr>\n",
       "    <tr>\n",
       "      <th>3</th>\n",
       "      <td>0.490</td>\n",
       "      <td>0.624</td>\n",
       "      <td>0.300</td>\n",
       "      <td>0.362</td>\n",
       "      <td>0.108</td>\n",
       "      <td>17.319</td>\n",
       "      <td>1.730</td>\n",
       "      <td>3.512</td>\n",
       "      <td>0.003</td>\n",
       "      <td>0.022</td>\n",
       "      <td>6.000</td>\n",
       "      <td>2.130</td>\n",
       "    </tr>\n",
       "    <tr>\n",
       "      <th>4</th>\n",
       "      <td>0.500</td>\n",
       "      <td>0.608</td>\n",
       "      <td>0.316</td>\n",
       "      <td>0.374</td>\n",
       "      <td>0.133</td>\n",
       "      <td>16.650</td>\n",
       "      <td>1.917</td>\n",
       "      <td>3.449</td>\n",
       "      <td>0.003</td>\n",
       "      <td>0.023</td>\n",
       "      <td>3.000</td>\n",
       "      <td>2.220</td>\n",
       "    </tr>\n",
       "  </tbody>\n",
       "</table>\n",
       "</div>"
      ],
      "text/plain": [
       "   ltcy  svc_cpu_use  svc_cpu_thr  svc_net_use  svc_disk_use  system_cpu_use  \\\n",
       "0 0.332        0.557        0.332        0.325         0.037          16.982   \n",
       "1 0.400        0.616        0.300        0.351         0.047          20.583   \n",
       "2 0.469        0.608        0.316        0.362         0.039          19.448   \n",
       "3 0.490        0.624        0.300        0.362         0.108          17.319   \n",
       "4 0.500        0.608        0.316        0.374         0.133          16.650   \n",
       "\n",
       "   system_cpu_sat  system_net_use  svc_req_size  svc_resp_size  svc_pods  \\\n",
       "0           1.591           3.206         0.002          0.012     7.000   \n",
       "1           1.608           3.552         0.003          0.019     7.000   \n",
       "2           1.390           3.586         0.003          0.024     7.000   \n",
       "3           1.730           3.512         0.003          0.022     6.000   \n",
       "4           1.917           3.449         0.003          0.023     3.000   \n",
       "\n",
       "   svc_req_rate  \n",
       "0         0.980  \n",
       "1         1.620  \n",
       "2         2.180  \n",
       "3         2.130  \n",
       "4         2.220  "
      ]
     },
     "execution_count": 29,
     "metadata": {},
     "output_type": "execute_result"
    }
   ],
   "source": [
    "data.head(5)"
   ]
  },
  {
   "cell_type": "markdown",
   "metadata": {},
   "source": [
    "## Linear Regression Model"
   ]
  },
  {
   "cell_type": "code",
   "execution_count": 30,
   "metadata": {},
   "outputs": [],
   "source": [
    "targets = data['ltcy']\n",
    "inputs = data.drop(['ltcy'], axis=1)\n",
    "\n",
    "#inputs_scaled = scaler.fit_transform(inputs)\n",
    "#x_train, x_test, y_train, y_test = train_test_split(inputs_scaled, targets, test_size=0.2, random_state=365)\n",
    "\n",
    "x_train, x_test, y_train, y_test = \\\n",
    "    train_test_split(inputs, targets, test_size=0.2, random_state=365)\n",
    "\n",
    "# for better convergence and result scale target to values between 0 - 1\n",
    "maxltcy = targets.max()\n",
    "y_train = y_train / maxltcy\n",
    "y_test = y_test / maxltcy\n",
    "\n"
   ]
  },
  {
   "cell_type": "code",
   "execution_count": 31,
   "metadata": {},
   "outputs": [
    {
     "ename": "NameError",
     "evalue": "name 'pipeline' is not defined",
     "output_type": "error",
     "traceback": [
      "\u001b[0;31m-----------------------------------------------------------------------\u001b[0m",
      "\u001b[0;31mNameError\u001b[0m                             Traceback (most recent call last)",
      "\u001b[0;32m<ipython-input-31-2cd7afac22f7>\u001b[0m in \u001b[0;36m<module>\u001b[0;34m\u001b[0m\n\u001b[1;32m     16\u001b[0m \u001b[0;34m\u001b[0m\u001b[0m\n\u001b[1;32m     17\u001b[0m \u001b[0mkfold\u001b[0m \u001b[0;34m=\u001b[0m \u001b[0mKFold\u001b[0m\u001b[0;34m(\u001b[0m\u001b[0mn_splits\u001b[0m\u001b[0;34m=\u001b[0m\u001b[0;36m10\u001b[0m\u001b[0;34m)\u001b[0m\u001b[0;34m\u001b[0m\u001b[0;34m\u001b[0m\u001b[0m\n\u001b[0;32m---> 18\u001b[0;31m \u001b[0mresults\u001b[0m \u001b[0;34m=\u001b[0m \u001b[0mcross_val_score\u001b[0m\u001b[0;34m(\u001b[0m\u001b[0mpipeline\u001b[0m\u001b[0;34m,\u001b[0m \u001b[0mx_train\u001b[0m \u001b[0;34m,\u001b[0m \u001b[0my_train\u001b[0m\u001b[0;34m,\u001b[0m \u001b[0mcv\u001b[0m\u001b[0;34m=\u001b[0m\u001b[0mkfold\u001b[0m\u001b[0;34m)\u001b[0m\u001b[0;34m\u001b[0m\u001b[0;34m\u001b[0m\u001b[0m\n\u001b[0m\u001b[1;32m     19\u001b[0m \u001b[0;34m\u001b[0m\u001b[0m\n\u001b[1;32m     20\u001b[0m \u001b[0mprint\u001b[0m \u001b[0;34m(\u001b[0m\u001b[0;34m\"Done..!\"\u001b[0m\u001b[0;34m)\u001b[0m\u001b[0;34m\u001b[0m\u001b[0;34m\u001b[0m\u001b[0m\n",
      "\u001b[0;31mNameError\u001b[0m: name 'pipeline' is not defined"
     ]
    }
   ],
   "source": [
    "# standardize the features\n",
    "scaler = StandardScaler()\n",
    "\n",
    "# using SelectFromModel metatransformer to select features\n",
    "clf = LassoCV()\n",
    "sfm = SelectFromModel(clf, threshold=0.01)\n",
    "\n",
    "# SVM\n",
    "svr = LinearSVR(C=0.1, verbose=1)\n",
    "\n",
    "pline = Pipeline([\n",
    "    ('scaler', scaler),\n",
    "    ('feature_selection', sfm),\n",
    "    ('regression', svr)\n",
    "])\n",
    "\n",
    "kfold = KFold(n_splits=10)\n",
    "results = cross_val_score(pline, x_train , y_train, cv=kfold)\n",
    "\n",
    "print (\"Done..!\")\n",
    "\n",
    "y_hat = pline.fit(x_train, y_train)"
   ]
  },
  {
   "cell_type": "code",
   "execution_count": null,
   "metadata": {},
   "outputs": [],
   "source": [
    "y_hat = pline.predict(x_train)"
   ]
  },
  {
   "cell_type": "code",
   "execution_count": null,
   "metadata": {},
   "outputs": [],
   "source": [
    "plt.scatter(y_train, y_hat)\n",
    "plt.xlabel('Latency', size=18)\n",
    "plt.ylabel(\"predicted Latency\", size=18)\n",
    "#plt.xlim(-2,3)\n",
    "#plt.ylim(-3,1)\n",
    "plt.show()"
   ]
  },
  {
   "cell_type": "code",
   "execution_count": null,
   "metadata": {},
   "outputs": [],
   "source": [
    "sns.distplot(y_train - y_hat)\n",
    "plt.title('Residual PDF', size=18)"
   ]
  },
  {
   "cell_type": "code",
   "execution_count": null,
   "metadata": {},
   "outputs": [],
   "source": [
    "# R-Squared\n",
    "pline.score(x_train, y_train)"
   ]
  },
  {
   "cell_type": "code",
   "execution_count": null,
   "metadata": {},
   "outputs": [],
   "source": [
    "pline.named_steps.regression.intercept_"
   ]
  },
  {
   "cell_type": "code",
   "execution_count": null,
   "metadata": {},
   "outputs": [],
   "source": [
    "pline.named_steps.regression.coef_"
   ]
  },
  {
   "cell_type": "code",
   "execution_count": null,
   "metadata": {},
   "outputs": [],
   "source": [
    "selector = pline.named_steps.feature_selection\n",
    "selected_features = selector.transform(inputs)\n",
    "number_of_features = selected_features.shape[1]\n",
    "\n",
    "features = []\n",
    "for i in range(number_of_features):\n",
    "    features.append('Feature_' + str(i))\n",
    "\n",
    "reg_summary = pd.DataFrame(features, columns=['features'])\n",
    "reg_summary['weights'] = pline.named_steps.regression.coef_\n",
    "reg_summary"
   ]
  },
  {
   "cell_type": "code",
   "execution_count": null,
   "metadata": {},
   "outputs": [],
   "source": [
    "# validation mean_absolute_percentage_error\n",
    "train_error =  np.abs(y_train - y_hat)\n",
    "mean_error = np.mean(train_error)\n",
    "min_error = np.min(train_error)\n",
    "max_error = np.max(train_error)\n",
    "std_error = np.std(train_error)\n",
    "\n",
    "print(\"Model Result (mean and std of error): %.2f (%.2f) MSE\" % (mean_error, std_error))"
   ]
  },
  {
   "cell_type": "markdown",
   "metadata": {},
   "source": [
    "### Testing"
   ]
  },
  {
   "cell_type": "code",
   "execution_count": null,
   "metadata": {},
   "outputs": [],
   "source": [
    "y_hat_test = pline.predict(x_test)"
   ]
  },
  {
   "cell_type": "code",
   "execution_count": null,
   "metadata": {},
   "outputs": [],
   "source": [
    "plt.scatter(y_test, y_hat_test, alpha=0.2)\n",
    "plt.xlabel('Latency', size=18)\n",
    "plt.ylabel('Predicted Latency', size=18)\n",
    "plt.show"
   ]
  },
  {
   "cell_type": "code",
   "execution_count": null,
   "metadata": {},
   "outputs": [],
   "source": [
    "perf = pd.DataFrame(np.exp(y_hat_test), columns=['prediction'])\n",
    "y_test = y_test.reset_index(drop=True)\n",
    "perf['target'] = np.exp(y_test)\n",
    "perf.head()"
   ]
  },
  {
   "cell_type": "code",
   "execution_count": null,
   "metadata": {},
   "outputs": [],
   "source": [
    "# testing mean_absolute_percentage_error\n",
    "perf['residual'] = perf['prediction'] - perf['target']\n",
    "perf['difference%'] = np.absolute(perf['residual'] * 100 / perf['target'])\n",
    "perf"
   ]
  },
  {
   "cell_type": "code",
   "execution_count": null,
   "metadata": {},
   "outputs": [],
   "source": [
    "perf.describe()"
   ]
  },
  {
   "cell_type": "code",
   "execution_count": null,
   "metadata": {},
   "outputs": [],
   "source": [
    "pd.options.display.max_rows = 999\n",
    "pd.set_option('display.float_format', lambda x: '%.2f' % x)\n",
    "perf.sort_values(by = ['difference%'])"
   ]
  }
 ],
 "metadata": {
  "kernelspec": {
   "display_name": "Python 3",
   "language": "python",
   "name": "python3"
  },
  "language_info": {
   "codemirror_mode": {
    "name": "ipython",
    "version": 3
   },
   "file_extension": ".py",
   "mimetype": "text/x-python",
   "name": "python",
   "nbconvert_exporter": "python",
   "pygments_lexer": "ipython3",
   "version": "3.7.6"
  }
 },
 "nbformat": 4,
 "nbformat_minor": 4
}
