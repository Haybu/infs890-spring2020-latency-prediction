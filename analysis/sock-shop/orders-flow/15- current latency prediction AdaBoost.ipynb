{
 "cells": [
  {
   "cell_type": "markdown",
   "metadata": {},
   "source": [
    "# AdaBoost\n",
    "Haytham Mohamed\n",
    "\n",
    "INFS 890 - Spring 2020"
   ]
  },
  {
   "cell_type": "code",
   "execution_count": 73,
   "metadata": {},
   "outputs": [],
   "source": [
    "import numpy as np\n",
    "import pandas as pd\n",
    "import matplotlib.pyplot as plt\n",
    "from sklearn.ensemble import AdaBoostRegressor #For Regression\n",
    "from sklearn.model_selection import cross_val_score\n",
    "from sklearn.model_selection import KFold\n",
    "from sklearn.feature_selection import SelectKBest\n",
    "import seaborn as sns\n",
    "from sklearn import preprocessing, metrics, feature_selection, tree\n",
    "from datetime import datetime\n",
    "from scipy import stats\n",
    "from sklearn.feature_selection import SelectFromModel\n",
    "from sklearn.linear_model import LassoCV\n",
    "from sklearn.linear_model import Lasso\n",
    "from sklearn.model_selection import train_test_split\n",
    "from sklearn.preprocessing import StandardScaler , MinMaxScaler\n",
    "from sklearn.pipeline import Pipeline, FeatureUnion\n",
    "from sklearn.model_selection import GridSearchCV\n",
    "from sklearn.ensemble import RandomForestRegressor\n",
    "from sklearn.metrics import mean_squared_error\n",
    "from sklearn.feature_selection import RFECV\n",
    "from sklearn.decomposition import PCA\n",
    "\n",
    "sns.set()\n",
    "sns.set(color_codes=True)\n",
    "#sns.set_color_codes()\n",
    "\n",
    "pd.options.display.max_rows = 15\n",
    "pd.options.display.float_format = '{:,.4f}'.format"
   ]
  },
  {
   "cell_type": "markdown",
   "metadata": {},
   "source": [
    "Set this flag to True if you're using reduction feature using FCA, otherwise set it to False"
   ]
  },
  {
   "cell_type": "code",
   "execution_count": 74,
   "metadata": {},
   "outputs": [],
   "source": [
    "# 1- read data file\n",
    "# 1- read processed file\n",
    "home_dir = '/Users/hmohamed/github/data-research-spring2020/sock-shop'\n",
    "file_dir = home_dir + '/processed-data/'\n",
    "\n",
    "data_file = 'orders_flow_data.csv'   # raw data as is\n",
    "#data_file = 'order_flow_cleanup_data.csv'\n",
    "#data_file = 'order_flow_normalized_data.csv'\n",
    "#data_file = 'order_flow_standardized_data.csv'\n",
    "#data_file = 'order_flow_factored_data.csv'\n",
    "\n",
    "\n",
    "SCALE_TARGETS = True\n",
    "SCALE_FEATURES = True\n",
    "\n",
    "FEATURES_SELECTION = True\n",
    "\n",
    "test_split = 0.2"
   ]
  },
  {
   "cell_type": "code",
   "execution_count": 75,
   "metadata": {},
   "outputs": [],
   "source": [
    "def read_df(file_dir, data_file, timeseries=True):\n",
    "    df = pd.read_csv(file_dir + data_file)\n",
    "    if timeseries:\n",
    "        df = to_time_series(df)\n",
    "    return df\n",
    "\n",
    "def to_time_series(df, index_col_name='date'):\n",
    "    df[index_col_name] = pd.to_datetime(df[index_col_name])\n",
    "    df.set_index(index_col_name, inplace=True)\n",
    "    df.sort_index(inplace=True)\n",
    "    return df\n",
    "\n",
    "def merge(df, series):\n",
    "    return pd.merge_asof(df, series, left_index=True, right_index=True, tolerance=pd.Timedelta('1 second')).bfill()    \n"
   ]
  },
  {
   "cell_type": "code",
   "execution_count": 76,
   "metadata": {},
   "outputs": [
    {
     "name": "stdout",
     "output_type": "stream",
     "text": [
      "data shape (6766, 29)\n"
     ]
    },
    {
     "data": {
      "text/html": [
       "<div>\n",
       "<style scoped>\n",
       "    .dataframe tbody tr th:only-of-type {\n",
       "        vertical-align: middle;\n",
       "    }\n",
       "\n",
       "    .dataframe tbody tr th {\n",
       "        vertical-align: top;\n",
       "    }\n",
       "\n",
       "    .dataframe thead th {\n",
       "        text-align: right;\n",
       "    }\n",
       "</style>\n",
       "<table border=\"1\" class=\"dataframe\">\n",
       "  <thead>\n",
       "    <tr style=\"text-align: right;\">\n",
       "      <th></th>\n",
       "      <th>front-end_cpu_use</th>\n",
       "      <th>orders_cpu_use</th>\n",
       "      <th>orders-db_cpu_use</th>\n",
       "      <th>user_cpu_use</th>\n",
       "      <th>user-db_cpu_use</th>\n",
       "      <th>shipping_cpu_use</th>\n",
       "      <th>payment_cpu_use</th>\n",
       "      <th>carts_cpu_use</th>\n",
       "      <th>carts-db_cpu_use</th>\n",
       "      <th>front-end_pods</th>\n",
       "      <th>...</th>\n",
       "      <th>user-db_net_use</th>\n",
       "      <th>shipping_net_use</th>\n",
       "      <th>payment_net_use</th>\n",
       "      <th>carts_net_use</th>\n",
       "      <th>carts-db_net_use</th>\n",
       "      <th>nodes_cpu_use</th>\n",
       "      <th>nodes_disk_io</th>\n",
       "      <th>nodes_net_use</th>\n",
       "      <th>orders_req</th>\n",
       "      <th>orders_ltcy</th>\n",
       "    </tr>\n",
       "  </thead>\n",
       "  <tbody>\n",
       "    <tr>\n",
       "      <th>0</th>\n",
       "      <td>0.0300</td>\n",
       "      <td>0.0100</td>\n",
       "      <td>0.0100</td>\n",
       "      <td>0.0100</td>\n",
       "      <td>0.0100</td>\n",
       "      <td>0.0100</td>\n",
       "      <td>0.0100</td>\n",
       "      <td>0.0300</td>\n",
       "      <td>0.0700</td>\n",
       "      <td>1.0000</td>\n",
       "      <td>...</td>\n",
       "      <td>2.2044</td>\n",
       "      <td>2.6585</td>\n",
       "      <td>8.9654</td>\n",
       "      <td>22.0117</td>\n",
       "      <td>4.7995</td>\n",
       "      <td>2.5000</td>\n",
       "      <td>1.6700</td>\n",
       "      <td>2.7617</td>\n",
       "      <td>0.1500</td>\n",
       "      <td>0.2400</td>\n",
       "    </tr>\n",
       "    <tr>\n",
       "      <th>1</th>\n",
       "      <td>0.0600</td>\n",
       "      <td>0.0200</td>\n",
       "      <td>0.0200</td>\n",
       "      <td>0.0200</td>\n",
       "      <td>0.0200</td>\n",
       "      <td>0.0100</td>\n",
       "      <td>0.0100</td>\n",
       "      <td>0.1800</td>\n",
       "      <td>0.1800</td>\n",
       "      <td>1.0000</td>\n",
       "      <td>...</td>\n",
       "      <td>2.2044</td>\n",
       "      <td>2.6585</td>\n",
       "      <td>8.9654</td>\n",
       "      <td>22.0117</td>\n",
       "      <td>4.7995</td>\n",
       "      <td>1.8900</td>\n",
       "      <td>1.0100</td>\n",
       "      <td>2.7617</td>\n",
       "      <td>0.1500</td>\n",
       "      <td>0.2400</td>\n",
       "    </tr>\n",
       "    <tr>\n",
       "      <th>2</th>\n",
       "      <td>0.0700</td>\n",
       "      <td>0.0300</td>\n",
       "      <td>0.0200</td>\n",
       "      <td>0.0300</td>\n",
       "      <td>0.0200</td>\n",
       "      <td>0.0100</td>\n",
       "      <td>0.0100</td>\n",
       "      <td>0.4400</td>\n",
       "      <td>0.2000</td>\n",
       "      <td>1.0000</td>\n",
       "      <td>...</td>\n",
       "      <td>16.0739</td>\n",
       "      <td>13.5708</td>\n",
       "      <td>16.9964</td>\n",
       "      <td>27.3438</td>\n",
       "      <td>16.6522</td>\n",
       "      <td>1.3500</td>\n",
       "      <td>0.0500</td>\n",
       "      <td>2.5880</td>\n",
       "      <td>0.1500</td>\n",
       "      <td>0.2400</td>\n",
       "    </tr>\n",
       "    <tr>\n",
       "      <th>3</th>\n",
       "      <td>0.0700</td>\n",
       "      <td>0.0300</td>\n",
       "      <td>0.0200</td>\n",
       "      <td>0.0200</td>\n",
       "      <td>0.0200</td>\n",
       "      <td>0.0100</td>\n",
       "      <td>0.0100</td>\n",
       "      <td>0.2300</td>\n",
       "      <td>0.1700</td>\n",
       "      <td>1.0000</td>\n",
       "      <td>...</td>\n",
       "      <td>19.9869</td>\n",
       "      <td>14.4342</td>\n",
       "      <td>9.5804</td>\n",
       "      <td>9.4313</td>\n",
       "      <td>17.1768</td>\n",
       "      <td>1.2600</td>\n",
       "      <td>0.0400</td>\n",
       "      <td>2.1487</td>\n",
       "      <td>0.1300</td>\n",
       "      <td>0.2400</td>\n",
       "    </tr>\n",
       "    <tr>\n",
       "      <th>4</th>\n",
       "      <td>0.0700</td>\n",
       "      <td>0.0200</td>\n",
       "      <td>0.0100</td>\n",
       "      <td>0.0200</td>\n",
       "      <td>0.0200</td>\n",
       "      <td>0.0100</td>\n",
       "      <td>0.0100</td>\n",
       "      <td>0.2400</td>\n",
       "      <td>0.1400</td>\n",
       "      <td>1.0000</td>\n",
       "      <td>...</td>\n",
       "      <td>10.4490</td>\n",
       "      <td>3.7392</td>\n",
       "      <td>2.7970</td>\n",
       "      <td>9.1791</td>\n",
       "      <td>6.2516</td>\n",
       "      <td>1.2800</td>\n",
       "      <td>0.2600</td>\n",
       "      <td>1.8080</td>\n",
       "      <td>0.3600</td>\n",
       "      <td>0.2400</td>\n",
       "    </tr>\n",
       "  </tbody>\n",
       "</table>\n",
       "<p>5 rows × 29 columns</p>\n",
       "</div>"
      ],
      "text/plain": [
       "   front-end_cpu_use  orders_cpu_use  orders-db_cpu_use  user_cpu_use  \\\n",
       "0             0.0300          0.0100             0.0100        0.0100   \n",
       "1             0.0600          0.0200             0.0200        0.0200   \n",
       "2             0.0700          0.0300             0.0200        0.0300   \n",
       "3             0.0700          0.0300             0.0200        0.0200   \n",
       "4             0.0700          0.0200             0.0100        0.0200   \n",
       "\n",
       "   user-db_cpu_use  shipping_cpu_use  payment_cpu_use  carts_cpu_use  \\\n",
       "0           0.0100            0.0100           0.0100         0.0300   \n",
       "1           0.0200            0.0100           0.0100         0.1800   \n",
       "2           0.0200            0.0100           0.0100         0.4400   \n",
       "3           0.0200            0.0100           0.0100         0.2300   \n",
       "4           0.0200            0.0100           0.0100         0.2400   \n",
       "\n",
       "   carts-db_cpu_use  front-end_pods  ...  user-db_net_use  shipping_net_use  \\\n",
       "0            0.0700          1.0000  ...           2.2044            2.6585   \n",
       "1            0.1800          1.0000  ...           2.2044            2.6585   \n",
       "2            0.2000          1.0000  ...          16.0739           13.5708   \n",
       "3            0.1700          1.0000  ...          19.9869           14.4342   \n",
       "4            0.1400          1.0000  ...          10.4490            3.7392   \n",
       "\n",
       "   payment_net_use  carts_net_use  carts-db_net_use  nodes_cpu_use  \\\n",
       "0           8.9654        22.0117            4.7995         2.5000   \n",
       "1           8.9654        22.0117            4.7995         1.8900   \n",
       "2          16.9964        27.3438           16.6522         1.3500   \n",
       "3           9.5804         9.4313           17.1768         1.2600   \n",
       "4           2.7970         9.1791            6.2516         1.2800   \n",
       "\n",
       "   nodes_disk_io  nodes_net_use  orders_req  orders_ltcy  \n",
       "0         1.6700         2.7617      0.1500       0.2400  \n",
       "1         1.0100         2.7617      0.1500       0.2400  \n",
       "2         0.0500         2.5880      0.1500       0.2400  \n",
       "3         0.0400         2.1487      0.1300       0.2400  \n",
       "4         0.2600         1.8080      0.3600       0.2400  \n",
       "\n",
       "[5 rows x 29 columns]"
      ]
     },
     "execution_count": 76,
     "metadata": {},
     "output_type": "execute_result"
    }
   ],
   "source": [
    "data = read_df(file_dir, data_file, True)\n",
    "data = data.reset_index(drop=True)\n",
    "\n",
    "print('data shape {}'.format(data.shape))\n",
    "\n",
    "data.head(5)"
   ]
  },
  {
   "cell_type": "code",
   "execution_count": 77,
   "metadata": {},
   "outputs": [
    {
     "name": "stdout",
     "output_type": "stream",
     "text": [
      "there are 28 features\n"
     ]
    }
   ],
   "source": [
    "targets = data['orders_ltcy']\n",
    "inputs = data.drop(['orders_ltcy'], axis=1)\n",
    "\n",
    "n_features = inputs.values.shape[1]\n",
    "print(\"there are {} features\".format(n_features))\n"
   ]
  },
  {
   "cell_type": "code",
   "execution_count": 78,
   "metadata": {},
   "outputs": [
    {
     "name": "stdout",
     "output_type": "stream",
     "text": [
      "front-end_cpu_use\n",
      "orders_cpu_use\n",
      "orders-db_cpu_use\n",
      "user_cpu_use\n",
      "user-db_cpu_use\n",
      "shipping_cpu_use\n",
      "payment_cpu_use\n",
      "carts_cpu_use\n",
      "carts-db_cpu_use\n",
      "front-end_pods\n",
      "orders_pods\n",
      "user_pods\n",
      "shipping_pods\n",
      "payment_pods\n",
      "carts_pods\n",
      "front-end_net_use\n",
      "orders_net_use\n",
      "orders-db_net_use\n",
      "user_net_use\n",
      "user-db_net_use\n",
      "shipping_net_use\n",
      "payment_net_use\n",
      "carts_net_use\n",
      "carts-db_net_use\n",
      "nodes_cpu_use\n",
      "nodes_disk_io\n",
      "nodes_net_use\n",
      "orders_req\n"
     ]
    }
   ],
   "source": [
    "# print out the features\n",
    "for feature in inputs.columns.values:\n",
    "    print(feature)"
   ]
  },
  {
   "cell_type": "markdown",
   "metadata": {},
   "source": [
    "# Features Selection"
   ]
  },
  {
   "cell_type": "code",
   "execution_count": 79,
   "metadata": {},
   "outputs": [],
   "source": [
    "def features_selection(x, y, to_scale=FEATURES_SELECTION):\n",
    "    if to_scale:  \n",
    "        #clf = RandomForestRegressor(n_jobs=-1, max_depth=10, n_estimators=15)    \n",
    "        clf = LassoCV(tol=0.1)\n",
    "        sfm = SelectFromModel(clf, threshold='0.05*mean')\n",
    "\n",
    "        selectedFeatures = sfm.fit(x, y).transform(x)\n",
    "        print('{} features selected'.format(selectedFeatures[1].shape[0]))\n",
    "        \n",
    "        feature_list = x.columns[sfm.get_support()]\n",
    "        features = ''\n",
    "        features = ', '.join(feature_list)\n",
    "    \n",
    "        print(\"columns selected are {}\".format(features))\n",
    "\n",
    "        x = x[feature_list]        \n",
    "    return x\n"
   ]
  },
  {
   "cell_type": "code",
   "execution_count": 80,
   "metadata": {},
   "outputs": [
    {
     "name": "stdout",
     "output_type": "stream",
     "text": [
      "12 features selected\n",
      "columns selected are carts_cpu_use, carts-db_cpu_use, front-end_pods, orders_net_use, orders-db_net_use, user_net_use, shipping_net_use, payment_net_use, carts_net_use, nodes_cpu_use, nodes_net_use, orders_req\n"
     ]
    }
   ],
   "source": [
    "inputs = features_selection(inputs, targets, )"
   ]
  },
  {
   "cell_type": "code",
   "execution_count": 81,
   "metadata": {},
   "outputs": [],
   "source": [
    "# scale targets for better convergence\n",
    "if SCALE_TARGETS:\n",
    "    y_scaler =  MinMaxScaler()\n",
    "    targets = y_scaler.fit_transform(targets.values.reshape(-1,1))\n",
    "    \n",
    "x_train, x_test, y_train, y_test = \\\n",
    "    train_test_split(inputs, targets, test_size=test_split, shuffle=False, random_state=365)  \n",
    "\n",
    "if SCALE_FEATURES:\n",
    "    x_scaler = StandardScaler()\n",
    "    x_train = x_scaler.fit_transform(x_train)\n",
    "    x_test = x_scaler.transform(x_test)"
   ]
  },
  {
   "cell_type": "code",
   "execution_count": 82,
   "metadata": {},
   "outputs": [
    {
     "data": {
      "image/png": "[encoded data removed]",
      "text/plain": [
       "<Figure size 432x288 with 1 Axes>"
      ]
     },
     "metadata": {},
     "output_type": "display_data"
    }
   ],
   "source": [
    "# plot cpu vs latency \n",
    "plt.plot(data['orders_cpu_use'][100:200], label='orders_cpu_use')\n",
    "plt.plot(data['orders_ltcy'][100:200], label='orders_ltcy')\n",
    "plt.legend()\n",
    "plt.show()\n"
   ]
  },
  {
   "cell_type": "markdown",
   "metadata": {},
   "source": [
    "# Model"
   ]
  },
  {
   "cell_type": "code",
   "execution_count": 83,
   "metadata": {},
   "outputs": [],
   "source": [
    "\n",
    "dt = tree.DecisionTreeRegressor() \n",
    "reg = AdaBoostRegressor(n_estimators=200, base_estimator=dt,learning_rate=0.5, random_state=100, loss='exponential')\n"
   ]
  },
  {
   "cell_type": "code",
   "execution_count": 84,
   "metadata": {},
   "outputs": [
    {
     "name": "stdout",
     "output_type": "stream",
     "text": [
      "sklearn version 0.22.2.post1\n"
     ]
    },
    {
     "name": "stderr",
     "output_type": "stream",
     "text": [
      "/opt/anaconda3/envs/infs890/lib/python3.7/site-packages/sklearn/utils/validation.py:760: DataConversionWarning: A column-vector y was passed when a 1d array was expected. Please change the shape of y to (n_samples, ), for example using ravel().\n",
      "  y = column_or_1d(y, warn=True)\n"
     ]
    },
    {
     "data": {
      "text/plain": [
       "AdaBoostRegressor(base_estimator=DecisionTreeRegressor(ccp_alpha=0.0,\n",
       "                                                       criterion='mse',\n",
       "                                                       max_depth=None,\n",
       "                                                       max_features=None,\n",
       "                                                       max_leaf_nodes=None,\n",
       "                                                       min_impurity_decrease=0.0,\n",
       "                                                       min_impurity_split=None,\n",
       "                                                       min_samples_leaf=1,\n",
       "                                                       min_samples_split=2,\n",
       "                                                       min_weight_fraction_leaf=0.0,\n",
       "                                                       presort='deprecated',\n",
       "                                                       random_state=None,\n",
       "                                                       splitter='best'),\n",
       "                  learning_rate=0.5, loss='exponential', n_estimators=200,\n",
       "                  random_state=100)"
      ]
     },
     "execution_count": 84,
     "metadata": {},
     "output_type": "execute_result"
    }
   ],
   "source": [
    "import sklearn \n",
    "print('sklearn version {}'.format(sklearn.__version__))\n",
    "\n",
    "reg.fit(x_train, y_train)"
   ]
  },
  {
   "cell_type": "markdown",
   "metadata": {},
   "source": [
    "# Training R2"
   ]
  },
  {
   "cell_type": "code",
   "execution_count": 85,
   "metadata": {},
   "outputs": [
    {
     "name": "stdout",
     "output_type": "stream",
     "text": [
      "R2 (training) = 0.927931096993173\n",
      "Score (training) = 0.927931096993173\n"
     ]
    }
   ],
   "source": [
    "y_train_pred = reg.predict(x_train)\n",
    "\n",
    "r2_train = metrics.r2_score(y_train, y_train_pred)\n",
    "print('R2 (training) = {}'.format(r2_train))\n",
    "\n",
    "print('Score (training) = {}'.format(reg.score(x_train,y_train)))"
   ]
  },
  {
   "cell_type": "code",
   "execution_count": 86,
   "metadata": {},
   "outputs": [
    {
     "name": "stdout",
     "output_type": "stream",
     "text": [
      "Model Result (mean - std of error - min - max): 0.37 (0.33) 0.00 1.00 MSE\n"
     ]
    }
   ],
   "source": [
    "# validation mean_absolute_percentage_error\n",
    "train_error =  np.abs(y_train - y_train_pred)\n",
    "mean_error = np.mean(train_error)\n",
    "min_error = np.min(train_error)\n",
    "max_error = np.max(train_error)\n",
    "std_error = np.std(train_error)\n",
    "\n",
    "print(\"Model Result (mean - std of error - min - max): %.2f (%.2f) %.2f %.2f MSE\" \\\n",
    "      % (mean_error, std_error, min_error, max_error))"
   ]
  },
  {
   "cell_type": "code",
   "execution_count": 87,
   "metadata": {},
   "outputs": [
    {
     "data": {
      "image/png": "[encoded data removed]",
      "text/plain": [
       "<Figure size 432x288 with 1 Axes>"
      ]
     },
     "metadata": {},
     "output_type": "display_data"
    }
   ],
   "source": [
    "plt.scatter(y_train, y_train_pred)\n",
    "plt.xlabel('Latency', size=18)\n",
    "plt.ylabel(\"predicted Latency\", size=18)\n",
    "plt.show()"
   ]
  },
  {
   "cell_type": "markdown",
   "metadata": {},
   "source": [
    "# Testing"
   ]
  },
  {
   "cell_type": "code",
   "execution_count": 88,
   "metadata": {},
   "outputs": [],
   "source": [
    "y_test_pred = reg.predict(x_test)"
   ]
  },
  {
   "cell_type": "code",
   "execution_count": 89,
   "metadata": {},
   "outputs": [
    {
     "data": {
      "text/plain": [
       "<function matplotlib.pyplot.show(*args, **kw)>"
      ]
     },
     "execution_count": 89,
     "metadata": {},
     "output_type": "execute_result"
    },
    {
     "data": {
      "image/png": "[encoded data removed]",
      "text/plain": [
       "<Figure size 432x288 with 1 Axes>"
      ]
     },
     "metadata": {},
     "output_type": "display_data"
    }
   ],
   "source": [
    "plt.scatter(y_test, y_test_pred)\n",
    "plt.xlabel('Latency', size=18)\n",
    "plt.ylabel('Predicted Latency', size=18)\n",
    "plt.show"
   ]
  },
  {
   "cell_type": "code",
   "execution_count": 90,
   "metadata": {},
   "outputs": [
    {
     "data": {
      "image/png": "[encoded data removed]",
      "text/plain": [
       "<Figure size 432x288 with 1 Axes>"
      ]
     },
     "metadata": {},
     "output_type": "display_data"
    }
   ],
   "source": [
    "ax = sns.regplot(x=y_test, y=y_test_pred, color='g')"
   ]
  },
  {
   "cell_type": "code",
   "execution_count": 91,
   "metadata": {},
   "outputs": [
    {
     "data": {
      "text/html": [
       "<div>\n",
       "<style scoped>\n",
       "    .dataframe tbody tr th:only-of-type {\n",
       "        vertical-align: middle;\n",
       "    }\n",
       "\n",
       "    .dataframe tbody tr th {\n",
       "        vertical-align: top;\n",
       "    }\n",
       "\n",
       "    .dataframe thead th {\n",
       "        text-align: right;\n",
       "    }\n",
       "</style>\n",
       "<table border=\"1\" class=\"dataframe\">\n",
       "  <thead>\n",
       "    <tr style=\"text-align: right;\">\n",
       "      <th></th>\n",
       "      <th>prediction</th>\n",
       "      <th>target</th>\n",
       "    </tr>\n",
       "  </thead>\n",
       "  <tbody>\n",
       "    <tr>\n",
       "      <th>0</th>\n",
       "      <td>0.6013</td>\n",
       "      <td>0.2517</td>\n",
       "    </tr>\n",
       "    <tr>\n",
       "      <th>1</th>\n",
       "      <td>0.6013</td>\n",
       "      <td>0.2510</td>\n",
       "    </tr>\n",
       "    <tr>\n",
       "      <th>2</th>\n",
       "      <td>0.6013</td>\n",
       "      <td>0.2504</td>\n",
       "    </tr>\n",
       "    <tr>\n",
       "      <th>3</th>\n",
       "      <td>0.6013</td>\n",
       "      <td>0.2497</td>\n",
       "    </tr>\n",
       "    <tr>\n",
       "      <th>4</th>\n",
       "      <td>0.6013</td>\n",
       "      <td>0.2491</td>\n",
       "    </tr>\n",
       "  </tbody>\n",
       "</table>\n",
       "</div>"
      ],
      "text/plain": [
       "   prediction  target\n",
       "0      0.6013  0.2517\n",
       "1      0.6013  0.2510\n",
       "2      0.6013  0.2504\n",
       "3      0.6013  0.2497\n",
       "4      0.6013  0.2491"
      ]
     },
     "execution_count": 91,
     "metadata": {},
     "output_type": "execute_result"
    }
   ],
   "source": [
    "perf = pd.DataFrame(y_test_pred, columns=['prediction'])\n",
    "perf['target'] = y_test\n",
    "perf.head()"
   ]
  },
  {
   "cell_type": "code",
   "execution_count": 92,
   "metadata": {},
   "outputs": [
    {
     "data": {
      "text/html": [
       "<div>\n",
       "<style scoped>\n",
       "    .dataframe tbody tr th:only-of-type {\n",
       "        vertical-align: middle;\n",
       "    }\n",
       "\n",
       "    .dataframe tbody tr th {\n",
       "        vertical-align: top;\n",
       "    }\n",
       "\n",
       "    .dataframe thead th {\n",
       "        text-align: right;\n",
       "    }\n",
       "</style>\n",
       "<table border=\"1\" class=\"dataframe\">\n",
       "  <thead>\n",
       "    <tr style=\"text-align: right;\">\n",
       "      <th></th>\n",
       "      <th>prediction</th>\n",
       "      <th>target</th>\n",
       "      <th>residual</th>\n",
       "      <th>difference%</th>\n",
       "    </tr>\n",
       "  </thead>\n",
       "  <tbody>\n",
       "    <tr>\n",
       "      <th>0</th>\n",
       "      <td>0.6013</td>\n",
       "      <td>0.2517</td>\n",
       "      <td>0.3496</td>\n",
       "      <td>138.9009</td>\n",
       "    </tr>\n",
       "    <tr>\n",
       "      <th>1</th>\n",
       "      <td>0.6013</td>\n",
       "      <td>0.2510</td>\n",
       "      <td>0.3503</td>\n",
       "      <td>139.5202</td>\n",
       "    </tr>\n",
       "    <tr>\n",
       "      <th>2</th>\n",
       "      <td>0.6013</td>\n",
       "      <td>0.2504</td>\n",
       "      <td>0.3509</td>\n",
       "      <td>140.1428</td>\n",
       "    </tr>\n",
       "    <tr>\n",
       "      <th>3</th>\n",
       "      <td>0.6013</td>\n",
       "      <td>0.2497</td>\n",
       "      <td>0.3516</td>\n",
       "      <td>140.7686</td>\n",
       "    </tr>\n",
       "    <tr>\n",
       "      <th>4</th>\n",
       "      <td>0.6013</td>\n",
       "      <td>0.2491</td>\n",
       "      <td>0.3522</td>\n",
       "      <td>141.3976</td>\n",
       "    </tr>\n",
       "    <tr>\n",
       "      <th>...</th>\n",
       "      <td>...</td>\n",
       "      <td>...</td>\n",
       "      <td>...</td>\n",
       "      <td>...</td>\n",
       "    </tr>\n",
       "    <tr>\n",
       "      <th>1349</th>\n",
       "      <td>0.8294</td>\n",
       "      <td>0.9877</td>\n",
       "      <td>-0.1583</td>\n",
       "      <td>16.0250</td>\n",
       "    </tr>\n",
       "    <tr>\n",
       "      <th>1350</th>\n",
       "      <td>0.7441</td>\n",
       "      <td>0.9877</td>\n",
       "      <td>-0.2436</td>\n",
       "      <td>24.6618</td>\n",
       "    </tr>\n",
       "    <tr>\n",
       "      <th>1351</th>\n",
       "      <td>0.6516</td>\n",
       "      <td>0.9856</td>\n",
       "      <td>-0.3340</td>\n",
       "      <td>33.8895</td>\n",
       "    </tr>\n",
       "    <tr>\n",
       "      <th>1352</th>\n",
       "      <td>0.6536</td>\n",
       "      <td>0.9887</td>\n",
       "      <td>-0.3350</td>\n",
       "      <td>33.8877</td>\n",
       "    </tr>\n",
       "    <tr>\n",
       "      <th>1353</th>\n",
       "      <td>0.6341</td>\n",
       "      <td>0.9918</td>\n",
       "      <td>-0.3577</td>\n",
       "      <td>36.0622</td>\n",
       "    </tr>\n",
       "  </tbody>\n",
       "</table>\n",
       "<p>1354 rows × 4 columns</p>\n",
       "</div>"
      ],
      "text/plain": [
       "      prediction  target  residual  difference%\n",
       "0         0.6013  0.2517    0.3496     138.9009\n",
       "1         0.6013  0.2510    0.3503     139.5202\n",
       "2         0.6013  0.2504    0.3509     140.1428\n",
       "3         0.6013  0.2497    0.3516     140.7686\n",
       "4         0.6013  0.2491    0.3522     141.3976\n",
       "...          ...     ...       ...          ...\n",
       "1349      0.8294  0.9877   -0.1583      16.0250\n",
       "1350      0.7441  0.9877   -0.2436      24.6618\n",
       "1351      0.6516  0.9856   -0.3340      33.8895\n",
       "1352      0.6536  0.9887   -0.3350      33.8877\n",
       "1353      0.6341  0.9918   -0.3577      36.0622\n",
       "\n",
       "[1354 rows x 4 columns]"
      ]
     },
     "execution_count": 92,
     "metadata": {},
     "output_type": "execute_result"
    }
   ],
   "source": [
    "# testing mean_absolute_percentage_error\n",
    "perf['residual'] = perf['prediction'] - perf['target']\n",
    "perf['difference%'] = np.absolute(perf['residual'] * 100 / perf['target'])\n",
    "perf"
   ]
  },
  {
   "cell_type": "code",
   "execution_count": 93,
   "metadata": {},
   "outputs": [
    {
     "data": {
      "text/html": [
       "<div>\n",
       "<style scoped>\n",
       "    .dataframe tbody tr th:only-of-type {\n",
       "        vertical-align: middle;\n",
       "    }\n",
       "\n",
       "    .dataframe tbody tr th {\n",
       "        vertical-align: top;\n",
       "    }\n",
       "\n",
       "    .dataframe thead th {\n",
       "        text-align: right;\n",
       "    }\n",
       "</style>\n",
       "<table border=\"1\" class=\"dataframe\">\n",
       "  <thead>\n",
       "    <tr style=\"text-align: right;\">\n",
       "      <th></th>\n",
       "      <th>prediction</th>\n",
       "      <th>target</th>\n",
       "      <th>residual</th>\n",
       "      <th>difference%</th>\n",
       "    </tr>\n",
       "  </thead>\n",
       "  <tbody>\n",
       "    <tr>\n",
       "      <th>count</th>\n",
       "      <td>1,354.0000</td>\n",
       "      <td>1,354.0000</td>\n",
       "      <td>1,354.0000</td>\n",
       "      <td>1,354.0000</td>\n",
       "    </tr>\n",
       "    <tr>\n",
       "      <th>mean</th>\n",
       "      <td>0.5108</td>\n",
       "      <td>0.2942</td>\n",
       "      <td>0.2167</td>\n",
       "      <td>695.2816</td>\n",
       "    </tr>\n",
       "    <tr>\n",
       "      <th>std</th>\n",
       "      <td>0.1755</td>\n",
       "      <td>0.3593</td>\n",
       "      <td>0.2874</td>\n",
       "      <td>815.4023</td>\n",
       "    </tr>\n",
       "    <tr>\n",
       "      <th>min</th>\n",
       "      <td>0.0236</td>\n",
       "      <td>0.0134</td>\n",
       "      <td>-0.4491</td>\n",
       "      <td>0.1601</td>\n",
       "    </tr>\n",
       "    <tr>\n",
       "      <th>25%</th>\n",
       "      <td>0.3998</td>\n",
       "      <td>0.0236</td>\n",
       "      <td>0.0239</td>\n",
       "      <td>34.7049</td>\n",
       "    </tr>\n",
       "    <tr>\n",
       "      <th>50%</th>\n",
       "      <td>0.5975</td>\n",
       "      <td>0.1062</td>\n",
       "      <td>0.3022</td>\n",
       "      <td>319.5090</td>\n",
       "    </tr>\n",
       "    <tr>\n",
       "      <th>75%</th>\n",
       "      <td>0.6013</td>\n",
       "      <td>0.4838</td>\n",
       "      <td>0.4458</td>\n",
       "      <td>979.8092</td>\n",
       "    </tr>\n",
       "    <tr>\n",
       "      <th>max</th>\n",
       "      <td>0.8931</td>\n",
       "      <td>1.0000</td>\n",
       "      <td>0.5857</td>\n",
       "      <td>4,070.3310</td>\n",
       "    </tr>\n",
       "  </tbody>\n",
       "</table>\n",
       "</div>"
      ],
      "text/plain": [
       "       prediction     target   residual  difference%\n",
       "count  1,354.0000 1,354.0000 1,354.0000   1,354.0000\n",
       "mean       0.5108     0.2942     0.2167     695.2816\n",
       "std        0.1755     0.3593     0.2874     815.4023\n",
       "min        0.0236     0.0134    -0.4491       0.1601\n",
       "25%        0.3998     0.0236     0.0239      34.7049\n",
       "50%        0.5975     0.1062     0.3022     319.5090\n",
       "75%        0.6013     0.4838     0.4458     979.8092\n",
       "max        0.8931     1.0000     0.5857   4,070.3310"
      ]
     },
     "execution_count": 93,
     "metadata": {},
     "output_type": "execute_result"
    }
   ],
   "source": [
    "perf.describe()"
   ]
  },
  {
   "cell_type": "code",
   "execution_count": 94,
   "metadata": {},
   "outputs": [
    {
     "data": {
      "text/html": [
       "<div>\n",
       "<style scoped>\n",
       "    .dataframe tbody tr th:only-of-type {\n",
       "        vertical-align: middle;\n",
       "    }\n",
       "\n",
       "    .dataframe tbody tr th {\n",
       "        vertical-align: top;\n",
       "    }\n",
       "\n",
       "    .dataframe thead th {\n",
       "        text-align: right;\n",
       "    }\n",
       "</style>\n",
       "<table border=\"1\" class=\"dataframe\">\n",
       "  <thead>\n",
       "    <tr style=\"text-align: right;\">\n",
       "      <th></th>\n",
       "      <th>prediction</th>\n",
       "      <th>target</th>\n",
       "      <th>residual</th>\n",
       "      <th>difference%</th>\n",
       "    </tr>\n",
       "  </thead>\n",
       "  <tbody>\n",
       "    <tr>\n",
       "      <th>888</th>\n",
       "      <td>0.6105</td>\n",
       "      <td>0.6115</td>\n",
       "      <td>-0.0010</td>\n",
       "      <td>0.1601</td>\n",
       "    </tr>\n",
       "    <tr>\n",
       "      <th>975</th>\n",
       "      <td>0.5005</td>\n",
       "      <td>0.4995</td>\n",
       "      <td>0.0010</td>\n",
       "      <td>0.2058</td>\n",
       "    </tr>\n",
       "    <tr>\n",
       "      <th>1002</th>\n",
       "      <td>0.4943</td>\n",
       "      <td>0.4933</td>\n",
       "      <td>0.0010</td>\n",
       "      <td>0.2083</td>\n",
       "    </tr>\n",
       "    <tr>\n",
       "      <th>1047</th>\n",
       "      <td>0.5971</td>\n",
       "      <td>0.5930</td>\n",
       "      <td>0.0041</td>\n",
       "      <td>0.6961</td>\n",
       "    </tr>\n",
       "    <tr>\n",
       "      <th>935</th>\n",
       "      <td>0.5067</td>\n",
       "      <td>0.5108</td>\n",
       "      <td>-0.0041</td>\n",
       "      <td>0.8048</td>\n",
       "    </tr>\n",
       "    <tr>\n",
       "      <th>...</th>\n",
       "      <td>...</td>\n",
       "      <td>...</td>\n",
       "      <td>...</td>\n",
       "      <td>...</td>\n",
       "    </tr>\n",
       "    <tr>\n",
       "      <th>1136</th>\n",
       "      <td>0.5601</td>\n",
       "      <td>0.0164</td>\n",
       "      <td>0.5437</td>\n",
       "      <td>3306.2500</td>\n",
       "    </tr>\n",
       "    <tr>\n",
       "      <th>1298</th>\n",
       "      <td>0.4933</td>\n",
       "      <td>0.0144</td>\n",
       "      <td>0.4789</td>\n",
       "      <td>3328.5714</td>\n",
       "    </tr>\n",
       "    <tr>\n",
       "      <th>1181</th>\n",
       "      <td>0.5601</td>\n",
       "      <td>0.0154</td>\n",
       "      <td>0.5447</td>\n",
       "      <td>3533.3333</td>\n",
       "    </tr>\n",
       "    <tr>\n",
       "      <th>1157</th>\n",
       "      <td>0.4933</td>\n",
       "      <td>0.0134</td>\n",
       "      <td>0.4800</td>\n",
       "      <td>3592.3077</td>\n",
       "    </tr>\n",
       "    <tr>\n",
       "      <th>1104</th>\n",
       "      <td>0.6000</td>\n",
       "      <td>0.0144</td>\n",
       "      <td>0.5857</td>\n",
       "      <td>4070.3310</td>\n",
       "    </tr>\n",
       "  </tbody>\n",
       "</table>\n",
       "<p>1354 rows × 4 columns</p>\n",
       "</div>"
      ],
      "text/plain": [
       "      prediction  target  residual  difference%\n",
       "888       0.6105  0.6115   -0.0010       0.1601\n",
       "975       0.5005  0.4995    0.0010       0.2058\n",
       "1002      0.4943  0.4933    0.0010       0.2083\n",
       "1047      0.5971  0.5930    0.0041       0.6961\n",
       "935       0.5067  0.5108   -0.0041       0.8048\n",
       "...          ...     ...       ...          ...\n",
       "1136      0.5601  0.0164    0.5437    3306.2500\n",
       "1298      0.4933  0.0144    0.4789    3328.5714\n",
       "1181      0.5601  0.0154    0.5447    3533.3333\n",
       "1157      0.4933  0.0134    0.4800    3592.3077\n",
       "1104      0.6000  0.0144    0.5857    4070.3310\n",
       "\n",
       "[1354 rows x 4 columns]"
      ]
     },
     "execution_count": 94,
     "metadata": {},
     "output_type": "execute_result"
    }
   ],
   "source": [
    "pd.options.display.max_rows = 999\n",
    "pd.set_option('display.float_format', lambda x: '%.4f' % x)\n",
    "perf.sort_values(by = ['difference%'])"
   ]
  },
  {
   "cell_type": "markdown",
   "metadata": {},
   "source": [
    "# *** Prediction Accuracy"
   ]
  },
  {
   "cell_type": "code",
   "execution_count": 95,
   "metadata": {},
   "outputs": [
    {
     "name": "stdout",
     "output_type": "stream",
     "text": [
      "R2 (testing) = -0.003844286520678919\n"
     ]
    }
   ],
   "source": [
    "r2_test = metrics.r2_score(y_test, y_test_pred)\n",
    "print('R2 (testing) = {}'.format(r2_test))\n",
    "\n",
    "# also: R-Squared could obtain with\n",
    "# pline.score(x_test, y_test)"
   ]
  },
  {
   "cell_type": "code",
   "execution_count": 96,
   "metadata": {},
   "outputs": [
    {
     "name": "stdout",
     "output_type": "stream",
     "text": [
      "0.3598368348047907\n"
     ]
    }
   ],
   "source": [
    "print(np.sqrt(mean_squared_error(y_test,y_test_pred)))"
   ]
  }
 ],
 "metadata": {
  "kernelspec": {
   "display_name": "Python 3",
   "language": "python",
   "name": "python3"
  },
  "language_info": {
   "codemirror_mode": {
    "name": "ipython",
    "version": 3
   },
   "file_extension": ".py",
   "mimetype": "text/x-python",
   "name": "python",
   "nbconvert_exporter": "python",
   "pygments_lexer": "ipython3",
   "version": "3.7.7"
  }
 },
 "nbformat": 4,
 "nbformat_minor": 4
}
