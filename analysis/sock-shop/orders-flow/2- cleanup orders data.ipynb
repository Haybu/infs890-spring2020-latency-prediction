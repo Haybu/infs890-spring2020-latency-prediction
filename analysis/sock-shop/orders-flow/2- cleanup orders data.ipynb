{
 "cells": [
  {
   "cell_type": "markdown",
   "metadata": {},
   "source": [
    "# Data Clean up\n",
    "\n",
    "Haytham Mohamed - INFS890 Spring 2020\n",
    "\n",
    "This notebook is to clean orders flow data"
   ]
  },
  {
   "cell_type": "code",
   "execution_count": 271,
   "metadata": {},
   "outputs": [],
   "source": [
    "import numpy as np\n",
    "import pandas as pd\n",
    "import matplotlib.pyplot as plt\n",
    "from sklearn.linear_model import LinearRegression\n",
    "import seaborn as sns\n",
    "from sklearn import preprocessing\n",
    "from datetime import datetime\n",
    "from scipy import stats\n",
    "\n",
    "sns.set()\n",
    "sns.set(color_codes=True)\n",
    "#sns.set_color_codes()\n",
    "\n",
    "pd.options.display.max_rows = 15\n",
    "pd.options.display.float_format = '{:,.3f}'.format"
   ]
  },
  {
   "cell_type": "markdown",
   "metadata": {},
   "source": [
    "# Read the raw data. \n",
    "\n",
    "All data is in one file, where each metric is listed under each other with three columns: \n",
    "\n",
    "1- metric: The name of the metric\n",
    "\n",
    "2- date: the data and time of the metric\n",
    "\n",
    "3- value: the metric value\n"
   ]
  },
  {
   "cell_type": "code",
   "execution_count": 272,
   "metadata": {},
   "outputs": [],
   "source": [
    "# 1- read processed file\n",
    "\n",
    "home_dir = '/Users/hmohamed/github/data-research-spring2020/sock-shop'\n",
    "\n",
    "file_dir = home_dir + '/processed-data/'\n",
    "input_file = 'orders_flow_data.csv'\n",
    "\n",
    "save=True"
   ]
  },
  {
   "cell_type": "code",
   "execution_count": 273,
   "metadata": {},
   "outputs": [],
   "source": [
    "def read_df(file_dir, data_file):\n",
    "    df = pd.read_csv(file_dir + data_file)\n",
    "    return to_time_series(df)\n",
    "\n",
    "def to_time_series(df, index_col_name='date'):\n",
    "    df[index_col_name] = pd.to_datetime(df[index_col_name])\n",
    "    df.set_index(index_col_name, inplace=True)\n",
    "    df.sort_index(inplace=True)\n",
    "    return df\n",
    "    "
   ]
  },
  {
   "cell_type": "code",
   "execution_count": 274,
   "metadata": {},
   "outputs": [
    {
     "data": {
      "text/html": [
       "<div>\n",
       "<style scoped>\n",
       "    .dataframe tbody tr th:only-of-type {\n",
       "        vertical-align: middle;\n",
       "    }\n",
       "\n",
       "    .dataframe tbody tr th {\n",
       "        vertical-align: top;\n",
       "    }\n",
       "\n",
       "    .dataframe thead th {\n",
       "        text-align: right;\n",
       "    }\n",
       "</style>\n",
       "<table border=\"1\" class=\"dataframe\">\n",
       "  <thead>\n",
       "    <tr style=\"text-align: right;\">\n",
       "      <th></th>\n",
       "      <th>front-end_cpu_use</th>\n",
       "      <th>orders_cpu_use</th>\n",
       "      <th>orders-db_cpu_use</th>\n",
       "      <th>user_cpu_use</th>\n",
       "      <th>user-db_cpu_use</th>\n",
       "      <th>shipping_cpu_use</th>\n",
       "      <th>payment_cpu_use</th>\n",
       "      <th>carts_cpu_use</th>\n",
       "      <th>carts-db_cpu_use</th>\n",
       "      <th>nodes_cpu_use</th>\n",
       "      <th>orders_ltcy</th>\n",
       "    </tr>\n",
       "    <tr>\n",
       "      <th>date</th>\n",
       "      <th></th>\n",
       "      <th></th>\n",
       "      <th></th>\n",
       "      <th></th>\n",
       "      <th></th>\n",
       "      <th></th>\n",
       "      <th></th>\n",
       "      <th></th>\n",
       "      <th></th>\n",
       "      <th></th>\n",
       "      <th></th>\n",
       "    </tr>\n",
       "  </thead>\n",
       "  <tbody>\n",
       "    <tr>\n",
       "      <th>2020-03-27 00:00:22</th>\n",
       "      <td>0.020</td>\n",
       "      <td>0.170</td>\n",
       "      <td>0.010</td>\n",
       "      <td>0.020</td>\n",
       "      <td>0.020</td>\n",
       "      <td>0.560</td>\n",
       "      <td>0.020</td>\n",
       "      <td>0.570</td>\n",
       "      <td>0.010</td>\n",
       "      <td>1.840</td>\n",
       "      <td>0.240</td>\n",
       "    </tr>\n",
       "    <tr>\n",
       "      <th>2020-03-27 00:00:37</th>\n",
       "      <td>0.030</td>\n",
       "      <td>0.180</td>\n",
       "      <td>0.010</td>\n",
       "      <td>0.020</td>\n",
       "      <td>0.010</td>\n",
       "      <td>0.560</td>\n",
       "      <td>0.020</td>\n",
       "      <td>0.580</td>\n",
       "      <td>0.010</td>\n",
       "      <td>1.890</td>\n",
       "      <td>0.240</td>\n",
       "    </tr>\n",
       "    <tr>\n",
       "      <th>2020-03-27 00:00:52</th>\n",
       "      <td>0.050</td>\n",
       "      <td>0.080</td>\n",
       "      <td>0.010</td>\n",
       "      <td>0.030</td>\n",
       "      <td>0.020</td>\n",
       "      <td>0.470</td>\n",
       "      <td>0.020</td>\n",
       "      <td>0.640</td>\n",
       "      <td>0.080</td>\n",
       "      <td>1.740</td>\n",
       "      <td>0.240</td>\n",
       "    </tr>\n",
       "    <tr>\n",
       "      <th>2020-03-27 00:01:07</th>\n",
       "      <td>0.100</td>\n",
       "      <td>0.090</td>\n",
       "      <td>0.010</td>\n",
       "      <td>0.030</td>\n",
       "      <td>0.020</td>\n",
       "      <td>0.280</td>\n",
       "      <td>0.020</td>\n",
       "      <td>0.630</td>\n",
       "      <td>0.200</td>\n",
       "      <td>1.790</td>\n",
       "      <td>0.240</td>\n",
       "    </tr>\n",
       "    <tr>\n",
       "      <th>2020-03-27 00:01:22</th>\n",
       "      <td>0.110</td>\n",
       "      <td>0.180</td>\n",
       "      <td>0.010</td>\n",
       "      <td>0.040</td>\n",
       "      <td>0.020</td>\n",
       "      <td>0.090</td>\n",
       "      <td>0.020</td>\n",
       "      <td>0.520</td>\n",
       "      <td>0.220</td>\n",
       "      <td>1.610</td>\n",
       "      <td>0.240</td>\n",
       "    </tr>\n",
       "  </tbody>\n",
       "</table>\n",
       "</div>"
      ],
      "text/plain": [
       "                     front-end_cpu_use  orders_cpu_use  orders-db_cpu_use  \\\n",
       "date                                                                        \n",
       "2020-03-27 00:00:22              0.020           0.170              0.010   \n",
       "2020-03-27 00:00:37              0.030           0.180              0.010   \n",
       "2020-03-27 00:00:52              0.050           0.080              0.010   \n",
       "2020-03-27 00:01:07              0.100           0.090              0.010   \n",
       "2020-03-27 00:01:22              0.110           0.180              0.010   \n",
       "\n",
       "                     user_cpu_use  user-db_cpu_use  shipping_cpu_use  \\\n",
       "date                                                                   \n",
       "2020-03-27 00:00:22         0.020            0.020             0.560   \n",
       "2020-03-27 00:00:37         0.020            0.010             0.560   \n",
       "2020-03-27 00:00:52         0.030            0.020             0.470   \n",
       "2020-03-27 00:01:07         0.030            0.020             0.280   \n",
       "2020-03-27 00:01:22         0.040            0.020             0.090   \n",
       "\n",
       "                     payment_cpu_use  carts_cpu_use  carts-db_cpu_use  \\\n",
       "date                                                                    \n",
       "2020-03-27 00:00:22            0.020          0.570             0.010   \n",
       "2020-03-27 00:00:37            0.020          0.580             0.010   \n",
       "2020-03-27 00:00:52            0.020          0.640             0.080   \n",
       "2020-03-27 00:01:07            0.020          0.630             0.200   \n",
       "2020-03-27 00:01:22            0.020          0.520             0.220   \n",
       "\n",
       "                     nodes_cpu_use  orders_ltcy  \n",
       "date                                             \n",
       "2020-03-27 00:00:22          1.840        0.240  \n",
       "2020-03-27 00:00:37          1.890        0.240  \n",
       "2020-03-27 00:00:52          1.740        0.240  \n",
       "2020-03-27 00:01:07          1.790        0.240  \n",
       "2020-03-27 00:01:22          1.610        0.240  "
      ]
     },
     "execution_count": 274,
     "metadata": {},
     "output_type": "execute_result"
    }
   ],
   "source": [
    "orders_flow_df = read_df(file_dir, input_file)\n",
    "orders_flow_df.head(5) "
   ]
  },
  {
   "cell_type": "code",
   "execution_count": 275,
   "metadata": {},
   "outputs": [
    {
     "data": {
      "text/plain": [
       "(5750, 11)"
      ]
     },
     "execution_count": 275,
     "metadata": {},
     "output_type": "execute_result"
    }
   ],
   "source": [
    "orders_flow_df.shape\n"
   ]
  },
  {
   "cell_type": "markdown",
   "metadata": {},
   "source": [
    "Take away records with ltcy or number of pods null or equals to zero"
   ]
  },
  {
   "cell_type": "code",
   "execution_count": 276,
   "metadata": {},
   "outputs": [
    {
     "data": {
      "text/plain": [
       "(5750, 11)"
      ]
     },
     "execution_count": 276,
     "metadata": {},
     "output_type": "execute_result"
    }
   ],
   "source": [
    "orders_flow_df = orders_flow_df[orders_flow_df['orders_ltcy'].notna()]\n",
    "orders_flow_df.shape"
   ]
  },
  {
   "cell_type": "code",
   "execution_count": 277,
   "metadata": {},
   "outputs": [
    {
     "data": {
      "text/plain": [
       "(5750, 11)"
      ]
     },
     "execution_count": 277,
     "metadata": {},
     "output_type": "execute_result"
    }
   ],
   "source": [
    "orders_flow_df = orders_flow_df[orders_flow_df['orders_ltcy'] >= 0]\n",
    "orders_flow_df.shape"
   ]
  },
  {
   "cell_type": "code",
   "execution_count": 278,
   "metadata": {},
   "outputs": [
    {
     "data": {
      "text/html": [
       "<div>\n",
       "<style scoped>\n",
       "    .dataframe tbody tr th:only-of-type {\n",
       "        vertical-align: middle;\n",
       "    }\n",
       "\n",
       "    .dataframe tbody tr th {\n",
       "        vertical-align: top;\n",
       "    }\n",
       "\n",
       "    .dataframe thead th {\n",
       "        text-align: right;\n",
       "    }\n",
       "</style>\n",
       "<table border=\"1\" class=\"dataframe\">\n",
       "  <thead>\n",
       "    <tr style=\"text-align: right;\">\n",
       "      <th></th>\n",
       "      <th>front-end_cpu_use</th>\n",
       "      <th>orders_cpu_use</th>\n",
       "      <th>orders-db_cpu_use</th>\n",
       "      <th>user_cpu_use</th>\n",
       "      <th>user-db_cpu_use</th>\n",
       "      <th>shipping_cpu_use</th>\n",
       "      <th>payment_cpu_use</th>\n",
       "      <th>carts_cpu_use</th>\n",
       "      <th>carts-db_cpu_use</th>\n",
       "      <th>nodes_cpu_use</th>\n",
       "      <th>orders_ltcy</th>\n",
       "    </tr>\n",
       "  </thead>\n",
       "  <tbody>\n",
       "    <tr>\n",
       "      <th>count</th>\n",
       "      <td>5,750.000</td>\n",
       "      <td>5,750.000</td>\n",
       "      <td>5,750.000</td>\n",
       "      <td>5,750.000</td>\n",
       "      <td>5,750.000</td>\n",
       "      <td>5,750.000</td>\n",
       "      <td>5,750.000</td>\n",
       "      <td>5,750.000</td>\n",
       "      <td>5,750.000</td>\n",
       "      <td>5,750.000</td>\n",
       "      <td>5,750.000</td>\n",
       "    </tr>\n",
       "    <tr>\n",
       "      <th>mean</th>\n",
       "      <td>0.865</td>\n",
       "      <td>0.215</td>\n",
       "      <td>0.021</td>\n",
       "      <td>0.203</td>\n",
       "      <td>0.119</td>\n",
       "      <td>0.055</td>\n",
       "      <td>0.035</td>\n",
       "      <td>0.566</td>\n",
       "      <td>1.842</td>\n",
       "      <td>4.173</td>\n",
       "      <td>3.344</td>\n",
       "    </tr>\n",
       "    <tr>\n",
       "      <th>std</th>\n",
       "      <td>0.653</td>\n",
       "      <td>0.137</td>\n",
       "      <td>0.005</td>\n",
       "      <td>0.141</td>\n",
       "      <td>0.084</td>\n",
       "      <td>0.034</td>\n",
       "      <td>0.010</td>\n",
       "      <td>0.615</td>\n",
       "      <td>2.027</td>\n",
       "      <td>2.173</td>\n",
       "      <td>3.599</td>\n",
       "    </tr>\n",
       "    <tr>\n",
       "      <th>min</th>\n",
       "      <td>0.020</td>\n",
       "      <td>0.020</td>\n",
       "      <td>0.010</td>\n",
       "      <td>0.020</td>\n",
       "      <td>0.010</td>\n",
       "      <td>0.020</td>\n",
       "      <td>0.010</td>\n",
       "      <td>0.050</td>\n",
       "      <td>0.010</td>\n",
       "      <td>1.230</td>\n",
       "      <td>0.090</td>\n",
       "    </tr>\n",
       "    <tr>\n",
       "      <th>25%</th>\n",
       "      <td>0.080</td>\n",
       "      <td>0.050</td>\n",
       "      <td>0.020</td>\n",
       "      <td>0.040</td>\n",
       "      <td>0.020</td>\n",
       "      <td>0.040</td>\n",
       "      <td>0.030</td>\n",
       "      <td>0.070</td>\n",
       "      <td>0.020</td>\n",
       "      <td>1.393</td>\n",
       "      <td>0.240</td>\n",
       "    </tr>\n",
       "    <tr>\n",
       "      <th>50%</th>\n",
       "      <td>0.960</td>\n",
       "      <td>0.220</td>\n",
       "      <td>0.020</td>\n",
       "      <td>0.210</td>\n",
       "      <td>0.120</td>\n",
       "      <td>0.050</td>\n",
       "      <td>0.040</td>\n",
       "      <td>0.310</td>\n",
       "      <td>1.155</td>\n",
       "      <td>4.370</td>\n",
       "      <td>1.364</td>\n",
       "    </tr>\n",
       "    <tr>\n",
       "      <th>75%</th>\n",
       "      <td>1.350</td>\n",
       "      <td>0.310</td>\n",
       "      <td>0.020</td>\n",
       "      <td>0.310</td>\n",
       "      <td>0.190</td>\n",
       "      <td>0.060</td>\n",
       "      <td>0.040</td>\n",
       "      <td>1.010</td>\n",
       "      <td>3.300</td>\n",
       "      <td>5.960</td>\n",
       "      <td>6.837</td>\n",
       "    </tr>\n",
       "    <tr>\n",
       "      <th>max</th>\n",
       "      <td>2.730</td>\n",
       "      <td>0.910</td>\n",
       "      <td>0.040</td>\n",
       "      <td>0.640</td>\n",
       "      <td>0.340</td>\n",
       "      <td>0.630</td>\n",
       "      <td>0.100</td>\n",
       "      <td>2.530</td>\n",
       "      <td>6.580</td>\n",
       "      <td>9.660</td>\n",
       "      <td>9.750</td>\n",
       "    </tr>\n",
       "  </tbody>\n",
       "</table>\n",
       "</div>"
      ],
      "text/plain": [
       "       front-end_cpu_use  orders_cpu_use  orders-db_cpu_use  user_cpu_use  \\\n",
       "count          5,750.000       5,750.000          5,750.000     5,750.000   \n",
       "mean               0.865           0.215              0.021         0.203   \n",
       "std                0.653           0.137              0.005         0.141   \n",
       "min                0.020           0.020              0.010         0.020   \n",
       "25%                0.080           0.050              0.020         0.040   \n",
       "50%                0.960           0.220              0.020         0.210   \n",
       "75%                1.350           0.310              0.020         0.310   \n",
       "max                2.730           0.910              0.040         0.640   \n",
       "\n",
       "       user-db_cpu_use  shipping_cpu_use  payment_cpu_use  carts_cpu_use  \\\n",
       "count        5,750.000         5,750.000        5,750.000      5,750.000   \n",
       "mean             0.119             0.055            0.035          0.566   \n",
       "std              0.084             0.034            0.010          0.615   \n",
       "min              0.010             0.020            0.010          0.050   \n",
       "25%              0.020             0.040            0.030          0.070   \n",
       "50%              0.120             0.050            0.040          0.310   \n",
       "75%              0.190             0.060            0.040          1.010   \n",
       "max              0.340             0.630            0.100          2.530   \n",
       "\n",
       "       carts-db_cpu_use  nodes_cpu_use  orders_ltcy  \n",
       "count         5,750.000      5,750.000    5,750.000  \n",
       "mean              1.842          4.173        3.344  \n",
       "std               2.027          2.173        3.599  \n",
       "min               0.010          1.230        0.090  \n",
       "25%               0.020          1.393        0.240  \n",
       "50%               1.155          4.370        1.364  \n",
       "75%               3.300          5.960        6.837  \n",
       "max               6.580          9.660        9.750  "
      ]
     },
     "execution_count": 278,
     "metadata": {},
     "output_type": "execute_result"
    }
   ],
   "source": [
    "orders_flow_df.describe(include=\"all\")"
   ]
  },
  {
   "cell_type": "markdown",
   "metadata": {},
   "source": [
    "# Check missing values"
   ]
  },
  {
   "cell_type": "code",
   "execution_count": 279,
   "metadata": {},
   "outputs": [
    {
     "data": {
      "text/plain": [
       "front-end_cpu_use   0.000\n",
       "orders_cpu_use      0.000\n",
       "orders-db_cpu_use   0.000\n",
       "user_cpu_use        0.000\n",
       "user-db_cpu_use     0.000\n",
       "shipping_cpu_use    0.000\n",
       "payment_cpu_use     0.000\n",
       "carts_cpu_use       0.000\n",
       "carts-db_cpu_use    0.000\n",
       "nodes_cpu_use       0.000\n",
       "orders_ltcy         0.000\n",
       "dtype: float64"
      ]
     },
     "execution_count": 279,
     "metadata": {},
     "output_type": "execute_result"
    }
   ],
   "source": [
    "# percent of missing value for every feature\n",
    "orders_flow_df.isnull().sum() * 100 / orders_flow_df.shape[0]"
   ]
  },
  {
   "cell_type": "markdown",
   "metadata": {},
   "source": [
    "# Check Outliers"
   ]
  },
  {
   "cell_type": "markdown",
   "metadata": {},
   "source": [
    "### latency target "
   ]
  },
  {
   "cell_type": "code",
   "execution_count": 280,
   "metadata": {},
   "outputs": [
    {
     "data": {
      "text/plain": [
       "<matplotlib.axes._subplots.AxesSubplot at 0x1a1cab9610>"
      ]
     },
     "execution_count": 280,
     "metadata": {},
     "output_type": "execute_result"
    },
    {
     "data": {
      "image/png": "[encoded data removed]",
      "text/plain": [
       "<Figure size 432x288 with 1 Axes>"
      ]
     },
     "metadata": {},
     "output_type": "display_data"
    }
   ],
   "source": [
    "sns.distplot(orders_flow_df['orders_ltcy'], hist=True, rug=False, color=\"r\", label='ltcy')"
   ]
  },
  {
   "cell_type": "code",
   "execution_count": 281,
   "metadata": {},
   "outputs": [
    {
     "data": {
      "image/png": "[encoded data removed]",
      "text/plain": [
       "<Figure size 432x288 with 1 Axes>"
      ]
     },
     "metadata": {},
     "output_type": "display_data"
    }
   ],
   "source": [
    "# taking percentile out (between lower and upper limit)\n",
    "# looks like first half of latency is between 0.24 and 1.361, the other half is 2 and up to 9.7\n",
    "# acceptable outliers in services latency, I'll consider it. so take all data (0 to 100%)\n",
    "# i.e. not to trim any portion from either edges\n",
    "\n",
    "df2 = orders_flow_df\n",
    "if 1 == 1:\n",
    "    minq = df2['orders_ltcy'].quantile(0)\n",
    "    maxq = df2['orders_ltcy'].quantile(1)\n",
    "    df2 = df2[df2['orders_ltcy'] > minq]\n",
    "    df2 = df2[df2['orders_ltcy'] < maxq]\n",
    "    sns.distplot(df2['orders_ltcy'])"
   ]
  },
  {
   "cell_type": "markdown",
   "metadata": {},
   "source": [
    "The scaled latency distribution shows now an exponential graph. Taking the log and plotting it would remedy the skewness."
   ]
  },
  {
   "cell_type": "code",
   "execution_count": 282,
   "metadata": {},
   "outputs": [
    {
     "data": {
      "text/plain": [
       "(5711, 11)"
      ]
     },
     "execution_count": 282,
     "metadata": {},
     "output_type": "execute_result"
    }
   ],
   "source": [
    "df2.shape"
   ]
  },
  {
   "cell_type": "code",
   "execution_count": 283,
   "metadata": {},
   "outputs": [
    {
     "data": {
      "text/html": [
       "<div>\n",
       "<style scoped>\n",
       "    .dataframe tbody tr th:only-of-type {\n",
       "        vertical-align: middle;\n",
       "    }\n",
       "\n",
       "    .dataframe tbody tr th {\n",
       "        vertical-align: top;\n",
       "    }\n",
       "\n",
       "    .dataframe thead th {\n",
       "        text-align: right;\n",
       "    }\n",
       "</style>\n",
       "<table border=\"1\" class=\"dataframe\">\n",
       "  <thead>\n",
       "    <tr style=\"text-align: right;\">\n",
       "      <th></th>\n",
       "      <th>front-end_cpu_use</th>\n",
       "      <th>orders_cpu_use</th>\n",
       "      <th>orders-db_cpu_use</th>\n",
       "      <th>user_cpu_use</th>\n",
       "      <th>user-db_cpu_use</th>\n",
       "      <th>shipping_cpu_use</th>\n",
       "      <th>payment_cpu_use</th>\n",
       "      <th>carts_cpu_use</th>\n",
       "      <th>carts-db_cpu_use</th>\n",
       "      <th>nodes_cpu_use</th>\n",
       "      <th>orders_ltcy</th>\n",
       "    </tr>\n",
       "  </thead>\n",
       "  <tbody>\n",
       "    <tr>\n",
       "      <th>count</th>\n",
       "      <td>5,711.000</td>\n",
       "      <td>5,711.000</td>\n",
       "      <td>5,711.000</td>\n",
       "      <td>5,711.000</td>\n",
       "      <td>5,711.000</td>\n",
       "      <td>5,711.000</td>\n",
       "      <td>5,711.000</td>\n",
       "      <td>5,711.000</td>\n",
       "      <td>5,711.000</td>\n",
       "      <td>5,711.000</td>\n",
       "      <td>5,711.000</td>\n",
       "    </tr>\n",
       "    <tr>\n",
       "      <th>mean</th>\n",
       "      <td>0.862</td>\n",
       "      <td>0.215</td>\n",
       "      <td>0.021</td>\n",
       "      <td>0.202</td>\n",
       "      <td>0.119</td>\n",
       "      <td>0.055</td>\n",
       "      <td>0.035</td>\n",
       "      <td>0.562</td>\n",
       "      <td>1.852</td>\n",
       "      <td>4.171</td>\n",
       "      <td>3.356</td>\n",
       "    </tr>\n",
       "    <tr>\n",
       "      <th>std</th>\n",
       "      <td>0.654</td>\n",
       "      <td>0.137</td>\n",
       "      <td>0.005</td>\n",
       "      <td>0.141</td>\n",
       "      <td>0.084</td>\n",
       "      <td>0.034</td>\n",
       "      <td>0.010</td>\n",
       "      <td>0.614</td>\n",
       "      <td>2.028</td>\n",
       "      <td>2.179</td>\n",
       "      <td>3.597</td>\n",
       "    </tr>\n",
       "    <tr>\n",
       "      <th>min</th>\n",
       "      <td>0.020</td>\n",
       "      <td>0.020</td>\n",
       "      <td>0.010</td>\n",
       "      <td>0.020</td>\n",
       "      <td>0.010</td>\n",
       "      <td>0.020</td>\n",
       "      <td>0.010</td>\n",
       "      <td>0.050</td>\n",
       "      <td>0.010</td>\n",
       "      <td>1.230</td>\n",
       "      <td>0.096</td>\n",
       "    </tr>\n",
       "    <tr>\n",
       "      <th>25%</th>\n",
       "      <td>0.070</td>\n",
       "      <td>0.050</td>\n",
       "      <td>0.020</td>\n",
       "      <td>0.040</td>\n",
       "      <td>0.020</td>\n",
       "      <td>0.040</td>\n",
       "      <td>0.030</td>\n",
       "      <td>0.060</td>\n",
       "      <td>0.020</td>\n",
       "      <td>1.360</td>\n",
       "      <td>0.240</td>\n",
       "    </tr>\n",
       "    <tr>\n",
       "      <th>50%</th>\n",
       "      <td>0.960</td>\n",
       "      <td>0.220</td>\n",
       "      <td>0.020</td>\n",
       "      <td>0.200</td>\n",
       "      <td>0.120</td>\n",
       "      <td>0.050</td>\n",
       "      <td>0.040</td>\n",
       "      <td>0.310</td>\n",
       "      <td>1.170</td>\n",
       "      <td>4.380</td>\n",
       "      <td>1.424</td>\n",
       "    </tr>\n",
       "    <tr>\n",
       "      <th>75%</th>\n",
       "      <td>1.350</td>\n",
       "      <td>0.310</td>\n",
       "      <td>0.020</td>\n",
       "      <td>0.310</td>\n",
       "      <td>0.190</td>\n",
       "      <td>0.060</td>\n",
       "      <td>0.040</td>\n",
       "      <td>1.000</td>\n",
       "      <td>3.320</td>\n",
       "      <td>5.970</td>\n",
       "      <td>6.854</td>\n",
       "    </tr>\n",
       "    <tr>\n",
       "      <th>max</th>\n",
       "      <td>2.730</td>\n",
       "      <td>0.910</td>\n",
       "      <td>0.040</td>\n",
       "      <td>0.640</td>\n",
       "      <td>0.340</td>\n",
       "      <td>0.630</td>\n",
       "      <td>0.100</td>\n",
       "      <td>2.530</td>\n",
       "      <td>6.580</td>\n",
       "      <td>9.660</td>\n",
       "      <td>9.730</td>\n",
       "    </tr>\n",
       "  </tbody>\n",
       "</table>\n",
       "</div>"
      ],
      "text/plain": [
       "       front-end_cpu_use  orders_cpu_use  orders-db_cpu_use  user_cpu_use  \\\n",
       "count          5,711.000       5,711.000          5,711.000     5,711.000   \n",
       "mean               0.862           0.215              0.021         0.202   \n",
       "std                0.654           0.137              0.005         0.141   \n",
       "min                0.020           0.020              0.010         0.020   \n",
       "25%                0.070           0.050              0.020         0.040   \n",
       "50%                0.960           0.220              0.020         0.200   \n",
       "75%                1.350           0.310              0.020         0.310   \n",
       "max                2.730           0.910              0.040         0.640   \n",
       "\n",
       "       user-db_cpu_use  shipping_cpu_use  payment_cpu_use  carts_cpu_use  \\\n",
       "count        5,711.000         5,711.000        5,711.000      5,711.000   \n",
       "mean             0.119             0.055            0.035          0.562   \n",
       "std              0.084             0.034            0.010          0.614   \n",
       "min              0.010             0.020            0.010          0.050   \n",
       "25%              0.020             0.040            0.030          0.060   \n",
       "50%              0.120             0.050            0.040          0.310   \n",
       "75%              0.190             0.060            0.040          1.000   \n",
       "max              0.340             0.630            0.100          2.530   \n",
       "\n",
       "       carts-db_cpu_use  nodes_cpu_use  orders_ltcy  \n",
       "count         5,711.000      5,711.000    5,711.000  \n",
       "mean              1.852          4.171        3.356  \n",
       "std               2.028          2.179        3.597  \n",
       "min               0.010          1.230        0.096  \n",
       "25%               0.020          1.360        0.240  \n",
       "50%               1.170          4.380        1.424  \n",
       "75%               3.320          5.970        6.854  \n",
       "max               6.580          9.660        9.730  "
      ]
     },
     "execution_count": 283,
     "metadata": {},
     "output_type": "execute_result"
    }
   ],
   "source": [
    "df2.describe(include=\"all\")"
   ]
  },
  {
   "cell_type": "code",
   "execution_count": 284,
   "metadata": {},
   "outputs": [],
   "source": [
    "orders_flow_df = df2\n",
    "if save:\n",
    "    processed_file_path = file_dir + 'order_flow_cleanup_data.csv'\n",
    "    orders_flow_df.to_csv(path_or_buf=processed_file_path, index=True)"
   ]
  }
 ],
 "metadata": {
  "kernelspec": {
   "display_name": "Python 3",
   "language": "python",
   "name": "python3"
  },
  "language_info": {
   "codemirror_mode": {
    "name": "ipython",
    "version": 3
   },
   "file_extension": ".py",
   "mimetype": "text/x-python",
   "name": "python",
   "nbconvert_exporter": "python",
   "pygments_lexer": "ipython3",
   "version": "3.7.6"
  }
 },
 "nbformat": 4,
 "nbformat_minor": 4
}
