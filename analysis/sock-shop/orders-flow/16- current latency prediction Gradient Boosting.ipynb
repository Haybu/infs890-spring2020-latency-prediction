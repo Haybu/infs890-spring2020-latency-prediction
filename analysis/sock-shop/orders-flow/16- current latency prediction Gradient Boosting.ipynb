{
 "cells": [
  {
   "cell_type": "markdown",
   "metadata": {},
   "source": [
    "# GradientBoostingRegressor\n",
    "Haytham Mohamed\n",
    "\n",
    "INFS 890 - Spring 2020"
   ]
  },
  {
   "cell_type": "code",
   "execution_count": 217,
   "metadata": {},
   "outputs": [],
   "source": [
    "import numpy as np\n",
    "import pandas as pd\n",
    "import matplotlib.pyplot as plt\n",
    "from sklearn.ensemble import GradientBoostingRegressor \n",
    "from sklearn.model_selection import cross_val_score\n",
    "from sklearn.model_selection import KFold\n",
    "from sklearn.feature_selection import SelectKBest\n",
    "import seaborn as sns\n",
    "from sklearn import preprocessing, metrics, feature_selection\n",
    "from datetime import datetime\n",
    "from scipy import stats\n",
    "from sklearn.feature_selection import SelectFromModel\n",
    "from sklearn.linear_model import LassoCV\n",
    "from sklearn.linear_model import Lasso\n",
    "from sklearn.model_selection import train_test_split\n",
    "from sklearn.preprocessing import StandardScaler , MinMaxScaler\n",
    "from sklearn.pipeline import Pipeline, FeatureUnion\n",
    "from sklearn.model_selection import GridSearchCV\n",
    "from sklearn.ensemble import RandomForestRegressor\n",
    "from sklearn.metrics import mean_squared_error\n",
    "from sklearn.feature_selection import RFECV\n",
    "from sklearn.decomposition import PCA\n",
    "\n",
    "sns.set()\n",
    "sns.set(color_codes=True)\n",
    "#sns.set_color_codes()\n",
    "\n",
    "pd.options.display.max_rows = 15\n",
    "pd.options.display.float_format = '{:,.4f}'.format"
   ]
  },
  {
   "cell_type": "markdown",
   "metadata": {},
   "source": [
    "Set this flag to True if you're using reduction feature using FCA, otherwise set it to False"
   ]
  },
  {
   "cell_type": "code",
   "execution_count": 218,
   "metadata": {},
   "outputs": [],
   "source": [
    "# 1- read data file\n",
    "# 1- read processed file\n",
    "home_dir = '/Users/hmohamed/github/data-research-spring2020/sock-shop'\n",
    "file_dir = home_dir + '/processed-data/'\n",
    "\n",
    "data_file = 'orders_flow_data.csv'   # raw data as is\n",
    "#data_file = 'order_flow_cleanup_data.csv'\n",
    "#data_file = 'order_flow_normalized_data.csv'\n",
    "#data_file = 'order_flow_standardized_data.csv'\n",
    "#data_file = 'order_flow_factored_data.csv'\n",
    "\n",
    "\n",
    "SCALE_TARGETS = True\n",
    "SCALE_FEATURES = True\n",
    "\n",
    "FEATURES_SELECTION = True\n",
    "\n",
    "test_split = 0.2"
   ]
  },
  {
   "cell_type": "code",
   "execution_count": 219,
   "metadata": {},
   "outputs": [],
   "source": [
    "def read_df(file_dir, data_file, timeseries=True):\n",
    "    df = pd.read_csv(file_dir + data_file)\n",
    "    if timeseries:\n",
    "        df = to_time_series(df)\n",
    "    return df\n",
    "\n",
    "def to_time_series(df, index_col_name='date'):\n",
    "    df[index_col_name] = pd.to_datetime(df[index_col_name])\n",
    "    df.set_index(index_col_name, inplace=True)\n",
    "    df.sort_index(inplace=True)\n",
    "    return df\n",
    "\n",
    "def merge(df, series):\n",
    "    return pd.merge_asof(df, series, left_index=True, right_index=True, tolerance=pd.Timedelta('1 second')).bfill()    \n"
   ]
  },
  {
   "cell_type": "code",
   "execution_count": 220,
   "metadata": {},
   "outputs": [
    {
     "name": "stdout",
     "output_type": "stream",
     "text": [
      "data shape (6766, 29)\n"
     ]
    },
    {
     "data": {
      "text/html": [
       "<div>\n",
       "<style scoped>\n",
       "    .dataframe tbody tr th:only-of-type {\n",
       "        vertical-align: middle;\n",
       "    }\n",
       "\n",
       "    .dataframe tbody tr th {\n",
       "        vertical-align: top;\n",
       "    }\n",
       "\n",
       "    .dataframe thead th {\n",
       "        text-align: right;\n",
       "    }\n",
       "</style>\n",
       "<table border=\"1\" class=\"dataframe\">\n",
       "  <thead>\n",
       "    <tr style=\"text-align: right;\">\n",
       "      <th></th>\n",
       "      <th>front-end_cpu_use</th>\n",
       "      <th>orders_cpu_use</th>\n",
       "      <th>orders-db_cpu_use</th>\n",
       "      <th>user_cpu_use</th>\n",
       "      <th>user-db_cpu_use</th>\n",
       "      <th>shipping_cpu_use</th>\n",
       "      <th>payment_cpu_use</th>\n",
       "      <th>carts_cpu_use</th>\n",
       "      <th>carts-db_cpu_use</th>\n",
       "      <th>front-end_pods</th>\n",
       "      <th>...</th>\n",
       "      <th>user-db_net_use</th>\n",
       "      <th>shipping_net_use</th>\n",
       "      <th>payment_net_use</th>\n",
       "      <th>carts_net_use</th>\n",
       "      <th>carts-db_net_use</th>\n",
       "      <th>nodes_cpu_use</th>\n",
       "      <th>nodes_disk_io</th>\n",
       "      <th>nodes_net_use</th>\n",
       "      <th>orders_req</th>\n",
       "      <th>orders_ltcy</th>\n",
       "    </tr>\n",
       "  </thead>\n",
       "  <tbody>\n",
       "    <tr>\n",
       "      <th>0</th>\n",
       "      <td>0.0300</td>\n",
       "      <td>0.0100</td>\n",
       "      <td>0.0100</td>\n",
       "      <td>0.0100</td>\n",
       "      <td>0.0100</td>\n",
       "      <td>0.0100</td>\n",
       "      <td>0.0100</td>\n",
       "      <td>0.0300</td>\n",
       "      <td>0.0700</td>\n",
       "      <td>1.0000</td>\n",
       "      <td>...</td>\n",
       "      <td>2.2044</td>\n",
       "      <td>2.6585</td>\n",
       "      <td>8.9654</td>\n",
       "      <td>22.0117</td>\n",
       "      <td>4.7995</td>\n",
       "      <td>2.5000</td>\n",
       "      <td>1.6700</td>\n",
       "      <td>2.7617</td>\n",
       "      <td>0.1500</td>\n",
       "      <td>0.2400</td>\n",
       "    </tr>\n",
       "    <tr>\n",
       "      <th>1</th>\n",
       "      <td>0.0600</td>\n",
       "      <td>0.0200</td>\n",
       "      <td>0.0200</td>\n",
       "      <td>0.0200</td>\n",
       "      <td>0.0200</td>\n",
       "      <td>0.0100</td>\n",
       "      <td>0.0100</td>\n",
       "      <td>0.1800</td>\n",
       "      <td>0.1800</td>\n",
       "      <td>1.0000</td>\n",
       "      <td>...</td>\n",
       "      <td>2.2044</td>\n",
       "      <td>2.6585</td>\n",
       "      <td>8.9654</td>\n",
       "      <td>22.0117</td>\n",
       "      <td>4.7995</td>\n",
       "      <td>1.8900</td>\n",
       "      <td>1.0100</td>\n",
       "      <td>2.7617</td>\n",
       "      <td>0.1500</td>\n",
       "      <td>0.2400</td>\n",
       "    </tr>\n",
       "    <tr>\n",
       "      <th>2</th>\n",
       "      <td>0.0700</td>\n",
       "      <td>0.0300</td>\n",
       "      <td>0.0200</td>\n",
       "      <td>0.0300</td>\n",
       "      <td>0.0200</td>\n",
       "      <td>0.0100</td>\n",
       "      <td>0.0100</td>\n",
       "      <td>0.4400</td>\n",
       "      <td>0.2000</td>\n",
       "      <td>1.0000</td>\n",
       "      <td>...</td>\n",
       "      <td>16.0739</td>\n",
       "      <td>13.5708</td>\n",
       "      <td>16.9964</td>\n",
       "      <td>27.3438</td>\n",
       "      <td>16.6522</td>\n",
       "      <td>1.3500</td>\n",
       "      <td>0.0500</td>\n",
       "      <td>2.5880</td>\n",
       "      <td>0.1500</td>\n",
       "      <td>0.2400</td>\n",
       "    </tr>\n",
       "    <tr>\n",
       "      <th>3</th>\n",
       "      <td>0.0700</td>\n",
       "      <td>0.0300</td>\n",
       "      <td>0.0200</td>\n",
       "      <td>0.0200</td>\n",
       "      <td>0.0200</td>\n",
       "      <td>0.0100</td>\n",
       "      <td>0.0100</td>\n",
       "      <td>0.2300</td>\n",
       "      <td>0.1700</td>\n",
       "      <td>1.0000</td>\n",
       "      <td>...</td>\n",
       "      <td>19.9869</td>\n",
       "      <td>14.4342</td>\n",
       "      <td>9.5804</td>\n",
       "      <td>9.4313</td>\n",
       "      <td>17.1768</td>\n",
       "      <td>1.2600</td>\n",
       "      <td>0.0400</td>\n",
       "      <td>2.1487</td>\n",
       "      <td>0.1300</td>\n",
       "      <td>0.2400</td>\n",
       "    </tr>\n",
       "    <tr>\n",
       "      <th>4</th>\n",
       "      <td>0.0700</td>\n",
       "      <td>0.0200</td>\n",
       "      <td>0.0100</td>\n",
       "      <td>0.0200</td>\n",
       "      <td>0.0200</td>\n",
       "      <td>0.0100</td>\n",
       "      <td>0.0100</td>\n",
       "      <td>0.2400</td>\n",
       "      <td>0.1400</td>\n",
       "      <td>1.0000</td>\n",
       "      <td>...</td>\n",
       "      <td>10.4490</td>\n",
       "      <td>3.7392</td>\n",
       "      <td>2.7970</td>\n",
       "      <td>9.1791</td>\n",
       "      <td>6.2516</td>\n",
       "      <td>1.2800</td>\n",
       "      <td>0.2600</td>\n",
       "      <td>1.8080</td>\n",
       "      <td>0.3600</td>\n",
       "      <td>0.2400</td>\n",
       "    </tr>\n",
       "  </tbody>\n",
       "</table>\n",
       "<p>5 rows × 29 columns</p>\n",
       "</div>"
      ],
      "text/plain": [
       "   front-end_cpu_use  orders_cpu_use  orders-db_cpu_use  user_cpu_use  \\\n",
       "0             0.0300          0.0100             0.0100        0.0100   \n",
       "1             0.0600          0.0200             0.0200        0.0200   \n",
       "2             0.0700          0.0300             0.0200        0.0300   \n",
       "3             0.0700          0.0300             0.0200        0.0200   \n",
       "4             0.0700          0.0200             0.0100        0.0200   \n",
       "\n",
       "   user-db_cpu_use  shipping_cpu_use  payment_cpu_use  carts_cpu_use  \\\n",
       "0           0.0100            0.0100           0.0100         0.0300   \n",
       "1           0.0200            0.0100           0.0100         0.1800   \n",
       "2           0.0200            0.0100           0.0100         0.4400   \n",
       "3           0.0200            0.0100           0.0100         0.2300   \n",
       "4           0.0200            0.0100           0.0100         0.2400   \n",
       "\n",
       "   carts-db_cpu_use  front-end_pods  ...  user-db_net_use  shipping_net_use  \\\n",
       "0            0.0700          1.0000  ...           2.2044            2.6585   \n",
       "1            0.1800          1.0000  ...           2.2044            2.6585   \n",
       "2            0.2000          1.0000  ...          16.0739           13.5708   \n",
       "3            0.1700          1.0000  ...          19.9869           14.4342   \n",
       "4            0.1400          1.0000  ...          10.4490            3.7392   \n",
       "\n",
       "   payment_net_use  carts_net_use  carts-db_net_use  nodes_cpu_use  \\\n",
       "0           8.9654        22.0117            4.7995         2.5000   \n",
       "1           8.9654        22.0117            4.7995         1.8900   \n",
       "2          16.9964        27.3438           16.6522         1.3500   \n",
       "3           9.5804         9.4313           17.1768         1.2600   \n",
       "4           2.7970         9.1791            6.2516         1.2800   \n",
       "\n",
       "   nodes_disk_io  nodes_net_use  orders_req  orders_ltcy  \n",
       "0         1.6700         2.7617      0.1500       0.2400  \n",
       "1         1.0100         2.7617      0.1500       0.2400  \n",
       "2         0.0500         2.5880      0.1500       0.2400  \n",
       "3         0.0400         2.1487      0.1300       0.2400  \n",
       "4         0.2600         1.8080      0.3600       0.2400  \n",
       "\n",
       "[5 rows x 29 columns]"
      ]
     },
     "execution_count": 220,
     "metadata": {},
     "output_type": "execute_result"
    }
   ],
   "source": [
    "data = read_df(file_dir, data_file, True)\n",
    "data = data.reset_index(drop=True)\n",
    "\n",
    "print('data shape {}'.format(data.shape))\n",
    "\n",
    "data.head(5)"
   ]
  },
  {
   "cell_type": "code",
   "execution_count": 221,
   "metadata": {},
   "outputs": [
    {
     "name": "stdout",
     "output_type": "stream",
     "text": [
      "there are 28 features\n"
     ]
    }
   ],
   "source": [
    "targets = data['orders_ltcy']\n",
    "inputs = data.drop(['orders_ltcy'], axis=1)\n",
    "\n",
    "n_features = inputs.values.shape[1]\n",
    "print(\"there are {} features\".format(n_features))\n"
   ]
  },
  {
   "cell_type": "code",
   "execution_count": 222,
   "metadata": {},
   "outputs": [
    {
     "name": "stdout",
     "output_type": "stream",
     "text": [
      "front-end_cpu_use\n",
      "orders_cpu_use\n",
      "orders-db_cpu_use\n",
      "user_cpu_use\n",
      "user-db_cpu_use\n",
      "shipping_cpu_use\n",
      "payment_cpu_use\n",
      "carts_cpu_use\n",
      "carts-db_cpu_use\n",
      "front-end_pods\n",
      "orders_pods\n",
      "user_pods\n",
      "shipping_pods\n",
      "payment_pods\n",
      "carts_pods\n",
      "front-end_net_use\n",
      "orders_net_use\n",
      "orders-db_net_use\n",
      "user_net_use\n",
      "user-db_net_use\n",
      "shipping_net_use\n",
      "payment_net_use\n",
      "carts_net_use\n",
      "carts-db_net_use\n",
      "nodes_cpu_use\n",
      "nodes_disk_io\n",
      "nodes_net_use\n",
      "orders_req\n"
     ]
    }
   ],
   "source": [
    "# print out the features\n",
    "for feature in inputs.columns.values:\n",
    "    print(feature)"
   ]
  },
  {
   "cell_type": "markdown",
   "metadata": {},
   "source": [
    "# Features Selection"
   ]
  },
  {
   "cell_type": "code",
   "execution_count": 223,
   "metadata": {},
   "outputs": [],
   "source": [
    "def features_selection(x, y, to_scale=FEATURES_SELECTION):\n",
    "    if to_scale:  \n",
    "        #clf = RandomForestRegressor(n_jobs=-1, max_depth=10, n_estimators=15)    \n",
    "        clf = LassoCV(tol=0.1)\n",
    "        sfm = SelectFromModel(clf, threshold='0.05*mean')\n",
    "\n",
    "        selectedFeatures = sfm.fit(x, y).transform(x)\n",
    "        print('{} features selected'.format(selectedFeatures[1].shape[0]))\n",
    "        \n",
    "        feature_list = x.columns[sfm.get_support()]\n",
    "        features = ''\n",
    "        features = ', '.join(feature_list)\n",
    "    \n",
    "        print(\"columns selected are {}\".format(features))\n",
    "\n",
    "        x = x[feature_list]        \n",
    "    return x\n"
   ]
  },
  {
   "cell_type": "code",
   "execution_count": 224,
   "metadata": {},
   "outputs": [
    {
     "name": "stdout",
     "output_type": "stream",
     "text": [
      "12 features selected\n",
      "columns selected are carts_cpu_use, carts-db_cpu_use, front-end_pods, orders_net_use, orders-db_net_use, user_net_use, shipping_net_use, payment_net_use, carts_net_use, nodes_cpu_use, nodes_net_use, orders_req\n"
     ]
    }
   ],
   "source": [
    "inputs = features_selection(inputs, targets)"
   ]
  },
  {
   "cell_type": "code",
   "execution_count": 225,
   "metadata": {},
   "outputs": [],
   "source": [
    "# scale targets for better convergence\n",
    "if SCALE_TARGETS:\n",
    "    y_scaler =  MinMaxScaler()\n",
    "    targets = y_scaler.fit_transform(targets.values.reshape(-1,1))\n",
    "    \n",
    "x_train, x_test, y_train, y_test = \\\n",
    "    train_test_split(inputs, targets, test_size=test_split, shuffle=False, random_state=365)  \n",
    "\n",
    "if SCALE_FEATURES:\n",
    "    x_scaler = StandardScaler()\n",
    "    x_train = x_scaler.fit_transform(x_train)\n",
    "    x_test = x_scaler.transform(x_test)"
   ]
  },
  {
   "cell_type": "code",
   "execution_count": 226,
   "metadata": {},
   "outputs": [
    {
     "data": {
      "image/png": "[encoded data removed]",
      "text/plain": [
       "<Figure size 432x288 with 1 Axes>"
      ]
     },
     "metadata": {},
     "output_type": "display_data"
    }
   ],
   "source": [
    "# plot cpu vs latency \n",
    "plt.plot(data['orders_cpu_use'][100:200], label='orders_cpu_use')\n",
    "plt.plot(data['orders_ltcy'][100:200], label='orders_ltcy')\n",
    "plt.legend()\n",
    "plt.show()\n"
   ]
  },
  {
   "cell_type": "markdown",
   "metadata": {},
   "source": [
    "# Model"
   ]
  },
  {
   "cell_type": "code",
   "execution_count": 227,
   "metadata": {},
   "outputs": [],
   "source": [
    "\n",
    "reg = GradientBoostingRegressor(n_estimators=300, learning_rate=0.01, random_state=100, n_iter_no_change=3, max_depth=60)\n"
   ]
  },
  {
   "cell_type": "code",
   "execution_count": 228,
   "metadata": {},
   "outputs": [
    {
     "name": "stdout",
     "output_type": "stream",
     "text": [
      "sklearn version 0.22.2.post1\n"
     ]
    },
    {
     "name": "stderr",
     "output_type": "stream",
     "text": [
      "/opt/anaconda3/envs/infs890/lib/python3.7/site-packages/sklearn/ensemble/_gb.py:1454: DataConversionWarning: A column-vector y was passed when a 1d array was expected. Please change the shape of y to (n_samples, ), for example using ravel().\n",
      "  y = column_or_1d(y, warn=True)\n"
     ]
    },
    {
     "data": {
      "text/plain": [
       "GradientBoostingRegressor(alpha=0.9, ccp_alpha=0.0, criterion='friedman_mse',\n",
       "                          init=None, learning_rate=0.01, loss='ls',\n",
       "                          max_depth=60, max_features=None, max_leaf_nodes=None,\n",
       "                          min_impurity_decrease=0.0, min_impurity_split=None,\n",
       "                          min_samples_leaf=1, min_samples_split=2,\n",
       "                          min_weight_fraction_leaf=0.0, n_estimators=300,\n",
       "                          n_iter_no_change=3, presort='deprecated',\n",
       "                          random_state=100, subsample=1.0, tol=0.0001,\n",
       "                          validation_fraction=0.1, verbose=0, warm_start=False)"
      ]
     },
     "execution_count": 228,
     "metadata": {},
     "output_type": "execute_result"
    }
   ],
   "source": [
    "import sklearn \n",
    "print('sklearn version {}'.format(sklearn.__version__))\n",
    "\n",
    "reg.fit(x_train, y_train)"
   ]
  },
  {
   "cell_type": "markdown",
   "metadata": {},
   "source": [
    "# Training R2"
   ]
  },
  {
   "cell_type": "code",
   "execution_count": 229,
   "metadata": {},
   "outputs": [
    {
     "name": "stdout",
     "output_type": "stream",
     "text": [
      "R2 (training) = 0.9096658172532055\n",
      "Score (training) = 0.9096658172532056\n"
     ]
    }
   ],
   "source": [
    "y_train_pred = reg.predict(x_train)\n",
    "\n",
    "r2_train = metrics.r2_score(y_train, y_train_pred)\n",
    "print('R2 (training) = {}'.format(r2_train))\n",
    "\n",
    "print('Score (training) = {}'.format(reg.score(x_train,y_train)))"
   ]
  },
  {
   "cell_type": "code",
   "execution_count": 230,
   "metadata": {},
   "outputs": [
    {
     "name": "stdout",
     "output_type": "stream",
     "text": [
      "Model Result (mean - std of error - min - max): 0.36 (0.30) 0.00 0.96 MSE\n"
     ]
    }
   ],
   "source": [
    "# validation mean_absolute_percentage_error\n",
    "train_error =  np.abs(y_train - y_train_pred)\n",
    "mean_error = np.mean(train_error)\n",
    "min_error = np.min(train_error)\n",
    "max_error = np.max(train_error)\n",
    "std_error = np.std(train_error)\n",
    "\n",
    "print(\"Model Result (mean - std of error - min - max): %.2f (%.2f) %.2f %.2f MSE\" \\\n",
    "      % (mean_error, std_error, min_error, max_error))"
   ]
  },
  {
   "cell_type": "code",
   "execution_count": 231,
   "metadata": {},
   "outputs": [
    {
     "data": {
      "image/png": "[encoded data removed]",
      "text/plain": [
       "<Figure size 432x288 with 1 Axes>"
      ]
     },
     "metadata": {},
     "output_type": "display_data"
    }
   ],
   "source": [
    "plt.scatter(y_train, y_train_pred)\n",
    "plt.xlabel('Latency', size=18)\n",
    "plt.ylabel(\"predicted Latency\", size=18)\n",
    "plt.show()"
   ]
  },
  {
   "cell_type": "markdown",
   "metadata": {},
   "source": [
    "# Testing"
   ]
  },
  {
   "cell_type": "code",
   "execution_count": 232,
   "metadata": {},
   "outputs": [],
   "source": [
    "y_test_pred = reg.predict(x_test)"
   ]
  },
  {
   "cell_type": "code",
   "execution_count": 233,
   "metadata": {},
   "outputs": [
    {
     "data": {
      "text/plain": [
       "<function matplotlib.pyplot.show(*args, **kw)>"
      ]
     },
     "execution_count": 233,
     "metadata": {},
     "output_type": "execute_result"
    },
    {
     "data": {
      "image/png": "[encoded data removed]",
      "text/plain": [
       "<Figure size 432x288 with 1 Axes>"
      ]
     },
     "metadata": {},
     "output_type": "display_data"
    }
   ],
   "source": [
    "plt.scatter(y_test, y_test_pred)\n",
    "plt.xlabel('Latency', size=18)\n",
    "plt.ylabel('Predicted Latency', size=18)\n",
    "plt.show"
   ]
  },
  {
   "cell_type": "code",
   "execution_count": 234,
   "metadata": {},
   "outputs": [
    {
     "data": {
      "image/png": "[encoded data removed]",
      "text/plain": [
       "<Figure size 432x288 with 1 Axes>"
      ]
     },
     "metadata": {},
     "output_type": "display_data"
    }
   ],
   "source": [
    "ax = sns.regplot(x=y_test, y=y_test_pred, color='g')"
   ]
  },
  {
   "cell_type": "code",
   "execution_count": 235,
   "metadata": {},
   "outputs": [
    {
     "data": {
      "text/html": [
       "<div>\n",
       "<style scoped>\n",
       "    .dataframe tbody tr th:only-of-type {\n",
       "        vertical-align: middle;\n",
       "    }\n",
       "\n",
       "    .dataframe tbody tr th {\n",
       "        vertical-align: top;\n",
       "    }\n",
       "\n",
       "    .dataframe thead th {\n",
       "        text-align: right;\n",
       "    }\n",
       "</style>\n",
       "<table border=\"1\" class=\"dataframe\">\n",
       "  <thead>\n",
       "    <tr style=\"text-align: right;\">\n",
       "      <th></th>\n",
       "      <th>prediction</th>\n",
       "      <th>target</th>\n",
       "    </tr>\n",
       "  </thead>\n",
       "  <tbody>\n",
       "    <tr>\n",
       "      <th>0</th>\n",
       "      <td>0.5586</td>\n",
       "      <td>0.2517</td>\n",
       "    </tr>\n",
       "    <tr>\n",
       "      <th>1</th>\n",
       "      <td>0.5586</td>\n",
       "      <td>0.2510</td>\n",
       "    </tr>\n",
       "    <tr>\n",
       "      <th>2</th>\n",
       "      <td>0.5586</td>\n",
       "      <td>0.2504</td>\n",
       "    </tr>\n",
       "    <tr>\n",
       "      <th>3</th>\n",
       "      <td>0.5586</td>\n",
       "      <td>0.2497</td>\n",
       "    </tr>\n",
       "    <tr>\n",
       "      <th>4</th>\n",
       "      <td>0.5586</td>\n",
       "      <td>0.2491</td>\n",
       "    </tr>\n",
       "  </tbody>\n",
       "</table>\n",
       "</div>"
      ],
      "text/plain": [
       "   prediction  target\n",
       "0      0.5586  0.2517\n",
       "1      0.5586  0.2510\n",
       "2      0.5586  0.2504\n",
       "3      0.5586  0.2497\n",
       "4      0.5586  0.2491"
      ]
     },
     "execution_count": 235,
     "metadata": {},
     "output_type": "execute_result"
    }
   ],
   "source": [
    "perf = pd.DataFrame(y_test_pred, columns=['prediction'])\n",
    "perf['target'] = y_test\n",
    "perf.head()"
   ]
  },
  {
   "cell_type": "code",
   "execution_count": 236,
   "metadata": {},
   "outputs": [
    {
     "data": {
      "text/html": [
       "<div>\n",
       "<style scoped>\n",
       "    .dataframe tbody tr th:only-of-type {\n",
       "        vertical-align: middle;\n",
       "    }\n",
       "\n",
       "    .dataframe tbody tr th {\n",
       "        vertical-align: top;\n",
       "    }\n",
       "\n",
       "    .dataframe thead th {\n",
       "        text-align: right;\n",
       "    }\n",
       "</style>\n",
       "<table border=\"1\" class=\"dataframe\">\n",
       "  <thead>\n",
       "    <tr style=\"text-align: right;\">\n",
       "      <th></th>\n",
       "      <th>prediction</th>\n",
       "      <th>target</th>\n",
       "      <th>residual</th>\n",
       "      <th>difference%</th>\n",
       "    </tr>\n",
       "  </thead>\n",
       "  <tbody>\n",
       "    <tr>\n",
       "      <th>0</th>\n",
       "      <td>0.5586</td>\n",
       "      <td>0.2517</td>\n",
       "      <td>0.3069</td>\n",
       "      <td>121.9326</td>\n",
       "    </tr>\n",
       "    <tr>\n",
       "      <th>1</th>\n",
       "      <td>0.5586</td>\n",
       "      <td>0.2510</td>\n",
       "      <td>0.3076</td>\n",
       "      <td>122.5079</td>\n",
       "    </tr>\n",
       "    <tr>\n",
       "      <th>2</th>\n",
       "      <td>0.5586</td>\n",
       "      <td>0.2504</td>\n",
       "      <td>0.3082</td>\n",
       "      <td>123.0862</td>\n",
       "    </tr>\n",
       "    <tr>\n",
       "      <th>3</th>\n",
       "      <td>0.5586</td>\n",
       "      <td>0.2497</td>\n",
       "      <td>0.3089</td>\n",
       "      <td>123.6676</td>\n",
       "    </tr>\n",
       "    <tr>\n",
       "      <th>4</th>\n",
       "      <td>0.5586</td>\n",
       "      <td>0.2491</td>\n",
       "      <td>0.3095</td>\n",
       "      <td>124.2520</td>\n",
       "    </tr>\n",
       "    <tr>\n",
       "      <th>...</th>\n",
       "      <td>...</td>\n",
       "      <td>...</td>\n",
       "      <td>...</td>\n",
       "      <td>...</td>\n",
       "    </tr>\n",
       "    <tr>\n",
       "      <th>1349</th>\n",
       "      <td>0.8914</td>\n",
       "      <td>0.9877</td>\n",
       "      <td>-0.0962</td>\n",
       "      <td>9.7420</td>\n",
       "    </tr>\n",
       "    <tr>\n",
       "      <th>1350</th>\n",
       "      <td>0.8737</td>\n",
       "      <td>0.9877</td>\n",
       "      <td>-0.1140</td>\n",
       "      <td>11.5374</td>\n",
       "    </tr>\n",
       "    <tr>\n",
       "      <th>1351</th>\n",
       "      <td>0.8421</td>\n",
       "      <td>0.9856</td>\n",
       "      <td>-0.1435</td>\n",
       "      <td>14.5595</td>\n",
       "    </tr>\n",
       "    <tr>\n",
       "      <th>1352</th>\n",
       "      <td>0.6019</td>\n",
       "      <td>0.9887</td>\n",
       "      <td>-0.3868</td>\n",
       "      <td>39.1235</td>\n",
       "    </tr>\n",
       "    <tr>\n",
       "      <th>1353</th>\n",
       "      <td>0.8422</td>\n",
       "      <td>0.9918</td>\n",
       "      <td>-0.1495</td>\n",
       "      <td>15.0771</td>\n",
       "    </tr>\n",
       "  </tbody>\n",
       "</table>\n",
       "<p>1354 rows × 4 columns</p>\n",
       "</div>"
      ],
      "text/plain": [
       "      prediction  target  residual  difference%\n",
       "0         0.5586  0.2517    0.3069     121.9326\n",
       "1         0.5586  0.2510    0.3076     122.5079\n",
       "2         0.5586  0.2504    0.3082     123.0862\n",
       "3         0.5586  0.2497    0.3089     123.6676\n",
       "4         0.5586  0.2491    0.3095     124.2520\n",
       "...          ...     ...       ...          ...\n",
       "1349      0.8914  0.9877   -0.0962       9.7420\n",
       "1350      0.8737  0.9877   -0.1140      11.5374\n",
       "1351      0.8421  0.9856   -0.1435      14.5595\n",
       "1352      0.6019  0.9887   -0.3868      39.1235\n",
       "1353      0.8422  0.9918   -0.1495      15.0771\n",
       "\n",
       "[1354 rows x 4 columns]"
      ]
     },
     "execution_count": 236,
     "metadata": {},
     "output_type": "execute_result"
    }
   ],
   "source": [
    "# testing mean_absolute_percentage_error\n",
    "perf['residual'] = perf['prediction'] - perf['target']\n",
    "perf['difference%'] = np.absolute(perf['residual'] * 100 / perf['target'])\n",
    "perf"
   ]
  },
  {
   "cell_type": "code",
   "execution_count": 237,
   "metadata": {},
   "outputs": [
    {
     "data": {
      "text/html": [
       "<div>\n",
       "<style scoped>\n",
       "    .dataframe tbody tr th:only-of-type {\n",
       "        vertical-align: middle;\n",
       "    }\n",
       "\n",
       "    .dataframe tbody tr th {\n",
       "        vertical-align: top;\n",
       "    }\n",
       "\n",
       "    .dataframe thead th {\n",
       "        text-align: right;\n",
       "    }\n",
       "</style>\n",
       "<table border=\"1\" class=\"dataframe\">\n",
       "  <thead>\n",
       "    <tr style=\"text-align: right;\">\n",
       "      <th></th>\n",
       "      <th>prediction</th>\n",
       "      <th>target</th>\n",
       "      <th>residual</th>\n",
       "      <th>difference%</th>\n",
       "    </tr>\n",
       "  </thead>\n",
       "  <tbody>\n",
       "    <tr>\n",
       "      <th>count</th>\n",
       "      <td>1,354.0000</td>\n",
       "      <td>1,354.0000</td>\n",
       "      <td>1,354.0000</td>\n",
       "      <td>1,354.0000</td>\n",
       "    </tr>\n",
       "    <tr>\n",
       "      <th>mean</th>\n",
       "      <td>0.4071</td>\n",
       "      <td>0.2942</td>\n",
       "      <td>0.1129</td>\n",
       "      <td>257.4222</td>\n",
       "    </tr>\n",
       "    <tr>\n",
       "      <th>std</th>\n",
       "      <td>0.2959</td>\n",
       "      <td>0.3593</td>\n",
       "      <td>0.2408</td>\n",
       "      <td>411.9889</td>\n",
       "    </tr>\n",
       "    <tr>\n",
       "      <th>min</th>\n",
       "      <td>0.0534</td>\n",
       "      <td>0.0134</td>\n",
       "      <td>-0.8657</td>\n",
       "      <td>0.3523</td>\n",
       "    </tr>\n",
       "    <tr>\n",
       "      <th>25%</th>\n",
       "      <td>0.0682</td>\n",
       "      <td>0.0236</td>\n",
       "      <td>-0.0134</td>\n",
       "      <td>35.0551</td>\n",
       "    </tr>\n",
       "    <tr>\n",
       "      <th>50%</th>\n",
       "      <td>0.5586</td>\n",
       "      <td>0.1062</td>\n",
       "      <td>0.0426</td>\n",
       "      <td>181.7585</td>\n",
       "    </tr>\n",
       "    <tr>\n",
       "      <th>75%</th>\n",
       "      <td>0.5586</td>\n",
       "      <td>0.4838</td>\n",
       "      <td>0.3438</td>\n",
       "      <td>235.2816</td>\n",
       "    </tr>\n",
       "    <tr>\n",
       "      <th>max</th>\n",
       "      <td>0.8934</td>\n",
       "      <td>1.0000</td>\n",
       "      <td>0.6840</td>\n",
       "      <td>3,502.6949</td>\n",
       "    </tr>\n",
       "  </tbody>\n",
       "</table>\n",
       "</div>"
      ],
      "text/plain": [
       "       prediction     target   residual  difference%\n",
       "count  1,354.0000 1,354.0000 1,354.0000   1,354.0000\n",
       "mean       0.4071     0.2942     0.1129     257.4222\n",
       "std        0.2959     0.3593     0.2408     411.9889\n",
       "min        0.0534     0.0134    -0.8657       0.3523\n",
       "25%        0.0682     0.0236    -0.0134      35.0551\n",
       "50%        0.5586     0.1062     0.0426     181.7585\n",
       "75%        0.5586     0.4838     0.3438     235.2816\n",
       "max        0.8934     1.0000     0.6840   3,502.6949"
      ]
     },
     "execution_count": 237,
     "metadata": {},
     "output_type": "execute_result"
    }
   ],
   "source": [
    "perf.describe()"
   ]
  },
  {
   "cell_type": "code",
   "execution_count": 238,
   "metadata": {},
   "outputs": [
    {
     "data": {
      "text/html": [
       "<div>\n",
       "<style scoped>\n",
       "    .dataframe tbody tr th:only-of-type {\n",
       "        vertical-align: middle;\n",
       "    }\n",
       "\n",
       "    .dataframe tbody tr th {\n",
       "        vertical-align: top;\n",
       "    }\n",
       "\n",
       "    .dataframe thead th {\n",
       "        text-align: right;\n",
       "    }\n",
       "</style>\n",
       "<table border=\"1\" class=\"dataframe\">\n",
       "  <thead>\n",
       "    <tr style=\"text-align: right;\">\n",
       "      <th></th>\n",
       "      <th>prediction</th>\n",
       "      <th>target</th>\n",
       "      <th>residual</th>\n",
       "      <th>difference%</th>\n",
       "    </tr>\n",
       "  </thead>\n",
       "  <tbody>\n",
       "    <tr>\n",
       "      <th>1233</th>\n",
       "      <td>0.8715</td>\n",
       "      <td>0.8746</td>\n",
       "      <td>-0.0031</td>\n",
       "      <td>0.3523</td>\n",
       "    </tr>\n",
       "    <tr>\n",
       "      <th>1276</th>\n",
       "      <td>0.7711</td>\n",
       "      <td>0.7739</td>\n",
       "      <td>-0.0028</td>\n",
       "      <td>0.3600</td>\n",
       "    </tr>\n",
       "    <tr>\n",
       "      <th>919</th>\n",
       "      <td>0.2814</td>\n",
       "      <td>0.2795</td>\n",
       "      <td>0.0019</td>\n",
       "      <td>0.6755</td>\n",
       "    </tr>\n",
       "    <tr>\n",
       "      <th>1235</th>\n",
       "      <td>0.8773</td>\n",
       "      <td>0.8869</td>\n",
       "      <td>-0.0097</td>\n",
       "      <td>1.0887</td>\n",
       "    </tr>\n",
       "    <tr>\n",
       "      <th>938</th>\n",
       "      <td>0.4673</td>\n",
       "      <td>0.4738</td>\n",
       "      <td>-0.0065</td>\n",
       "      <td>1.3717</td>\n",
       "    </tr>\n",
       "    <tr>\n",
       "      <th>...</th>\n",
       "      <td>...</td>\n",
       "      <td>...</td>\n",
       "      <td>...</td>\n",
       "      <td>...</td>\n",
       "    </tr>\n",
       "    <tr>\n",
       "      <th>374</th>\n",
       "      <td>0.5586</td>\n",
       "      <td>0.0216</td>\n",
       "      <td>0.5370</td>\n",
       "      <td>2488.1609</td>\n",
       "    </tr>\n",
       "    <tr>\n",
       "      <th>1204</th>\n",
       "      <td>0.5593</td>\n",
       "      <td>0.0185</td>\n",
       "      <td>0.5408</td>\n",
       "      <td>2923.3954</td>\n",
       "    </tr>\n",
       "    <tr>\n",
       "      <th>1104</th>\n",
       "      <td>0.4576</td>\n",
       "      <td>0.0144</td>\n",
       "      <td>0.4432</td>\n",
       "      <td>3080.5715</td>\n",
       "    </tr>\n",
       "    <tr>\n",
       "      <th>1225</th>\n",
       "      <td>0.5709</td>\n",
       "      <td>0.0164</td>\n",
       "      <td>0.5545</td>\n",
       "      <td>3372.0672</td>\n",
       "    </tr>\n",
       "    <tr>\n",
       "      <th>1229</th>\n",
       "      <td>0.7035</td>\n",
       "      <td>0.0195</td>\n",
       "      <td>0.6840</td>\n",
       "      <td>3502.6949</td>\n",
       "    </tr>\n",
       "  </tbody>\n",
       "</table>\n",
       "<p>1354 rows × 4 columns</p>\n",
       "</div>"
      ],
      "text/plain": [
       "      prediction  target  residual  difference%\n",
       "1233      0.8715  0.8746   -0.0031       0.3523\n",
       "1276      0.7711  0.7739   -0.0028       0.3600\n",
       "919       0.2814  0.2795    0.0019       0.6755\n",
       "1235      0.8773  0.8869   -0.0097       1.0887\n",
       "938       0.4673  0.4738   -0.0065       1.3717\n",
       "...          ...     ...       ...          ...\n",
       "374       0.5586  0.0216    0.5370    2488.1609\n",
       "1204      0.5593  0.0185    0.5408    2923.3954\n",
       "1104      0.4576  0.0144    0.4432    3080.5715\n",
       "1225      0.5709  0.0164    0.5545    3372.0672\n",
       "1229      0.7035  0.0195    0.6840    3502.6949\n",
       "\n",
       "[1354 rows x 4 columns]"
      ]
     },
     "execution_count": 238,
     "metadata": {},
     "output_type": "execute_result"
    }
   ],
   "source": [
    "pd.options.display.max_rows = 999\n",
    "pd.set_option('display.float_format', lambda x: '%.4f' % x)\n",
    "perf.sort_values(by = ['difference%'])"
   ]
  },
  {
   "cell_type": "markdown",
   "metadata": {},
   "source": [
    "# *** Prediction Accuracy"
   ]
  },
  {
   "cell_type": "code",
   "execution_count": 239,
   "metadata": {},
   "outputs": [
    {
     "name": "stdout",
     "output_type": "stream",
     "text": [
      "R2 (testing) = 0.4517931482544849\n"
     ]
    }
   ],
   "source": [
    "r2_test = metrics.r2_score(y_test, y_test_pred)\n",
    "print('R2 (testing) = {}'.format(r2_test))\n",
    "\n",
    "# also: R-Squared could obtain with\n",
    "# pline.score(x_test, y_test)"
   ]
  },
  {
   "cell_type": "code",
   "execution_count": 240,
   "metadata": {},
   "outputs": [
    {
     "name": "stdout",
     "output_type": "stream",
     "text": [
      "0.265916123987842\n"
     ]
    }
   ],
   "source": [
    "print(np.sqrt(mean_squared_error(y_test,y_test_pred)))"
   ]
  }
 ],
 "metadata": {
  "kernelspec": {
   "display_name": "Python 3",
   "language": "python",
   "name": "python3"
  },
  "language_info": {
   "codemirror_mode": {
    "name": "ipython",
    "version": 3
   },
   "file_extension": ".py",
   "mimetype": "text/x-python",
   "name": "python",
   "nbconvert_exporter": "python",
   "pygments_lexer": "ipython3",
   "version": "3.7.7"
  }
 },
 "nbformat": 4,
 "nbformat_minor": 4
}
