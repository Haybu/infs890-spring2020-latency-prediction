{
 "cells": [
  {
   "cell_type": "markdown",
   "metadata": {},
   "source": [
    "# Factor Component Analysis\n",
    "\n",
    "Haytham Mohamed - INFS890 - Spring 2020\n",
    "\n",
    "Features reduction using FCA for order data. Using factor_analyzer.factor_analyzer module"
   ]
  },
  {
   "cell_type": "code",
   "execution_count": 256,
   "metadata": {},
   "outputs": [],
   "source": [
    "import numpy as np\n",
    "import pandas as pd\n",
    "import matplotlib.pyplot as plt\n",
    "from sklearn.linear_model import LinearRegression\n",
    "import seaborn as sns\n",
    "from sklearn import preprocessing\n",
    "from datetime import datetime\n",
    "from scipy import stats\n",
    "from sklearn.decomposition import PCA\n",
    "\n",
    "sns.set()\n",
    "sns.set(color_codes=True)\n",
    "#sns.set_color_codes()\n",
    "\n",
    "pd.options.display.max_rows = 15\n",
    "pd.options.display.float_format = '{:,.3f}'.format"
   ]
  },
  {
   "cell_type": "code",
   "execution_count": 280,
   "metadata": {},
   "outputs": [],
   "source": [
    "# 1- read processed file\n",
    "\n",
    "home_dir = '/Users/hmohamed/github/data-research-spring2020/sock-shop'\n",
    "\n",
    "file_dir = home_dir + '/processed-data/'\n",
    "data_file = 'order_flow_standardized_data.csv'\n",
    "\n",
    "save=True\n"
   ]
  },
  {
   "cell_type": "code",
   "execution_count": 260,
   "metadata": {},
   "outputs": [],
   "source": [
    "def read_df(file_dir, data_file):\n",
    "    df = pd.read_csv(file_dir + data_file)\n",
    "    return to_time_series(df)\n",
    "\n",
    "def to_time_series(df, index_col_name='date'):\n",
    "    df[index_col_name] = pd.to_datetime(df[index_col_name])\n",
    "    df.set_index(index_col_name, inplace=True)\n",
    "    df.sort_index(inplace=True)\n",
    "    return df\n",
    "\n",
    "def merge(df, series):\n",
    "    return pd.merge_asof(df, series, left_index=True, right_index=True, tolerance=pd.Timedelta('1 second')).bfill()    "
   ]
  },
  {
   "cell_type": "code",
   "execution_count": 261,
   "metadata": {},
   "outputs": [
    {
     "data": {
      "text/html": [
       "<div>\n",
       "<style scoped>\n",
       "    .dataframe tbody tr th:only-of-type {\n",
       "        vertical-align: middle;\n",
       "    }\n",
       "\n",
       "    .dataframe tbody tr th {\n",
       "        vertical-align: top;\n",
       "    }\n",
       "\n",
       "    .dataframe thead th {\n",
       "        text-align: right;\n",
       "    }\n",
       "</style>\n",
       "<table border=\"1\" class=\"dataframe\">\n",
       "  <thead>\n",
       "    <tr style=\"text-align: right;\">\n",
       "      <th></th>\n",
       "      <th>front-end_cpu_use</th>\n",
       "      <th>orders_cpu_use</th>\n",
       "      <th>user_cpu_use</th>\n",
       "      <th>user-db_cpu_use</th>\n",
       "      <th>shipping_cpu_use</th>\n",
       "      <th>payment_cpu_use</th>\n",
       "      <th>carts_cpu_use</th>\n",
       "      <th>carts-db_cpu_use</th>\n",
       "      <th>nodes_cpu_use</th>\n",
       "      <th>orders_ltcy</th>\n",
       "    </tr>\n",
       "    <tr>\n",
       "      <th>date</th>\n",
       "      <th></th>\n",
       "      <th></th>\n",
       "      <th></th>\n",
       "      <th></th>\n",
       "      <th></th>\n",
       "      <th></th>\n",
       "      <th></th>\n",
       "      <th></th>\n",
       "      <th></th>\n",
       "      <th></th>\n",
       "    </tr>\n",
       "  </thead>\n",
       "  <tbody>\n",
       "    <tr>\n",
       "      <th>2020-03-27 00:00:22</th>\n",
       "      <td>-1.288</td>\n",
       "      <td>-0.327</td>\n",
       "      <td>-1.292</td>\n",
       "      <td>-1.179</td>\n",
       "      <td>14.710</td>\n",
       "      <td>-1.452</td>\n",
       "      <td>0.013</td>\n",
       "      <td>-0.908</td>\n",
       "      <td>-1.070</td>\n",
       "      <td>0.240</td>\n",
       "    </tr>\n",
       "    <tr>\n",
       "      <th>2020-03-27 00:00:37</th>\n",
       "      <td>-1.273</td>\n",
       "      <td>-0.254</td>\n",
       "      <td>-1.292</td>\n",
       "      <td>-1.298</td>\n",
       "      <td>14.710</td>\n",
       "      <td>-1.452</td>\n",
       "      <td>0.029</td>\n",
       "      <td>-0.908</td>\n",
       "      <td>-1.047</td>\n",
       "      <td>0.240</td>\n",
       "    </tr>\n",
       "    <tr>\n",
       "      <th>2020-03-27 00:00:52</th>\n",
       "      <td>-1.242</td>\n",
       "      <td>-0.984</td>\n",
       "      <td>-1.221</td>\n",
       "      <td>-1.179</td>\n",
       "      <td>12.090</td>\n",
       "      <td>-1.452</td>\n",
       "      <td>0.127</td>\n",
       "      <td>-0.873</td>\n",
       "      <td>-1.116</td>\n",
       "      <td>0.240</td>\n",
       "    </tr>\n",
       "    <tr>\n",
       "      <th>2020-03-27 00:01:07</th>\n",
       "      <td>-1.166</td>\n",
       "      <td>-0.911</td>\n",
       "      <td>-1.221</td>\n",
       "      <td>-1.179</td>\n",
       "      <td>6.558</td>\n",
       "      <td>-1.452</td>\n",
       "      <td>0.111</td>\n",
       "      <td>-0.814</td>\n",
       "      <td>-1.093</td>\n",
       "      <td>0.240</td>\n",
       "    </tr>\n",
       "    <tr>\n",
       "      <th>2020-03-27 00:01:22</th>\n",
       "      <td>-1.151</td>\n",
       "      <td>-0.254</td>\n",
       "      <td>-1.150</td>\n",
       "      <td>-1.179</td>\n",
       "      <td>1.027</td>\n",
       "      <td>-1.452</td>\n",
       "      <td>-0.068</td>\n",
       "      <td>-0.804</td>\n",
       "      <td>-1.175</td>\n",
       "      <td>0.240</td>\n",
       "    </tr>\n",
       "  </tbody>\n",
       "</table>\n",
       "</div>"
      ],
      "text/plain": [
       "                     front-end_cpu_use  orders_cpu_use  user_cpu_use  \\\n",
       "date                                                                   \n",
       "2020-03-27 00:00:22             -1.288          -0.327        -1.292   \n",
       "2020-03-27 00:00:37             -1.273          -0.254        -1.292   \n",
       "2020-03-27 00:00:52             -1.242          -0.984        -1.221   \n",
       "2020-03-27 00:01:07             -1.166          -0.911        -1.221   \n",
       "2020-03-27 00:01:22             -1.151          -0.254        -1.150   \n",
       "\n",
       "                     user-db_cpu_use  shipping_cpu_use  payment_cpu_use  \\\n",
       "date                                                                      \n",
       "2020-03-27 00:00:22           -1.179            14.710           -1.452   \n",
       "2020-03-27 00:00:37           -1.298            14.710           -1.452   \n",
       "2020-03-27 00:00:52           -1.179            12.090           -1.452   \n",
       "2020-03-27 00:01:07           -1.179             6.558           -1.452   \n",
       "2020-03-27 00:01:22           -1.179             1.027           -1.452   \n",
       "\n",
       "                     carts_cpu_use  carts-db_cpu_use  nodes_cpu_use  \\\n",
       "date                                                                  \n",
       "2020-03-27 00:00:22          0.013            -0.908         -1.070   \n",
       "2020-03-27 00:00:37          0.029            -0.908         -1.047   \n",
       "2020-03-27 00:00:52          0.127            -0.873         -1.116   \n",
       "2020-03-27 00:01:07          0.111            -0.814         -1.093   \n",
       "2020-03-27 00:01:22         -0.068            -0.804         -1.175   \n",
       "\n",
       "                     orders_ltcy  \n",
       "date                              \n",
       "2020-03-27 00:00:22        0.240  \n",
       "2020-03-27 00:00:37        0.240  \n",
       "2020-03-27 00:00:52        0.240  \n",
       "2020-03-27 00:01:07        0.240  \n",
       "2020-03-27 00:01:22        0.240  "
      ]
     },
     "execution_count": 261,
     "metadata": {},
     "output_type": "execute_result"
    }
   ],
   "source": [
    "normalized_data = read_df(file_dir, data_file)\n",
    "normalized_data.head(5) "
   ]
  },
  {
   "cell_type": "code",
   "execution_count": 262,
   "metadata": {},
   "outputs": [
    {
     "data": {
      "text/plain": [
       "(5711, 10)"
      ]
     },
     "execution_count": 262,
     "metadata": {},
     "output_type": "execute_result"
    }
   ],
   "source": [
    "normalized_data.shape"
   ]
  },
  {
   "cell_type": "code",
   "execution_count": 263,
   "metadata": {},
   "outputs": [
    {
     "data": {
      "text/plain": [
       "(5711, 9)"
      ]
     },
     "execution_count": 263,
     "metadata": {},
     "output_type": "execute_result"
    }
   ],
   "source": [
    "targets = normalized_data['orders_ltcy']\n",
    "standardized_inputs = normalized_data.drop(['orders_ltcy'], axis=1)\n",
    "cols = standardized_inputs.columns.values\n",
    "\n",
    "standardized_inputs.shape\n"
   ]
  },
  {
   "cell_type": "markdown",
   "metadata": {},
   "source": [
    "# Multicollinearity"
   ]
  },
  {
   "cell_type": "markdown",
   "metadata": {},
   "source": [
    "Use Variance Inflation Factor (VIF) from the statmodels. VIF measures how big is the square root of the standard error is compared to the case there is no multicollinearity between the variables. \n",
    "Conventionally:\n",
    "\n",
    "$VIF = 1$ means no multicollinearity\n",
    "\n",
    "$1< VIF < 5$ perfectly okay\n",
    "\n",
    "$10 < VIF$ unacceptable range (some times < 6 or 8)"
   ]
  },
  {
   "cell_type": "code",
   "execution_count": 264,
   "metadata": {},
   "outputs": [
    {
     "data": {
      "text/html": [
       "<div>\n",
       "<style scoped>\n",
       "    .dataframe tbody tr th:only-of-type {\n",
       "        vertical-align: middle;\n",
       "    }\n",
       "\n",
       "    .dataframe tbody tr th {\n",
       "        vertical-align: top;\n",
       "    }\n",
       "\n",
       "    .dataframe thead th {\n",
       "        text-align: right;\n",
       "    }\n",
       "</style>\n",
       "<table border=\"1\" class=\"dataframe\">\n",
       "  <thead>\n",
       "    <tr style=\"text-align: right;\">\n",
       "      <th></th>\n",
       "      <th>features</th>\n",
       "      <th>VIF</th>\n",
       "    </tr>\n",
       "  </thead>\n",
       "  <tbody>\n",
       "    <tr>\n",
       "      <th>0</th>\n",
       "      <td>orders_cpu_use</td>\n",
       "      <td>4.715</td>\n",
       "    </tr>\n",
       "    <tr>\n",
       "      <th>1</th>\n",
       "      <td>shipping_cpu_use</td>\n",
       "      <td>1.397</td>\n",
       "    </tr>\n",
       "    <tr>\n",
       "      <th>2</th>\n",
       "      <td>payment_cpu_use</td>\n",
       "      <td>1.208</td>\n",
       "    </tr>\n",
       "    <tr>\n",
       "      <th>3</th>\n",
       "      <td>carts_cpu_use</td>\n",
       "      <td>3.256</td>\n",
       "    </tr>\n",
       "    <tr>\n",
       "      <th>4</th>\n",
       "      <td>carts-db_cpu_use</td>\n",
       "      <td>4.469</td>\n",
       "    </tr>\n",
       "    <tr>\n",
       "      <th>5</th>\n",
       "      <td>nodes_cpu_use</td>\n",
       "      <td>9.051</td>\n",
       "    </tr>\n",
       "  </tbody>\n",
       "</table>\n",
       "</div>"
      ],
      "text/plain": [
       "           features   VIF\n",
       "0    orders_cpu_use 4.715\n",
       "1  shipping_cpu_use 1.397\n",
       "2   payment_cpu_use 1.208\n",
       "3     carts_cpu_use 3.256\n",
       "4  carts-db_cpu_use 4.469\n",
       "5     nodes_cpu_use 9.051"
      ]
     },
     "execution_count": 264,
     "metadata": {},
     "output_type": "execute_result"
    }
   ],
   "source": [
    "from statsmodels.stats.outliers_influence import variance_inflation_factor\n",
    "\n",
    "standardized_inputs = pd.DataFrame(standardized_inputs, columns=cols)\n",
    "vif_inputs = standardized_inputs\n",
    "\n",
    "vif_inputs = vif_inputs.drop('user_cpu_use', 1)\n",
    "vif_inputs = vif_inputs.drop('front-end_cpu_use', 1)\n",
    "vif_inputs = vif_inputs.drop('user-db_cpu_use', 1)\n",
    "\n",
    "\n",
    "vif = pd.DataFrame()\n",
    "vif['features'] = [col for col in vif_inputs.columns.values]\n",
    "vif['VIF'] = [variance_inflation_factor(vif_inputs.values,i) for i in range(vif_inputs.shape[1])]\n",
    "vif"
   ]
  },
  {
   "cell_type": "code",
   "execution_count": 265,
   "metadata": {},
   "outputs": [],
   "source": [
    "standardized_inputs = standardized_inputs.drop('user_cpu_use', 1)\n",
    "standardized_inputs = standardized_inputs.drop('front-end_cpu_use', 1)\n",
    "standardized_inputs = standardized_inputs.drop('user-db_cpu_use', 1)"
   ]
  },
  {
   "cell_type": "markdown",
   "metadata": {},
   "source": [
    "vif values are OK. Consider using PCA or apply feature selection method to reduce dimentionality when using a ML model.\n",
    "\n",
    "# Correlation Matrix"
   ]
  },
  {
   "cell_type": "code",
   "execution_count": 266,
   "metadata": {},
   "outputs": [
    {
     "data": {
      "text/html": [
       "<style  type=\"text/css\" >\n",
       "    #T_00726aec_7179_11ea_9ece_dca9048b6fd0row0_col0 {\n",
       "            background-color:  #b40426;\n",
       "            color:  #f1f1f1;\n",
       "        }    #T_00726aec_7179_11ea_9ece_dca9048b6fd0row0_col1 {\n",
       "            background-color:  #a1c0ff;\n",
       "            color:  #000000;\n",
       "        }    #T_00726aec_7179_11ea_9ece_dca9048b6fd0row0_col2 {\n",
       "            background-color:  #3f53c6;\n",
       "            color:  #f1f1f1;\n",
       "        }    #T_00726aec_7179_11ea_9ece_dca9048b6fd0row0_col3 {\n",
       "            background-color:  #f7a688;\n",
       "            color:  #000000;\n",
       "        }    #T_00726aec_7179_11ea_9ece_dca9048b6fd0row0_col4 {\n",
       "            background-color:  #c0d4f5;\n",
       "            color:  #000000;\n",
       "        }    #T_00726aec_7179_11ea_9ece_dca9048b6fd0row0_col5 {\n",
       "            background-color:  #f29274;\n",
       "            color:  #000000;\n",
       "        }    #T_00726aec_7179_11ea_9ece_dca9048b6fd0row1_col0 {\n",
       "            background-color:  #9abbff;\n",
       "            color:  #000000;\n",
       "        }    #T_00726aec_7179_11ea_9ece_dca9048b6fd0row1_col1 {\n",
       "            background-color:  #b40426;\n",
       "            color:  #f1f1f1;\n",
       "        }    #T_00726aec_7179_11ea_9ece_dca9048b6fd0row1_col2 {\n",
       "            background-color:  #90b2fe;\n",
       "            color:  #000000;\n",
       "        }    #T_00726aec_7179_11ea_9ece_dca9048b6fd0row1_col3 {\n",
       "            background-color:  #3b4cc0;\n",
       "            color:  #f1f1f1;\n",
       "        }    #T_00726aec_7179_11ea_9ece_dca9048b6fd0row1_col4 {\n",
       "            background-color:  #7ea1fa;\n",
       "            color:  #000000;\n",
       "        }    #T_00726aec_7179_11ea_9ece_dca9048b6fd0row1_col5 {\n",
       "            background-color:  #3b4cc0;\n",
       "            color:  #f1f1f1;\n",
       "        }    #T_00726aec_7179_11ea_9ece_dca9048b6fd0row2_col0 {\n",
       "            background-color:  #3b4cc0;\n",
       "            color:  #f1f1f1;\n",
       "        }    #T_00726aec_7179_11ea_9ece_dca9048b6fd0row2_col1 {\n",
       "            background-color:  #93b5fe;\n",
       "            color:  #000000;\n",
       "        }    #T_00726aec_7179_11ea_9ece_dca9048b6fd0row2_col2 {\n",
       "            background-color:  #b40426;\n",
       "            color:  #f1f1f1;\n",
       "        }    #T_00726aec_7179_11ea_9ece_dca9048b6fd0row2_col3 {\n",
       "            background-color:  #3d50c3;\n",
       "            color:  #f1f1f1;\n",
       "        }    #T_00726aec_7179_11ea_9ece_dca9048b6fd0row2_col4 {\n",
       "            background-color:  #7a9df8;\n",
       "            color:  #000000;\n",
       "        }    #T_00726aec_7179_11ea_9ece_dca9048b6fd0row2_col5 {\n",
       "            background-color:  #4055c8;\n",
       "            color:  #f1f1f1;\n",
       "        }    #T_00726aec_7179_11ea_9ece_dca9048b6fd0row3_col0 {\n",
       "            background-color:  #f7a98b;\n",
       "            color:  #000000;\n",
       "        }    #T_00726aec_7179_11ea_9ece_dca9048b6fd0row3_col1 {\n",
       "            background-color:  #3b4cc0;\n",
       "            color:  #f1f1f1;\n",
       "        }    #T_00726aec_7179_11ea_9ece_dca9048b6fd0row3_col2 {\n",
       "            background-color:  #3b4cc0;\n",
       "            color:  #f1f1f1;\n",
       "        }    #T_00726aec_7179_11ea_9ece_dca9048b6fd0row3_col3 {\n",
       "            background-color:  #b40426;\n",
       "            color:  #f1f1f1;\n",
       "        }    #T_00726aec_7179_11ea_9ece_dca9048b6fd0row3_col4 {\n",
       "            background-color:  #3b4cc0;\n",
       "            color:  #f1f1f1;\n",
       "        }    #T_00726aec_7179_11ea_9ece_dca9048b6fd0row3_col5 {\n",
       "            background-color:  #e2dad5;\n",
       "            color:  #000000;\n",
       "        }    #T_00726aec_7179_11ea_9ece_dca9048b6fd0row4_col0 {\n",
       "            background-color:  #d3dbe7;\n",
       "            color:  #000000;\n",
       "        }    #T_00726aec_7179_11ea_9ece_dca9048b6fd0row4_col1 {\n",
       "            background-color:  #a2c1ff;\n",
       "            color:  #000000;\n",
       "        }    #T_00726aec_7179_11ea_9ece_dca9048b6fd0row4_col2 {\n",
       "            background-color:  #9dbdff;\n",
       "            color:  #000000;\n",
       "        }    #T_00726aec_7179_11ea_9ece_dca9048b6fd0row4_col3 {\n",
       "            background-color:  #6384eb;\n",
       "            color:  #000000;\n",
       "        }    #T_00726aec_7179_11ea_9ece_dca9048b6fd0row4_col4 {\n",
       "            background-color:  #b40426;\n",
       "            color:  #f1f1f1;\n",
       "        }    #T_00726aec_7179_11ea_9ece_dca9048b6fd0row4_col5 {\n",
       "            background-color:  #f7aa8c;\n",
       "            color:  #000000;\n",
       "        }    #T_00726aec_7179_11ea_9ece_dca9048b6fd0row5_col0 {\n",
       "            background-color:  #ec8165;\n",
       "            color:  #000000;\n",
       "        }    #T_00726aec_7179_11ea_9ece_dca9048b6fd0row5_col1 {\n",
       "            background-color:  #799cf8;\n",
       "            color:  #000000;\n",
       "        }    #T_00726aec_7179_11ea_9ece_dca9048b6fd0row5_col2 {\n",
       "            background-color:  #7da0f9;\n",
       "            color:  #000000;\n",
       "        }    #T_00726aec_7179_11ea_9ece_dca9048b6fd0row5_col3 {\n",
       "            background-color:  #f3c7b1;\n",
       "            color:  #000000;\n",
       "        }    #T_00726aec_7179_11ea_9ece_dca9048b6fd0row5_col4 {\n",
       "            background-color:  #f6a385;\n",
       "            color:  #000000;\n",
       "        }    #T_00726aec_7179_11ea_9ece_dca9048b6fd0row5_col5 {\n",
       "            background-color:  #b40426;\n",
       "            color:  #f1f1f1;\n",
       "        }</style><table id=\"T_00726aec_7179_11ea_9ece_dca9048b6fd0\" ><thead>    <tr>        <th class=\"blank level0\" ></th>        <th class=\"col_heading level0 col0\" >orders_cpu_use</th>        <th class=\"col_heading level0 col1\" >shipping_cpu_use</th>        <th class=\"col_heading level0 col2\" >payment_cpu_use</th>        <th class=\"col_heading level0 col3\" >carts_cpu_use</th>        <th class=\"col_heading level0 col4\" >carts-db_cpu_use</th>        <th class=\"col_heading level0 col5\" >nodes_cpu_use</th>    </tr></thead><tbody>\n",
       "                <tr>\n",
       "                        <th id=\"T_00726aec_7179_11ea_9ece_dca9048b6fd0level0_row0\" class=\"row_heading level0 row0\" >orders_cpu_use</th>\n",
       "                        <td id=\"T_00726aec_7179_11ea_9ece_dca9048b6fd0row0_col0\" class=\"data row0 col0\" >1.000</td>\n",
       "                        <td id=\"T_00726aec_7179_11ea_9ece_dca9048b6fd0row0_col1\" class=\"data row0 col1\" >0.248</td>\n",
       "                        <td id=\"T_00726aec_7179_11ea_9ece_dca9048b6fd0row0_col2\" class=\"data row0 col2\" >-0.053</td>\n",
       "                        <td id=\"T_00726aec_7179_11ea_9ece_dca9048b6fd0row0_col3\" class=\"data row0 col3\" >0.693</td>\n",
       "                        <td id=\"T_00726aec_7179_11ea_9ece_dca9048b6fd0row0_col4\" class=\"data row0 col4\" >0.434</td>\n",
       "                        <td id=\"T_00726aec_7179_11ea_9ece_dca9048b6fd0row0_col5\" class=\"data row0 col5\" >0.798</td>\n",
       "            </tr>\n",
       "            <tr>\n",
       "                        <th id=\"T_00726aec_7179_11ea_9ece_dca9048b6fd0level0_row1\" class=\"row_heading level0 row1\" >shipping_cpu_use</th>\n",
       "                        <td id=\"T_00726aec_7179_11ea_9ece_dca9048b6fd0row1_col0\" class=\"data row1 col0\" >0.248</td>\n",
       "                        <td id=\"T_00726aec_7179_11ea_9ece_dca9048b6fd0row1_col1\" class=\"data row1 col1\" >1.000</td>\n",
       "                        <td id=\"T_00726aec_7179_11ea_9ece_dca9048b6fd0row1_col2\" class=\"data row1 col2\" >0.207</td>\n",
       "                        <td id=\"T_00726aec_7179_11ea_9ece_dca9048b6fd0row1_col3\" class=\"data row1 col3\" >-0.082</td>\n",
       "                        <td id=\"T_00726aec_7179_11ea_9ece_dca9048b6fd0row1_col4\" class=\"data row1 col4\" >0.256</td>\n",
       "                        <td id=\"T_00726aec_7179_11ea_9ece_dca9048b6fd0row1_col5\" class=\"data row1 col5\" >0.127</td>\n",
       "            </tr>\n",
       "            <tr>\n",
       "                        <th id=\"T_00726aec_7179_11ea_9ece_dca9048b6fd0level0_row2\" class=\"row_heading level0 row2\" >payment_cpu_use</th>\n",
       "                        <td id=\"T_00726aec_7179_11ea_9ece_dca9048b6fd0row2_col0\" class=\"data row2 col0\" >-0.053</td>\n",
       "                        <td id=\"T_00726aec_7179_11ea_9ece_dca9048b6fd0row2_col1\" class=\"data row2 col1\" >0.207</td>\n",
       "                        <td id=\"T_00726aec_7179_11ea_9ece_dca9048b6fd0row2_col2\" class=\"data row2 col2\" >1.000</td>\n",
       "                        <td id=\"T_00726aec_7179_11ea_9ece_dca9048b6fd0row2_col3\" class=\"data row2 col3\" >-0.073</td>\n",
       "                        <td id=\"T_00726aec_7179_11ea_9ece_dca9048b6fd0row2_col4\" class=\"data row2 col4\" >0.243</td>\n",
       "                        <td id=\"T_00726aec_7179_11ea_9ece_dca9048b6fd0row2_col5\" class=\"data row2 col5\" >0.146</td>\n",
       "            </tr>\n",
       "            <tr>\n",
       "                        <th id=\"T_00726aec_7179_11ea_9ece_dca9048b6fd0level0_row3\" class=\"row_heading level0 row3\" >carts_cpu_use</th>\n",
       "                        <td id=\"T_00726aec_7179_11ea_9ece_dca9048b6fd0row3_col0\" class=\"data row3 col0\" >0.693</td>\n",
       "                        <td id=\"T_00726aec_7179_11ea_9ece_dca9048b6fd0row3_col1\" class=\"data row3 col1\" >-0.082</td>\n",
       "                        <td id=\"T_00726aec_7179_11ea_9ece_dca9048b6fd0row3_col2\" class=\"data row3 col2\" >-0.073</td>\n",
       "                        <td id=\"T_00726aec_7179_11ea_9ece_dca9048b6fd0row3_col3\" class=\"data row3 col3\" >1.000</td>\n",
       "                        <td id=\"T_00726aec_7179_11ea_9ece_dca9048b6fd0row3_col4\" class=\"data row3 col4\" >0.057</td>\n",
       "                        <td id=\"T_00726aec_7179_11ea_9ece_dca9048b6fd0row3_col5\" class=\"data row3 col5\" >0.583</td>\n",
       "            </tr>\n",
       "            <tr>\n",
       "                        <th id=\"T_00726aec_7179_11ea_9ece_dca9048b6fd0level0_row4\" class=\"row_heading level0 row4\" >carts-db_cpu_use</th>\n",
       "                        <td id=\"T_00726aec_7179_11ea_9ece_dca9048b6fd0row4_col0\" class=\"data row4 col0\" >0.434</td>\n",
       "                        <td id=\"T_00726aec_7179_11ea_9ece_dca9048b6fd0row4_col1\" class=\"data row4 col1\" >0.256</td>\n",
       "                        <td id=\"T_00726aec_7179_11ea_9ece_dca9048b6fd0row4_col2\" class=\"data row4 col2\" >0.243</td>\n",
       "                        <td id=\"T_00726aec_7179_11ea_9ece_dca9048b6fd0row4_col3\" class=\"data row4 col3\" >0.057</td>\n",
       "                        <td id=\"T_00726aec_7179_11ea_9ece_dca9048b6fd0row4_col4\" class=\"data row4 col4\" >1.000</td>\n",
       "                        <td id=\"T_00726aec_7179_11ea_9ece_dca9048b6fd0row4_col5\" class=\"data row4 col5\" >0.741</td>\n",
       "            </tr>\n",
       "            <tr>\n",
       "                        <th id=\"T_00726aec_7179_11ea_9ece_dca9048b6fd0level0_row5\" class=\"row_heading level0 row5\" >nodes_cpu_use</th>\n",
       "                        <td id=\"T_00726aec_7179_11ea_9ece_dca9048b6fd0row5_col0\" class=\"data row5 col0\" >0.798</td>\n",
       "                        <td id=\"T_00726aec_7179_11ea_9ece_dca9048b6fd0row5_col1\" class=\"data row5 col1\" >0.127</td>\n",
       "                        <td id=\"T_00726aec_7179_11ea_9ece_dca9048b6fd0row5_col2\" class=\"data row5 col2\" >0.146</td>\n",
       "                        <td id=\"T_00726aec_7179_11ea_9ece_dca9048b6fd0row5_col3\" class=\"data row5 col3\" >0.583</td>\n",
       "                        <td id=\"T_00726aec_7179_11ea_9ece_dca9048b6fd0row5_col4\" class=\"data row5 col4\" >0.741</td>\n",
       "                        <td id=\"T_00726aec_7179_11ea_9ece_dca9048b6fd0row5_col5\" class=\"data row5 col5\" >1.000</td>\n",
       "            </tr>\n",
       "    </tbody></table>"
      ],
      "text/plain": [
       "<pandas.io.formats.style.Styler at 0x1a2367fc50>"
      ]
     },
     "execution_count": 266,
     "metadata": {},
     "output_type": "execute_result"
    }
   ],
   "source": [
    "corr = standardized_inputs.corr()\n",
    "corr.style.background_gradient(cmap='coolwarm').set_precision(3)"
   ]
  },
  {
   "cell_type": "code",
   "execution_count": 267,
   "metadata": {},
   "outputs": [],
   "source": [
    "def plot_corr(df,size=10):\n",
    "    '''Function plots a graphical correlation matrix for each pair of columns in the dataframe.\n",
    "\n",
    "    Input:\n",
    "        df: pandas DataFrame\n",
    "        size: vertical and horizontal size of the plot'''\n",
    "\n",
    "    corr = df.corr()\n",
    "    fig, ax = plt.subplots(figsize=(size, size))\n",
    "    ax.matshow(corr)\n",
    "    plt.xticks(range(len(corr.columns)), corr.columns);\n",
    "    plt.yticks(range(len(corr.columns)), corr.columns);\n",
    "    \n",
    "#plot_corr(standardized_inputs,20)    "
   ]
  },
  {
   "cell_type": "markdown",
   "metadata": {},
   "source": [
    "The function most_highly_correlated() will print out the linear correlation coefficients for each pair of variables in your data set, in order of the correlation coefficient. This lets you see very easily which pair of variables are most highly correlated."
   ]
  },
  {
   "cell_type": "code",
   "execution_count": 268,
   "metadata": {},
   "outputs": [
    {
     "data": {
      "text/html": [
       "<div>\n",
       "<style scoped>\n",
       "    .dataframe tbody tr th:only-of-type {\n",
       "        vertical-align: middle;\n",
       "    }\n",
       "\n",
       "    .dataframe tbody tr th {\n",
       "        vertical-align: top;\n",
       "    }\n",
       "\n",
       "    .dataframe thead th {\n",
       "        text-align: right;\n",
       "    }\n",
       "</style>\n",
       "<table border=\"1\" class=\"dataframe\">\n",
       "  <thead>\n",
       "    <tr style=\"text-align: right;\">\n",
       "      <th></th>\n",
       "      <th>FirstVariable</th>\n",
       "      <th>SecondVariable</th>\n",
       "      <th>Correlation</th>\n",
       "    </tr>\n",
       "  </thead>\n",
       "  <tbody>\n",
       "    <tr>\n",
       "      <th>0</th>\n",
       "      <td>orders_cpu_use</td>\n",
       "      <td>nodes_cpu_use</td>\n",
       "      <td>0.798</td>\n",
       "    </tr>\n",
       "    <tr>\n",
       "      <th>1</th>\n",
       "      <td>carts-db_cpu_use</td>\n",
       "      <td>nodes_cpu_use</td>\n",
       "      <td>0.741</td>\n",
       "    </tr>\n",
       "    <tr>\n",
       "      <th>2</th>\n",
       "      <td>orders_cpu_use</td>\n",
       "      <td>carts_cpu_use</td>\n",
       "      <td>0.693</td>\n",
       "    </tr>\n",
       "    <tr>\n",
       "      <th>3</th>\n",
       "      <td>carts_cpu_use</td>\n",
       "      <td>nodes_cpu_use</td>\n",
       "      <td>0.583</td>\n",
       "    </tr>\n",
       "  </tbody>\n",
       "</table>\n",
       "</div>"
      ],
      "text/plain": [
       "      FirstVariable SecondVariable  Correlation\n",
       "0    orders_cpu_use  nodes_cpu_use        0.798\n",
       "1  carts-db_cpu_use  nodes_cpu_use        0.741\n",
       "2    orders_cpu_use  carts_cpu_use        0.693\n",
       "3     carts_cpu_use  nodes_cpu_use        0.583"
      ]
     },
     "execution_count": 268,
     "metadata": {},
     "output_type": "execute_result"
    }
   ],
   "source": [
    "def most_highly_correlated(mydataframe, numtoreport):\n",
    "    # find the correlations\n",
    "    cormatrix = mydataframe.corr()\n",
    "    # set the correlations on the diagonal or lower triangle to zero,\n",
    "    # so they will not be reported as the highest ones:\n",
    "    cormatrix *= np.tri(*cormatrix.values.shape, k=-1).T\n",
    "    # find the top n correlations\n",
    "    cormatrix = cormatrix.stack()\n",
    "    cormatrix = cormatrix.reindex(cormatrix.abs().sort_values(ascending=False).index).reset_index()\n",
    "    # assign human-friendly names\n",
    "    cormatrix.columns = [\"FirstVariable\", \"SecondVariable\", \"Correlation\"]\n",
    "    return cormatrix.head(numtoreport)\n",
    "\n",
    "mcdf = most_highly_correlated(standardized_inputs, 30)\n",
    "mcdf = mcdf[mcdf.Correlation > 0.5]\n",
    "\n",
    "mcdf"
   ]
  },
  {
   "cell_type": "markdown",
   "metadata": {},
   "source": [
    "# Component Factor Analysis\n",
    "\n",
    "### Adequacy Test"
   ]
  },
  {
   "cell_type": "markdown",
   "metadata": {},
   "source": [
    "Check adquacy of the correlation matrix for factor analysis. Checking both Bartlett's test if the correlation matrix is collectively significant to include factors, and checking the Measure of Adquacy Samplin (MSA), a.k.a Kaiser-Meyer-Olkin (KMO) to check the pattern"
   ]
  },
  {
   "cell_type": "code",
   "execution_count": 269,
   "metadata": {},
   "outputs": [
    {
     "data": {
      "text/plain": [
       "(20419.496426086884, 0.0)"
      ]
     },
     "execution_count": 269,
     "metadata": {},
     "output_type": "execute_result"
    }
   ],
   "source": [
    "from factor_analyzer.factor_analyzer import calculate_bartlett_sphericity\n",
    "\n",
    "# Bartlett ’s test\n",
    "chi_square_value,p_value=calculate_bartlett_sphericity(standardized_inputs)\n",
    "\n",
    "chi_square_value, p_value"
   ]
  },
  {
   "cell_type": "markdown",
   "metadata": {},
   "source": [
    "In this Bartlett’s test, the p-value is 0. The test was statistically significant, indicating that the observed correlation matrix is not an identity matrix."
   ]
  },
  {
   "cell_type": "code",
   "execution_count": 270,
   "metadata": {},
   "outputs": [
    {
     "data": {
      "text/plain": [
       "0.5343813804478706"
      ]
     },
     "execution_count": 270,
     "metadata": {},
     "output_type": "execute_result"
    }
   ],
   "source": [
    "from factor_analyzer.factor_analyzer import calculate_kmo\n",
    "\n",
    "kmo_all,kmo_model=calculate_kmo(standardized_inputs)\n",
    "\n",
    "kmo_model"
   ]
  },
  {
   "cell_type": "markdown",
   "metadata": {},
   "source": [
    "The overall KMO for our data is 0.785, which is excellent ( > 0.5). This value indicates that you can proceed with your planned factor analysis."
   ]
  },
  {
   "cell_type": "code",
   "execution_count": 271,
   "metadata": {},
   "outputs": [
    {
     "data": {
      "text/plain": [
       "array([0.65165046, 0.31361103, 0.39388326, 0.5556803 , 0.45594323,\n",
       "       0.55298906])"
      ]
     },
     "execution_count": 271,
     "metadata": {},
     "output_type": "execute_result"
    }
   ],
   "source": [
    "kmo_all"
   ]
  },
  {
   "cell_type": "markdown",
   "metadata": {},
   "source": [
    "Features KMO values are significant ( > 0.5). It would be ok to consider them all to analyze the factors."
   ]
  },
  {
   "cell_type": "markdown",
   "metadata": {},
   "source": [
    "### Number of Factors\n",
    "\n",
    "For choosing the number of factors, you can use the Kaiser criterion and scree plot. Both are based on eigenvalues."
   ]
  },
  {
   "cell_type": "code",
   "execution_count": 272,
   "metadata": {},
   "outputs": [
    {
     "data": {
      "text/plain": [
       "array([2.77088331, 1.41277236, 0.8430183 , 0.73815146, 0.16603278,\n",
       "       0.0691418 ])"
      ]
     },
     "execution_count": 272,
     "metadata": {},
     "output_type": "execute_result"
    }
   ],
   "source": [
    "# Create factor analysis object and perform factor analysis\n",
    "from factor_analyzer.factor_analyzer import FactorAnalyzer\n",
    "\n",
    "fa = FactorAnalyzer(n_factors=25, rotation=None)\n",
    "fa.fit(standardized_inputs)\n",
    "# Check Eigenvalues\n",
    "ev, v = fa.get_eigenvalues()\n",
    "ev"
   ]
  },
  {
   "cell_type": "markdown",
   "metadata": {},
   "source": [
    "Here, you can see only for 2 factors eigenvalues are greater than one. It means we need to choose only 2 factors (or unobserved variables). Also we can draw a scree plot to check how many components to consider. Number of factors will be for the one spotted with Eigenvalue >= 1"
   ]
  },
  {
   "cell_type": "code",
   "execution_count": 273,
   "metadata": {},
   "outputs": [
    {
     "data": {
      "image/png": "[encoded data removed]",
      "text/plain": [
       "<Figure size 432x288 with 1 Axes>"
      ]
     },
     "metadata": {},
     "output_type": "display_data"
    }
   ],
   "source": [
    "# Create scree plot using matplotlib\n",
    "plt.scatter(range(1,standardized_inputs.shape[1]+1),ev)\n",
    "plt.plot(range(1,standardized_inputs.shape[1]+1),ev)\n",
    "plt.title('Scree Plot')\n",
    "plt.xlabel('Factors')\n",
    "plt.ylabel('Eigenvalue')\n",
    "plt.grid()\n",
    "plt.show()"
   ]
  },
  {
   "cell_type": "markdown",
   "metadata": {},
   "source": [
    "### Component Factor Loadings\n",
    "\n",
    "Choosing 2 factors however segregate the features into three interpreted (logical) factors. Looking the loading below we see the features loaded as follows:\n",
    "\n",
    "Factor 1:  svc_cpu_use, svc_cpu_thr, svc_net_use, svc_disk_use, system_net_use, svc_req_size, svc_resp_size, svc_req_rate ==> a factor about svc_usage_tolerance\n",
    "\n",
    "Factor 2: system_cpu_use and system_cpu_sat, svc_pods ==> a factor about system_workload_tolerance\n",
    "\n",
    "The new components are just the two main dimensions of variation\n"
   ]
  },
  {
   "cell_type": "code",
   "execution_count": 274,
   "metadata": {},
   "outputs": [
    {
     "data": {
      "text/html": [
       "<div>\n",
       "<style scoped>\n",
       "    .dataframe tbody tr th:only-of-type {\n",
       "        vertical-align: middle;\n",
       "    }\n",
       "\n",
       "    .dataframe tbody tr th {\n",
       "        vertical-align: top;\n",
       "    }\n",
       "\n",
       "    .dataframe thead th {\n",
       "        text-align: right;\n",
       "    }\n",
       "</style>\n",
       "<table border=\"1\" class=\"dataframe\">\n",
       "  <thead>\n",
       "    <tr style=\"text-align: right;\">\n",
       "      <th></th>\n",
       "      <th>F1</th>\n",
       "      <th>F2</th>\n",
       "      <th>F3</th>\n",
       "      <th>F4</th>\n",
       "    </tr>\n",
       "  </thead>\n",
       "  <tbody>\n",
       "    <tr>\n",
       "      <th>orders_cpu_use</th>\n",
       "      <td>0.719</td>\n",
       "      <td>0.193</td>\n",
       "      <td>0.336</td>\n",
       "      <td>-0.235</td>\n",
       "    </tr>\n",
       "    <tr>\n",
       "      <th>shipping_cpu_use</th>\n",
       "      <td>-0.025</td>\n",
       "      <td>-0.048</td>\n",
       "      <td>0.685</td>\n",
       "      <td>0.091</td>\n",
       "    </tr>\n",
       "    <tr>\n",
       "      <th>payment_cpu_use</th>\n",
       "      <td>0.022</td>\n",
       "      <td>0.040</td>\n",
       "      <td>0.083</td>\n",
       "      <td>0.550</td>\n",
       "    </tr>\n",
       "    <tr>\n",
       "      <th>carts_cpu_use</th>\n",
       "      <td>1.010</td>\n",
       "      <td>-0.214</td>\n",
       "      <td>-0.135</td>\n",
       "      <td>0.109</td>\n",
       "    </tr>\n",
       "    <tr>\n",
       "      <th>carts-db_cpu_use</th>\n",
       "      <td>-0.213</td>\n",
       "      <td>1.009</td>\n",
       "      <td>-0.009</td>\n",
       "      <td>0.022</td>\n",
       "    </tr>\n",
       "    <tr>\n",
       "      <th>nodes_cpu_use</th>\n",
       "      <td>0.488</td>\n",
       "      <td>0.706</td>\n",
       "      <td>-0.146</td>\n",
       "      <td>0.094</td>\n",
       "    </tr>\n",
       "  </tbody>\n",
       "</table>\n",
       "</div>"
      ],
      "text/plain": [
       "                     F1     F2     F3     F4\n",
       "orders_cpu_use    0.719  0.193  0.336 -0.235\n",
       "shipping_cpu_use -0.025 -0.048  0.685  0.091\n",
       "payment_cpu_use   0.022  0.040  0.083  0.550\n",
       "carts_cpu_use     1.010 -0.214 -0.135  0.109\n",
       "carts-db_cpu_use -0.213  1.009 -0.009  0.022\n",
       "nodes_cpu_use     0.488  0.706 -0.146  0.094"
      ]
     },
     "execution_count": 274,
     "metadata": {},
     "output_type": "execute_result"
    }
   ],
   "source": [
    "number_of_factors = 4\n",
    "fa = FactorAnalyzer(n_factors=number_of_factors, rotation=\"promax\")  # promax rotation eliminate cross loadings\n",
    "fa.fit(standardized_inputs)\n",
    "\n",
    "factors_heading = []\n",
    "for i in range(number_of_factors):\n",
    "    factors_heading.append('F' + str(i+1))\n",
    "\n",
    "variables = standardized_inputs.columns.values\n",
    "loadings = pd.DataFrame(fa.loadings_, index=variables, columns=factors_heading)\n",
    "\n",
    "loadings"
   ]
  },
  {
   "cell_type": "markdown",
   "metadata": {},
   "source": [
    "Explained Variance"
   ]
  },
  {
   "cell_type": "code",
   "execution_count": 275,
   "metadata": {},
   "outputs": [
    {
     "data": {
      "text/html": [
       "<div>\n",
       "<style scoped>\n",
       "    .dataframe tbody tr th:only-of-type {\n",
       "        vertical-align: middle;\n",
       "    }\n",
       "\n",
       "    .dataframe tbody tr th {\n",
       "        vertical-align: top;\n",
       "    }\n",
       "\n",
       "    .dataframe thead th {\n",
       "        text-align: right;\n",
       "    }\n",
       "</style>\n",
       "<table border=\"1\" class=\"dataframe\">\n",
       "  <thead>\n",
       "    <tr style=\"text-align: right;\">\n",
       "      <th></th>\n",
       "      <th>F1</th>\n",
       "      <th>F2</th>\n",
       "      <th>F3</th>\n",
       "      <th>F4</th>\n",
       "    </tr>\n",
       "  </thead>\n",
       "  <tbody>\n",
       "    <tr>\n",
       "      <th>SS Loadings</th>\n",
       "      <td>1.822</td>\n",
       "      <td>1.604</td>\n",
       "      <td>0.629</td>\n",
       "      <td>0.386</td>\n",
       "    </tr>\n",
       "    <tr>\n",
       "      <th>Proportion Variance</th>\n",
       "      <td>0.304</td>\n",
       "      <td>0.267</td>\n",
       "      <td>0.105</td>\n",
       "      <td>0.064</td>\n",
       "    </tr>\n",
       "    <tr>\n",
       "      <th>Cumulative Variance</th>\n",
       "      <td>0.304</td>\n",
       "      <td>0.571</td>\n",
       "      <td>0.676</td>\n",
       "      <td>0.740</td>\n",
       "    </tr>\n",
       "  </tbody>\n",
       "</table>\n",
       "</div>"
      ],
      "text/plain": [
       "                       F1    F2    F3    F4\n",
       "SS Loadings         1.822 1.604 0.629 0.386\n",
       "Proportion Variance 0.304 0.267 0.105 0.064\n",
       "Cumulative Variance 0.304 0.571 0.676 0.740"
      ]
     },
     "execution_count": 275,
     "metadata": {},
     "output_type": "execute_result"
    }
   ],
   "source": [
    "indx = ['SS Loadings', 'Proportion Variance', 'Cumulative Variance']\n",
    "explained_var = pd.DataFrame(fa.get_factor_variance(), columns=factors_heading, index=indx)\n",
    "explained_var"
   ]
  },
  {
   "cell_type": "markdown",
   "metadata": {},
   "source": [
    "Total 55.3% cumulative Variance explained by the 2 factors"
   ]
  },
  {
   "cell_type": "markdown",
   "metadata": {},
   "source": [
    "### Factored Data\n",
    "\n",
    "To calculate the values of a principal component, we can define our own function to calculate a principal component given the loadings and the input variables’ values:"
   ]
  },
  {
   "cell_type": "code",
   "execution_count": 276,
   "metadata": {},
   "outputs": [],
   "source": [
    "def calcpc(variables, loadings):\n",
    "    # find the number of samples in the data set and the number of variables\n",
    "    numsamples, numvariables = variables.shape\n",
    "    # make a vector to store the component\n",
    "    pc = np.zeros(numsamples)\n",
    "    # calculate the value of the component for each sample\n",
    "    for i in range(numsamples):\n",
    "        valuei = 0\n",
    "        for j in range(numvariables):\n",
    "            valueij = variables.iloc[i, j]\n",
    "            loadingj = loadings[j]\n",
    "            valuei = valuei + (valueij * loadingj)\n",
    "        pc[i] = valuei\n",
    "    return pc"
   ]
  },
  {
   "cell_type": "code",
   "execution_count": 277,
   "metadata": {},
   "outputs": [
    {
     "data": {
      "text/plain": [
       "(5711, 5)"
      ]
     },
     "execution_count": 277,
     "metadata": {},
     "output_type": "execute_result"
    }
   ],
   "source": [
    "# Factor data of the 3 factors\n",
    "\n",
    "loadings_df = fa.loadings_.reshape(-1,number_of_factors)\n",
    "\n",
    "pc1_data = calcpc(pd.DataFrame(standardized_inputs), loadings_df[:,0])\n",
    "pc1_data = pd.DataFrame(pc1_data, columns=['svc_shopping_cpu_use']).round(3)\n",
    "\n",
    "pc2_data = calcpc(pd.DataFrame(standardized_inputs), loadings_df[:,1])\n",
    "pc2_data = pd.DataFrame(pc2_data,  columns=['system_inferance_cpu_use']).round(3)\n",
    "\n",
    "pc3_data = calcpc(pd.DataFrame(standardized_inputs), loadings_df[:,2])\n",
    "pc3_data = pd.DataFrame(pc3_data,  columns=['svc_shipping_cpu_use']).round(3)\n",
    "\n",
    "pc4_data = calcpc(pd.DataFrame(standardized_inputs), loadings_df[:,3])\n",
    "pc4_data = pd.DataFrame(pc4_data,  columns=['svc_payment_cpu_use']).round(3)\n",
    "\n",
    "targets = pd.DataFrame(targets.values, columns=['orders_ltcy'])\n",
    "\n",
    "factor_data = pd.concat([pc1_data, pc2_data, pc3_data, pc4_data, targets.round(3)], axis=1, sort=False)\n",
    "factor_data.shape\n"
   ]
  },
  {
   "cell_type": "code",
   "execution_count": 278,
   "metadata": {},
   "outputs": [
    {
     "data": {
      "text/html": [
       "<div>\n",
       "<style scoped>\n",
       "    .dataframe tbody tr th:only-of-type {\n",
       "        vertical-align: middle;\n",
       "    }\n",
       "\n",
       "    .dataframe tbody tr th {\n",
       "        vertical-align: top;\n",
       "    }\n",
       "\n",
       "    .dataframe thead th {\n",
       "        text-align: right;\n",
       "    }\n",
       "</style>\n",
       "<table border=\"1\" class=\"dataframe\">\n",
       "  <thead>\n",
       "    <tr style=\"text-align: right;\">\n",
       "      <th></th>\n",
       "      <th>svc_shopping_cpu_use</th>\n",
       "      <th>system_inferance_cpu_use</th>\n",
       "      <th>svc_shipping_cpu_use</th>\n",
       "      <th>svc_payment_cpu_use</th>\n",
       "      <th>orders_ltcy</th>\n",
       "    </tr>\n",
       "  </thead>\n",
       "  <tbody>\n",
       "    <tr>\n",
       "      <th>0</th>\n",
       "      <td>-0.949</td>\n",
       "      <td>-2.498</td>\n",
       "      <td>10.014</td>\n",
       "      <td>0.500</td>\n",
       "      <td>0.240</td>\n",
       "    </tr>\n",
       "    <tr>\n",
       "      <th>1</th>\n",
       "      <td>-0.868</td>\n",
       "      <td>-2.471</td>\n",
       "      <td>10.033</td>\n",
       "      <td>0.486</td>\n",
       "      <td>0.240</td>\n",
       "    </tr>\n",
       "    <tr>\n",
       "      <th>2</th>\n",
       "      <td>-1.271</td>\n",
       "      <td>-2.522</td>\n",
       "      <td>7.988</td>\n",
       "      <td>0.424</td>\n",
       "      <td>0.240</td>\n",
       "    </tr>\n",
       "    <tr>\n",
       "      <th>3</th>\n",
       "      <td>-1.098</td>\n",
       "      <td>-2.164</td>\n",
       "      <td>4.220</td>\n",
       "      <td>-0.095</td>\n",
       "      <td>0.240</td>\n",
       "    </tr>\n",
       "    <tr>\n",
       "      <th>4</th>\n",
       "      <td>-0.711</td>\n",
       "      <td>-1.783</td>\n",
       "      <td>0.686</td>\n",
       "      <td>-0.781</td>\n",
       "      <td>0.240</td>\n",
       "    </tr>\n",
       "  </tbody>\n",
       "</table>\n",
       "</div>"
      ],
      "text/plain": [
       "   svc_shopping_cpu_use  system_inferance_cpu_use  svc_shipping_cpu_use  \\\n",
       "0                -0.949                    -2.498                10.014   \n",
       "1                -0.868                    -2.471                10.033   \n",
       "2                -1.271                    -2.522                 7.988   \n",
       "3                -1.098                    -2.164                 4.220   \n",
       "4                -0.711                    -1.783                 0.686   \n",
       "\n",
       "   svc_payment_cpu_use  orders_ltcy  \n",
       "0                0.500        0.240  \n",
       "1                0.486        0.240  \n",
       "2                0.424        0.240  \n",
       "3               -0.095        0.240  \n",
       "4               -0.781        0.240  "
      ]
     },
     "execution_count": 278,
     "metadata": {},
     "output_type": "execute_result"
    }
   ],
   "source": [
    "factor_data.head()"
   ]
  },
  {
   "cell_type": "code",
   "execution_count": 281,
   "metadata": {},
   "outputs": [],
   "source": [
    "# Save Data to a file\n",
    "if save:\n",
    "    factor_data.to_csv(path_or_buf=file_dir + 'order_flow_factored_data.csv', index=False)"
   ]
  }
 ],
 "metadata": {
  "kernelspec": {
   "display_name": "Python 3",
   "language": "python",
   "name": "python3"
  },
  "language_info": {
   "codemirror_mode": {
    "name": "ipython",
    "version": 3
   },
   "file_extension": ".py",
   "mimetype": "text/x-python",
   "name": "python",
   "nbconvert_exporter": "python",
   "pygments_lexer": "ipython3",
   "version": "3.7.6"
  }
 },
 "nbformat": 4,
 "nbformat_minor": 4
}
