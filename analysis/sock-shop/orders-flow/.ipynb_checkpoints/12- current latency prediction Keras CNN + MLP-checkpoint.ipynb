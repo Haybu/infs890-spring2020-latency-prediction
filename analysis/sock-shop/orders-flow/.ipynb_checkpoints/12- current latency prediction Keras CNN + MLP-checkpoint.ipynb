{
 "cells": [
  {
   "cell_type": "code",
   "execution_count": 2203,
   "metadata": {},
   "outputs": [
    {
     "name": "stdout",
     "output_type": "stream",
     "text": [
      "1.15.0\n"
     ]
    }
   ],
   "source": [
    "import numpy as np\n",
    "import pandas as pd\n",
    "from sklearn import metrics\n",
    "from keras.models import Sequential\n",
    "from keras.optimizers import Adam, SGD\n",
    "from sklearn.model_selection import train_test_split\n",
    "from keras.layers import Dense\n",
    "from keras.wrappers.scikit_learn import KerasRegressor\n",
    "from sklearn.model_selection import cross_val_score\n",
    "from sklearn.model_selection import KFold\n",
    "from sklearn.preprocessing import StandardScaler, MinMaxScaler\n",
    "from sklearn.pipeline import Pipeline\n",
    "from keras.callbacks import EarlyStopping , ReduceLROnPlateau , ModelCheckpoint\n",
    "from keras.models import load_model\n",
    "from sklearn.feature_selection import SelectFromModel\n",
    "from sklearn.ensemble import RandomForestRegressor\n",
    "from sklearn.metrics import mean_squared_error\n",
    "\n",
    "import matplotlib.pyplot as plt\n",
    "import seaborn as sns\n",
    "\n",
    "sns.set()\n",
    "sns.set(color_codes=True)\n",
    "#sns.set_color_codes()\n",
    "\n",
    "pd.options.display.max_rows = 15\n",
    "pd.options.display.float_format = '{:,.2f}'.format\n",
    "\n",
    "import tensorflow as tf\n",
    "print(tf.__version__)"
   ]
  },
  {
   "cell_type": "code",
   "execution_count": 2204,
   "metadata": {},
   "outputs": [],
   "source": [
    "epochs=600\n",
    "batch_size=100\n",
    "\n",
    "learning_rate = 1e-3\n",
    "decay = learning_rate / epochs\n",
    "\n",
    "patience=80\n",
    "\n",
    "test_split = 0.1\n",
    "validation_split = 0.2\n",
    "\n",
    "select_features=True\n",
    "\n",
    "SCALE_TARGET = True\n",
    "SCALE_FEATURES = True\n",
    "\n",
    "RUN_MODEL = True\n"
   ]
  },
  {
   "cell_type": "code",
   "execution_count": 2205,
   "metadata": {},
   "outputs": [],
   "source": [
    "# 1- read data file\n",
    "# 1- read processed file\n",
    "home_dir = '/Users/hmohamed/github/data-research-spring2020/sock-shop'\n",
    "file_dir = home_dir + '/processed-data/'\n",
    "models_dir = home_dir + \"/models/\"\n",
    "\n",
    "data_file = 'orders_flow_data.csv'   # raw data as is\n",
    "#data_file = 'order_flow_cleanup_data.csv'\n",
    "#data_file = 'order_flow_normalized_data.csv'\n",
    "#data_file = 'order_flow_standardized_data.csv'\n",
    "#data_file = 'order_flow_factored_data.csv'\n"
   ]
  },
  {
   "cell_type": "code",
   "execution_count": 2206,
   "metadata": {},
   "outputs": [],
   "source": [
    "def read_df(file_dir, data_file, timeseries=True):\n",
    "    df = pd.read_csv(file_dir + data_file)\n",
    "    if timeseries:\n",
    "        df = to_time_series(df)\n",
    "    return df\n",
    "\n",
    "def to_time_series(df, index_col_name='date'):\n",
    "    df[index_col_name] = pd.to_datetime(df[index_col_name])\n",
    "    df.set_index(index_col_name, inplace=True)\n",
    "    df.sort_index(inplace=True)\n",
    "    return df\n",
    "\n",
    "def merge(df, series):\n",
    "    return pd.merge_asof(df, series, left_index=True, right_index=True, tolerance=pd.Timedelta('1 second')).bfill()    \n"
   ]
  },
  {
   "cell_type": "code",
   "execution_count": 2207,
   "metadata": {},
   "outputs": [
    {
     "data": {
      "text/html": [
       "<div>\n",
       "<style scoped>\n",
       "    .dataframe tbody tr th:only-of-type {\n",
       "        vertical-align: middle;\n",
       "    }\n",
       "\n",
       "    .dataframe tbody tr th {\n",
       "        vertical-align: top;\n",
       "    }\n",
       "\n",
       "    .dataframe thead th {\n",
       "        text-align: right;\n",
       "    }\n",
       "</style>\n",
       "<table border=\"1\" class=\"dataframe\">\n",
       "  <thead>\n",
       "    <tr style=\"text-align: right;\">\n",
       "      <th></th>\n",
       "      <th>front-end_cpu_use</th>\n",
       "      <th>orders_cpu_use</th>\n",
       "      <th>orders-db_cpu_use</th>\n",
       "      <th>user_cpu_use</th>\n",
       "      <th>user-db_cpu_use</th>\n",
       "      <th>shipping_cpu_use</th>\n",
       "      <th>payment_cpu_use</th>\n",
       "      <th>carts_cpu_use</th>\n",
       "      <th>carts-db_cpu_use</th>\n",
       "      <th>front-end_pods</th>\n",
       "      <th>orders_pods</th>\n",
       "      <th>user_pods</th>\n",
       "      <th>shipping_pods</th>\n",
       "      <th>payment_pods</th>\n",
       "      <th>carts_pods</th>\n",
       "      <th>nodes_cpu_use</th>\n",
       "      <th>orders_req</th>\n",
       "      <th>orders_ltcy</th>\n",
       "    </tr>\n",
       "  </thead>\n",
       "  <tbody>\n",
       "    <tr>\n",
       "      <th>0</th>\n",
       "      <td>0.03</td>\n",
       "      <td>0.01</td>\n",
       "      <td>0.01</td>\n",
       "      <td>0.01</td>\n",
       "      <td>0.01</td>\n",
       "      <td>0.01</td>\n",
       "      <td>0.01</td>\n",
       "      <td>0.03</td>\n",
       "      <td>0.07</td>\n",
       "      <td>1.00</td>\n",
       "      <td>1.00</td>\n",
       "      <td>1.00</td>\n",
       "      <td>1.00</td>\n",
       "      <td>1.00</td>\n",
       "      <td>1.00</td>\n",
       "      <td>2.50</td>\n",
       "      <td>0.15</td>\n",
       "      <td>0.24</td>\n",
       "    </tr>\n",
       "    <tr>\n",
       "      <th>1</th>\n",
       "      <td>0.06</td>\n",
       "      <td>0.02</td>\n",
       "      <td>0.02</td>\n",
       "      <td>0.02</td>\n",
       "      <td>0.02</td>\n",
       "      <td>0.01</td>\n",
       "      <td>0.01</td>\n",
       "      <td>0.18</td>\n",
       "      <td>0.18</td>\n",
       "      <td>1.00</td>\n",
       "      <td>1.00</td>\n",
       "      <td>1.00</td>\n",
       "      <td>1.00</td>\n",
       "      <td>1.00</td>\n",
       "      <td>1.00</td>\n",
       "      <td>1.89</td>\n",
       "      <td>0.15</td>\n",
       "      <td>0.24</td>\n",
       "    </tr>\n",
       "    <tr>\n",
       "      <th>2</th>\n",
       "      <td>0.07</td>\n",
       "      <td>0.03</td>\n",
       "      <td>0.02</td>\n",
       "      <td>0.03</td>\n",
       "      <td>0.02</td>\n",
       "      <td>0.01</td>\n",
       "      <td>0.01</td>\n",
       "      <td>0.44</td>\n",
       "      <td>0.20</td>\n",
       "      <td>1.00</td>\n",
       "      <td>1.00</td>\n",
       "      <td>1.00</td>\n",
       "      <td>1.00</td>\n",
       "      <td>1.00</td>\n",
       "      <td>1.00</td>\n",
       "      <td>1.35</td>\n",
       "      <td>0.15</td>\n",
       "      <td>0.24</td>\n",
       "    </tr>\n",
       "    <tr>\n",
       "      <th>3</th>\n",
       "      <td>0.07</td>\n",
       "      <td>0.03</td>\n",
       "      <td>0.02</td>\n",
       "      <td>0.02</td>\n",
       "      <td>0.02</td>\n",
       "      <td>0.01</td>\n",
       "      <td>0.01</td>\n",
       "      <td>0.23</td>\n",
       "      <td>0.17</td>\n",
       "      <td>1.00</td>\n",
       "      <td>1.00</td>\n",
       "      <td>1.00</td>\n",
       "      <td>1.00</td>\n",
       "      <td>1.00</td>\n",
       "      <td>1.00</td>\n",
       "      <td>1.26</td>\n",
       "      <td>0.13</td>\n",
       "      <td>0.24</td>\n",
       "    </tr>\n",
       "    <tr>\n",
       "      <th>4</th>\n",
       "      <td>0.07</td>\n",
       "      <td>0.02</td>\n",
       "      <td>0.01</td>\n",
       "      <td>0.02</td>\n",
       "      <td>0.02</td>\n",
       "      <td>0.01</td>\n",
       "      <td>0.01</td>\n",
       "      <td>0.24</td>\n",
       "      <td>0.14</td>\n",
       "      <td>1.00</td>\n",
       "      <td>1.00</td>\n",
       "      <td>1.00</td>\n",
       "      <td>1.00</td>\n",
       "      <td>1.00</td>\n",
       "      <td>1.00</td>\n",
       "      <td>1.28</td>\n",
       "      <td>0.36</td>\n",
       "      <td>0.24</td>\n",
       "    </tr>\n",
       "  </tbody>\n",
       "</table>\n",
       "</div>"
      ],
      "text/plain": [
       "   front-end_cpu_use  orders_cpu_use  orders-db_cpu_use  user_cpu_use  \\\n",
       "0               0.03            0.01               0.01          0.01   \n",
       "1               0.06            0.02               0.02          0.02   \n",
       "2               0.07            0.03               0.02          0.03   \n",
       "3               0.07            0.03               0.02          0.02   \n",
       "4               0.07            0.02               0.01          0.02   \n",
       "\n",
       "   user-db_cpu_use  shipping_cpu_use  payment_cpu_use  carts_cpu_use  \\\n",
       "0             0.01              0.01             0.01           0.03   \n",
       "1             0.02              0.01             0.01           0.18   \n",
       "2             0.02              0.01             0.01           0.44   \n",
       "3             0.02              0.01             0.01           0.23   \n",
       "4             0.02              0.01             0.01           0.24   \n",
       "\n",
       "   carts-db_cpu_use  front-end_pods  orders_pods  user_pods  shipping_pods  \\\n",
       "0              0.07            1.00         1.00       1.00           1.00   \n",
       "1              0.18            1.00         1.00       1.00           1.00   \n",
       "2              0.20            1.00         1.00       1.00           1.00   \n",
       "3              0.17            1.00         1.00       1.00           1.00   \n",
       "4              0.14            1.00         1.00       1.00           1.00   \n",
       "\n",
       "   payment_pods  carts_pods  nodes_cpu_use  orders_req  orders_ltcy  \n",
       "0          1.00        1.00           2.50        0.15         0.24  \n",
       "1          1.00        1.00           1.89        0.15         0.24  \n",
       "2          1.00        1.00           1.35        0.15         0.24  \n",
       "3          1.00        1.00           1.26        0.13         0.24  \n",
       "4          1.00        1.00           1.28        0.36         0.24  "
      ]
     },
     "execution_count": 2207,
     "metadata": {},
     "output_type": "execute_result"
    }
   ],
   "source": [
    "data = read_df(file_dir, data_file, True)\n",
    "data = data.reset_index(drop=True)\n",
    "data.head(5)"
   ]
  },
  {
   "cell_type": "code",
   "execution_count": 2208,
   "metadata": {},
   "outputs": [
    {
     "data": {
      "text/plain": [
       "(6766, 18)"
      ]
     },
     "execution_count": 2208,
     "metadata": {},
     "output_type": "execute_result"
    }
   ],
   "source": [
    "data.shape"
   ]
  },
  {
   "cell_type": "markdown",
   "metadata": {},
   "source": [
    "# clear noice from outliers"
   ]
  },
  {
   "cell_type": "code",
   "execution_count": 2209,
   "metadata": {},
   "outputs": [],
   "source": [
    "df = data"
   ]
  },
  {
   "cell_type": "code",
   "execution_count": 2210,
   "metadata": {},
   "outputs": [
    {
     "data": {
      "text/html": [
       "<div>\n",
       "<style scoped>\n",
       "    .dataframe tbody tr th:only-of-type {\n",
       "        vertical-align: middle;\n",
       "    }\n",
       "\n",
       "    .dataframe tbody tr th {\n",
       "        vertical-align: top;\n",
       "    }\n",
       "\n",
       "    .dataframe thead th {\n",
       "        text-align: right;\n",
       "    }\n",
       "</style>\n",
       "<table border=\"1\" class=\"dataframe\">\n",
       "  <thead>\n",
       "    <tr style=\"text-align: right;\">\n",
       "      <th></th>\n",
       "      <th>front-end_cpu_use</th>\n",
       "      <th>orders_cpu_use</th>\n",
       "      <th>orders-db_cpu_use</th>\n",
       "      <th>user_cpu_use</th>\n",
       "      <th>user-db_cpu_use</th>\n",
       "      <th>shipping_cpu_use</th>\n",
       "      <th>payment_cpu_use</th>\n",
       "      <th>carts_cpu_use</th>\n",
       "      <th>carts-db_cpu_use</th>\n",
       "      <th>front-end_pods</th>\n",
       "      <th>orders_pods</th>\n",
       "      <th>user_pods</th>\n",
       "      <th>shipping_pods</th>\n",
       "      <th>payment_pods</th>\n",
       "      <th>carts_pods</th>\n",
       "      <th>nodes_cpu_use</th>\n",
       "      <th>orders_req</th>\n",
       "      <th>orders_ltcy</th>\n",
       "    </tr>\n",
       "  </thead>\n",
       "  <tbody>\n",
       "    <tr>\n",
       "      <th>count</th>\n",
       "      <td>6,766.00</td>\n",
       "      <td>6,766.00</td>\n",
       "      <td>6,766.00</td>\n",
       "      <td>6,766.00</td>\n",
       "      <td>6,766.00</td>\n",
       "      <td>6,766.00</td>\n",
       "      <td>6,766.00</td>\n",
       "      <td>6,766.00</td>\n",
       "      <td>6,766.00</td>\n",
       "      <td>6,766.00</td>\n",
       "      <td>6,766.00</td>\n",
       "      <td>6,766.00</td>\n",
       "      <td>6,766.00</td>\n",
       "      <td>6,766.00</td>\n",
       "      <td>6,766.00</td>\n",
       "      <td>6,766.00</td>\n",
       "      <td>6,766.00</td>\n",
       "      <td>6,766.00</td>\n",
       "    </tr>\n",
       "    <tr>\n",
       "      <th>mean</th>\n",
       "      <td>0.83</td>\n",
       "      <td>0.21</td>\n",
       "      <td>0.02</td>\n",
       "      <td>0.20</td>\n",
       "      <td>0.12</td>\n",
       "      <td>0.05</td>\n",
       "      <td>0.03</td>\n",
       "      <td>0.53</td>\n",
       "      <td>1.83</td>\n",
       "      <td>2.76</td>\n",
       "      <td>2.76</td>\n",
       "      <td>2.76</td>\n",
       "      <td>2.76</td>\n",
       "      <td>2.76</td>\n",
       "      <td>2.76</td>\n",
       "      <td>4.10</td>\n",
       "      <td>5.03</td>\n",
       "      <td>2.97</td>\n",
       "    </tr>\n",
       "    <tr>\n",
       "      <th>std</th>\n",
       "      <td>0.62</td>\n",
       "      <td>0.13</td>\n",
       "      <td>0.00</td>\n",
       "      <td>0.13</td>\n",
       "      <td>0.08</td>\n",
       "      <td>0.04</td>\n",
       "      <td>0.01</td>\n",
       "      <td>0.58</td>\n",
       "      <td>1.99</td>\n",
       "      <td>1.10</td>\n",
       "      <td>1.09</td>\n",
       "      <td>1.09</td>\n",
       "      <td>1.09</td>\n",
       "      <td>1.09</td>\n",
       "      <td>1.09</td>\n",
       "      <td>2.08</td>\n",
       "      <td>4.20</td>\n",
       "      <td>3.51</td>\n",
       "    </tr>\n",
       "    <tr>\n",
       "      <th>min</th>\n",
       "      <td>0.01</td>\n",
       "      <td>0.01</td>\n",
       "      <td>0.01</td>\n",
       "      <td>0.01</td>\n",
       "      <td>0.01</td>\n",
       "      <td>0.01</td>\n",
       "      <td>0.01</td>\n",
       "      <td>0.03</td>\n",
       "      <td>0.01</td>\n",
       "      <td>0.50</td>\n",
       "      <td>1.00</td>\n",
       "      <td>1.00</td>\n",
       "      <td>1.00</td>\n",
       "      <td>1.00</td>\n",
       "      <td>1.00</td>\n",
       "      <td>1.10</td>\n",
       "      <td>0.00</td>\n",
       "      <td>0.02</td>\n",
       "    </tr>\n",
       "    <tr>\n",
       "      <th>25%</th>\n",
       "      <td>0.19</td>\n",
       "      <td>0.08</td>\n",
       "      <td>0.02</td>\n",
       "      <td>0.05</td>\n",
       "      <td>0.03</td>\n",
       "      <td>0.04</td>\n",
       "      <td>0.02</td>\n",
       "      <td>0.12</td>\n",
       "      <td>0.02</td>\n",
       "      <td>2.00</td>\n",
       "      <td>2.00</td>\n",
       "      <td>2.00</td>\n",
       "      <td>2.00</td>\n",
       "      <td>2.00</td>\n",
       "      <td>2.00</td>\n",
       "      <td>1.92</td>\n",
       "      <td>0.49</td>\n",
       "      <td>0.24</td>\n",
       "    </tr>\n",
       "    <tr>\n",
       "      <th>50%</th>\n",
       "      <td>0.84</td>\n",
       "      <td>0.22</td>\n",
       "      <td>0.02</td>\n",
       "      <td>0.20</td>\n",
       "      <td>0.12</td>\n",
       "      <td>0.05</td>\n",
       "      <td>0.03</td>\n",
       "      <td>0.32</td>\n",
       "      <td>1.15</td>\n",
       "      <td>3.00</td>\n",
       "      <td>3.00</td>\n",
       "      <td>3.00</td>\n",
       "      <td>3.00</td>\n",
       "      <td>3.00</td>\n",
       "      <td>3.00</td>\n",
       "      <td>4.21</td>\n",
       "      <td>5.14</td>\n",
       "      <td>0.49</td>\n",
       "    </tr>\n",
       "    <tr>\n",
       "      <th>75%</th>\n",
       "      <td>1.29</td>\n",
       "      <td>0.30</td>\n",
       "      <td>0.02</td>\n",
       "      <td>0.30</td>\n",
       "      <td>0.18</td>\n",
       "      <td>0.06</td>\n",
       "      <td>0.04</td>\n",
       "      <td>0.58</td>\n",
       "      <td>3.28</td>\n",
       "      <td>4.00</td>\n",
       "      <td>4.00</td>\n",
       "      <td>4.00</td>\n",
       "      <td>4.00</td>\n",
       "      <td>4.00</td>\n",
       "      <td>4.00</td>\n",
       "      <td>5.78</td>\n",
       "      <td>8.20</td>\n",
       "      <td>5.81</td>\n",
       "    </tr>\n",
       "    <tr>\n",
       "      <th>max</th>\n",
       "      <td>2.73</td>\n",
       "      <td>0.91</td>\n",
       "      <td>0.04</td>\n",
       "      <td>0.64</td>\n",
       "      <td>0.34</td>\n",
       "      <td>0.63</td>\n",
       "      <td>0.10</td>\n",
       "      <td>2.53</td>\n",
       "      <td>6.58</td>\n",
       "      <td>4.00</td>\n",
       "      <td>4.00</td>\n",
       "      <td>4.00</td>\n",
       "      <td>4.00</td>\n",
       "      <td>4.00</td>\n",
       "      <td>4.00</td>\n",
       "      <td>9.66</td>\n",
       "      <td>20.13</td>\n",
       "      <td>9.75</td>\n",
       "    </tr>\n",
       "  </tbody>\n",
       "</table>\n",
       "</div>"
      ],
      "text/plain": [
       "       front-end_cpu_use  orders_cpu_use  orders-db_cpu_use  user_cpu_use  \\\n",
       "count           6,766.00        6,766.00           6,766.00      6,766.00   \n",
       "mean                0.83            0.21               0.02          0.20   \n",
       "std                 0.62            0.13               0.00          0.13   \n",
       "min                 0.01            0.01               0.01          0.01   \n",
       "25%                 0.19            0.08               0.02          0.05   \n",
       "50%                 0.84            0.22               0.02          0.20   \n",
       "75%                 1.29            0.30               0.02          0.30   \n",
       "max                 2.73            0.91               0.04          0.64   \n",
       "\n",
       "       user-db_cpu_use  shipping_cpu_use  payment_cpu_use  carts_cpu_use  \\\n",
       "count         6,766.00          6,766.00         6,766.00       6,766.00   \n",
       "mean              0.12              0.05             0.03           0.53   \n",
       "std               0.08              0.04             0.01           0.58   \n",
       "min               0.01              0.01             0.01           0.03   \n",
       "25%               0.03              0.04             0.02           0.12   \n",
       "50%               0.12              0.05             0.03           0.32   \n",
       "75%               0.18              0.06             0.04           0.58   \n",
       "max               0.34              0.63             0.10           2.53   \n",
       "\n",
       "       carts-db_cpu_use  front-end_pods  orders_pods  user_pods  \\\n",
       "count          6,766.00        6,766.00     6,766.00   6,766.00   \n",
       "mean               1.83            2.76         2.76       2.76   \n",
       "std                1.99            1.10         1.09       1.09   \n",
       "min                0.01            0.50         1.00       1.00   \n",
       "25%                0.02            2.00         2.00       2.00   \n",
       "50%                1.15            3.00         3.00       3.00   \n",
       "75%                3.28            4.00         4.00       4.00   \n",
       "max                6.58            4.00         4.00       4.00   \n",
       "\n",
       "       shipping_pods  payment_pods  carts_pods  nodes_cpu_use  orders_req  \\\n",
       "count       6,766.00      6,766.00    6,766.00       6,766.00    6,766.00   \n",
       "mean            2.76          2.76        2.76           4.10        5.03   \n",
       "std             1.09          1.09        1.09           2.08        4.20   \n",
       "min             1.00          1.00        1.00           1.10        0.00   \n",
       "25%             2.00          2.00        2.00           1.92        0.49   \n",
       "50%             3.00          3.00        3.00           4.21        5.14   \n",
       "75%             4.00          4.00        4.00           5.78        8.20   \n",
       "max             4.00          4.00        4.00           9.66       20.13   \n",
       "\n",
       "       orders_ltcy  \n",
       "count     6,766.00  \n",
       "mean          2.97  \n",
       "std           3.51  \n",
       "min           0.02  \n",
       "25%           0.24  \n",
       "50%           0.49  \n",
       "75%           5.81  \n",
       "max           9.75  "
      ]
     },
     "execution_count": 2210,
     "metadata": {},
     "output_type": "execute_result"
    }
   ],
   "source": [
    "df.describe(include=\"all\")"
   ]
  },
  {
   "cell_type": "code",
   "execution_count": 2211,
   "metadata": {},
   "outputs": [
    {
     "name": "stdout",
     "output_type": "stream",
     "text": [
      "shape before (6766, 18)\n",
      "latency quantiles min 9.65 max 0.24\n",
      "shape after (4233, 18)\n"
     ]
    },
    {
     "data": {
      "image/png": "[encoded data removed]",
      "text/plain": [
       "<Figure size 432x288 with 1 Axes>"
      ]
     },
     "metadata": {},
     "output_type": "display_data"
    }
   ],
   "source": [
    "df = data\n",
    "print('shape before {}'.format(df.shape))\n",
    "if 1 == 1:\n",
    "    minq = df['orders_ltcy'].quantile(0.3)\n",
    "    maxq = df['orders_ltcy'].quantile(0.99)\n",
    "    print('latency quantiles min {} max {}'.format(maxq, minq))\n",
    "    df = df[df['orders_ltcy'] > minq]\n",
    "    df = df[df['orders_ltcy'] < maxq]\n",
    "    sns.distplot(df['orders_ltcy'])\n",
    "print('shape after {}'.format(df.shape)) "
   ]
  },
  {
   "cell_type": "code",
   "execution_count": 2212,
   "metadata": {},
   "outputs": [
    {
     "data": {
      "text/plain": [
       "(4233, 18)"
      ]
     },
     "execution_count": 2212,
     "metadata": {},
     "output_type": "execute_result"
    }
   ],
   "source": [
    "data = df\n",
    "data.shape"
   ]
  },
  {
   "cell_type": "markdown",
   "metadata": {},
   "source": [
    "# Shuffle the data"
   ]
  },
  {
   "cell_type": "code",
   "execution_count": 2213,
   "metadata": {},
   "outputs": [
    {
     "name": "stdout",
     "output_type": "stream",
     "text": [
      "shape (4233, 18)\n"
     ]
    },
    {
     "data": {
      "text/html": [
       "<div>\n",
       "<style scoped>\n",
       "    .dataframe tbody tr th:only-of-type {\n",
       "        vertical-align: middle;\n",
       "    }\n",
       "\n",
       "    .dataframe tbody tr th {\n",
       "        vertical-align: top;\n",
       "    }\n",
       "\n",
       "    .dataframe thead th {\n",
       "        text-align: right;\n",
       "    }\n",
       "</style>\n",
       "<table border=\"1\" class=\"dataframe\">\n",
       "  <thead>\n",
       "    <tr style=\"text-align: right;\">\n",
       "      <th></th>\n",
       "      <th>front-end_cpu_use</th>\n",
       "      <th>orders_cpu_use</th>\n",
       "      <th>orders-db_cpu_use</th>\n",
       "      <th>user_cpu_use</th>\n",
       "      <th>user-db_cpu_use</th>\n",
       "      <th>shipping_cpu_use</th>\n",
       "      <th>payment_cpu_use</th>\n",
       "      <th>carts_cpu_use</th>\n",
       "      <th>carts-db_cpu_use</th>\n",
       "      <th>front-end_pods</th>\n",
       "      <th>orders_pods</th>\n",
       "      <th>user_pods</th>\n",
       "      <th>shipping_pods</th>\n",
       "      <th>payment_pods</th>\n",
       "      <th>carts_pods</th>\n",
       "      <th>nodes_cpu_use</th>\n",
       "      <th>orders_req</th>\n",
       "      <th>orders_ltcy</th>\n",
       "    </tr>\n",
       "  </thead>\n",
       "  <tbody>\n",
       "    <tr>\n",
       "      <th>5616</th>\n",
       "      <td>0.04</td>\n",
       "      <td>0.05</td>\n",
       "      <td>0.02</td>\n",
       "      <td>0.04</td>\n",
       "      <td>0.02</td>\n",
       "      <td>0.05</td>\n",
       "      <td>0.04</td>\n",
       "      <td>0.05</td>\n",
       "      <td>0.02</td>\n",
       "      <td>4.00</td>\n",
       "      <td>4.00</td>\n",
       "      <td>4.00</td>\n",
       "      <td>4.00</td>\n",
       "      <td>4.00</td>\n",
       "      <td>4.00</td>\n",
       "      <td>1.36</td>\n",
       "      <td>0.00</td>\n",
       "      <td>1.18</td>\n",
       "    </tr>\n",
       "    <tr>\n",
       "      <th>2380</th>\n",
       "      <td>1.34</td>\n",
       "      <td>0.26</td>\n",
       "      <td>0.01</td>\n",
       "      <td>0.35</td>\n",
       "      <td>0.19</td>\n",
       "      <td>0.02</td>\n",
       "      <td>0.02</td>\n",
       "      <td>0.99</td>\n",
       "      <td>0.17</td>\n",
       "      <td>2.00</td>\n",
       "      <td>2.00</td>\n",
       "      <td>2.00</td>\n",
       "      <td>2.00</td>\n",
       "      <td>2.00</td>\n",
       "      <td>2.00</td>\n",
       "      <td>3.80</td>\n",
       "      <td>10.42</td>\n",
       "      <td>8.89</td>\n",
       "    </tr>\n",
       "    <tr>\n",
       "      <th>2693</th>\n",
       "      <td>1.37</td>\n",
       "      <td>0.37</td>\n",
       "      <td>0.02</td>\n",
       "      <td>0.39</td>\n",
       "      <td>0.22</td>\n",
       "      <td>0.04</td>\n",
       "      <td>0.02</td>\n",
       "      <td>1.10</td>\n",
       "      <td>1.86</td>\n",
       "      <td>2.00</td>\n",
       "      <td>2.00</td>\n",
       "      <td>2.00</td>\n",
       "      <td>2.00</td>\n",
       "      <td>2.00</td>\n",
       "      <td>2.00</td>\n",
       "      <td>4.76</td>\n",
       "      <td>9.07</td>\n",
       "      <td>8.91</td>\n",
       "    </tr>\n",
       "    <tr>\n",
       "      <th>2532</th>\n",
       "      <td>1.48</td>\n",
       "      <td>0.25</td>\n",
       "      <td>0.02</td>\n",
       "      <td>0.31</td>\n",
       "      <td>0.21</td>\n",
       "      <td>0.03</td>\n",
       "      <td>0.02</td>\n",
       "      <td>1.08</td>\n",
       "      <td>1.24</td>\n",
       "      <td>2.00</td>\n",
       "      <td>2.00</td>\n",
       "      <td>2.00</td>\n",
       "      <td>2.00</td>\n",
       "      <td>2.00</td>\n",
       "      <td>2.00</td>\n",
       "      <td>4.50</td>\n",
       "      <td>10.31</td>\n",
       "      <td>9.22</td>\n",
       "    </tr>\n",
       "    <tr>\n",
       "      <th>1052</th>\n",
       "      <td>0.08</td>\n",
       "      <td>0.08</td>\n",
       "      <td>0.01</td>\n",
       "      <td>0.03</td>\n",
       "      <td>0.02</td>\n",
       "      <td>0.03</td>\n",
       "      <td>0.02</td>\n",
       "      <td>0.07</td>\n",
       "      <td>0.18</td>\n",
       "      <td>2.00</td>\n",
       "      <td>2.00</td>\n",
       "      <td>2.00</td>\n",
       "      <td>2.00</td>\n",
       "      <td>2.00</td>\n",
       "      <td>2.00</td>\n",
       "      <td>1.26</td>\n",
       "      <td>0.33</td>\n",
       "      <td>0.28</td>\n",
       "    </tr>\n",
       "  </tbody>\n",
       "</table>\n",
       "</div>"
      ],
      "text/plain": [
       "      front-end_cpu_use  orders_cpu_use  orders-db_cpu_use  user_cpu_use  \\\n",
       "5616               0.04            0.05               0.02          0.04   \n",
       "2380               1.34            0.26               0.01          0.35   \n",
       "2693               1.37            0.37               0.02          0.39   \n",
       "2532               1.48            0.25               0.02          0.31   \n",
       "1052               0.08            0.08               0.01          0.03   \n",
       "\n",
       "      user-db_cpu_use  shipping_cpu_use  payment_cpu_use  carts_cpu_use  \\\n",
       "5616             0.02              0.05             0.04           0.05   \n",
       "2380             0.19              0.02             0.02           0.99   \n",
       "2693             0.22              0.04             0.02           1.10   \n",
       "2532             0.21              0.03             0.02           1.08   \n",
       "1052             0.02              0.03             0.02           0.07   \n",
       "\n",
       "      carts-db_cpu_use  front-end_pods  orders_pods  user_pods  shipping_pods  \\\n",
       "5616              0.02            4.00         4.00       4.00           4.00   \n",
       "2380              0.17            2.00         2.00       2.00           2.00   \n",
       "2693              1.86            2.00         2.00       2.00           2.00   \n",
       "2532              1.24            2.00         2.00       2.00           2.00   \n",
       "1052              0.18            2.00         2.00       2.00           2.00   \n",
       "\n",
       "      payment_pods  carts_pods  nodes_cpu_use  orders_req  orders_ltcy  \n",
       "5616          4.00        4.00           1.36        0.00         1.18  \n",
       "2380          2.00        2.00           3.80       10.42         8.89  \n",
       "2693          2.00        2.00           4.76        9.07         8.91  \n",
       "2532          2.00        2.00           4.50       10.31         9.22  \n",
       "1052          2.00        2.00           1.26        0.33         0.28  "
      ]
     },
     "execution_count": 2213,
     "metadata": {},
     "output_type": "execute_result"
    }
   ],
   "source": [
    "# shuffle the data\n",
    "from sklearn.utils import shuffle\n",
    "data = shuffle(data, random_state=0)\n",
    "print('shape {}'.format(data.shape))\n",
    "data.head(5)"
   ]
  },
  {
   "cell_type": "code",
   "execution_count": 2214,
   "metadata": {},
   "outputs": [
    {
     "name": "stdout",
     "output_type": "stream",
     "text": [
      "Shape x_data:  (4233, 17)\n",
      "type x_data:  <class 'numpy.ndarray'>\n",
      "Shape y_data:  (4233, 1)\n",
      "type y_data:  <class 'numpy.ndarray'>\n",
      "There are 4233 sample data\n"
     ]
    }
   ],
   "source": [
    "x_data = data.drop(['orders_ltcy'], axis=1)\n",
    "x_data = x_data.values\n",
    "print(\"Shape x_data: \", x_data.shape)\n",
    "print(\"type x_data: \", type(x_data))\n",
    "\n",
    "y_data = data['orders_ltcy'].values\n",
    "y_data = y_data.reshape(-1,1)\n",
    "print(\"Shape y_data: \", y_data.shape)\n",
    "print(\"type y_data: \", type(y_data))\n",
    "\n",
    "num_data = len(x_data)\n",
    "print(\"There are {} sample data\".format(num_data))"
   ]
  },
  {
   "cell_type": "code",
   "execution_count": 2215,
   "metadata": {},
   "outputs": [
    {
     "data": {
      "text/plain": [
       "(4233, 17, 1)"
      ]
     },
     "execution_count": 2215,
     "metadata": {},
     "output_type": "execute_result"
    }
   ],
   "source": [
    "x_dataset = np.expand_dims(x_data, axis=2)\n",
    "n_depth = x_dataset.shape[1]\n",
    "n_width = x_dataset.shape[2]\n",
    "x_dataset.shape"
   ]
  },
  {
   "cell_type": "code",
   "execution_count": 2216,
   "metadata": {},
   "outputs": [
    {
     "data": {
      "text/plain": [
       "(4233,)"
      ]
     },
     "execution_count": 2216,
     "metadata": {},
     "output_type": "execute_result"
    }
   ],
   "source": [
    "y_dataset = y_data.reshape(y_data.shape[0])\n",
    "n_targets = y_data.shape[1]\n",
    "y_dataset.shape"
   ]
  },
  {
   "cell_type": "code",
   "execution_count": 2217,
   "metadata": {},
   "outputs": [
    {
     "name": "stdout",
     "output_type": "stream",
     "text": [
      "Experiment has 17 number of features and 1 number of target(s)\n"
     ]
    }
   ],
   "source": [
    "\n",
    "print('Experiment has {} number of features and {} number of target(s)'.format(n_depth,n_targets))\n"
   ]
  },
  {
   "cell_type": "code",
   "execution_count": 2218,
   "metadata": {},
   "outputs": [
    {
     "name": "stdout",
     "output_type": "stream",
     "text": [
      "Data splitted to training 3387 , validation 423 and testing 423\n"
     ]
    }
   ],
   "source": [
    "validate_split = 0.1\n",
    "test_split = 0.1\n",
    "train_split = 1 - (test_split + validate_split)\n",
    "\n",
    "num_data = len(x_dataset)\n",
    "\n",
    "num_test = int(test_split * num_data)\n",
    "num_validate = int(validate_split * num_data)\n",
    "num_train = num_data - (num_test + num_validate)\n",
    "print('Data splitted to training {} , validation {} and testing {}'.format(num_train, num_validate, num_test))"
   ]
  },
  {
   "cell_type": "code",
   "execution_count": 2219,
   "metadata": {},
   "outputs": [
    {
     "name": "stdout",
     "output_type": "stream",
     "text": [
      "x_train (3387, 17, 1) , x_validate (423, 17, 1) , x_test (423, 17, 1)\n"
     ]
    },
    {
     "data": {
      "text/plain": [
       "4233"
      ]
     },
     "execution_count": 2219,
     "metadata": {},
     "output_type": "execute_result"
    }
   ],
   "source": [
    "x_train = x_dataset[:num_train]\n",
    "x_validate = x_dataset[num_train:num_train+num_validate]\n",
    "x_test = x_dataset[num_train+num_validate:]\n",
    "\n",
    "print(\"x_train {} , x_validate {} , x_test {}\".format(x_train.shape, x_validate.shape, x_test.shape))\n",
    "\n",
    "len(x_train) + len(x_validate) + len(x_test)"
   ]
  },
  {
   "cell_type": "code",
   "execution_count": 2220,
   "metadata": {},
   "outputs": [
    {
     "name": "stdout",
     "output_type": "stream",
     "text": [
      "y_train (3387,) , y_validate (423,) , y_test (423,)\n"
     ]
    },
    {
     "data": {
      "text/plain": [
       "4233"
      ]
     },
     "execution_count": 2220,
     "metadata": {},
     "output_type": "execute_result"
    }
   ],
   "source": [
    "y_train = y_dataset[:num_train]\n",
    "y_validate = y_dataset[num_train:num_train+num_validate]\n",
    "y_test = y_dataset[num_train+num_validate:]\n",
    "\n",
    "print(\"y_train {} , y_validate {} , y_test {}\".format(y_train.shape, y_validate.shape, y_test.shape))\n",
    "\n",
    "len(y_train) + len(y_validate) + len(y_test)"
   ]
  },
  {
   "cell_type": "markdown",
   "metadata": {},
   "source": [
    "# Scaling"
   ]
  },
  {
   "cell_type": "code",
   "execution_count": 2221,
   "metadata": {},
   "outputs": [],
   "source": [
    "from sklearn.preprocessing import StandardScaler, MinMaxScaler\n",
    "\n",
    "if SCALE_FEATURES:\n",
    "    x_scaler = StandardScaler()  # StandardScaler() or MinMaxScaler()\n",
    "    \n",
    "    dim_z, dim_x, dim_y = x_train.shape[0], x_train.shape[1], x_train.shape[2]\n",
    "    x_train = x_train.reshape(dim_z, dim_x)    \n",
    "    x_train = x_scaler.fit_transform(x_train)\n",
    "    x_train = x_train.reshape(dim_z, dim_x, dim_y)\n",
    "    \n",
    "    dim_z, dim_x, dim_y = x_test.shape[0], x_test.shape[1], x_test.shape[2]\n",
    "    x_test = x_test.reshape(dim_z, dim_x)    \n",
    "    x_test = x_scaler.transform(x_test)\n",
    "    x_test = x_test.reshape(dim_z, dim_x, dim_y)"
   ]
  },
  {
   "cell_type": "code",
   "execution_count": 2222,
   "metadata": {},
   "outputs": [],
   "source": [
    "if SCALE_TARGET:\n",
    "    y_scaler =  MinMaxScaler() # StandardScaler() or MinMaxScaler()\n",
    "    \n",
    "    y_train = y_train.reshape(y_train.shape[0], 1)\n",
    "    y_train = y_scaler.fit_transform(y_train)\n",
    "    y_train = y_train.reshape(y_train.shape[0])\n",
    "    \n",
    "    y_test = y_test.reshape(y_test.shape[0], 1)\n",
    "    y_test = y_scaler.transform(y_test)\n",
    "    y_test = y_test.reshape(y_test.shape[0])"
   ]
  },
  {
   "cell_type": "code",
   "execution_count": 2223,
   "metadata": {},
   "outputs": [
    {
     "name": "stdout",
     "output_type": "stream",
     "text": [
      "y_test shape (423,)\n"
     ]
    },
    {
     "data": {
      "text/plain": [
       "array([3.70088322e-01, 4.85823833e-01, 3.90433411e-04, 7.11863875e-01,\n",
       "       4.37919221e-01, 4.11883360e-01, 6.24903231e-01, 1.36652440e-01,\n",
       "       4.24017403e-01, 9.91483625e-01])"
      ]
     },
     "execution_count": 2223,
     "metadata": {},
     "output_type": "execute_result"
    }
   ],
   "source": [
    "print('y_test shape {}'.format(y_test.shape))\n",
    "y_test[0:10]"
   ]
  },
  {
   "cell_type": "code",
   "execution_count": 2224,
   "metadata": {},
   "outputs": [],
   "source": [
    "# data batch generator\n",
    "def batch_generator(batch_size, sequence_length=n_depth, n_features=n_width):\n",
    "    \"\"\"\n",
    "    Generator function for creating random batches of training-data.\n",
    "    \"\"\"\n",
    "\n",
    "    # Infinite loop.\n",
    "    while True:\n",
    "        # Allocate a new array for the batch of input-signals.\n",
    "        x_shape = (batch_size, sequence_length, n_features)\n",
    "        x_batch = np.zeros(shape=x_shape, dtype=np.float16)\n",
    "\n",
    "        # Allocate a new array for the batch of output-signals.\n",
    "        #y_shape = (batch_size, sequence_length, num_y_signals)\n",
    "        #y_batch = np.zeros(shape=y_shape, dtype=np.float16)\n",
    "        y_batch = []\n",
    "\n",
    "        # Fill the batch with random sequences of data.\n",
    "        for i in range(batch_size):\n",
    "            # Get a random start-index.\n",
    "            # This points somewhere into the training-data.\n",
    "            idx = np.random.randint(num_train - sequence_length)\n",
    "            \n",
    "            # Copy the sequences of data starting at this index.\n",
    "            x_batch[i] = x_train[idx]\n",
    "            y_batch.append(y_train[idx])\n",
    "        \n",
    "        yield (x_batch, np.array(y_batch))"
   ]
  },
  {
   "cell_type": "code",
   "execution_count": 2225,
   "metadata": {},
   "outputs": [],
   "source": [
    "generator = batch_generator(batch_size)"
   ]
  },
  {
   "cell_type": "code",
   "execution_count": 2226,
   "metadata": {},
   "outputs": [
    {
     "name": "stdout",
     "output_type": "stream",
     "text": [
      "(100, 17, 1)\n",
      "(100,)\n"
     ]
    }
   ],
   "source": [
    "# test the batch generator\n",
    "if 1 == 1:\n",
    "    x_batch, y_batch = next(generator)\n",
    "    print(x_batch.shape)\n",
    "    print(y_batch.shape)"
   ]
  },
  {
   "cell_type": "code",
   "execution_count": 2227,
   "metadata": {},
   "outputs": [],
   "source": [
    "# test and validate tuples\n",
    "test_data = (x_test, y_test)\n",
    "validate_data = (x_validate, y_validate)"
   ]
  },
  {
   "cell_type": "code",
   "execution_count": 2228,
   "metadata": {},
   "outputs": [],
   "source": [
    "from keras.models import Sequential\n",
    "from keras.layers import Dense\n",
    "from keras.layers import Flatten\n",
    "from keras.layers import Dropout\n",
    "from keras.layers.convolutional import Conv1D, Conv2D\n",
    "from keras.layers.convolutional import MaxPooling1D\n",
    "from keras.optimizers import RMSprop, Adam\n",
    "from keras import models\n",
    "from keras.callbacks import EarlyStopping, ModelCheckpoint, TensorBoard, ReduceLROnPlateau"
   ]
  },
  {
   "cell_type": "code",
   "execution_count": 2229,
   "metadata": {},
   "outputs": [
    {
     "name": "stdout",
     "output_type": "stream",
     "text": [
      "_________________________________________________________________\n",
      "Layer (type)                 Output Shape              Param #   \n",
      "=================================================================\n",
      "conv1d_159 (Conv1D)          (None, 14, 8)             40        \n",
      "_________________________________________________________________\n",
      "conv1d_160 (Conv1D)          (None, 11, 8)             264       \n",
      "_________________________________________________________________\n",
      "dropout_83 (Dropout)         (None, 11, 8)             0         \n",
      "_________________________________________________________________\n",
      "max_pooling1d_83 (MaxPooling (None, 5, 8)              0         \n",
      "_________________________________________________________________\n",
      "flatten_80 (Flatten)         (None, 40)                0         \n",
      "_________________________________________________________________\n",
      "dense_313 (Dense)            (None, 20)                820       \n",
      "_________________________________________________________________\n",
      "dense_314 (Dense)            (None, 10)                210       \n",
      "_________________________________________________________________\n",
      "dense_315 (Dense)            (None, 1)                 11        \n",
      "=================================================================\n",
      "Total params: 1,345\n",
      "Trainable params: 1,345\n",
      "Non-trainable params: 0\n",
      "_________________________________________________________________\n"
     ]
    }
   ],
   "source": [
    "# 1-D CONV CNN for feature recognition\n",
    "model = Sequential()\n",
    "model.add(Conv1D(filters=8, kernel_size=4, kernel_initializer='normal', activation='relu', input_shape=(n_depth,n_width)))\n",
    "model.add(Conv1D(filters=8, kernel_size=4, kernel_initializer='normal', activation='relu'))\n",
    "model.add(Dropout(0.5))\n",
    "model.add(MaxPooling1D(pool_size=2))\n",
    "model.add(Flatten())\n",
    "#model.add(Dense(100, kernel_initializer='normal', activation='relu'))\n",
    "model.add(Dense(20, kernel_initializer='normal', activation='relu'))\n",
    "model.add(Dense(10, kernel_initializer='normal', activation='relu'))\n",
    "model.add(Dense(n_targets, kernel_initializer='normal', activation='linear'))\n",
    "\n",
    "adam = Adam(lr=learning_rate, decay=decay)\n",
    "# or loss= 'mean_absolute_percentage_error'\n",
    "model.compile(loss='mean_squared_error', optimizer=adam, metrics=['mse'])\n",
    "model.summary()"
   ]
  },
  {
   "cell_type": "code",
   "execution_count": 2230,
   "metadata": {},
   "outputs": [],
   "source": [
    "# call backs\n",
    "# simple early stopping\n",
    "es = EarlyStopping(monitor='val_loss', mode='min', verbose=1, patience=patience)\n",
    "\n",
    "# save the best model only\n",
    "path_model = models_dir + 'best_mlp_model.h5'\n",
    "mc = ModelCheckpoint(path_model\n",
    "                     , monitor='val_loss'\n",
    "                     , mode='min' \n",
    "                     , verbose=1\n",
    "                     #, save_weights_only=True\n",
    "                     , save_best_only=True)\n",
    "\n",
    "reduce_lr = ReduceLROnPlateau(monitor='val_loss',\n",
    "                                       factor=0.1,\n",
    "                                       min_lr=1e-4,\n",
    "                                       patience=0,\n",
    "                                       verbose=1)\n",
    "\n",
    "callbacks = [es, mc, reduce_lr]"
   ]
  },
  {
   "cell_type": "code",
   "execution_count": null,
   "metadata": {},
   "outputs": [
    {
     "name": "stdout",
     "output_type": "stream",
     "text": [
      "Epoch 1/600\n",
      "34/34 [==============================] - 14s 399ms/step - loss: 0.3166 - mean_squared_error: 0.3166 - val_loss: 30.3172 - val_mean_squared_error: 30.3172\n",
      "\n",
      "Epoch 00001: val_loss improved from inf to 30.31718, saving model to /Users/hmohamed/github/data-research-spring2020/sock-shop/models/best_mlp_model.h5\n",
      "Epoch 2/600\n",
      "34/34 [==============================] - 0s 14ms/step - loss: 0.1796 - mean_squared_error: 0.1796 - val_loss: 25.9290 - val_mean_squared_error: 25.9290\n",
      "\n",
      "Epoch 00002: val_loss improved from 30.31718 to 25.92901, saving model to /Users/hmohamed/github/data-research-spring2020/sock-shop/models/best_mlp_model.h5\n",
      "Epoch 3/600\n",
      "34/34 [==============================] - 0s 13ms/step - loss: 0.1363 - mean_squared_error: 0.1363 - val_loss: 25.7868 - val_mean_squared_error: 25.7868\n",
      "\n",
      "Epoch 00003: val_loss improved from 25.92901 to 25.78675, saving model to /Users/hmohamed/github/data-research-spring2020/sock-shop/models/best_mlp_model.h5\n",
      "Epoch 4/600\n",
      "34/34 [==============================] - 0s 14ms/step - loss: 0.1289 - mean_squared_error: 0.1289 - val_loss: 25.7618 - val_mean_squared_error: 25.7618\n",
      "\n",
      "Epoch 00004: val_loss improved from 25.78675 to 25.76179, saving model to /Users/hmohamed/github/data-research-spring2020/sock-shop/models/best_mlp_model.h5\n",
      "Epoch 5/600\n",
      "34/34 [==============================] - 0s 14ms/step - loss: 0.1119 - mean_squared_error: 0.1119 - val_loss: 26.2107 - val_mean_squared_error: 26.2107\n",
      "\n",
      "Epoch 00005: val_loss did not improve from 25.76179\n",
      "\n",
      "Epoch 00005: ReduceLROnPlateau reducing learning rate to 0.00010000000474974513.\n",
      "Epoch 6/600\n",
      "34/34 [==============================] - 0s 14ms/step - loss: 0.1062 - mean_squared_error: 0.1062 - val_loss: 26.0630 - val_mean_squared_error: 26.0630\n",
      "\n",
      "Epoch 00006: val_loss did not improve from 25.76179\n",
      "\n",
      "Epoch 00006: ReduceLROnPlateau reducing learning rate to 0.0001.\n",
      "Epoch 7/600\n",
      "34/34 [==============================] - 0s 14ms/step - loss: 0.1038 - mean_squared_error: 0.1038 - val_loss: 26.0269 - val_mean_squared_error: 26.0269\n",
      "\n",
      "Epoch 00007: val_loss did not improve from 25.76179\n",
      "Epoch 8/600\n",
      "34/34 [==============================] - 0s 15ms/step - loss: 0.1027 - mean_squared_error: 0.1027 - val_loss: 25.7702 - val_mean_squared_error: 25.7702\n",
      "\n",
      "Epoch 00008: val_loss did not improve from 25.76179\n",
      "Epoch 9/600\n",
      "34/34 [==============================] - 0s 15ms/step - loss: 0.1015 - mean_squared_error: 0.1015 - val_loss: 25.8206 - val_mean_squared_error: 25.8206\n",
      "\n",
      "Epoch 00009: val_loss did not improve from 25.76179\n",
      "Epoch 10/600\n",
      "34/34 [==============================] - 0s 14ms/step - loss: 0.1009 - mean_squared_error: 0.1009 - val_loss: 25.7775 - val_mean_squared_error: 25.7775\n",
      "\n",
      "Epoch 00010: val_loss did not improve from 25.76179\n",
      "Epoch 11/600\n",
      "34/34 [==============================] - 0s 14ms/step - loss: 0.0989 - mean_squared_error: 0.0989 - val_loss: 25.8157 - val_mean_squared_error: 25.8157\n",
      "\n",
      "Epoch 00011: val_loss did not improve from 25.76179\n",
      "Epoch 12/600\n",
      "34/34 [==============================] - 0s 13ms/step - loss: 0.1004 - mean_squared_error: 0.1004 - val_loss: 25.7994 - val_mean_squared_error: 25.7994\n",
      "\n",
      "Epoch 00012: val_loss did not improve from 25.76179\n",
      "Epoch 13/600\n",
      "34/34 [==============================] - 0s 14ms/step - loss: 0.0994 - mean_squared_error: 0.0994 - val_loss: 25.7430 - val_mean_squared_error: 25.7430\n",
      "\n",
      "Epoch 00013: val_loss improved from 25.76179 to 25.74299, saving model to /Users/hmohamed/github/data-research-spring2020/sock-shop/models/best_mlp_model.h5\n",
      "Epoch 14/600\n",
      "34/34 [==============================] - 0s 14ms/step - loss: 0.0948 - mean_squared_error: 0.0948 - val_loss: 25.6915 - val_mean_squared_error: 25.6915\n",
      "\n",
      "Epoch 00014: val_loss improved from 25.74299 to 25.69151, saving model to /Users/hmohamed/github/data-research-spring2020/sock-shop/models/best_mlp_model.h5\n",
      "Epoch 15/600\n",
      "34/34 [==============================] - 0s 14ms/step - loss: 0.0993 - mean_squared_error: 0.0993 - val_loss: 25.6503 - val_mean_squared_error: 25.6503\n",
      "\n",
      "Epoch 00015: val_loss improved from 25.69151 to 25.65026, saving model to /Users/hmohamed/github/data-research-spring2020/sock-shop/models/best_mlp_model.h5\n",
      "Epoch 16/600\n",
      "34/34 [==============================] - 0s 13ms/step - loss: 0.0970 - mean_squared_error: 0.0970 - val_loss: 25.7453 - val_mean_squared_error: 25.7453\n",
      "\n",
      "Epoch 00016: val_loss did not improve from 25.65026\n",
      "Epoch 17/600\n",
      "22/34 [==================>...........] - ETA: 0s - loss: 0.0966 - mean_squared_error: 0.0966"
     ]
    }
   ],
   "source": [
    "%%time\n",
    "steps_per_epoch = math.ceil(num_train / batch_size)   # = total number of training data points divided by the batch size\n",
    "print('steps_per_epoch {}'.format(steps_per_epoch))\n",
    "\n",
    "if RUN_MODEL:\n",
    "    history = model.fit_generator(generator=generator, epochs=epochs\n",
    "                                  , steps_per_epoch=steps_per_epoch\n",
    "                                  , validation_data=validate_data\n",
    "                                  , callbacks=callbacks, verbose=1, shuffle=False)\n",
    "    #history = model.fit(x_train, y_train, epochs=epochs\n",
    "                        #, verbose=1,callbacks=callbacks,shuffle=True,validation_data=validate_data)\n",
    "    \n",
    "    "
   ]
  },
  {
   "cell_type": "code",
   "execution_count": null,
   "metadata": {},
   "outputs": [],
   "source": [
    "# plot history\n",
    "if RUN_MODEL:\n",
    "    plt.figure(figsize=(20, 6), dpi=80, facecolor='w', edgecolor='k')\n",
    "    plt.plot(history.history['loss'], label='train')\n",
    "    plt.plot(history.history['val_loss'], label='test')\n",
    "    plt.legend()\n",
    "    plt.show()"
   ]
  },
  {
   "cell_type": "code",
   "execution_count": null,
   "metadata": {},
   "outputs": [],
   "source": [
    "val_loss = history.history['val_loss']\n",
    "val_loss_df = pd.DataFrame(val_loss)\n",
    "\n",
    "print(\"Model Validation MSE mean: %.2f  std: (%.2f)\" % \\\n",
    "      (val_loss_df.mean(), val_loss_df.std()))\n"
   ]
  },
  {
   "cell_type": "code",
   "execution_count": null,
   "metadata": {},
   "outputs": [],
   "source": [
    "# Load the best saved model\n",
    "try:\n",
    "    model = models.load_model(path_model)\n",
    "except Exception as error:\n",
    "    print(\"Error trying to load model.\")\n",
    "    print(error)\n",
    "    "
   ]
  },
  {
   "cell_type": "markdown",
   "metadata": {},
   "source": [
    "# Plot Prediction"
   ]
  },
  {
   "cell_type": "code",
   "execution_count": null,
   "metadata": {},
   "outputs": [],
   "source": [
    "def y_comparison(start_idx, length=100, target_scaled=SCALE_TARGET, data_set='train'):\n",
    "    \"\"\"\n",
    "    Obtain predicted and true output-signals.\n",
    "    \n",
    "    :param start_idx: Start-index for the time-series.\n",
    "    :param length: Sequence-length to process and plot.\n",
    "    :param train: Boolean whether to use training- or test-set.\n",
    "    \"\"\"\n",
    "    \n",
    "    if data_set == 'train':\n",
    "        # Use training-data.\n",
    "        x = x_train\n",
    "        y_true = y_train\n",
    "    elif data_set == 'validate':\n",
    "        x = x_validate\n",
    "        y_true = y_validate\n",
    "    else:\n",
    "        # Use test-data.\n",
    "        x = x_test\n",
    "        y_true = y_test\n",
    "    \n",
    "    # End-index for the sequences.\n",
    "    end_idx = start_idx + length\n",
    "    \n",
    "    # Select the sequences from the given start-index and\n",
    "    # of the given length.\n",
    "    x = x[start_idx:end_idx]\n",
    "    y_true = y_true[start_idx:end_idx]\n",
    "    \n",
    "    # Input-signals for the model.\n",
    "    #x = np.expand_dims(x, axis=0)\n",
    "\n",
    "    # Use the model to predict the output-signals.\n",
    "    y_pred = model.predict(x)\n",
    "    \n",
    "    if target_scaled:\n",
    "        # The output of the model is scaled.\n",
    "        # Do an inverse map to get it back to the scale\n",
    "        # of the original data-set.\n",
    "        y_pred = y_scaler.inverse_transform(y_pred)\n",
    "    \n",
    "    y_pred = y_pred.reshape(y_pred.shape[0])\n",
    "    print(\"shape y_pred: %\", y_pred.shape)\n",
    "    print(\"shape y_true: %\", y_true.shape)\n",
    "    \n",
    "    return y_true, y_pred\n",
    "\n",
    "\n",
    "#This helper-function plots the predicted and true output-signals.\n",
    "def plot_comparison(signal_true, signal_pred):\n",
    "    \"\"\"\n",
    "    Plot the predicted and true output-signals.\n",
    "    \"\"\"\n",
    "\n",
    "    # Make the plotting-canvas bigger.\n",
    "    plt.figure(figsize=(15,5))\n",
    "        \n",
    "    # Plot and compare the two signals.\n",
    "    plt.plot(signal_true, label='true')\n",
    "    plt.plot(signal_pred, label='pred')\n",
    "        \n",
    "    # Plot grey box for warmup-period.\n",
    "    p = plt.axvspan(0, warmup_steps, facecolor='black', alpha=0.15)\n",
    "        \n",
    "    # Plot labels etc.\n",
    "    plt.ylabel('ltcy')\n",
    "    plt.legend()\n",
    "    plt.show()"
   ]
  },
  {
   "cell_type": "markdown",
   "metadata": {},
   "source": [
    "# Check on Some Training Data"
   ]
  },
  {
   "cell_type": "markdown",
   "metadata": {},
   "source": [
    "Let us start with an example from the training-data. This is data that the model has seen during training so it should perform reasonably well on this data."
   ]
  },
  {
   "cell_type": "code",
   "execution_count": null,
   "metadata": {},
   "outputs": [],
   "source": [
    "print(\"total number of training targets {}\".format(num_train))\n",
    "train_true, train_pred = y_comparison(start_idx=0, length=num_train, data_set='train')\n"
   ]
  },
  {
   "cell_type": "code",
   "execution_count": null,
   "metadata": {},
   "outputs": [],
   "source": [
    "plot_comparison(train_true[10:110], train_pred[10:110])"
   ]
  },
  {
   "cell_type": "code",
   "execution_count": null,
   "metadata": {},
   "outputs": [],
   "source": [
    "import math\n",
    "# calculate RMSE\n",
    "mse = math.sqrt(mean_squared_error(train_true, train_pred))\n",
    "print('Train MSE: %.3f' % mse)"
   ]
  },
  {
   "cell_type": "code",
   "execution_count": null,
   "metadata": {},
   "outputs": [],
   "source": [
    "plt.scatter(train_true, train_pred, alpha=0.2)\n",
    "plt.xlabel('Latency', size=18)\n",
    "plt.ylabel('Predicted Latency', size=18)\n",
    "plt.show"
   ]
  },
  {
   "cell_type": "code",
   "execution_count": null,
   "metadata": {},
   "outputs": [],
   "source": [
    "ax = sns.regplot(x=train_true[10:110], y=train_pred[10:110], color='g')"
   ]
  },
  {
   "cell_type": "code",
   "execution_count": null,
   "metadata": {},
   "outputs": [],
   "source": [
    "r2_train = metrics.r2_score(train_true, train_pred)\n",
    "print('R2 (training) = {}'.format(r2_train))"
   ]
  },
  {
   "cell_type": "markdown",
   "metadata": {},
   "source": [
    "# Evaluate Model"
   ]
  },
  {
   "cell_type": "code",
   "execution_count": null,
   "metadata": {},
   "outputs": [],
   "source": [
    "print(\"total number of testing targets {}\".format(num_test))\n",
    "test_true, test_pred = y_comparison(start_idx=0, length=num_test, data_set='test')\n"
   ]
  },
  {
   "cell_type": "code",
   "execution_count": null,
   "metadata": {},
   "outputs": [],
   "source": [
    "plot_comparison(test_true[10:110], test_pred[10:110])"
   ]
  },
  {
   "cell_type": "markdown",
   "metadata": {},
   "source": [
    "# *** R2"
   ]
  },
  {
   "cell_type": "code",
   "execution_count": null,
   "metadata": {},
   "outputs": [],
   "source": [
    "r2_test = metrics.r2_score(test_true[10:110], test_pred[10:110])\n",
    "print('R2 (testing) = {}'.format(r2_test))"
   ]
  },
  {
   "cell_type": "code",
   "execution_count": null,
   "metadata": {},
   "outputs": [],
   "source": [
    "sns.distplot(test_true - test_pred)\n",
    "plt.title('Residual PDF', size=18)"
   ]
  },
  {
   "cell_type": "code",
   "execution_count": null,
   "metadata": {},
   "outputs": [],
   "source": [
    "ax = sns.regplot(x=test_true[10:110], y=test_pred[10:110], color='g')"
   ]
  },
  {
   "cell_type": "code",
   "execution_count": null,
   "metadata": {},
   "outputs": [],
   "source": [
    "plt.scatter(test_true[10:110], test_pred[10:110], alpha=0.6)\n",
    "plt.xlabel('Latency', size=18)\n",
    "plt.ylabel('Predicted Latency', size=18)\n",
    "plt.show"
   ]
  },
  {
   "cell_type": "code",
   "execution_count": null,
   "metadata": {},
   "outputs": [],
   "source": [
    "print('shape y test {}'.format(test_true.shape))\n",
    "print('shape y predicted {}'.format(test_pred.shape))\n",
    "\n",
    "#print (\"Actual test values: \\n {}\".format(test_signal_true[:20]))\n",
    "#print (\"Predicted test values: \\n {}\".format(test_signal_pred[:20]))\n",
    "\n",
    "print(\"\")\n",
    "# calculate RMSE\n",
    "mse = math.sqrt(mean_squared_error(test_true, test_pred))\n",
    "print('Test MSE: %.3f' % mse)"
   ]
  },
  {
   "cell_type": "code",
   "execution_count": null,
   "metadata": {},
   "outputs": [],
   "source": [
    "true_df = round(pd.DataFrame(test_true, columns=['actual']),2)\n",
    "pred_df = round(pd.DataFrame(test_pred, columns=['predicted']),2)\n",
    "\n",
    "\n",
    "compare_df = pd.concat([true_df,pred_df], axis=1, sort=False)\n",
    "\n",
    "# testing mean_absolute_percentage_error\n",
    "compare_df['residual'] = round(compare_df['actual'] - compare_df['predicted'], 2)\n",
    "compare_df['difference%'] = round(np.absolute(compare_df['residual']* 100 / compare_df['actual']),2)\n",
    "\n",
    "compare_df.head(5)"
   ]
  },
  {
   "cell_type": "code",
   "execution_count": null,
   "metadata": {},
   "outputs": [],
   "source": [
    "compare_df.describe()"
   ]
  },
  {
   "cell_type": "code",
   "execution_count": null,
   "metadata": {},
   "outputs": [],
   "source": [
    "pd.options.display.max_rows = 999\n",
    "pd.set_option('display.float_format', lambda x: '%.2f' % x)\n",
    "compare_df.sort_values(by = ['difference%'])"
   ]
  },
  {
   "cell_type": "code",
   "execution_count": null,
   "metadata": {},
   "outputs": [],
   "source": [
    "print(\"... FINISH ....\")"
   ]
  }
 ],
 "metadata": {
  "kernelspec": {
   "display_name": "Python 3",
   "language": "python",
   "name": "python3"
  },
  "language_info": {
   "codemirror_mode": {
    "name": "ipython",
    "version": 3
   },
   "file_extension": ".py",
   "mimetype": "text/x-python",
   "name": "python",
   "nbconvert_exporter": "python",
   "pygments_lexer": "ipython3",
   "version": "3.7.7"
  }
 },
 "nbformat": 4,
 "nbformat_minor": 4
}
