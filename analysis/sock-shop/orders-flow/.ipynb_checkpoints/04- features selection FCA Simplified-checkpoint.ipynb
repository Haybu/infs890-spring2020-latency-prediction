{
 "cells": [
  {
   "cell_type": "markdown",
   "metadata": {},
   "source": [
    "# Simple Linear Regression\n",
    "Haytham Mohamed\n",
    "\n",
    "INFS 890 - Spring 2020"
   ]
  },
  {
   "cell_type": "code",
   "execution_count": 35,
   "metadata": {},
   "outputs": [],
   "source": [
    "import numpy as np\n",
    "import pandas as pd\n",
    "import matplotlib.pyplot as plt\n",
    "from sklearn.model_selection import cross_val_score\n",
    "from sklearn.model_selection import KFold\n",
    "from sklearn.feature_selection import SelectKBest\n",
    "import seaborn as sns\n",
    "from sklearn import preprocessing, metrics, feature_selection\n",
    "from datetime import datetime\n",
    "from scipy import stats\n",
    "from sklearn.feature_selection import SelectFromModel\n",
    "from sklearn.linear_model import LassoCV\n",
    "from sklearn.linear_model import Lasso\n",
    "from sklearn.model_selection import train_test_split\n",
    "from sklearn.preprocessing import StandardScaler , MinMaxScaler\n",
    "from sklearn.pipeline import Pipeline, FeatureUnion\n",
    "from sklearn.model_selection import GridSearchCV\n",
    "from sklearn.ensemble import RandomForestRegressor\n",
    "from sklearn.metrics import mean_squared_error\n",
    "from sklearn.feature_selection import RFECV\n",
    "from sklearn.decomposition import PCA\n",
    "from sklearn.decomposition import PCA\n",
    "\n",
    "sns.set()\n",
    "sns.set(color_codes=True)\n",
    "#sns.set_color_codes()\n",
    "\n",
    "pd.options.display.max_rows = 15\n",
    "pd.options.display.float_format = '{:,.4f}'.format"
   ]
  },
  {
   "cell_type": "markdown",
   "metadata": {},
   "source": [
    "Set this flag to True if you're using reduction feature using FCA, otherwise set it to False"
   ]
  },
  {
   "cell_type": "code",
   "execution_count": 36,
   "metadata": {},
   "outputs": [],
   "source": [
    "# 1- read data file\n",
    "# 1- read processed file\n",
    "home_dir = '/Users/hmohamed/github/data-research-spring2020/sock-shop'\n",
    "file_dir = home_dir + '/processed-data/'\n",
    "\n",
    "data_file = 'order_flow_normalized_data.csv'\n",
    "\n",
    "\n",
    "SCALE_TARGETS = True\n",
    "SCALE_FEATURES = True\n",
    "\n",
    "test_split = 0.1"
   ]
  },
  {
   "cell_type": "code",
   "execution_count": 37,
   "metadata": {},
   "outputs": [],
   "source": [
    "def read_df(file_dir, data_file, timeseries=True):\n",
    "    df = pd.read_csv(file_dir + data_file)\n",
    "    if timeseries:\n",
    "        df = to_time_series(df)\n",
    "    return df\n",
    "\n",
    "def to_time_series(df, index_col_name='date'):\n",
    "    df[index_col_name] = pd.to_datetime(df[index_col_name])\n",
    "    df.set_index(index_col_name, inplace=True)\n",
    "    df.sort_index(inplace=True)\n",
    "    return df\n",
    "\n",
    "def merge(df, series):\n",
    "    return pd.merge_asof(df, series, left_index=True, right_index=True, tolerance=pd.Timedelta('1 second')).bfill()    \n"
   ]
  },
  {
   "cell_type": "code",
   "execution_count": 38,
   "metadata": {},
   "outputs": [
    {
     "data": {
      "text/html": [
       "<div>\n",
       "<style scoped>\n",
       "    .dataframe tbody tr th:only-of-type {\n",
       "        vertical-align: middle;\n",
       "    }\n",
       "\n",
       "    .dataframe tbody tr th {\n",
       "        vertical-align: top;\n",
       "    }\n",
       "\n",
       "    .dataframe thead th {\n",
       "        text-align: right;\n",
       "    }\n",
       "</style>\n",
       "<table border=\"1\" class=\"dataframe\">\n",
       "  <thead>\n",
       "    <tr style=\"text-align: right;\">\n",
       "      <th></th>\n",
       "      <th>front-end_cpu_use</th>\n",
       "      <th>orders_cpu_use</th>\n",
       "      <th>orders-db_cpu_use</th>\n",
       "      <th>user_cpu_use</th>\n",
       "      <th>user-db_cpu_use</th>\n",
       "      <th>shipping_cpu_use</th>\n",
       "      <th>payment_cpu_use</th>\n",
       "      <th>carts_cpu_use</th>\n",
       "      <th>carts-db_cpu_use</th>\n",
       "      <th>front-end_pods</th>\n",
       "      <th>...</th>\n",
       "      <th>user-db_net_use</th>\n",
       "      <th>shipping_net_use</th>\n",
       "      <th>payment_net_use</th>\n",
       "      <th>carts_net_use</th>\n",
       "      <th>carts-db_net_use</th>\n",
       "      <th>nodes_cpu_use</th>\n",
       "      <th>nodes_disk_io</th>\n",
       "      <th>nodes_net_use</th>\n",
       "      <th>orders_req</th>\n",
       "      <th>orders_ltcy</th>\n",
       "    </tr>\n",
       "  </thead>\n",
       "  <tbody>\n",
       "    <tr>\n",
       "      <th>0</th>\n",
       "      <td>0.0700</td>\n",
       "      <td>0.0200</td>\n",
       "      <td>0.0100</td>\n",
       "      <td>0.0200</td>\n",
       "      <td>0.0200</td>\n",
       "      <td>0.0100</td>\n",
       "      <td>0.0100</td>\n",
       "      <td>0.1200</td>\n",
       "      <td>0.1600</td>\n",
       "      <td>1.0000</td>\n",
       "      <td>...</td>\n",
       "      <td>9.1583</td>\n",
       "      <td>4.2628</td>\n",
       "      <td>3.3626</td>\n",
       "      <td>6.9149</td>\n",
       "      <td>5.5572</td>\n",
       "      <td>1.1800</td>\n",
       "      <td>0.0000</td>\n",
       "      <td>1.7850</td>\n",
       "      <td>0.4000</td>\n",
       "      <td>0.4000</td>\n",
       "    </tr>\n",
       "    <tr>\n",
       "      <th>1</th>\n",
       "      <td>0.0600</td>\n",
       "      <td>0.0300</td>\n",
       "      <td>0.0100</td>\n",
       "      <td>0.0200</td>\n",
       "      <td>0.0200</td>\n",
       "      <td>0.0100</td>\n",
       "      <td>0.0100</td>\n",
       "      <td>0.1400</td>\n",
       "      <td>0.1700</td>\n",
       "      <td>1.0000</td>\n",
       "      <td>...</td>\n",
       "      <td>8.2344</td>\n",
       "      <td>4.8656</td>\n",
       "      <td>3.1404</td>\n",
       "      <td>9.7259</td>\n",
       "      <td>7.1883</td>\n",
       "      <td>1.1800</td>\n",
       "      <td>0.0000</td>\n",
       "      <td>1.7496</td>\n",
       "      <td>0.4400</td>\n",
       "      <td>0.3900</td>\n",
       "    </tr>\n",
       "    <tr>\n",
       "      <th>2</th>\n",
       "      <td>0.2100</td>\n",
       "      <td>0.0600</td>\n",
       "      <td>0.0200</td>\n",
       "      <td>0.0500</td>\n",
       "      <td>0.0300</td>\n",
       "      <td>0.0200</td>\n",
       "      <td>0.0100</td>\n",
       "      <td>0.2400</td>\n",
       "      <td>0.6600</td>\n",
       "      <td>1.0000</td>\n",
       "      <td>...</td>\n",
       "      <td>25.5465</td>\n",
       "      <td>3.1148</td>\n",
       "      <td>4.4254</td>\n",
       "      <td>29.5804</td>\n",
       "      <td>7.4301</td>\n",
       "      <td>1.8400</td>\n",
       "      <td>0.2600</td>\n",
       "      <td>3.6912</td>\n",
       "      <td>1.5800</td>\n",
       "      <td>0.4200</td>\n",
       "    </tr>\n",
       "    <tr>\n",
       "      <th>3</th>\n",
       "      <td>0.2200</td>\n",
       "      <td>0.0600</td>\n",
       "      <td>0.0200</td>\n",
       "      <td>0.0600</td>\n",
       "      <td>0.0400</td>\n",
       "      <td>0.0200</td>\n",
       "      <td>0.0100</td>\n",
       "      <td>0.2100</td>\n",
       "      <td>0.6600</td>\n",
       "      <td>1.0000</td>\n",
       "      <td>...</td>\n",
       "      <td>26.4822</td>\n",
       "      <td>7.2076</td>\n",
       "      <td>4.4523</td>\n",
       "      <td>25.2584</td>\n",
       "      <td>15.2118</td>\n",
       "      <td>1.8300</td>\n",
       "      <td>0.2600</td>\n",
       "      <td>3.7957</td>\n",
       "      <td>1.5800</td>\n",
       "      <td>0.4100</td>\n",
       "    </tr>\n",
       "    <tr>\n",
       "      <th>4</th>\n",
       "      <td>0.2100</td>\n",
       "      <td>0.0600</td>\n",
       "      <td>0.0100</td>\n",
       "      <td>0.0500</td>\n",
       "      <td>0.0400</td>\n",
       "      <td>0.0200</td>\n",
       "      <td>0.0100</td>\n",
       "      <td>0.1500</td>\n",
       "      <td>0.6600</td>\n",
       "      <td>1.0000</td>\n",
       "      <td>...</td>\n",
       "      <td>18.6872</td>\n",
       "      <td>6.8741</td>\n",
       "      <td>6.0157</td>\n",
       "      <td>24.1570</td>\n",
       "      <td>16.1607</td>\n",
       "      <td>1.7500</td>\n",
       "      <td>0.0000</td>\n",
       "      <td>3.8370</td>\n",
       "      <td>1.4900</td>\n",
       "      <td>0.3900</td>\n",
       "    </tr>\n",
       "  </tbody>\n",
       "</table>\n",
       "<p>5 rows × 29 columns</p>\n",
       "</div>"
      ],
      "text/plain": [
       "   front-end_cpu_use  orders_cpu_use  orders-db_cpu_use  user_cpu_use  \\\n",
       "0             0.0700          0.0200             0.0100        0.0200   \n",
       "1             0.0600          0.0300             0.0100        0.0200   \n",
       "2             0.2100          0.0600             0.0200        0.0500   \n",
       "3             0.2200          0.0600             0.0200        0.0600   \n",
       "4             0.2100          0.0600             0.0100        0.0500   \n",
       "\n",
       "   user-db_cpu_use  shipping_cpu_use  payment_cpu_use  carts_cpu_use  \\\n",
       "0           0.0200            0.0100           0.0100         0.1200   \n",
       "1           0.0200            0.0100           0.0100         0.1400   \n",
       "2           0.0300            0.0200           0.0100         0.2400   \n",
       "3           0.0400            0.0200           0.0100         0.2100   \n",
       "4           0.0400            0.0200           0.0100         0.1500   \n",
       "\n",
       "   carts-db_cpu_use  front-end_pods  ...  user-db_net_use  shipping_net_use  \\\n",
       "0            0.1600          1.0000  ...           9.1583            4.2628   \n",
       "1            0.1700          1.0000  ...           8.2344            4.8656   \n",
       "2            0.6600          1.0000  ...          25.5465            3.1148   \n",
       "3            0.6600          1.0000  ...          26.4822            7.2076   \n",
       "4            0.6600          1.0000  ...          18.6872            6.8741   \n",
       "\n",
       "   payment_net_use  carts_net_use  carts-db_net_use  nodes_cpu_use  \\\n",
       "0           3.3626         6.9149            5.5572         1.1800   \n",
       "1           3.1404         9.7259            7.1883         1.1800   \n",
       "2           4.4254        29.5804            7.4301         1.8400   \n",
       "3           4.4523        25.2584           15.2118         1.8300   \n",
       "4           6.0157        24.1570           16.1607         1.7500   \n",
       "\n",
       "   nodes_disk_io  nodes_net_use  orders_req  orders_ltcy  \n",
       "0         0.0000         1.7850      0.4000       0.4000  \n",
       "1         0.0000         1.7496      0.4400       0.3900  \n",
       "2         0.2600         3.6912      1.5800       0.4200  \n",
       "3         0.2600         3.7957      1.5800       0.4100  \n",
       "4         0.0000         3.8370      1.4900       0.3900  \n",
       "\n",
       "[5 rows x 29 columns]"
      ]
     },
     "execution_count": 38,
     "metadata": {},
     "output_type": "execute_result"
    }
   ],
   "source": [
    "data = read_df(file_dir, data_file, True)\n",
    "data = data.reset_index(drop=True)\n",
    "data.head(5)"
   ]
  },
  {
   "cell_type": "code",
   "execution_count": 39,
   "metadata": {},
   "outputs": [
    {
     "data": {
      "text/plain": [
       "(3175, 29)"
      ]
     },
     "execution_count": 39,
     "metadata": {},
     "output_type": "execute_result"
    }
   ],
   "source": [
    "data.shape"
   ]
  },
  {
   "cell_type": "code",
   "execution_count": 40,
   "metadata": {},
   "outputs": [
    {
     "name": "stdout",
     "output_type": "stream",
     "text": [
      "there are 28 features\n"
     ]
    }
   ],
   "source": [
    "targets = data['orders_ltcy']\n",
    "inputs = data.drop(['orders_ltcy'], axis=1)\n",
    "\n",
    "n_features = inputs.values.shape[1]\n",
    "print(\"there are {} features\".format(n_features))\n"
   ]
  },
  {
   "cell_type": "code",
   "execution_count": 41,
   "metadata": {},
   "outputs": [],
   "source": [
    "# scale targets for better convergence\n",
    "if SCALE_TARGETS:\n",
    "    y_scaler =  MinMaxScaler()\n",
    "    targets = y_scaler.fit_transform(targets.values.reshape(-1,1))"
   ]
  },
  {
   "cell_type": "code",
   "execution_count": 42,
   "metadata": {},
   "outputs": [],
   "source": [
    "x_train, x_test, y_train, y_test = \\\n",
    "    train_test_split(inputs, targets, test_size=test_split, shuffle=False, random_state=365)\n",
    "\n",
    "if SCALE_FEATURES:\n",
    "    x_scaler = StandardScaler()\n",
    "    x_train = x_scaler.fit_transform(x_train)\n",
    "    x_test = x_scaler.transform(x_test)\n"
   ]
  },
  {
   "cell_type": "markdown",
   "metadata": {},
   "source": [
    "# PCA Decomposion"
   ]
  },
  {
   "cell_type": "code",
   "execution_count": 43,
   "metadata": {},
   "outputs": [
    {
     "data": {
      "text/plain": [
       "PCA(copy=True, iterated_power='auto', n_components=28, random_state=100,\n",
       "    svd_solver='auto', tol=0.0, whiten=False)"
      ]
     },
     "execution_count": 43,
     "metadata": {},
     "output_type": "execute_result"
    }
   ],
   "source": [
    "pca = PCA(random_state=100, n_components=28)\n",
    "pca.fit(x_train)"
   ]
  },
  {
   "cell_type": "code",
   "execution_count": 44,
   "metadata": {},
   "outputs": [
    {
     "data": {
      "text/plain": [
       "Text(0, 0.5, 'Cumulative explained variance')"
      ]
     },
     "execution_count": 44,
     "metadata": {},
     "output_type": "execute_result"
    },
    {
     "data": {
      "image/png": "[encoded data removed]",
      "text/plain": [
       "<Figure size 432x288 with 1 Axes>"
      ]
     },
     "metadata": {},
     "output_type": "display_data"
    }
   ],
   "source": [
    "plt.plot(np.cumsum(pca.explained_variance_ratio_))\n",
    "plt.xlabel('Number of components')\n",
    "plt.ylabel('Cumulative explained variance')"
   ]
  },
  {
   "cell_type": "code",
   "execution_count": 45,
   "metadata": {},
   "outputs": [
    {
     "name": "stdout",
     "output_type": "stream",
     "text": [
      "(2857, 28)\n",
      "(2857, 15)\n"
     ]
    }
   ],
   "source": [
    "NCOMPONENTS = 15\n",
    "\n",
    "\n",
    "pca = PCA(random_state=100, n_components=NCOMPONENTS)\n",
    "x_pca_train = pca.fit_transform(x_train)\n",
    "x_pca_test = pca.transform(x_test)\n",
    "pca_std = np.std(x_pca_train)\n",
    "\n",
    "print(x_train.shape)\n",
    "print(x_pca_train.shape)"
   ]
  },
  {
   "cell_type": "code",
   "execution_count": 46,
   "metadata": {},
   "outputs": [],
   "source": [
    "# By the way you can invert the values to their very original values\n",
    "inv_pca = pca.inverse_transform(x_pca_train)\n",
    "inv_sc = x_scaler.inverse_transform(inv_pca)"
   ]
  }
 ],
 "metadata": {
  "kernelspec": {
   "display_name": "Python 3",
   "language": "python",
   "name": "python3"
  },
  "language_info": {
   "codemirror_mode": {
    "name": "ipython",
    "version": 3
   },
   "file_extension": ".py",
   "mimetype": "text/x-python",
   "name": "python",
   "nbconvert_exporter": "python",
   "pygments_lexer": "ipython3",
   "version": "3.7.7"
  }
 },
 "nbformat": 4,
 "nbformat_minor": 4
}
