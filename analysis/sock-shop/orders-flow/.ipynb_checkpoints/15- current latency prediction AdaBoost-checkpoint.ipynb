{
 "cells": [
  {
   "cell_type": "markdown",
   "metadata": {},
   "source": [
    "# AdaBoost\n",
    "Haytham Mohamed\n",
    "\n",
    "INFS 890 - Spring 2020"
   ]
  },
  {
   "cell_type": "code",
   "execution_count": 49,
   "metadata": {},
   "outputs": [],
   "source": [
    "import numpy as np\n",
    "import pandas as pd\n",
    "import matplotlib.pyplot as plt\n",
    "from sklearn.ensemble import AdaBoostRegressor #For Regression\n",
    "from sklearn.model_selection import cross_val_score\n",
    "from sklearn.model_selection import KFold\n",
    "from sklearn.feature_selection import SelectKBest\n",
    "import seaborn as sns\n",
    "from sklearn import preprocessing, metrics, feature_selection, tree\n",
    "from datetime import datetime\n",
    "from scipy import stats\n",
    "from sklearn.feature_selection import SelectFromModel\n",
    "from sklearn.linear_model import LassoCV\n",
    "from sklearn.linear_model import Lasso\n",
    "from sklearn.model_selection import train_test_split\n",
    "from sklearn.preprocessing import StandardScaler , MinMaxScaler\n",
    "from sklearn.pipeline import Pipeline, FeatureUnion\n",
    "from sklearn.model_selection import GridSearchCV\n",
    "from sklearn.ensemble import RandomForestRegressor\n",
    "from sklearn.metrics import mean_squared_error\n",
    "from sklearn.feature_selection import RFECV\n",
    "from sklearn.decomposition import PCA\n",
    "\n",
    "sns.set()\n",
    "sns.set(color_codes=True)\n",
    "#sns.set_color_codes()\n",
    "\n",
    "pd.options.display.max_rows = 15\n",
    "pd.options.display.float_format = '{:,.4f}'.format"
   ]
  },
  {
   "cell_type": "markdown",
   "metadata": {},
   "source": [
    "Set this flag to True if you're using reduction feature using FCA, otherwise set it to False"
   ]
  },
  {
   "cell_type": "code",
   "execution_count": 50,
   "metadata": {},
   "outputs": [],
   "source": [
    "# 1- read data file\n",
    "# 1- read processed file\n",
    "home_dir = '/Users/hmohamed/github/data-research-spring2020/sock-shop'\n",
    "file_dir = home_dir + '/processed-data/'\n",
    "\n",
    "data_file = 'orders_flow_data.csv'   # raw data as is\n",
    "#data_file = 'order_flow_cleanup_data.csv'\n",
    "#data_file = 'order_flow_normalized_data.csv'\n",
    "#data_file = 'order_flow_standardized_data.csv'\n",
    "#data_file = 'order_flow_factored_data.csv'\n",
    "\n",
    "\n",
    "SCALE_TARGETS = True\n",
    "SCALE_FEATURES = True\n",
    "\n",
    "FEATURES_SELECTION = True\n",
    "\n",
    "test_split = 0.2"
   ]
  },
  {
   "cell_type": "code",
   "execution_count": 51,
   "metadata": {},
   "outputs": [],
   "source": [
    "def read_df(file_dir, data_file, timeseries=True):\n",
    "    df = pd.read_csv(file_dir + data_file)\n",
    "    if timeseries:\n",
    "        df = to_time_series(df)\n",
    "    return df\n",
    "\n",
    "def to_time_series(df, index_col_name='date'):\n",
    "    df[index_col_name] = pd.to_datetime(df[index_col_name])\n",
    "    df.set_index(index_col_name, inplace=True)\n",
    "    df.sort_index(inplace=True)\n",
    "    return df\n",
    "\n",
    "def merge(df, series):\n",
    "    return pd.merge_asof(df, series, left_index=True, right_index=True, tolerance=pd.Timedelta('1 second')).bfill()    \n"
   ]
  },
  {
   "cell_type": "code",
   "execution_count": 52,
   "metadata": {},
   "outputs": [
    {
     "name": "stdout",
     "output_type": "stream",
     "text": [
      "data shape (6766, 29)\n"
     ]
    },
    {
     "data": {
      "text/html": [
       "<div>\n",
       "<style scoped>\n",
       "    .dataframe tbody tr th:only-of-type {\n",
       "        vertical-align: middle;\n",
       "    }\n",
       "\n",
       "    .dataframe tbody tr th {\n",
       "        vertical-align: top;\n",
       "    }\n",
       "\n",
       "    .dataframe thead th {\n",
       "        text-align: right;\n",
       "    }\n",
       "</style>\n",
       "<table border=\"1\" class=\"dataframe\">\n",
       "  <thead>\n",
       "    <tr style=\"text-align: right;\">\n",
       "      <th></th>\n",
       "      <th>front-end_cpu_use</th>\n",
       "      <th>orders_cpu_use</th>\n",
       "      <th>orders-db_cpu_use</th>\n",
       "      <th>user_cpu_use</th>\n",
       "      <th>user-db_cpu_use</th>\n",
       "      <th>shipping_cpu_use</th>\n",
       "      <th>payment_cpu_use</th>\n",
       "      <th>carts_cpu_use</th>\n",
       "      <th>carts-db_cpu_use</th>\n",
       "      <th>front-end_pods</th>\n",
       "      <th>...</th>\n",
       "      <th>user-db_net_use</th>\n",
       "      <th>shipping_net_use</th>\n",
       "      <th>payment_net_use</th>\n",
       "      <th>carts_net_use</th>\n",
       "      <th>carts-db_net_use</th>\n",
       "      <th>nodes_cpu_use</th>\n",
       "      <th>nodes_disk_io</th>\n",
       "      <th>nodes_net_use</th>\n",
       "      <th>orders_req</th>\n",
       "      <th>orders_ltcy</th>\n",
       "    </tr>\n",
       "  </thead>\n",
       "  <tbody>\n",
       "    <tr>\n",
       "      <th>0</th>\n",
       "      <td>0.0300</td>\n",
       "      <td>0.0100</td>\n",
       "      <td>0.0100</td>\n",
       "      <td>0.0100</td>\n",
       "      <td>0.0100</td>\n",
       "      <td>0.0100</td>\n",
       "      <td>0.0100</td>\n",
       "      <td>0.0300</td>\n",
       "      <td>0.0700</td>\n",
       "      <td>1.0000</td>\n",
       "      <td>...</td>\n",
       "      <td>2.2044</td>\n",
       "      <td>2.6585</td>\n",
       "      <td>8.9654</td>\n",
       "      <td>22.0117</td>\n",
       "      <td>4.7995</td>\n",
       "      <td>2.5000</td>\n",
       "      <td>1.6700</td>\n",
       "      <td>2.7617</td>\n",
       "      <td>0.1500</td>\n",
       "      <td>0.2400</td>\n",
       "    </tr>\n",
       "    <tr>\n",
       "      <th>1</th>\n",
       "      <td>0.0600</td>\n",
       "      <td>0.0200</td>\n",
       "      <td>0.0200</td>\n",
       "      <td>0.0200</td>\n",
       "      <td>0.0200</td>\n",
       "      <td>0.0100</td>\n",
       "      <td>0.0100</td>\n",
       "      <td>0.1800</td>\n",
       "      <td>0.1800</td>\n",
       "      <td>1.0000</td>\n",
       "      <td>...</td>\n",
       "      <td>2.2044</td>\n",
       "      <td>2.6585</td>\n",
       "      <td>8.9654</td>\n",
       "      <td>22.0117</td>\n",
       "      <td>4.7995</td>\n",
       "      <td>1.8900</td>\n",
       "      <td>1.0100</td>\n",
       "      <td>2.7617</td>\n",
       "      <td>0.1500</td>\n",
       "      <td>0.2400</td>\n",
       "    </tr>\n",
       "    <tr>\n",
       "      <th>2</th>\n",
       "      <td>0.0700</td>\n",
       "      <td>0.0300</td>\n",
       "      <td>0.0200</td>\n",
       "      <td>0.0300</td>\n",
       "      <td>0.0200</td>\n",
       "      <td>0.0100</td>\n",
       "      <td>0.0100</td>\n",
       "      <td>0.4400</td>\n",
       "      <td>0.2000</td>\n",
       "      <td>1.0000</td>\n",
       "      <td>...</td>\n",
       "      <td>16.0739</td>\n",
       "      <td>13.5708</td>\n",
       "      <td>16.9964</td>\n",
       "      <td>27.3438</td>\n",
       "      <td>16.6522</td>\n",
       "      <td>1.3500</td>\n",
       "      <td>0.0500</td>\n",
       "      <td>2.5880</td>\n",
       "      <td>0.1500</td>\n",
       "      <td>0.2400</td>\n",
       "    </tr>\n",
       "    <tr>\n",
       "      <th>3</th>\n",
       "      <td>0.0700</td>\n",
       "      <td>0.0300</td>\n",
       "      <td>0.0200</td>\n",
       "      <td>0.0200</td>\n",
       "      <td>0.0200</td>\n",
       "      <td>0.0100</td>\n",
       "      <td>0.0100</td>\n",
       "      <td>0.2300</td>\n",
       "      <td>0.1700</td>\n",
       "      <td>1.0000</td>\n",
       "      <td>...</td>\n",
       "      <td>19.9869</td>\n",
       "      <td>14.4342</td>\n",
       "      <td>9.5804</td>\n",
       "      <td>9.4313</td>\n",
       "      <td>17.1768</td>\n",
       "      <td>1.2600</td>\n",
       "      <td>0.0400</td>\n",
       "      <td>2.1487</td>\n",
       "      <td>0.1300</td>\n",
       "      <td>0.2400</td>\n",
       "    </tr>\n",
       "    <tr>\n",
       "      <th>4</th>\n",
       "      <td>0.0700</td>\n",
       "      <td>0.0200</td>\n",
       "      <td>0.0100</td>\n",
       "      <td>0.0200</td>\n",
       "      <td>0.0200</td>\n",
       "      <td>0.0100</td>\n",
       "      <td>0.0100</td>\n",
       "      <td>0.2400</td>\n",
       "      <td>0.1400</td>\n",
       "      <td>1.0000</td>\n",
       "      <td>...</td>\n",
       "      <td>10.4490</td>\n",
       "      <td>3.7392</td>\n",
       "      <td>2.7970</td>\n",
       "      <td>9.1791</td>\n",
       "      <td>6.2516</td>\n",
       "      <td>1.2800</td>\n",
       "      <td>0.2600</td>\n",
       "      <td>1.8080</td>\n",
       "      <td>0.3600</td>\n",
       "      <td>0.2400</td>\n",
       "    </tr>\n",
       "  </tbody>\n",
       "</table>\n",
       "<p>5 rows × 29 columns</p>\n",
       "</div>"
      ],
      "text/plain": [
       "   front-end_cpu_use  orders_cpu_use  orders-db_cpu_use  user_cpu_use  \\\n",
       "0             0.0300          0.0100             0.0100        0.0100   \n",
       "1             0.0600          0.0200             0.0200        0.0200   \n",
       "2             0.0700          0.0300             0.0200        0.0300   \n",
       "3             0.0700          0.0300             0.0200        0.0200   \n",
       "4             0.0700          0.0200             0.0100        0.0200   \n",
       "\n",
       "   user-db_cpu_use  shipping_cpu_use  payment_cpu_use  carts_cpu_use  \\\n",
       "0           0.0100            0.0100           0.0100         0.0300   \n",
       "1           0.0200            0.0100           0.0100         0.1800   \n",
       "2           0.0200            0.0100           0.0100         0.4400   \n",
       "3           0.0200            0.0100           0.0100         0.2300   \n",
       "4           0.0200            0.0100           0.0100         0.2400   \n",
       "\n",
       "   carts-db_cpu_use  front-end_pods  ...  user-db_net_use  shipping_net_use  \\\n",
       "0            0.0700          1.0000  ...           2.2044            2.6585   \n",
       "1            0.1800          1.0000  ...           2.2044            2.6585   \n",
       "2            0.2000          1.0000  ...          16.0739           13.5708   \n",
       "3            0.1700          1.0000  ...          19.9869           14.4342   \n",
       "4            0.1400          1.0000  ...          10.4490            3.7392   \n",
       "\n",
       "   payment_net_use  carts_net_use  carts-db_net_use  nodes_cpu_use  \\\n",
       "0           8.9654        22.0117            4.7995         2.5000   \n",
       "1           8.9654        22.0117            4.7995         1.8900   \n",
       "2          16.9964        27.3438           16.6522         1.3500   \n",
       "3           9.5804         9.4313           17.1768         1.2600   \n",
       "4           2.7970         9.1791            6.2516         1.2800   \n",
       "\n",
       "   nodes_disk_io  nodes_net_use  orders_req  orders_ltcy  \n",
       "0         1.6700         2.7617      0.1500       0.2400  \n",
       "1         1.0100         2.7617      0.1500       0.2400  \n",
       "2         0.0500         2.5880      0.1500       0.2400  \n",
       "3         0.0400         2.1487      0.1300       0.2400  \n",
       "4         0.2600         1.8080      0.3600       0.2400  \n",
       "\n",
       "[5 rows x 29 columns]"
      ]
     },
     "execution_count": 52,
     "metadata": {},
     "output_type": "execute_result"
    }
   ],
   "source": [
    "data = read_df(file_dir, data_file, True)\n",
    "data = data.reset_index(drop=True)\n",
    "\n",
    "print('data shape {}'.format(data.shape))\n",
    "\n",
    "data.head(5)"
   ]
  },
  {
   "cell_type": "code",
   "execution_count": 53,
   "metadata": {},
   "outputs": [
    {
     "name": "stdout",
     "output_type": "stream",
     "text": [
      "there are 28 features\n"
     ]
    }
   ],
   "source": [
    "targets = data['orders_ltcy']\n",
    "inputs = data.drop(['orders_ltcy'], axis=1)\n",
    "\n",
    "n_features = inputs.values.shape[1]\n",
    "print(\"there are {} features\".format(n_features))\n"
   ]
  },
  {
   "cell_type": "code",
   "execution_count": 54,
   "metadata": {},
   "outputs": [
    {
     "name": "stdout",
     "output_type": "stream",
     "text": [
      "front-end_cpu_use\n",
      "orders_cpu_use\n",
      "orders-db_cpu_use\n",
      "user_cpu_use\n",
      "user-db_cpu_use\n",
      "shipping_cpu_use\n",
      "payment_cpu_use\n",
      "carts_cpu_use\n",
      "carts-db_cpu_use\n",
      "front-end_pods\n",
      "orders_pods\n",
      "user_pods\n",
      "shipping_pods\n",
      "payment_pods\n",
      "carts_pods\n",
      "front-end_net_use\n",
      "orders_net_use\n",
      "orders-db_net_use\n",
      "user_net_use\n",
      "user-db_net_use\n",
      "shipping_net_use\n",
      "payment_net_use\n",
      "carts_net_use\n",
      "carts-db_net_use\n",
      "nodes_cpu_use\n",
      "nodes_disk_io\n",
      "nodes_net_use\n",
      "orders_req\n"
     ]
    }
   ],
   "source": [
    "# print out the features\n",
    "for feature in inputs.columns.values:\n",
    "    print(feature)"
   ]
  },
  {
   "cell_type": "markdown",
   "metadata": {},
   "source": [
    "# Features Selection"
   ]
  },
  {
   "cell_type": "code",
   "execution_count": 55,
   "metadata": {},
   "outputs": [],
   "source": [
    "def features_selection(x, y, to_scale=FEATURES_SELECTION):\n",
    "    if to_scale:  \n",
    "        #clf = RandomForestRegressor(n_jobs=-1, max_depth=10, n_estimators=15)    \n",
    "        clf = LassoCV(tol=0.1)\n",
    "        sfm = SelectFromModel(clf, threshold='0.05*mean')\n",
    "\n",
    "        selectedFeatures = sfm.fit(x, y).transform(x)\n",
    "        print('{} features selected'.format(selectedFeatures[1].shape[0]))\n",
    "        \n",
    "        feature_list = x.columns[sfm.get_support()]\n",
    "        features = ''\n",
    "        features = ', '.join(feature_list)\n",
    "    \n",
    "        print(\"columns selected are {}\".format(features))\n",
    "\n",
    "        x = x[feature_list]        \n",
    "    return x\n"
   ]
  },
  {
   "cell_type": "code",
   "execution_count": 56,
   "metadata": {},
   "outputs": [
    {
     "name": "stdout",
     "output_type": "stream",
     "text": [
      "12 features selected\n",
      "columns selected are carts_cpu_use, carts-db_cpu_use, front-end_pods, orders_net_use, orders-db_net_use, user_net_use, shipping_net_use, payment_net_use, carts_net_use, nodes_cpu_use, nodes_net_use, orders_req\n"
     ]
    }
   ],
   "source": [
    "inputs = features_selection(inputs, targets, )"
   ]
  },
  {
   "cell_type": "code",
   "execution_count": 57,
   "metadata": {},
   "outputs": [],
   "source": [
    "# scale targets for better convergence\n",
    "if SCALE_TARGETS:\n",
    "    y_scaler =  MinMaxScaler()\n",
    "    targets = y_scaler.fit_transform(targets.values.reshape(-1,1))\n",
    "    \n",
    "x_train, x_test, y_train, y_test = \\\n",
    "    train_test_split(inputs, targets, test_size=test_split, shuffle=False, random_state=365)  \n",
    "\n",
    "if SCALE_FEATURES:\n",
    "    x_scaler = StandardScaler()\n",
    "    x_train = x_scaler.fit_transform(x_train)\n",
    "    x_test = x_scaler.transform(x_test)"
   ]
  },
  {
   "cell_type": "code",
   "execution_count": 58,
   "metadata": {},
   "outputs": [
    {
     "data": {
      "image/png": "[encoded data removed]",
      "text/plain": [
       "<Figure size 432x288 with 1 Axes>"
      ]
     },
     "metadata": {},
     "output_type": "display_data"
    }
   ],
   "source": [
    "# plot cpu vs latency \n",
    "plt.plot(data['orders_cpu_use'][100:200], label='orders_cpu_use')\n",
    "plt.plot(data['orders_ltcy'][100:200], label='orders_ltcy')\n",
    "plt.legend()\n",
    "plt.show()\n"
   ]
  },
  {
   "cell_type": "markdown",
   "metadata": {},
   "source": [
    "# Model"
   ]
  },
  {
   "cell_type": "code",
   "execution_count": 59,
   "metadata": {},
   "outputs": [],
   "source": [
    "\n",
    "dt = tree.DecisionTreeRegressor() \n",
    "reg = AdaBoostRegressor(n_estimators=200, base_estimator=dt,learning_rate=0.5, random_state=100, loss='exponential')\n"
   ]
  },
  {
   "cell_type": "code",
   "execution_count": 60,
   "metadata": {},
   "outputs": [
    {
     "name": "stdout",
     "output_type": "stream",
     "text": [
      "sklearn version 0.22.2.post1\n"
     ]
    },
    {
     "name": "stderr",
     "output_type": "stream",
     "text": [
      "/opt/anaconda3/envs/infs890/lib/python3.7/site-packages/sklearn/utils/validation.py:760: DataConversionWarning: A column-vector y was passed when a 1d array was expected. Please change the shape of y to (n_samples, ), for example using ravel().\n",
      "  y = column_or_1d(y, warn=True)\n"
     ]
    },
    {
     "data": {
      "text/plain": [
       "AdaBoostRegressor(base_estimator=DecisionTreeRegressor(ccp_alpha=0.0,\n",
       "                                                       criterion='mse',\n",
       "                                                       max_depth=None,\n",
       "                                                       max_features=None,\n",
       "                                                       max_leaf_nodes=None,\n",
       "                                                       min_impurity_decrease=0.0,\n",
       "                                                       min_impurity_split=None,\n",
       "                                                       min_samples_leaf=1,\n",
       "                                                       min_samples_split=2,\n",
       "                                                       min_weight_fraction_leaf=0.0,\n",
       "                                                       presort='deprecated',\n",
       "                                                       random_state=None,\n",
       "                                                       splitter='best'),\n",
       "                  learning_rate=0.05, loss='square', n_estimators=300,\n",
       "                  random_state=100)"
      ]
     },
     "execution_count": 60,
     "metadata": {},
     "output_type": "execute_result"
    }
   ],
   "source": [
    "import sklearn \n",
    "print('sklearn version {}'.format(sklearn.__version__))\n",
    "\n",
    "reg.fit(x_train, y_train)"
   ]
  },
  {
   "cell_type": "markdown",
   "metadata": {},
   "source": [
    "# Training R2"
   ]
  },
  {
   "cell_type": "code",
   "execution_count": 61,
   "metadata": {},
   "outputs": [
    {
     "name": "stdout",
     "output_type": "stream",
     "text": [
      "R2 (training) = 0.9381644677183912\n",
      "Score (training) = 0.9381644677183912\n"
     ]
    }
   ],
   "source": [
    "y_train_pred = reg.predict(x_train)\n",
    "\n",
    "r2_train = metrics.r2_score(y_train, y_train_pred)\n",
    "print('R2 (training) = {}'.format(r2_train))\n",
    "\n",
    "print('Score (training) = {}'.format(reg.score(x_train,y_train)))"
   ]
  },
  {
   "cell_type": "code",
   "execution_count": 62,
   "metadata": {},
   "outputs": [
    {
     "name": "stdout",
     "output_type": "stream",
     "text": [
      "Model Result (mean - std of error - min - max): 0.37 (0.34) 0.00 1.00 MSE\n"
     ]
    }
   ],
   "source": [
    "# validation mean_absolute_percentage_error\n",
    "train_error =  np.abs(y_train - y_train_pred)\n",
    "mean_error = np.mean(train_error)\n",
    "min_error = np.min(train_error)\n",
    "max_error = np.max(train_error)\n",
    "std_error = np.std(train_error)\n",
    "\n",
    "print(\"Model Result (mean - std of error - min - max): %.2f (%.2f) %.2f %.2f MSE\" \\\n",
    "      % (mean_error, std_error, min_error, max_error))"
   ]
  },
  {
   "cell_type": "code",
   "execution_count": 63,
   "metadata": {},
   "outputs": [
    {
     "data": {
      "image/png": "[encoded data removed]",
      "text/plain": [
       "<Figure size 432x288 with 1 Axes>"
      ]
     },
     "metadata": {},
     "output_type": "display_data"
    }
   ],
   "source": [
    "plt.scatter(y_train, y_train_pred)\n",
    "plt.xlabel('Latency', size=18)\n",
    "plt.ylabel(\"predicted Latency\", size=18)\n",
    "plt.show()"
   ]
  },
  {
   "cell_type": "markdown",
   "metadata": {},
   "source": [
    "# Testing"
   ]
  },
  {
   "cell_type": "code",
   "execution_count": 64,
   "metadata": {},
   "outputs": [],
   "source": [
    "y_test_pred = reg.predict(x_test)"
   ]
  },
  {
   "cell_type": "code",
   "execution_count": 65,
   "metadata": {},
   "outputs": [
    {
     "data": {
      "text/plain": [
       "<function matplotlib.pyplot.show(*args, **kw)>"
      ]
     },
     "execution_count": 65,
     "metadata": {},
     "output_type": "execute_result"
    },
    {
     "data": {
      "image/png": "[encoded data removed]",
      "text/plain": [
       "<Figure size 432x288 with 1 Axes>"
      ]
     },
     "metadata": {},
     "output_type": "display_data"
    }
   ],
   "source": [
    "plt.scatter(y_test, y_test_pred)\n",
    "plt.xlabel('Latency', size=18)\n",
    "plt.ylabel('Predicted Latency', size=18)\n",
    "plt.show"
   ]
  },
  {
   "cell_type": "code",
   "execution_count": 66,
   "metadata": {},
   "outputs": [
    {
     "data": {
      "image/png": "[encoded data removed]",
      "text/plain": [
       "<Figure size 432x288 with 1 Axes>"
      ]
     },
     "metadata": {},
     "output_type": "display_data"
    }
   ],
   "source": [
    "ax = sns.regplot(x=y_test, y=y_test_pred, color='g')"
   ]
  },
  {
   "cell_type": "code",
   "execution_count": 67,
   "metadata": {},
   "outputs": [
    {
     "data": {
      "text/html": [
       "<div>\n",
       "<style scoped>\n",
       "    .dataframe tbody tr th:only-of-type {\n",
       "        vertical-align: middle;\n",
       "    }\n",
       "\n",
       "    .dataframe tbody tr th {\n",
       "        vertical-align: top;\n",
       "    }\n",
       "\n",
       "    .dataframe thead th {\n",
       "        text-align: right;\n",
       "    }\n",
       "</style>\n",
       "<table border=\"1\" class=\"dataframe\">\n",
       "  <thead>\n",
       "    <tr style=\"text-align: right;\">\n",
       "      <th></th>\n",
       "      <th>prediction</th>\n",
       "      <th>target</th>\n",
       "    </tr>\n",
       "  </thead>\n",
       "  <tbody>\n",
       "    <tr>\n",
       "      <th>0</th>\n",
       "      <td>0.6013</td>\n",
       "      <td>0.2517</td>\n",
       "    </tr>\n",
       "    <tr>\n",
       "      <th>1</th>\n",
       "      <td>0.6013</td>\n",
       "      <td>0.2510</td>\n",
       "    </tr>\n",
       "    <tr>\n",
       "      <th>2</th>\n",
       "      <td>0.6013</td>\n",
       "      <td>0.2504</td>\n",
       "    </tr>\n",
       "    <tr>\n",
       "      <th>3</th>\n",
       "      <td>0.6013</td>\n",
       "      <td>0.2497</td>\n",
       "    </tr>\n",
       "    <tr>\n",
       "      <th>4</th>\n",
       "      <td>0.6013</td>\n",
       "      <td>0.2491</td>\n",
       "    </tr>\n",
       "  </tbody>\n",
       "</table>\n",
       "</div>"
      ],
      "text/plain": [
       "   prediction  target\n",
       "0      0.6013  0.2517\n",
       "1      0.6013  0.2510\n",
       "2      0.6013  0.2504\n",
       "3      0.6013  0.2497\n",
       "4      0.6013  0.2491"
      ]
     },
     "execution_count": 67,
     "metadata": {},
     "output_type": "execute_result"
    }
   ],
   "source": [
    "perf = pd.DataFrame(y_test_pred, columns=['prediction'])\n",
    "perf['target'] = y_test\n",
    "perf.head()"
   ]
  },
  {
   "cell_type": "code",
   "execution_count": 68,
   "metadata": {},
   "outputs": [
    {
     "data": {
      "text/html": [
       "<div>\n",
       "<style scoped>\n",
       "    .dataframe tbody tr th:only-of-type {\n",
       "        vertical-align: middle;\n",
       "    }\n",
       "\n",
       "    .dataframe tbody tr th {\n",
       "        vertical-align: top;\n",
       "    }\n",
       "\n",
       "    .dataframe thead th {\n",
       "        text-align: right;\n",
       "    }\n",
       "</style>\n",
       "<table border=\"1\" class=\"dataframe\">\n",
       "  <thead>\n",
       "    <tr style=\"text-align: right;\">\n",
       "      <th></th>\n",
       "      <th>prediction</th>\n",
       "      <th>target</th>\n",
       "      <th>residual</th>\n",
       "      <th>difference%</th>\n",
       "    </tr>\n",
       "  </thead>\n",
       "  <tbody>\n",
       "    <tr>\n",
       "      <th>0</th>\n",
       "      <td>0.6013</td>\n",
       "      <td>0.2517</td>\n",
       "      <td>0.3496</td>\n",
       "      <td>138.8948</td>\n",
       "    </tr>\n",
       "    <tr>\n",
       "      <th>1</th>\n",
       "      <td>0.6013</td>\n",
       "      <td>0.2510</td>\n",
       "      <td>0.3502</td>\n",
       "      <td>139.5141</td>\n",
       "    </tr>\n",
       "    <tr>\n",
       "      <th>2</th>\n",
       "      <td>0.6013</td>\n",
       "      <td>0.2504</td>\n",
       "      <td>0.3509</td>\n",
       "      <td>140.1366</td>\n",
       "    </tr>\n",
       "    <tr>\n",
       "      <th>3</th>\n",
       "      <td>0.6013</td>\n",
       "      <td>0.2497</td>\n",
       "      <td>0.3515</td>\n",
       "      <td>140.7624</td>\n",
       "    </tr>\n",
       "    <tr>\n",
       "      <th>4</th>\n",
       "      <td>0.6013</td>\n",
       "      <td>0.2491</td>\n",
       "      <td>0.3522</td>\n",
       "      <td>141.3915</td>\n",
       "    </tr>\n",
       "    <tr>\n",
       "      <th>...</th>\n",
       "      <td>...</td>\n",
       "      <td>...</td>\n",
       "      <td>...</td>\n",
       "      <td>...</td>\n",
       "    </tr>\n",
       "    <tr>\n",
       "      <th>1349</th>\n",
       "      <td>0.6043</td>\n",
       "      <td>0.9877</td>\n",
       "      <td>-0.3833</td>\n",
       "      <td>38.8119</td>\n",
       "    </tr>\n",
       "    <tr>\n",
       "      <th>1350</th>\n",
       "      <td>0.6043</td>\n",
       "      <td>0.9877</td>\n",
       "      <td>-0.3833</td>\n",
       "      <td>38.8119</td>\n",
       "    </tr>\n",
       "    <tr>\n",
       "      <th>1351</th>\n",
       "      <td>0.6043</td>\n",
       "      <td>0.9856</td>\n",
       "      <td>-0.3813</td>\n",
       "      <td>38.6843</td>\n",
       "    </tr>\n",
       "    <tr>\n",
       "      <th>1352</th>\n",
       "      <td>0.6043</td>\n",
       "      <td>0.9887</td>\n",
       "      <td>-0.3844</td>\n",
       "      <td>38.8755</td>\n",
       "    </tr>\n",
       "    <tr>\n",
       "      <th>1353</th>\n",
       "      <td>0.6043</td>\n",
       "      <td>0.9918</td>\n",
       "      <td>-0.3874</td>\n",
       "      <td>39.0656</td>\n",
       "    </tr>\n",
       "  </tbody>\n",
       "</table>\n",
       "<p>1354 rows × 4 columns</p>\n",
       "</div>"
      ],
      "text/plain": [
       "      prediction  target  residual  difference%\n",
       "0         0.6013  0.2517    0.3496     138.8948\n",
       "1         0.6013  0.2510    0.3502     139.5141\n",
       "2         0.6013  0.2504    0.3509     140.1366\n",
       "3         0.6013  0.2497    0.3515     140.7624\n",
       "4         0.6013  0.2491    0.3522     141.3915\n",
       "...          ...     ...       ...          ...\n",
       "1349      0.6043  0.9877   -0.3833      38.8119\n",
       "1350      0.6043  0.9877   -0.3833      38.8119\n",
       "1351      0.6043  0.9856   -0.3813      38.6843\n",
       "1352      0.6043  0.9887   -0.3844      38.8755\n",
       "1353      0.6043  0.9918   -0.3874      39.0656\n",
       "\n",
       "[1354 rows x 4 columns]"
      ]
     },
     "execution_count": 68,
     "metadata": {},
     "output_type": "execute_result"
    }
   ],
   "source": [
    "# testing mean_absolute_percentage_error\n",
    "perf['residual'] = perf['prediction'] - perf['target']\n",
    "perf['difference%'] = np.absolute(perf['residual'] * 100 / perf['target'])\n",
    "perf"
   ]
  },
  {
   "cell_type": "code",
   "execution_count": 69,
   "metadata": {},
   "outputs": [
    {
     "data": {
      "text/html": [
       "<div>\n",
       "<style scoped>\n",
       "    .dataframe tbody tr th:only-of-type {\n",
       "        vertical-align: middle;\n",
       "    }\n",
       "\n",
       "    .dataframe tbody tr th {\n",
       "        vertical-align: top;\n",
       "    }\n",
       "\n",
       "    .dataframe thead th {\n",
       "        text-align: right;\n",
       "    }\n",
       "</style>\n",
       "<table border=\"1\" class=\"dataframe\">\n",
       "  <thead>\n",
       "    <tr style=\"text-align: right;\">\n",
       "      <th></th>\n",
       "      <th>prediction</th>\n",
       "      <th>target</th>\n",
       "      <th>residual</th>\n",
       "      <th>difference%</th>\n",
       "    </tr>\n",
       "  </thead>\n",
       "  <tbody>\n",
       "    <tr>\n",
       "      <th>count</th>\n",
       "      <td>1,354.0000</td>\n",
       "      <td>1,354.0000</td>\n",
       "      <td>1,354.0000</td>\n",
       "      <td>1,354.0000</td>\n",
       "    </tr>\n",
       "    <tr>\n",
       "      <th>mean</th>\n",
       "      <td>0.6010</td>\n",
       "      <td>0.2942</td>\n",
       "      <td>0.3069</td>\n",
       "      <td>1,099.7382</td>\n",
       "    </tr>\n",
       "    <tr>\n",
       "      <th>std</th>\n",
       "      <td>0.0018</td>\n",
       "      <td>0.3593</td>\n",
       "      <td>0.3578</td>\n",
       "      <td>1,155.3867</td>\n",
       "    </tr>\n",
       "    <tr>\n",
       "      <th>min</th>\n",
       "      <td>0.5986</td>\n",
       "      <td>0.0134</td>\n",
       "      <td>-0.3977</td>\n",
       "      <td>0.8377</td>\n",
       "    </tr>\n",
       "    <tr>\n",
       "      <th>25%</th>\n",
       "      <td>0.5996</td>\n",
       "      <td>0.0236</td>\n",
       "      <td>0.1169</td>\n",
       "      <td>39.1444</td>\n",
       "    </tr>\n",
       "    <tr>\n",
       "      <th>50%</th>\n",
       "      <td>0.6010</td>\n",
       "      <td>0.1062</td>\n",
       "      <td>0.4950</td>\n",
       "      <td>465.9789</td>\n",
       "    </tr>\n",
       "    <tr>\n",
       "      <th>75%</th>\n",
       "      <td>0.6013</td>\n",
       "      <td>0.4838</td>\n",
       "      <td>0.5760</td>\n",
       "      <td>2,436.4808</td>\n",
       "    </tr>\n",
       "    <tr>\n",
       "      <th>max</th>\n",
       "      <td>0.6043</td>\n",
       "      <td>1.0000</td>\n",
       "      <td>0.5867</td>\n",
       "      <td>4,386.7444</td>\n",
       "    </tr>\n",
       "  </tbody>\n",
       "</table>\n",
       "</div>"
      ],
      "text/plain": [
       "       prediction     target   residual  difference%\n",
       "count  1,354.0000 1,354.0000 1,354.0000   1,354.0000\n",
       "mean       0.6010     0.2942     0.3069   1,099.7382\n",
       "std        0.0018     0.3593     0.3578   1,155.3867\n",
       "min        0.5986     0.0134    -0.3977       0.8377\n",
       "25%        0.5996     0.0236     0.1169      39.1444\n",
       "50%        0.6010     0.1062     0.4950     465.9789\n",
       "75%        0.6013     0.4838     0.5760   2,436.4808\n",
       "max        0.6043     1.0000     0.5867   4,386.7444"
      ]
     },
     "execution_count": 69,
     "metadata": {},
     "output_type": "execute_result"
    }
   ],
   "source": [
    "perf.describe()"
   ]
  },
  {
   "cell_type": "code",
   "execution_count": 70,
   "metadata": {},
   "outputs": [
    {
     "data": {
      "text/html": [
       "<div>\n",
       "<style scoped>\n",
       "    .dataframe tbody tr th:only-of-type {\n",
       "        vertical-align: middle;\n",
       "    }\n",
       "\n",
       "    .dataframe tbody tr th {\n",
       "        vertical-align: top;\n",
       "    }\n",
       "\n",
       "    .dataframe thead th {\n",
       "        text-align: right;\n",
       "    }\n",
       "</style>\n",
       "<table border=\"1\" class=\"dataframe\">\n",
       "  <thead>\n",
       "    <tr style=\"text-align: right;\">\n",
       "      <th></th>\n",
       "      <th>prediction</th>\n",
       "      <th>target</th>\n",
       "      <th>residual</th>\n",
       "      <th>difference%</th>\n",
       "    </tr>\n",
       "  </thead>\n",
       "  <tbody>\n",
       "    <tr>\n",
       "      <th>1027</th>\n",
       "      <td>0.6001</td>\n",
       "      <td>0.5951</td>\n",
       "      <td>0.0050</td>\n",
       "      <td>0.8377</td>\n",
       "    </tr>\n",
       "    <tr>\n",
       "      <th>934</th>\n",
       "      <td>0.6032</td>\n",
       "      <td>0.6105</td>\n",
       "      <td>-0.0073</td>\n",
       "      <td>1.1913</td>\n",
       "    </tr>\n",
       "    <tr>\n",
       "      <th>1047</th>\n",
       "      <td>0.6006</td>\n",
       "      <td>0.5930</td>\n",
       "      <td>0.0076</td>\n",
       "      <td>1.2858</td>\n",
       "    </tr>\n",
       "    <tr>\n",
       "      <th>888</th>\n",
       "      <td>0.6032</td>\n",
       "      <td>0.6115</td>\n",
       "      <td>-0.0083</td>\n",
       "      <td>1.3544</td>\n",
       "    </tr>\n",
       "    <tr>\n",
       "      <th>1066</th>\n",
       "      <td>0.6041</td>\n",
       "      <td>0.6197</td>\n",
       "      <td>-0.0156</td>\n",
       "      <td>2.5227</td>\n",
       "    </tr>\n",
       "    <tr>\n",
       "      <th>...</th>\n",
       "      <td>...</td>\n",
       "      <td>...</td>\n",
       "      <td>...</td>\n",
       "      <td>...</td>\n",
       "    </tr>\n",
       "    <tr>\n",
       "      <th>1104</th>\n",
       "      <td>0.6011</td>\n",
       "      <td>0.0144</td>\n",
       "      <td>0.5867</td>\n",
       "      <td>4077.3482</td>\n",
       "    </tr>\n",
       "    <tr>\n",
       "      <th>1103</th>\n",
       "      <td>0.5989</td>\n",
       "      <td>0.0134</td>\n",
       "      <td>0.5856</td>\n",
       "      <td>4382.7957</td>\n",
       "    </tr>\n",
       "    <tr>\n",
       "      <th>1158</th>\n",
       "      <td>0.5992</td>\n",
       "      <td>0.0134</td>\n",
       "      <td>0.5858</td>\n",
       "      <td>4384.5914</td>\n",
       "    </tr>\n",
       "    <tr>\n",
       "      <th>1157</th>\n",
       "      <td>0.5992</td>\n",
       "      <td>0.0134</td>\n",
       "      <td>0.5858</td>\n",
       "      <td>4384.7082</td>\n",
       "    </tr>\n",
       "    <tr>\n",
       "      <th>1272</th>\n",
       "      <td>0.5995</td>\n",
       "      <td>0.0134</td>\n",
       "      <td>0.5861</td>\n",
       "      <td>4386.7444</td>\n",
       "    </tr>\n",
       "  </tbody>\n",
       "</table>\n",
       "<p>1354 rows × 4 columns</p>\n",
       "</div>"
      ],
      "text/plain": [
       "      prediction  target  residual  difference%\n",
       "1027      0.6001  0.5951    0.0050       0.8377\n",
       "934       0.6032  0.6105   -0.0073       1.1913\n",
       "1047      0.6006  0.5930    0.0076       1.2858\n",
       "888       0.6032  0.6115   -0.0083       1.3544\n",
       "1066      0.6041  0.6197   -0.0156       2.5227\n",
       "...          ...     ...       ...          ...\n",
       "1104      0.6011  0.0144    0.5867    4077.3482\n",
       "1103      0.5989  0.0134    0.5856    4382.7957\n",
       "1158      0.5992  0.0134    0.5858    4384.5914\n",
       "1157      0.5992  0.0134    0.5858    4384.7082\n",
       "1272      0.5995  0.0134    0.5861    4386.7444\n",
       "\n",
       "[1354 rows x 4 columns]"
      ]
     },
     "execution_count": 70,
     "metadata": {},
     "output_type": "execute_result"
    }
   ],
   "source": [
    "pd.options.display.max_rows = 999\n",
    "pd.set_option('display.float_format', lambda x: '%.4f' % x)\n",
    "perf.sort_values(by = ['difference%'])"
   ]
  },
  {
   "cell_type": "markdown",
   "metadata": {},
   "source": [
    "# *** Prediction Accuracy"
   ]
  },
  {
   "cell_type": "code",
   "execution_count": 71,
   "metadata": {},
   "outputs": [
    {
     "name": "stdout",
     "output_type": "stream",
     "text": [
      "R2 (testing) = -0.7216437836663729\n"
     ]
    }
   ],
   "source": [
    "r2_test = metrics.r2_score(y_test, y_test_pred)\n",
    "print('R2 (testing) = {}'.format(r2_test))\n",
    "\n",
    "# also: R-Squared could obtain with\n",
    "# pline.score(x_test, y_test)"
   ]
  },
  {
   "cell_type": "code",
   "execution_count": 72,
   "metadata": {},
   "outputs": [
    {
     "name": "stdout",
     "output_type": "stream",
     "text": [
      "0.47124210970897973\n"
     ]
    }
   ],
   "source": [
    "print(np.sqrt(mean_squared_error(y_test,y_test_pred)))"
   ]
  }
 ],
 "metadata": {
  "kernelspec": {
   "display_name": "Python 3",
   "language": "python",
   "name": "python3"
  },
  "language_info": {
   "codemirror_mode": {
    "name": "ipython",
    "version": 3
   },
   "file_extension": ".py",
   "mimetype": "text/x-python",
   "name": "python",
   "nbconvert_exporter": "python",
   "pygments_lexer": "ipython3",
   "version": "3.7.7"
  }
 },
 "nbformat": 4,
 "nbformat_minor": 4
}
