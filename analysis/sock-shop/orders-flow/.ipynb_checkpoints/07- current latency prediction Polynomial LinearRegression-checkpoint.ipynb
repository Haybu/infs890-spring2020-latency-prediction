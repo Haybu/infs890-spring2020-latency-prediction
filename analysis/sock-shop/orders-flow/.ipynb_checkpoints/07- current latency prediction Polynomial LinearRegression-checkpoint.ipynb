{
 "cells": [
  {
   "cell_type": "markdown",
   "metadata": {},
   "source": [
    "# Polynomial Linear Regression\n",
    "Haytham Mohamed\n",
    "\n",
    "INFS 890 - Spring 2020"
   ]
  },
  {
   "cell_type": "code",
   "execution_count": 54,
   "metadata": {},
   "outputs": [],
   "source": [
    "import numpy as np\n",
    "import pandas as pd\n",
    "import matplotlib.pyplot as plt\n",
    "from sklearn.linear_model import LinearRegression\n",
    "from sklearn.model_selection import cross_val_score\n",
    "from sklearn.model_selection import KFold\n",
    "import seaborn as sns\n",
    "from sklearn import preprocessing, metrics, feature_selection\n",
    "from datetime import datetime\n",
    "from scipy import stats\n",
    "from sklearn.feature_selection import SelectFromModel\n",
    "from sklearn.linear_model import LassoCV\n",
    "from sklearn.linear_model import Lasso\n",
    "from sklearn.model_selection import train_test_split\n",
    "from sklearn.preprocessing import StandardScaler , MinMaxScaler\n",
    "from sklearn.pipeline import Pipeline\n",
    "from sklearn.model_selection import GridSearchCV\n",
    "from sklearn.ensemble import RandomForestRegressor\n",
    "from sklearn.metrics import mean_squared_error\n",
    "from sklearn.feature_selection import RFECV\n",
    "from sklearn.decomposition import PCA\n",
    "\n",
    "sns.set()\n",
    "sns.set(color_codes=True)\n",
    "#sns.set_color_codes()\n",
    "\n",
    "pd.options.display.max_rows = 15\n",
    "pd.options.display.float_format = '{:,.4f}'.format"
   ]
  },
  {
   "cell_type": "markdown",
   "metadata": {},
   "source": [
    "Set this flag to True if you're using reduction feature using FCA, otherwise set it to False"
   ]
  },
  {
   "cell_type": "code",
   "execution_count": 55,
   "metadata": {},
   "outputs": [],
   "source": [
    "# 1- read data file\n",
    "# 1- read processed file\n",
    "home_dir = '/Users/hmohamed/github/data-research-spring2020/sock-shop'\n",
    "file_dir = home_dir + '/processed-data/'\n",
    "\n",
    "#data_file = 'order_flow_cleanup_data.csv'\n",
    "data_file = 'order_flow_normalized_data.csv'\n",
    "#data_file = 'order_flow_standardized_data.csv'\n",
    "#data_file = 'order_flow_factored_data.csv'\n",
    "\n",
    "SCALE_TARGETS = True\n",
    "\n",
    "test_split = 0.1"
   ]
  },
  {
   "cell_type": "code",
   "execution_count": 56,
   "metadata": {},
   "outputs": [],
   "source": [
    "def read_df(file_dir, data_file, timeseries=True):\n",
    "    df = pd.read_csv(file_dir + data_file)\n",
    "    if timeseries:\n",
    "        df = to_time_series(df)\n",
    "    return df\n",
    "\n",
    "def to_time_series(df, index_col_name='date'):\n",
    "    df[index_col_name] = pd.to_datetime(df[index_col_name])\n",
    "    df.set_index(index_col_name, inplace=True)\n",
    "    df.sort_index(inplace=True)\n",
    "    return df\n",
    "\n",
    "def merge(df, series):\n",
    "    return pd.merge_asof(df, series, left_index=True, right_index=True, tolerance=pd.Timedelta('1 second')).bfill()    \n"
   ]
  },
  {
   "cell_type": "code",
   "execution_count": 57,
   "metadata": {},
   "outputs": [
    {
     "data": {
      "text/html": [
       "<div>\n",
       "<style scoped>\n",
       "    .dataframe tbody tr th:only-of-type {\n",
       "        vertical-align: middle;\n",
       "    }\n",
       "\n",
       "    .dataframe tbody tr th {\n",
       "        vertical-align: top;\n",
       "    }\n",
       "\n",
       "    .dataframe thead th {\n",
       "        text-align: right;\n",
       "    }\n",
       "</style>\n",
       "<table border=\"1\" class=\"dataframe\">\n",
       "  <thead>\n",
       "    <tr style=\"text-align: right;\">\n",
       "      <th></th>\n",
       "      <th>front-end_cpu_use</th>\n",
       "      <th>orders_cpu_use</th>\n",
       "      <th>orders-db_cpu_use</th>\n",
       "      <th>user_cpu_use</th>\n",
       "      <th>user-db_cpu_use</th>\n",
       "      <th>shipping_cpu_use</th>\n",
       "      <th>payment_cpu_use</th>\n",
       "      <th>carts_cpu_use</th>\n",
       "      <th>carts-db_cpu_use</th>\n",
       "      <th>front-end_pods</th>\n",
       "      <th>orders_pods</th>\n",
       "      <th>user_pods</th>\n",
       "      <th>shipping_pods</th>\n",
       "      <th>payment_pods</th>\n",
       "      <th>carts_pods</th>\n",
       "      <th>nodes_cpu_use</th>\n",
       "      <th>orders_req</th>\n",
       "      <th>orders_ltcy</th>\n",
       "    </tr>\n",
       "  </thead>\n",
       "  <tbody>\n",
       "    <tr>\n",
       "      <th>0</th>\n",
       "      <td>0.0700</td>\n",
       "      <td>0.0200</td>\n",
       "      <td>0.0100</td>\n",
       "      <td>0.0200</td>\n",
       "      <td>0.0200</td>\n",
       "      <td>0.0100</td>\n",
       "      <td>0.0100</td>\n",
       "      <td>0.1200</td>\n",
       "      <td>0.1600</td>\n",
       "      <td>1.0000</td>\n",
       "      <td>1.0000</td>\n",
       "      <td>1.0000</td>\n",
       "      <td>1.0000</td>\n",
       "      <td>1.0000</td>\n",
       "      <td>1.0000</td>\n",
       "      <td>1.1800</td>\n",
       "      <td>0.4000</td>\n",
       "      <td>0.4000</td>\n",
       "    </tr>\n",
       "    <tr>\n",
       "      <th>1</th>\n",
       "      <td>0.0600</td>\n",
       "      <td>0.0300</td>\n",
       "      <td>0.0100</td>\n",
       "      <td>0.0200</td>\n",
       "      <td>0.0200</td>\n",
       "      <td>0.0100</td>\n",
       "      <td>0.0100</td>\n",
       "      <td>0.1400</td>\n",
       "      <td>0.1700</td>\n",
       "      <td>1.0000</td>\n",
       "      <td>1.0000</td>\n",
       "      <td>1.0000</td>\n",
       "      <td>1.0000</td>\n",
       "      <td>1.0000</td>\n",
       "      <td>1.0000</td>\n",
       "      <td>1.1800</td>\n",
       "      <td>0.4400</td>\n",
       "      <td>0.3900</td>\n",
       "    </tr>\n",
       "    <tr>\n",
       "      <th>2</th>\n",
       "      <td>0.2100</td>\n",
       "      <td>0.0600</td>\n",
       "      <td>0.0200</td>\n",
       "      <td>0.0500</td>\n",
       "      <td>0.0300</td>\n",
       "      <td>0.0200</td>\n",
       "      <td>0.0100</td>\n",
       "      <td>0.2400</td>\n",
       "      <td>0.6600</td>\n",
       "      <td>1.0000</td>\n",
       "      <td>1.0000</td>\n",
       "      <td>1.0000</td>\n",
       "      <td>1.0000</td>\n",
       "      <td>1.0000</td>\n",
       "      <td>1.0000</td>\n",
       "      <td>1.8400</td>\n",
       "      <td>1.5800</td>\n",
       "      <td>0.4200</td>\n",
       "    </tr>\n",
       "    <tr>\n",
       "      <th>3</th>\n",
       "      <td>0.2200</td>\n",
       "      <td>0.0600</td>\n",
       "      <td>0.0200</td>\n",
       "      <td>0.0600</td>\n",
       "      <td>0.0400</td>\n",
       "      <td>0.0200</td>\n",
       "      <td>0.0100</td>\n",
       "      <td>0.2100</td>\n",
       "      <td>0.6600</td>\n",
       "      <td>1.0000</td>\n",
       "      <td>1.0000</td>\n",
       "      <td>1.0000</td>\n",
       "      <td>1.0000</td>\n",
       "      <td>1.0000</td>\n",
       "      <td>1.0000</td>\n",
       "      <td>1.8300</td>\n",
       "      <td>1.5800</td>\n",
       "      <td>0.4100</td>\n",
       "    </tr>\n",
       "    <tr>\n",
       "      <th>4</th>\n",
       "      <td>0.2100</td>\n",
       "      <td>0.0600</td>\n",
       "      <td>0.0100</td>\n",
       "      <td>0.0500</td>\n",
       "      <td>0.0400</td>\n",
       "      <td>0.0200</td>\n",
       "      <td>0.0100</td>\n",
       "      <td>0.1500</td>\n",
       "      <td>0.6600</td>\n",
       "      <td>1.0000</td>\n",
       "      <td>1.0000</td>\n",
       "      <td>1.0000</td>\n",
       "      <td>1.0000</td>\n",
       "      <td>1.0000</td>\n",
       "      <td>1.0000</td>\n",
       "      <td>1.7500</td>\n",
       "      <td>1.4900</td>\n",
       "      <td>0.3900</td>\n",
       "    </tr>\n",
       "  </tbody>\n",
       "</table>\n",
       "</div>"
      ],
      "text/plain": [
       "   front-end_cpu_use  orders_cpu_use  orders-db_cpu_use  user_cpu_use  \\\n",
       "0             0.0700          0.0200             0.0100        0.0200   \n",
       "1             0.0600          0.0300             0.0100        0.0200   \n",
       "2             0.2100          0.0600             0.0200        0.0500   \n",
       "3             0.2200          0.0600             0.0200        0.0600   \n",
       "4             0.2100          0.0600             0.0100        0.0500   \n",
       "\n",
       "   user-db_cpu_use  shipping_cpu_use  payment_cpu_use  carts_cpu_use  \\\n",
       "0           0.0200            0.0100           0.0100         0.1200   \n",
       "1           0.0200            0.0100           0.0100         0.1400   \n",
       "2           0.0300            0.0200           0.0100         0.2400   \n",
       "3           0.0400            0.0200           0.0100         0.2100   \n",
       "4           0.0400            0.0200           0.0100         0.1500   \n",
       "\n",
       "   carts-db_cpu_use  front-end_pods  orders_pods  user_pods  shipping_pods  \\\n",
       "0            0.1600          1.0000       1.0000     1.0000         1.0000   \n",
       "1            0.1700          1.0000       1.0000     1.0000         1.0000   \n",
       "2            0.6600          1.0000       1.0000     1.0000         1.0000   \n",
       "3            0.6600          1.0000       1.0000     1.0000         1.0000   \n",
       "4            0.6600          1.0000       1.0000     1.0000         1.0000   \n",
       "\n",
       "   payment_pods  carts_pods  nodes_cpu_use  orders_req  orders_ltcy  \n",
       "0        1.0000      1.0000         1.1800      0.4000       0.4000  \n",
       "1        1.0000      1.0000         1.1800      0.4400       0.3900  \n",
       "2        1.0000      1.0000         1.8400      1.5800       0.4200  \n",
       "3        1.0000      1.0000         1.8300      1.5800       0.4100  \n",
       "4        1.0000      1.0000         1.7500      1.4900       0.3900  "
      ]
     },
     "execution_count": 57,
     "metadata": {},
     "output_type": "execute_result"
    }
   ],
   "source": [
    "data = read_df(file_dir, data_file, True)\n",
    "data = data.reset_index(drop=True)\n",
    "data.head(5)"
   ]
  },
  {
   "cell_type": "code",
   "execution_count": 58,
   "metadata": {},
   "outputs": [
    {
     "data": {
      "text/plain": [
       "(3175, 18)"
      ]
     },
     "execution_count": 58,
     "metadata": {},
     "output_type": "execute_result"
    }
   ],
   "source": [
    "data.shape"
   ]
  },
  {
   "cell_type": "code",
   "execution_count": 59,
   "metadata": {},
   "outputs": [
    {
     "name": "stdout",
     "output_type": "stream",
     "text": [
      "there are 17 features\n"
     ]
    }
   ],
   "source": [
    "targets = data['orders_ltcy']\n",
    "inputs = data.drop(['orders_ltcy'], axis=1)\n",
    "\n",
    "n_features = inputs.values.shape[1]\n",
    "print(\"there are {} features\".format(n_features))"
   ]
  },
  {
   "cell_type": "code",
   "execution_count": 60,
   "metadata": {},
   "outputs": [
    {
     "data": {
      "image/png": "[encoded data removed]",
      "text/plain": [
       "<Figure size 432x288 with 1 Axes>"
      ]
     },
     "metadata": {},
     "output_type": "display_data"
    }
   ],
   "source": [
    "# plot cpu vs latency \n",
    "plt.plot(data['orders_cpu_use'][:100], label='orders_cpu_use')\n",
    "plt.plot(data['orders_ltcy'][:100], label='orders_ltcy')\n",
    "plt.legend()\n",
    "plt.show()\n"
   ]
  },
  {
   "cell_type": "markdown",
   "metadata": {},
   "source": [
    "# Model"
   ]
  },
  {
   "cell_type": "code",
   "execution_count": 61,
   "metadata": {},
   "outputs": [
    {
     "name": "stderr",
     "output_type": "stream",
     "text": [
      "/opt/anaconda3/envs/infs890/lib/python3.7/site-packages/sklearn/feature_selection/_from_model.py:222: DataConversionWarning: A column-vector y was passed when a 1d array was expected. Please change the shape of y to (n_samples,), for example using ravel().\n",
      "  self.estimator_.fit(X, y, **fit_params)\n"
     ]
    },
    {
     "name": "stdout",
     "output_type": "stream",
     "text": [
      "R2 (testing) = 0.5289117711189413\n"
     ]
    }
   ],
   "source": [
    "if True:\n",
    "    from sklearn.preprocessing import PolynomialFeatures\n",
    "    \n",
    "    degree = 2\n",
    "\n",
    "    # covert input data to polynomial form of some degree\n",
    "    inputs_poly = PolynomialFeatures(degree=degree).fit_transform(inputs).astype(float)\n",
    "    \n",
    "     # for better convergence and result scale target to values between 0 - 1\n",
    "    if SCALE_TARGETS:\n",
    "        y_scaler =  MinMaxScaler()\n",
    "        targets = y_scaler.fit_transform(targets.values.reshape(-1,1))\n",
    "\n",
    "    x_train, x_test, y_train, y_test = \\\n",
    "        train_test_split(inputs_poly, targets, test_size=test_split, shuffle=True, random_state=365)\n",
    "\n",
    "    reg = LinearRegression(normalize=False)\n",
    "\n",
    "    \n",
    "    #model = RandomForestRegressor(n_jobs=-1, max_depth=10, n_estimators=20)\n",
    "    #sfm = SelectFromModel(model)\n",
    "    \n",
    "    sfm = PCA(random_state=100)\n",
    "\n",
    "    pipe = Pipeline(steps=[\n",
    "        ('scaler', StandardScaler()), \n",
    "        ('selector', sfm),\n",
    "        ('reg', reg)\n",
    "    ])\n",
    "\n",
    "    kfold = KFold(n_splits=10, shuffle=False)\n",
    "\n",
    "    param_grid = {\n",
    "        #'selector__threshold': ['.1*mean', '.08*mean', '.05*mean', '.02*mean', '.001*mean']\n",
    "        'selector__n_components' : [10, 15, 20]   # with PCA\n",
    "        ,'reg__normalize': [False, True]\n",
    "    }\n",
    "\n",
    "    search = GridSearchCV(pipe, param_grid,scoring='neg_mean_squared_error'\n",
    "                      , return_train_score= True, cv=kfold, verbose=0, n_jobs=-1)\n",
    "\n",
    "    search.fit(x_train, y_train)\n",
    "\n",
    "    y_hat_test = search.predict(x_test)\n",
    "\n",
    "    r2_test = metrics.r2_score(y_test, y_hat_test)\n",
    "    print('R2 (testing) = {}'.format(r2_test))\n"
   ]
  },
  {
   "cell_type": "markdown",
   "metadata": {},
   "source": [
    "# Robust Linear Model"
   ]
  },
  {
   "cell_type": "code",
   "execution_count": 62,
   "metadata": {},
   "outputs": [],
   "source": [
    "# RANSAC is an iterative algorithm for the robust estimation of parameters from a subset \n",
    "# of inliners from the complete data set.\n",
    "# you can use this with all dataset including outliers\n",
    "if False:    \n",
    "    from sklearn.linear_model import RANSACRegressor\n",
    "\n",
    "    ransac = RANSACRegressor(estimator)\n",
    "    ransac.fit(x_train, y_train)\n",
    "    inlier_mask = ransac.inlier_mask_\n",
    "    outlier_mask = np.logical_not(inlier_mask)\n",
    "\n",
    "    y_hat_test = ransac.predict(x_test)\n",
    "\n",
    "    r2_test = metrics.r2_score(y_test, y_hat_test)\n",
    "    print('R2 (testing) = {}'.format(r2_test))"
   ]
  }
 ],
 "metadata": {
  "kernelspec": {
   "display_name": "Python 3",
   "language": "python",
   "name": "python3"
  },
  "language_info": {
   "codemirror_mode": {
    "name": "ipython",
    "version": 3
   },
   "file_extension": ".py",
   "mimetype": "text/x-python",
   "name": "python",
   "nbconvert_exporter": "python",
   "pygments_lexer": "ipython3",
   "version": "3.7.7"
  }
 },
 "nbformat": 4,
 "nbformat_minor": 4
}
