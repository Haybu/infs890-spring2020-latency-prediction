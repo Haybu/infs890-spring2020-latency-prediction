{
 "cells": [
  {
   "cell_type": "markdown",
   "metadata": {},
   "source": [
    "# HistGradientBoostingRegressor\n",
    "Haytham Mohamed\n",
    "\n",
    "INFS 890 - Spring 2020"
   ]
  },
  {
   "cell_type": "code",
   "execution_count": 71,
   "metadata": {},
   "outputs": [],
   "source": [
    "import numpy as np\n",
    "import pandas as pd\n",
    "import matplotlib.pyplot as plt\n",
    "from sklearn.model_selection import cross_val_score\n",
    "from sklearn.model_selection import KFold\n",
    "from sklearn.feature_selection import SelectKBest\n",
    "import seaborn as sns\n",
    "from sklearn import preprocessing, metrics, feature_selection\n",
    "from datetime import datetime\n",
    "from scipy import stats\n",
    "from sklearn.feature_selection import SelectFromModel\n",
    "from sklearn.linear_model import LassoCV\n",
    "from sklearn.linear_model import Lasso\n",
    "from sklearn.model_selection import train_test_split\n",
    "from sklearn.preprocessing import StandardScaler , MinMaxScaler\n",
    "from sklearn.pipeline import Pipeline, FeatureUnion\n",
    "from sklearn.model_selection import GridSearchCV\n",
    "from sklearn.ensemble import RandomForestRegressor\n",
    "from sklearn.metrics import mean_squared_error\n",
    "from sklearn.feature_selection import RFECV\n",
    "from sklearn.decomposition import PCA\n",
    "from sklearn.experimental import enable_hist_gradient_boosting\n",
    "from sklearn.ensemble import HistGradientBoostingRegressor\n",
    "\n",
    "sns.set()\n",
    "sns.set(color_codes=True)\n",
    "#sns.set_color_codes()\n",
    "\n",
    "pd.options.display.max_rows = 15\n",
    "pd.options.display.float_format = '{:,.4f}'.format"
   ]
  },
  {
   "cell_type": "markdown",
   "metadata": {},
   "source": [
    "Set this flag to True if you're using reduction feature using FCA, otherwise set it to False"
   ]
  },
  {
   "cell_type": "code",
   "execution_count": 72,
   "metadata": {},
   "outputs": [],
   "source": [
    "# 1- read data file\n",
    "# 1- read processed file\n",
    "home_dir = '/Users/hmohamed/github/data-research-spring2020/sock-shop'\n",
    "file_dir = home_dir + '/processed-data/'\n",
    "\n",
    "data_file = 'orders_flow_data.csv'   # raw data as is\n",
    "#data_file = 'order_flow_cleanup_data.csv'\n",
    "#data_file = 'order_flow_normalized_data.csv'\n",
    "#data_file = 'order_flow_standardized_data.csv'\n",
    "#data_file = 'order_flow_factored_data.csv'\n",
    "\n",
    "\n",
    "SCALE_TARGETS = True\n",
    "SCALE_FEATURES = False\n",
    "\n",
    "FEATURES_SELECTION = False\n",
    "\n",
    "test_split = 0.2"
   ]
  },
  {
   "cell_type": "code",
   "execution_count": 73,
   "metadata": {},
   "outputs": [],
   "source": [
    "def read_df(file_dir, data_file, timeseries=True):\n",
    "    df = pd.read_csv(file_dir + data_file)\n",
    "    if timeseries:\n",
    "        df = to_time_series(df)\n",
    "    return df\n",
    "\n",
    "def to_time_series(df, index_col_name='date'):\n",
    "    df[index_col_name] = pd.to_datetime(df[index_col_name])\n",
    "    df.set_index(index_col_name, inplace=True)\n",
    "    df.sort_index(inplace=True)\n",
    "    return df\n",
    "\n",
    "def merge(df, series):\n",
    "    return pd.merge_asof(df, series, left_index=True, right_index=True, tolerance=pd.Timedelta('1 second')).bfill()    \n"
   ]
  },
  {
   "cell_type": "code",
   "execution_count": 74,
   "metadata": {},
   "outputs": [
    {
     "name": "stdout",
     "output_type": "stream",
     "text": [
      "data shape (6766, 29)\n"
     ]
    },
    {
     "data": {
      "text/html": [
       "<div>\n",
       "<style scoped>\n",
       "    .dataframe tbody tr th:only-of-type {\n",
       "        vertical-align: middle;\n",
       "    }\n",
       "\n",
       "    .dataframe tbody tr th {\n",
       "        vertical-align: top;\n",
       "    }\n",
       "\n",
       "    .dataframe thead th {\n",
       "        text-align: right;\n",
       "    }\n",
       "</style>\n",
       "<table border=\"1\" class=\"dataframe\">\n",
       "  <thead>\n",
       "    <tr style=\"text-align: right;\">\n",
       "      <th></th>\n",
       "      <th>front-end_cpu_use</th>\n",
       "      <th>orders_cpu_use</th>\n",
       "      <th>orders-db_cpu_use</th>\n",
       "      <th>user_cpu_use</th>\n",
       "      <th>user-db_cpu_use</th>\n",
       "      <th>shipping_cpu_use</th>\n",
       "      <th>payment_cpu_use</th>\n",
       "      <th>carts_cpu_use</th>\n",
       "      <th>carts-db_cpu_use</th>\n",
       "      <th>front-end_pods</th>\n",
       "      <th>...</th>\n",
       "      <th>user-db_net_use</th>\n",
       "      <th>shipping_net_use</th>\n",
       "      <th>payment_net_use</th>\n",
       "      <th>carts_net_use</th>\n",
       "      <th>carts-db_net_use</th>\n",
       "      <th>nodes_cpu_use</th>\n",
       "      <th>nodes_disk_io</th>\n",
       "      <th>nodes_net_use</th>\n",
       "      <th>orders_req</th>\n",
       "      <th>orders_ltcy</th>\n",
       "    </tr>\n",
       "  </thead>\n",
       "  <tbody>\n",
       "    <tr>\n",
       "      <th>0</th>\n",
       "      <td>0.0300</td>\n",
       "      <td>0.0100</td>\n",
       "      <td>0.0100</td>\n",
       "      <td>0.0100</td>\n",
       "      <td>0.0100</td>\n",
       "      <td>0.0100</td>\n",
       "      <td>0.0100</td>\n",
       "      <td>0.0300</td>\n",
       "      <td>0.0700</td>\n",
       "      <td>1.0000</td>\n",
       "      <td>...</td>\n",
       "      <td>2.2044</td>\n",
       "      <td>2.6585</td>\n",
       "      <td>8.9654</td>\n",
       "      <td>22.0117</td>\n",
       "      <td>4.7995</td>\n",
       "      <td>2.5000</td>\n",
       "      <td>1.6700</td>\n",
       "      <td>2.7617</td>\n",
       "      <td>0.1500</td>\n",
       "      <td>0.2400</td>\n",
       "    </tr>\n",
       "    <tr>\n",
       "      <th>1</th>\n",
       "      <td>0.0600</td>\n",
       "      <td>0.0200</td>\n",
       "      <td>0.0200</td>\n",
       "      <td>0.0200</td>\n",
       "      <td>0.0200</td>\n",
       "      <td>0.0100</td>\n",
       "      <td>0.0100</td>\n",
       "      <td>0.1800</td>\n",
       "      <td>0.1800</td>\n",
       "      <td>1.0000</td>\n",
       "      <td>...</td>\n",
       "      <td>2.2044</td>\n",
       "      <td>2.6585</td>\n",
       "      <td>8.9654</td>\n",
       "      <td>22.0117</td>\n",
       "      <td>4.7995</td>\n",
       "      <td>1.8900</td>\n",
       "      <td>1.0100</td>\n",
       "      <td>2.7617</td>\n",
       "      <td>0.1500</td>\n",
       "      <td>0.2400</td>\n",
       "    </tr>\n",
       "    <tr>\n",
       "      <th>2</th>\n",
       "      <td>0.0700</td>\n",
       "      <td>0.0300</td>\n",
       "      <td>0.0200</td>\n",
       "      <td>0.0300</td>\n",
       "      <td>0.0200</td>\n",
       "      <td>0.0100</td>\n",
       "      <td>0.0100</td>\n",
       "      <td>0.4400</td>\n",
       "      <td>0.2000</td>\n",
       "      <td>1.0000</td>\n",
       "      <td>...</td>\n",
       "      <td>16.0739</td>\n",
       "      <td>13.5708</td>\n",
       "      <td>16.9964</td>\n",
       "      <td>27.3438</td>\n",
       "      <td>16.6522</td>\n",
       "      <td>1.3500</td>\n",
       "      <td>0.0500</td>\n",
       "      <td>2.5880</td>\n",
       "      <td>0.1500</td>\n",
       "      <td>0.2400</td>\n",
       "    </tr>\n",
       "    <tr>\n",
       "      <th>3</th>\n",
       "      <td>0.0700</td>\n",
       "      <td>0.0300</td>\n",
       "      <td>0.0200</td>\n",
       "      <td>0.0200</td>\n",
       "      <td>0.0200</td>\n",
       "      <td>0.0100</td>\n",
       "      <td>0.0100</td>\n",
       "      <td>0.2300</td>\n",
       "      <td>0.1700</td>\n",
       "      <td>1.0000</td>\n",
       "      <td>...</td>\n",
       "      <td>19.9869</td>\n",
       "      <td>14.4342</td>\n",
       "      <td>9.5804</td>\n",
       "      <td>9.4313</td>\n",
       "      <td>17.1768</td>\n",
       "      <td>1.2600</td>\n",
       "      <td>0.0400</td>\n",
       "      <td>2.1487</td>\n",
       "      <td>0.1300</td>\n",
       "      <td>0.2400</td>\n",
       "    </tr>\n",
       "    <tr>\n",
       "      <th>4</th>\n",
       "      <td>0.0700</td>\n",
       "      <td>0.0200</td>\n",
       "      <td>0.0100</td>\n",
       "      <td>0.0200</td>\n",
       "      <td>0.0200</td>\n",
       "      <td>0.0100</td>\n",
       "      <td>0.0100</td>\n",
       "      <td>0.2400</td>\n",
       "      <td>0.1400</td>\n",
       "      <td>1.0000</td>\n",
       "      <td>...</td>\n",
       "      <td>10.4490</td>\n",
       "      <td>3.7392</td>\n",
       "      <td>2.7970</td>\n",
       "      <td>9.1791</td>\n",
       "      <td>6.2516</td>\n",
       "      <td>1.2800</td>\n",
       "      <td>0.2600</td>\n",
       "      <td>1.8080</td>\n",
       "      <td>0.3600</td>\n",
       "      <td>0.2400</td>\n",
       "    </tr>\n",
       "  </tbody>\n",
       "</table>\n",
       "<p>5 rows × 29 columns</p>\n",
       "</div>"
      ],
      "text/plain": [
       "   front-end_cpu_use  orders_cpu_use  orders-db_cpu_use  user_cpu_use  \\\n",
       "0             0.0300          0.0100             0.0100        0.0100   \n",
       "1             0.0600          0.0200             0.0200        0.0200   \n",
       "2             0.0700          0.0300             0.0200        0.0300   \n",
       "3             0.0700          0.0300             0.0200        0.0200   \n",
       "4             0.0700          0.0200             0.0100        0.0200   \n",
       "\n",
       "   user-db_cpu_use  shipping_cpu_use  payment_cpu_use  carts_cpu_use  \\\n",
       "0           0.0100            0.0100           0.0100         0.0300   \n",
       "1           0.0200            0.0100           0.0100         0.1800   \n",
       "2           0.0200            0.0100           0.0100         0.4400   \n",
       "3           0.0200            0.0100           0.0100         0.2300   \n",
       "4           0.0200            0.0100           0.0100         0.2400   \n",
       "\n",
       "   carts-db_cpu_use  front-end_pods  ...  user-db_net_use  shipping_net_use  \\\n",
       "0            0.0700          1.0000  ...           2.2044            2.6585   \n",
       "1            0.1800          1.0000  ...           2.2044            2.6585   \n",
       "2            0.2000          1.0000  ...          16.0739           13.5708   \n",
       "3            0.1700          1.0000  ...          19.9869           14.4342   \n",
       "4            0.1400          1.0000  ...          10.4490            3.7392   \n",
       "\n",
       "   payment_net_use  carts_net_use  carts-db_net_use  nodes_cpu_use  \\\n",
       "0           8.9654        22.0117            4.7995         2.5000   \n",
       "1           8.9654        22.0117            4.7995         1.8900   \n",
       "2          16.9964        27.3438           16.6522         1.3500   \n",
       "3           9.5804         9.4313           17.1768         1.2600   \n",
       "4           2.7970         9.1791            6.2516         1.2800   \n",
       "\n",
       "   nodes_disk_io  nodes_net_use  orders_req  orders_ltcy  \n",
       "0         1.6700         2.7617      0.1500       0.2400  \n",
       "1         1.0100         2.7617      0.1500       0.2400  \n",
       "2         0.0500         2.5880      0.1500       0.2400  \n",
       "3         0.0400         2.1487      0.1300       0.2400  \n",
       "4         0.2600         1.8080      0.3600       0.2400  \n",
       "\n",
       "[5 rows x 29 columns]"
      ]
     },
     "execution_count": 74,
     "metadata": {},
     "output_type": "execute_result"
    }
   ],
   "source": [
    "data = read_df(file_dir, data_file, True)\n",
    "data = data.reset_index(drop=True)\n",
    "\n",
    "print('data shape {}'.format(data.shape))\n",
    "\n",
    "data.head(5)"
   ]
  },
  {
   "cell_type": "code",
   "execution_count": 75,
   "metadata": {},
   "outputs": [
    {
     "name": "stdout",
     "output_type": "stream",
     "text": [
      "there are 28 features\n"
     ]
    }
   ],
   "source": [
    "targets = data['orders_ltcy']\n",
    "inputs = data.drop(['orders_ltcy'], axis=1)\n",
    "\n",
    "n_features = inputs.values.shape[1]\n",
    "print(\"there are {} features\".format(n_features))\n"
   ]
  },
  {
   "cell_type": "code",
   "execution_count": 76,
   "metadata": {},
   "outputs": [
    {
     "name": "stdout",
     "output_type": "stream",
     "text": [
      "front-end_cpu_use\n",
      "orders_cpu_use\n",
      "orders-db_cpu_use\n",
      "user_cpu_use\n",
      "user-db_cpu_use\n",
      "shipping_cpu_use\n",
      "payment_cpu_use\n",
      "carts_cpu_use\n",
      "carts-db_cpu_use\n",
      "front-end_pods\n",
      "orders_pods\n",
      "user_pods\n",
      "shipping_pods\n",
      "payment_pods\n",
      "carts_pods\n",
      "front-end_net_use\n",
      "orders_net_use\n",
      "orders-db_net_use\n",
      "user_net_use\n",
      "user-db_net_use\n",
      "shipping_net_use\n",
      "payment_net_use\n",
      "carts_net_use\n",
      "carts-db_net_use\n",
      "nodes_cpu_use\n",
      "nodes_disk_io\n",
      "nodes_net_use\n",
      "orders_req\n"
     ]
    }
   ],
   "source": [
    "# print out the features\n",
    "for feature in inputs.columns.values:\n",
    "    print(feature)"
   ]
  },
  {
   "cell_type": "markdown",
   "metadata": {},
   "source": [
    "# Features Selection"
   ]
  },
  {
   "cell_type": "code",
   "execution_count": 77,
   "metadata": {},
   "outputs": [],
   "source": [
    "def features_selection(x, y, to_scale=FEATURES_SELECTION):\n",
    "    if to_scale:  \n",
    "        #clf = RandomForestRegressor(n_jobs=-1, max_depth=10, n_estimators=15)    \n",
    "        clf = LassoCV(tol=0.1)\n",
    "        sfm = SelectFromModel(clf, threshold='0.05*mean')\n",
    "\n",
    "        selectedFeatures = sfm.fit(x, y).transform(x)\n",
    "        print('{} features selected'.format(selectedFeatures[1].shape[0]))\n",
    "        \n",
    "        feature_list = x.columns[sfm.get_support()]\n",
    "        features = ''\n",
    "        features = ', '.join(feature_list)\n",
    "    \n",
    "        print(\"columns selected are {}\".format(features))\n",
    "\n",
    "        x = x[feature_list]        \n",
    "    return x\n"
   ]
  },
  {
   "cell_type": "code",
   "execution_count": 78,
   "metadata": {},
   "outputs": [],
   "source": [
    "inputs = features_selection(inputs, targets)"
   ]
  },
  {
   "cell_type": "code",
   "execution_count": 79,
   "metadata": {},
   "outputs": [],
   "source": [
    "# scale targets for better convergence\n",
    "if SCALE_TARGETS:\n",
    "    y_scaler =  MinMaxScaler()\n",
    "    targets = y_scaler.fit_transform(targets.values.reshape(-1,1))\n",
    "    \n",
    "x_train, x_test, y_train, y_test = \\\n",
    "    train_test_split(inputs, targets, test_size=test_split, shuffle=False, random_state=365)  \n",
    "\n",
    "if SCALE_FEATURES:\n",
    "    x_scaler = StandardScaler()\n",
    "    x_train = x_scaler.fit_transform(x_train)\n",
    "    x_test = x_scaler.transform(x_test)"
   ]
  },
  {
   "cell_type": "code",
   "execution_count": 80,
   "metadata": {},
   "outputs": [
    {
     "data": {
      "image/png": "[encoded data removed]",
      "text/plain": [
       "<Figure size 432x288 with 1 Axes>"
      ]
     },
     "metadata": {},
     "output_type": "display_data"
    }
   ],
   "source": [
    "# plot cpu vs latency \n",
    "plt.plot(data['orders_cpu_use'][100:200], label='orders_cpu_use')\n",
    "plt.plot(data['orders_ltcy'][100:200], label='orders_ltcy')\n",
    "plt.legend()\n",
    "plt.show()\n"
   ]
  },
  {
   "cell_type": "markdown",
   "metadata": {},
   "source": [
    "# Model"
   ]
  },
  {
   "cell_type": "code",
   "execution_count": 81,
   "metadata": {},
   "outputs": [],
   "source": [
    "clf = LassoCV(tol=0.1)\n",
    "sfm = SelectFromModel(clf, threshold='0.05*mean')\n",
    "\n",
    "reg = HistGradientBoostingRegressor()\n",
    "\n",
    "pipe = Pipeline(steps=[\n",
    "    ('scaler', StandardScaler()),\n",
    "    ('selector', sfm),\n",
    "    ('reg', reg)\n",
    "])\n",
    "\n",
    "kfold = KFold(n_splits=10, shuffle=False)\n",
    "\n",
    "param_grid = {\n",
    "    'selector__threshold': ['0.05*mean', '0.02*mean', '0.01*mean'], # with tree\n",
    "    'reg__max_iter': [1000,1200,1500],\n",
    "     'reg__learning_rate': [0.1],\n",
    "     'reg__max_depth' : [25, 50, 75],\n",
    "     'reg__l2_regularization': [1.5],\n",
    "     'reg__scoring': ['loss'],\n",
    "     'reg__random_state' : [100]\n",
    "}\n",
    "\n",
    "search = GridSearchCV(pipe, param_grid, scoring='neg_mean_squared_error'\n",
    "                      , return_train_score= True, cv=kfold, verbose=1, n_jobs=-1)"
   ]
  },
  {
   "cell_type": "code",
   "execution_count": 82,
   "metadata": {},
   "outputs": [
    {
     "name": "stdout",
     "output_type": "stream",
     "text": [
      "memory\n",
      "steps\n",
      "verbose\n",
      "scaler\n",
      "selector\n",
      "reg\n",
      "scaler__copy\n",
      "scaler__with_mean\n",
      "scaler__with_std\n",
      "selector__estimator__alphas\n",
      "selector__estimator__copy_X\n",
      "selector__estimator__cv\n",
      "selector__estimator__eps\n",
      "selector__estimator__fit_intercept\n",
      "selector__estimator__max_iter\n",
      "selector__estimator__n_alphas\n",
      "selector__estimator__n_jobs\n",
      "selector__estimator__normalize\n",
      "selector__estimator__positive\n",
      "selector__estimator__precompute\n",
      "selector__estimator__random_state\n",
      "selector__estimator__selection\n",
      "selector__estimator__tol\n",
      "selector__estimator__verbose\n",
      "selector__estimator\n",
      "selector__max_features\n",
      "selector__norm_order\n",
      "selector__prefit\n",
      "selector__threshold\n",
      "reg__l2_regularization\n",
      "reg__learning_rate\n",
      "reg__loss\n",
      "reg__max_bins\n",
      "reg__max_depth\n",
      "reg__max_iter\n",
      "reg__max_leaf_nodes\n",
      "reg__min_samples_leaf\n",
      "reg__n_iter_no_change\n",
      "reg__random_state\n",
      "reg__scoring\n",
      "reg__tol\n",
      "reg__validation_fraction\n",
      "reg__verbose\n",
      "reg__warm_start\n"
     ]
    }
   ],
   "source": [
    "for key in search.estimator.get_params().keys():\n",
    "    print(key)"
   ]
  },
  {
   "cell_type": "code",
   "execution_count": 83,
   "metadata": {},
   "outputs": [
    {
     "name": "stdout",
     "output_type": "stream",
     "text": [
      "sklearn version 0.22.2.post1\n",
      "Fitting 10 folds for each of 27 candidates, totalling 270 fits\n"
     ]
    },
    {
     "name": "stderr",
     "output_type": "stream",
     "text": [
      "[Parallel(n_jobs=-1)]: Using backend LokyBackend with 8 concurrent workers.\n",
      "[Parallel(n_jobs=-1)]: Done  34 tasks      | elapsed:  1.5min\n",
      "[Parallel(n_jobs=-1)]: Done 184 tasks      | elapsed:  8.1min\n",
      "[Parallel(n_jobs=-1)]: Done 270 out of 270 | elapsed: 12.2min finished\n",
      "/opt/anaconda3/envs/infs890/lib/python3.7/site-packages/sklearn/linear_model/_coordinate_descent.py:1088: DataConversionWarning: A column-vector y was passed when a 1d array was expected. Please change the shape of y to (n_samples, ), for example using ravel().\n",
      "  y = column_or_1d(y, warn=True)\n",
      "/opt/anaconda3/envs/infs890/lib/python3.7/site-packages/sklearn/utils/validation.py:760: DataConversionWarning: A column-vector y was passed when a 1d array was expected. Please change the shape of y to (n_samples, ), for example using ravel().\n",
      "  y = column_or_1d(y, warn=True)\n"
     ]
    },
    {
     "data": {
      "text/plain": [
       "GridSearchCV(cv=KFold(n_splits=10, random_state=None, shuffle=False),\n",
       "             error_score=nan,\n",
       "             estimator=Pipeline(memory=None,\n",
       "                                steps=[('scaler',\n",
       "                                        StandardScaler(copy=True,\n",
       "                                                       with_mean=True,\n",
       "                                                       with_std=True)),\n",
       "                                       ('selector',\n",
       "                                        SelectFromModel(estimator=LassoCV(alphas=None,\n",
       "                                                                          copy_X=True,\n",
       "                                                                          cv=None,\n",
       "                                                                          eps=0.001,\n",
       "                                                                          fit_intercept=True,\n",
       "                                                                          max_iter=1000,\n",
       "                                                                          n_alphas=100,\n",
       "                                                                          n_jobs=None,\n",
       "                                                                          normalize=False,\n",
       "                                                                          p...\n",
       "             iid='deprecated', n_jobs=-1,\n",
       "             param_grid={'reg__l2_regularization': [1.5],\n",
       "                         'reg__learning_rate': [0.1],\n",
       "                         'reg__max_depth': [25, 50, 75],\n",
       "                         'reg__max_iter': [1000, 1200, 1500],\n",
       "                         'reg__random_state': [100], 'reg__scoring': ['loss'],\n",
       "                         'selector__threshold': ['0.05*mean', '0.02*mean',\n",
       "                                                 '0.01*mean']},\n",
       "             pre_dispatch='2*n_jobs', refit=True, return_train_score=True,\n",
       "             scoring='neg_mean_squared_error', verbose=1)"
      ]
     },
     "execution_count": 83,
     "metadata": {},
     "output_type": "execute_result"
    }
   ],
   "source": [
    "import sklearn \n",
    "print('sklearn version {}'.format(sklearn.__version__))\n",
    "\n",
    "search.fit(x_train, y_train)"
   ]
  },
  {
   "cell_type": "code",
   "execution_count": 84,
   "metadata": {},
   "outputs": [
    {
     "name": "stdout",
     "output_type": "stream",
     "text": [
      "{'reg__l2_regularization': 1.5, 'reg__learning_rate': 0.1, 'reg__max_depth': 25, 'reg__max_iter': 1000, 'reg__random_state': 100, 'reg__scoring': 'loss', 'selector__threshold': '0.01*mean'}\n",
      "\n",
      "-0.056879033852454054\n"
     ]
    }
   ],
   "source": [
    "# Print the best parameters found\n",
    "print(search.best_params_)\n",
    "# Print the best scores found\n",
    "print()\n",
    "print(search.best_score_)"
   ]
  },
  {
   "cell_type": "markdown",
   "metadata": {},
   "source": [
    "# Training R2"
   ]
  },
  {
   "cell_type": "code",
   "execution_count": 85,
   "metadata": {},
   "outputs": [
    {
     "name": "stdout",
     "output_type": "stream",
     "text": [
      "R2 (training) = 0.9381912087878017\n",
      "Score (training) = -0.008082588375739153\n"
     ]
    }
   ],
   "source": [
    "y_train_pred = search.predict(x_train)\n",
    "\n",
    "r2_train = metrics.r2_score(y_train, y_train_pred)\n",
    "print('R2 (training) = {}'.format(r2_train))\n",
    "\n",
    "print('Score (training) = {}'.format(search.score(x_train,y_train)))"
   ]
  },
  {
   "cell_type": "code",
   "execution_count": 86,
   "metadata": {},
   "outputs": [
    {
     "name": "stdout",
     "output_type": "stream",
     "text": [
      "Model Result (mean - std of error - min - max): 0.37 (0.34) 0.00 1.00 MSE\n"
     ]
    }
   ],
   "source": [
    "# validation mean_absolute_percentage_error\n",
    "train_error =  np.abs(y_train - y_train_pred)\n",
    "mean_error = np.mean(train_error)\n",
    "min_error = np.min(train_error)\n",
    "max_error = np.max(train_error)\n",
    "std_error = np.std(train_error)\n",
    "\n",
    "print(\"Model Result (mean - std of error - min - max): %.2f (%.2f) %.2f %.2f MSE\" \\\n",
    "      % (mean_error, std_error, min_error, max_error))"
   ]
  },
  {
   "cell_type": "code",
   "execution_count": 87,
   "metadata": {},
   "outputs": [
    {
     "data": {
      "image/png": "[encoded data removed]",
      "text/plain": [
       "<Figure size 432x288 with 1 Axes>"
      ]
     },
     "metadata": {},
     "output_type": "display_data"
    }
   ],
   "source": [
    "plt.scatter(y_train, y_train_pred)\n",
    "plt.xlabel('Latency', size=18)\n",
    "plt.ylabel(\"predicted Latency\", size=18)\n",
    "plt.show()"
   ]
  },
  {
   "cell_type": "markdown",
   "metadata": {},
   "source": [
    "# Testing"
   ]
  },
  {
   "cell_type": "code",
   "execution_count": 88,
   "metadata": {},
   "outputs": [],
   "source": [
    "y_test_pred = search.predict(x_test)"
   ]
  },
  {
   "cell_type": "code",
   "execution_count": 89,
   "metadata": {},
   "outputs": [
    {
     "data": {
      "text/plain": [
       "<function matplotlib.pyplot.show(*args, **kw)>"
      ]
     },
     "execution_count": 89,
     "metadata": {},
     "output_type": "execute_result"
    },
    {
     "data": {
      "image/png": "[encoded data removed]",
      "text/plain": [
       "<Figure size 432x288 with 1 Axes>"
      ]
     },
     "metadata": {},
     "output_type": "display_data"
    }
   ],
   "source": [
    "plt.scatter(y_test, y_test_pred)\n",
    "plt.xlabel('Latency', size=18)\n",
    "plt.ylabel('Predicted Latency', size=18)\n",
    "plt.show"
   ]
  },
  {
   "cell_type": "code",
   "execution_count": 90,
   "metadata": {},
   "outputs": [
    {
     "data": {
      "image/png": "[encoded data removed]",
      "text/plain": [
       "<Figure size 432x288 with 1 Axes>"
      ]
     },
     "metadata": {},
     "output_type": "display_data"
    }
   ],
   "source": [
    "ax = sns.regplot(x=y_test, y=y_test_pred, color='g')"
   ]
  },
  {
   "cell_type": "code",
   "execution_count": 91,
   "metadata": {},
   "outputs": [
    {
     "data": {
      "text/html": [
       "<div>\n",
       "<style scoped>\n",
       "    .dataframe tbody tr th:only-of-type {\n",
       "        vertical-align: middle;\n",
       "    }\n",
       "\n",
       "    .dataframe tbody tr th {\n",
       "        vertical-align: top;\n",
       "    }\n",
       "\n",
       "    .dataframe thead th {\n",
       "        text-align: right;\n",
       "    }\n",
       "</style>\n",
       "<table border=\"1\" class=\"dataframe\">\n",
       "  <thead>\n",
       "    <tr style=\"text-align: right;\">\n",
       "      <th></th>\n",
       "      <th>prediction</th>\n",
       "      <th>target</th>\n",
       "    </tr>\n",
       "  </thead>\n",
       "  <tbody>\n",
       "    <tr>\n",
       "      <th>0</th>\n",
       "      <td>0.6013</td>\n",
       "      <td>0.2517</td>\n",
       "    </tr>\n",
       "    <tr>\n",
       "      <th>1</th>\n",
       "      <td>0.6013</td>\n",
       "      <td>0.2510</td>\n",
       "    </tr>\n",
       "    <tr>\n",
       "      <th>2</th>\n",
       "      <td>0.6013</td>\n",
       "      <td>0.2504</td>\n",
       "    </tr>\n",
       "    <tr>\n",
       "      <th>3</th>\n",
       "      <td>0.6013</td>\n",
       "      <td>0.2497</td>\n",
       "    </tr>\n",
       "    <tr>\n",
       "      <th>4</th>\n",
       "      <td>0.6013</td>\n",
       "      <td>0.2491</td>\n",
       "    </tr>\n",
       "  </tbody>\n",
       "</table>\n",
       "</div>"
      ],
      "text/plain": [
       "   prediction  target\n",
       "0      0.6013  0.2517\n",
       "1      0.6013  0.2510\n",
       "2      0.6013  0.2504\n",
       "3      0.6013  0.2497\n",
       "4      0.6013  0.2491"
      ]
     },
     "execution_count": 91,
     "metadata": {},
     "output_type": "execute_result"
    }
   ],
   "source": [
    "perf = pd.DataFrame(y_test_pred, columns=['prediction'])\n",
    "perf['target'] = y_test\n",
    "perf.head()"
   ]
  },
  {
   "cell_type": "code",
   "execution_count": 92,
   "metadata": {},
   "outputs": [
    {
     "data": {
      "text/html": [
       "<div>\n",
       "<style scoped>\n",
       "    .dataframe tbody tr th:only-of-type {\n",
       "        vertical-align: middle;\n",
       "    }\n",
       "\n",
       "    .dataframe tbody tr th {\n",
       "        vertical-align: top;\n",
       "    }\n",
       "\n",
       "    .dataframe thead th {\n",
       "        text-align: right;\n",
       "    }\n",
       "</style>\n",
       "<table border=\"1\" class=\"dataframe\">\n",
       "  <thead>\n",
       "    <tr style=\"text-align: right;\">\n",
       "      <th></th>\n",
       "      <th>prediction</th>\n",
       "      <th>target</th>\n",
       "      <th>residual</th>\n",
       "      <th>difference%</th>\n",
       "    </tr>\n",
       "  </thead>\n",
       "  <tbody>\n",
       "    <tr>\n",
       "      <th>0</th>\n",
       "      <td>0.6013</td>\n",
       "      <td>0.2517</td>\n",
       "      <td>0.3496</td>\n",
       "      <td>138.8828</td>\n",
       "    </tr>\n",
       "    <tr>\n",
       "      <th>1</th>\n",
       "      <td>0.6013</td>\n",
       "      <td>0.2510</td>\n",
       "      <td>0.3502</td>\n",
       "      <td>139.5021</td>\n",
       "    </tr>\n",
       "    <tr>\n",
       "      <th>2</th>\n",
       "      <td>0.6013</td>\n",
       "      <td>0.2504</td>\n",
       "      <td>0.3509</td>\n",
       "      <td>140.1246</td>\n",
       "    </tr>\n",
       "    <tr>\n",
       "      <th>3</th>\n",
       "      <td>0.6013</td>\n",
       "      <td>0.2497</td>\n",
       "      <td>0.3515</td>\n",
       "      <td>140.7504</td>\n",
       "    </tr>\n",
       "    <tr>\n",
       "      <th>4</th>\n",
       "      <td>0.6013</td>\n",
       "      <td>0.2491</td>\n",
       "      <td>0.3522</td>\n",
       "      <td>141.3794</td>\n",
       "    </tr>\n",
       "    <tr>\n",
       "      <th>...</th>\n",
       "      <td>...</td>\n",
       "      <td>...</td>\n",
       "      <td>...</td>\n",
       "      <td>...</td>\n",
       "    </tr>\n",
       "    <tr>\n",
       "      <th>1349</th>\n",
       "      <td>0.9340</td>\n",
       "      <td>0.9877</td>\n",
       "      <td>-0.0537</td>\n",
       "      <td>5.4370</td>\n",
       "    </tr>\n",
       "    <tr>\n",
       "      <th>1350</th>\n",
       "      <td>0.9475</td>\n",
       "      <td>0.9877</td>\n",
       "      <td>-0.0401</td>\n",
       "      <td>4.0644</td>\n",
       "    </tr>\n",
       "    <tr>\n",
       "      <th>1351</th>\n",
       "      <td>0.9165</td>\n",
       "      <td>0.9856</td>\n",
       "      <td>-0.0692</td>\n",
       "      <td>7.0166</td>\n",
       "    </tr>\n",
       "    <tr>\n",
       "      <th>1352</th>\n",
       "      <td>0.8525</td>\n",
       "      <td>0.9887</td>\n",
       "      <td>-0.1362</td>\n",
       "      <td>13.7740</td>\n",
       "    </tr>\n",
       "    <tr>\n",
       "      <th>1353</th>\n",
       "      <td>0.9519</td>\n",
       "      <td>0.9918</td>\n",
       "      <td>-0.0399</td>\n",
       "      <td>4.0245</td>\n",
       "    </tr>\n",
       "  </tbody>\n",
       "</table>\n",
       "<p>1354 rows × 4 columns</p>\n",
       "</div>"
      ],
      "text/plain": [
       "      prediction  target  residual  difference%\n",
       "0         0.6013  0.2517    0.3496     138.8828\n",
       "1         0.6013  0.2510    0.3502     139.5021\n",
       "2         0.6013  0.2504    0.3509     140.1246\n",
       "3         0.6013  0.2497    0.3515     140.7504\n",
       "4         0.6013  0.2491    0.3522     141.3794\n",
       "...          ...     ...       ...          ...\n",
       "1349      0.9340  0.9877   -0.0537       5.4370\n",
       "1350      0.9475  0.9877   -0.0401       4.0644\n",
       "1351      0.9165  0.9856   -0.0692       7.0166\n",
       "1352      0.8525  0.9887   -0.1362      13.7740\n",
       "1353      0.9519  0.9918   -0.0399       4.0245\n",
       "\n",
       "[1354 rows x 4 columns]"
      ]
     },
     "execution_count": 92,
     "metadata": {},
     "output_type": "execute_result"
    }
   ],
   "source": [
    "# testing mean_absolute_percentage_error\n",
    "perf['residual'] = perf['prediction'] - perf['target']\n",
    "perf['difference%'] = np.absolute(perf['residual'] * 100 / perf['target'])\n",
    "perf"
   ]
  },
  {
   "cell_type": "code",
   "execution_count": 93,
   "metadata": {},
   "outputs": [
    {
     "data": {
      "text/html": [
       "<div>\n",
       "<style scoped>\n",
       "    .dataframe tbody tr th:only-of-type {\n",
       "        vertical-align: middle;\n",
       "    }\n",
       "\n",
       "    .dataframe tbody tr th {\n",
       "        vertical-align: top;\n",
       "    }\n",
       "\n",
       "    .dataframe thead th {\n",
       "        text-align: right;\n",
       "    }\n",
       "</style>\n",
       "<table border=\"1\" class=\"dataframe\">\n",
       "  <thead>\n",
       "    <tr style=\"text-align: right;\">\n",
       "      <th></th>\n",
       "      <th>prediction</th>\n",
       "      <th>target</th>\n",
       "      <th>residual</th>\n",
       "      <th>difference%</th>\n",
       "    </tr>\n",
       "  </thead>\n",
       "  <tbody>\n",
       "    <tr>\n",
       "      <th>count</th>\n",
       "      <td>1,354.0000</td>\n",
       "      <td>1,354.0000</td>\n",
       "      <td>1,354.0000</td>\n",
       "      <td>1,354.0000</td>\n",
       "    </tr>\n",
       "    <tr>\n",
       "      <th>mean</th>\n",
       "      <td>0.4107</td>\n",
       "      <td>0.2942</td>\n",
       "      <td>0.1166</td>\n",
       "      <td>192.4894</td>\n",
       "    </tr>\n",
       "    <tr>\n",
       "      <th>std</th>\n",
       "      <td>0.3397</td>\n",
       "      <td>0.3593</td>\n",
       "      <td>0.2335</td>\n",
       "      <td>346.0538</td>\n",
       "    </tr>\n",
       "    <tr>\n",
       "      <th>min</th>\n",
       "      <td>-0.0798</td>\n",
       "      <td>0.0134</td>\n",
       "      <td>-0.7825</td>\n",
       "      <td>0.0088</td>\n",
       "    </tr>\n",
       "    <tr>\n",
       "      <th>25%</th>\n",
       "      <td>0.0434</td>\n",
       "      <td>0.0236</td>\n",
       "      <td>-0.0114</td>\n",
       "      <td>12.9651</td>\n",
       "    </tr>\n",
       "    <tr>\n",
       "      <th>50%</th>\n",
       "      <td>0.5004</td>\n",
       "      <td>0.1062</td>\n",
       "      <td>0.0175</td>\n",
       "      <td>52.1458</td>\n",
       "    </tr>\n",
       "    <tr>\n",
       "      <th>75%</th>\n",
       "      <td>0.6013</td>\n",
       "      <td>0.4838</td>\n",
       "      <td>0.3618</td>\n",
       "      <td>219.6844</td>\n",
       "    </tr>\n",
       "    <tr>\n",
       "      <th>max</th>\n",
       "      <td>1.0827</td>\n",
       "      <td>1.0000</td>\n",
       "      <td>0.7220</td>\n",
       "      <td>3,894.3562</td>\n",
       "    </tr>\n",
       "  </tbody>\n",
       "</table>\n",
       "</div>"
      ],
      "text/plain": [
       "       prediction     target   residual  difference%\n",
       "count  1,354.0000 1,354.0000 1,354.0000   1,354.0000\n",
       "mean       0.4107     0.2942     0.1166     192.4894\n",
       "std        0.3397     0.3593     0.2335     346.0538\n",
       "min       -0.0798     0.0134    -0.7825       0.0088\n",
       "25%        0.0434     0.0236    -0.0114      12.9651\n",
       "50%        0.5004     0.1062     0.0175      52.1458\n",
       "75%        0.6013     0.4838     0.3618     219.6844\n",
       "max        1.0827     1.0000     0.7220   3,894.3562"
      ]
     },
     "execution_count": 93,
     "metadata": {},
     "output_type": "execute_result"
    }
   ],
   "source": [
    "perf.describe()"
   ]
  },
  {
   "cell_type": "code",
   "execution_count": 94,
   "metadata": {},
   "outputs": [
    {
     "data": {
      "text/html": [
       "<div>\n",
       "<style scoped>\n",
       "    .dataframe tbody tr th:only-of-type {\n",
       "        vertical-align: middle;\n",
       "    }\n",
       "\n",
       "    .dataframe tbody tr th {\n",
       "        vertical-align: top;\n",
       "    }\n",
       "\n",
       "    .dataframe thead th {\n",
       "        text-align: right;\n",
       "    }\n",
       "</style>\n",
       "<table border=\"1\" class=\"dataframe\">\n",
       "  <thead>\n",
       "    <tr style=\"text-align: right;\">\n",
       "      <th></th>\n",
       "      <th>prediction</th>\n",
       "      <th>target</th>\n",
       "      <th>residual</th>\n",
       "      <th>difference%</th>\n",
       "    </tr>\n",
       "  </thead>\n",
       "  <tbody>\n",
       "    <tr>\n",
       "      <th>447</th>\n",
       "      <td>0.0226</td>\n",
       "      <td>0.0226</td>\n",
       "      <td>0.0000</td>\n",
       "      <td>0.0088</td>\n",
       "    </tr>\n",
       "    <tr>\n",
       "      <th>1257</th>\n",
       "      <td>0.9727</td>\n",
       "      <td>0.9733</td>\n",
       "      <td>-0.0006</td>\n",
       "      <td>0.0615</td>\n",
       "    </tr>\n",
       "    <tr>\n",
       "      <th>1168</th>\n",
       "      <td>0.9377</td>\n",
       "      <td>0.9383</td>\n",
       "      <td>-0.0007</td>\n",
       "      <td>0.0706</td>\n",
       "    </tr>\n",
       "    <tr>\n",
       "      <th>1109</th>\n",
       "      <td>0.9744</td>\n",
       "      <td>0.9753</td>\n",
       "      <td>-0.0010</td>\n",
       "      <td>0.1005</td>\n",
       "    </tr>\n",
       "    <tr>\n",
       "      <th>1337</th>\n",
       "      <td>0.9662</td>\n",
       "      <td>0.9651</td>\n",
       "      <td>0.0011</td>\n",
       "      <td>0.1160</td>\n",
       "    </tr>\n",
       "    <tr>\n",
       "      <th>...</th>\n",
       "      <td>...</td>\n",
       "      <td>...</td>\n",
       "      <td>...</td>\n",
       "      <td>...</td>\n",
       "    </tr>\n",
       "    <tr>\n",
       "      <th>346</th>\n",
       "      <td>0.6013</td>\n",
       "      <td>0.0265</td>\n",
       "      <td>0.5747</td>\n",
       "      <td>2167.5883</td>\n",
       "    </tr>\n",
       "    <tr>\n",
       "      <th>347</th>\n",
       "      <td>0.6013</td>\n",
       "      <td>0.0259</td>\n",
       "      <td>0.5754</td>\n",
       "      <td>2224.6461</td>\n",
       "    </tr>\n",
       "    <tr>\n",
       "      <th>348</th>\n",
       "      <td>0.6013</td>\n",
       "      <td>0.0252</td>\n",
       "      <td>0.5760</td>\n",
       "      <td>2284.6494</td>\n",
       "    </tr>\n",
       "    <tr>\n",
       "      <th>1229</th>\n",
       "      <td>0.5252</td>\n",
       "      <td>0.0195</td>\n",
       "      <td>0.5056</td>\n",
       "      <td>2589.4051</td>\n",
       "    </tr>\n",
       "    <tr>\n",
       "      <th>1104</th>\n",
       "      <td>0.5747</td>\n",
       "      <td>0.0144</td>\n",
       "      <td>0.5603</td>\n",
       "      <td>3894.3562</td>\n",
       "    </tr>\n",
       "  </tbody>\n",
       "</table>\n",
       "<p>1354 rows × 4 columns</p>\n",
       "</div>"
      ],
      "text/plain": [
       "      prediction  target  residual  difference%\n",
       "447       0.0226  0.0226    0.0000       0.0088\n",
       "1257      0.9727  0.9733   -0.0006       0.0615\n",
       "1168      0.9377  0.9383   -0.0007       0.0706\n",
       "1109      0.9744  0.9753   -0.0010       0.1005\n",
       "1337      0.9662  0.9651    0.0011       0.1160\n",
       "...          ...     ...       ...          ...\n",
       "346       0.6013  0.0265    0.5747    2167.5883\n",
       "347       0.6013  0.0259    0.5754    2224.6461\n",
       "348       0.6013  0.0252    0.5760    2284.6494\n",
       "1229      0.5252  0.0195    0.5056    2589.4051\n",
       "1104      0.5747  0.0144    0.5603    3894.3562\n",
       "\n",
       "[1354 rows x 4 columns]"
      ]
     },
     "execution_count": 94,
     "metadata": {},
     "output_type": "execute_result"
    }
   ],
   "source": [
    "pd.options.display.max_rows = 999\n",
    "pd.set_option('display.float_format', lambda x: '%.4f' % x)\n",
    "perf.sort_values(by = ['difference%'])"
   ]
  },
  {
   "cell_type": "markdown",
   "metadata": {},
   "source": [
    "# *** Prediction Accuracy"
   ]
  },
  {
   "cell_type": "code",
   "execution_count": 95,
   "metadata": {},
   "outputs": [
    {
     "name": "stdout",
     "output_type": "stream",
     "text": [
      "R2 (testing) = 0.4723734119532199\n"
     ]
    }
   ],
   "source": [
    "r2_test = metrics.r2_score(y_test, y_test_pred)\n",
    "print('R2 (testing) = {}'.format(r2_test))\n",
    "\n",
    "# also: R-Squared could obtain with\n",
    "# pline.score(x_test, y_test)"
   ]
  },
  {
   "cell_type": "code",
   "execution_count": 96,
   "metadata": {},
   "outputs": [
    {
     "name": "stdout",
     "output_type": "stream",
     "text": [
      "0.2608769920617372\n"
     ]
    }
   ],
   "source": [
    "print(np.sqrt(mean_squared_error(y_test,y_test_pred)))"
   ]
  }
 ],
 "metadata": {
  "kernelspec": {
   "display_name": "Python 3",
   "language": "python",
   "name": "python3"
  },
  "language_info": {
   "codemirror_mode": {
    "name": "ipython",
    "version": 3
   },
   "file_extension": ".py",
   "mimetype": "text/x-python",
   "name": "python",
   "nbconvert_exporter": "python",
   "pygments_lexer": "ipython3",
   "version": "3.7.7"
  }
 },
 "nbformat": 4,
 "nbformat_minor": 4
}
