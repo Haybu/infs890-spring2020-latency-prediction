{
 "cells": [
  {
   "cell_type": "markdown",
   "metadata": {},
   "source": [
    "# Data Clean up\n",
    "\n",
    "Haytham Mohamed - INFS890 Spring 2020\n",
    "\n",
    "This notebook is to check missing data and outliers"
   ]
  },
  {
   "cell_type": "code",
   "execution_count": 1,
   "metadata": {},
   "outputs": [],
   "source": [
    "import numpy as np\n",
    "import pandas as pd\n",
    "import matplotlib.pyplot as plt\n",
    "from sklearn.linear_model import LinearRegression\n",
    "import seaborn as sns\n",
    "from sklearn import preprocessing\n",
    "from datetime import datetime\n",
    "from scipy import stats\n",
    "\n",
    "sns.set()\n",
    "sns.set(color_codes=True)\n",
    "#sns.set_color_codes()\n",
    "\n",
    "pd.options.display.max_rows = 15\n",
    "pd.options.display.float_format = '{:,.3f}'.format"
   ]
  },
  {
   "cell_type": "markdown",
   "metadata": {},
   "source": [
    "# Read the raw data. \n",
    "\n",
    "All data is in one file, where each metric is listed under each other with three columns: \n",
    "\n",
    "1- metric: The name of the metric\n",
    "\n",
    "2- date: the data and time of the metric\n",
    "\n",
    "3- value: the metric value\n"
   ]
  },
  {
   "cell_type": "code",
   "execution_count": 2,
   "metadata": {},
   "outputs": [],
   "source": [
    "# 1- read processed file\n",
    "\n",
    "home_dir = '/Users/hmohamed/github/data-research-spring2020/sock-shop'\n",
    "\n",
    "file_dir = home_dir + '/processed-data/'\n",
    "\n",
    "input_file = 'cart_flow_data.csv'\n",
    "\n",
    "concated_data_file = 'all_data.csv'\n",
    "\n",
    "save=True"
   ]
  },
  {
   "cell_type": "code",
   "execution_count": 3,
   "metadata": {},
   "outputs": [],
   "source": [
    "def read_df(file_dir, data_file):\n",
    "    df = pd.read_csv(file_dir + data_file)\n",
    "    return to_time_series(df)\n",
    "\n",
    "def to_time_series(df, index_col_name='date'):\n",
    "    df[index_col_name] = pd.to_datetime(df[index_col_name])\n",
    "    df.set_index(index_col_name, inplace=True)\n",
    "    df.sort_index(inplace=True)\n",
    "    return df"
   ]
  },
  {
   "cell_type": "code",
   "execution_count": 8,
   "metadata": {},
   "outputs": [
    {
     "data": {
      "text/html": [
       "<div>\n",
       "<style scoped>\n",
       "    .dataframe tbody tr th:only-of-type {\n",
       "        vertical-align: middle;\n",
       "    }\n",
       "\n",
       "    .dataframe tbody tr th {\n",
       "        vertical-align: top;\n",
       "    }\n",
       "\n",
       "    .dataframe thead th {\n",
       "        text-align: right;\n",
       "    }\n",
       "</style>\n",
       "<table border=\"1\" class=\"dataframe\">\n",
       "  <thead>\n",
       "    <tr style=\"text-align: right;\">\n",
       "      <th></th>\n",
       "      <th>front-end_cpu_use</th>\n",
       "      <th>orders_cpu_use</th>\n",
       "      <th>carts_cpu_use</th>\n",
       "      <th>carts-db_cpu_use</th>\n",
       "      <th>nodes_cpu_use</th>\n",
       "      <th>carts_ltcy</th>\n",
       "    </tr>\n",
       "    <tr>\n",
       "      <th>date</th>\n",
       "      <th></th>\n",
       "      <th></th>\n",
       "      <th></th>\n",
       "      <th></th>\n",
       "      <th></th>\n",
       "      <th></th>\n",
       "    </tr>\n",
       "  </thead>\n",
       "  <tbody>\n",
       "    <tr>\n",
       "      <th>2020-03-27 00:00:22</th>\n",
       "      <td>0.020</td>\n",
       "      <td>0.170</td>\n",
       "      <td>0.570</td>\n",
       "      <td>0.010</td>\n",
       "      <td>1.840</td>\n",
       "      <td>10.000</td>\n",
       "    </tr>\n",
       "    <tr>\n",
       "      <th>2020-03-27 00:00:37</th>\n",
       "      <td>0.030</td>\n",
       "      <td>0.180</td>\n",
       "      <td>0.580</td>\n",
       "      <td>0.010</td>\n",
       "      <td>1.890</td>\n",
       "      <td>10.000</td>\n",
       "    </tr>\n",
       "    <tr>\n",
       "      <th>2020-03-27 00:00:52</th>\n",
       "      <td>0.050</td>\n",
       "      <td>0.080</td>\n",
       "      <td>0.640</td>\n",
       "      <td>0.080</td>\n",
       "      <td>1.740</td>\n",
       "      <td>10.000</td>\n",
       "    </tr>\n",
       "    <tr>\n",
       "      <th>2020-03-27 00:01:07</th>\n",
       "      <td>0.100</td>\n",
       "      <td>0.090</td>\n",
       "      <td>0.630</td>\n",
       "      <td>0.200</td>\n",
       "      <td>1.790</td>\n",
       "      <td>10.000</td>\n",
       "    </tr>\n",
       "    <tr>\n",
       "      <th>2020-03-27 00:01:22</th>\n",
       "      <td>0.110</td>\n",
       "      <td>0.180</td>\n",
       "      <td>0.520</td>\n",
       "      <td>0.220</td>\n",
       "      <td>1.610</td>\n",
       "      <td>10.000</td>\n",
       "    </tr>\n",
       "  </tbody>\n",
       "</table>\n",
       "</div>"
      ],
      "text/plain": [
       "                     front-end_cpu_use  orders_cpu_use  carts_cpu_use  \\\n",
       "date                                                                    \n",
       "2020-03-27 00:00:22              0.020           0.170          0.570   \n",
       "2020-03-27 00:00:37              0.030           0.180          0.580   \n",
       "2020-03-27 00:00:52              0.050           0.080          0.640   \n",
       "2020-03-27 00:01:07              0.100           0.090          0.630   \n",
       "2020-03-27 00:01:22              0.110           0.180          0.520   \n",
       "\n",
       "                     carts-db_cpu_use  nodes_cpu_use  carts_ltcy  \n",
       "date                                                              \n",
       "2020-03-27 00:00:22             0.010          1.840      10.000  \n",
       "2020-03-27 00:00:37             0.010          1.890      10.000  \n",
       "2020-03-27 00:00:52             0.080          1.740      10.000  \n",
       "2020-03-27 00:01:07             0.200          1.790      10.000  \n",
       "2020-03-27 00:01:22             0.220          1.610      10.000  "
      ]
     },
     "execution_count": 8,
     "metadata": {},
     "output_type": "execute_result"
    }
   ],
   "source": [
    "cart_flow_df = read_df(file_dir, input_file)\n",
    "cart_flow_df.head(5) "
   ]
  },
  {
   "cell_type": "code",
   "execution_count": 9,
   "metadata": {},
   "outputs": [
    {
     "data": {
      "text/plain": [
       "(5750, 6)"
      ]
     },
     "execution_count": 9,
     "metadata": {},
     "output_type": "execute_result"
    }
   ],
   "source": [
    "cart_flow_df.shape\n"
   ]
  },
  {
   "cell_type": "markdown",
   "metadata": {},
   "source": [
    "Take away records with ltcy or number of pods null or equals to zero"
   ]
  },
  {
   "cell_type": "code",
   "execution_count": 10,
   "metadata": {},
   "outputs": [
    {
     "data": {
      "text/plain": [
       "(5750, 6)"
      ]
     },
     "execution_count": 10,
     "metadata": {},
     "output_type": "execute_result"
    }
   ],
   "source": [
    "cart_flow_df = cart_flow_df[cart_flow_df['carts_ltcy'].notna()]\n",
    "cart_flow_df.shape"
   ]
  },
  {
   "cell_type": "code",
   "execution_count": 11,
   "metadata": {},
   "outputs": [
    {
     "data": {
      "text/plain": [
       "(5750, 6)"
      ]
     },
     "execution_count": 11,
     "metadata": {},
     "output_type": "execute_result"
    }
   ],
   "source": [
    "cart_flow_df = cart_flow_df[cart_flow_df['carts_ltcy'] >= 0]\n",
    "cart_flow_df.shape"
   ]
  },
  {
   "cell_type": "code",
   "execution_count": 34,
   "metadata": {},
   "outputs": [
    {
     "data": {
      "text/html": [
       "<div>\n",
       "<style scoped>\n",
       "    .dataframe tbody tr th:only-of-type {\n",
       "        vertical-align: middle;\n",
       "    }\n",
       "\n",
       "    .dataframe tbody tr th {\n",
       "        vertical-align: top;\n",
       "    }\n",
       "\n",
       "    .dataframe thead th {\n",
       "        text-align: right;\n",
       "    }\n",
       "</style>\n",
       "<table border=\"1\" class=\"dataframe\">\n",
       "  <thead>\n",
       "    <tr style=\"text-align: right;\">\n",
       "      <th></th>\n",
       "      <th>front-end_cpu_use</th>\n",
       "      <th>orders_cpu_use</th>\n",
       "      <th>carts_cpu_use</th>\n",
       "      <th>carts-db_cpu_use</th>\n",
       "      <th>nodes_cpu_use</th>\n",
       "      <th>carts_ltcy</th>\n",
       "    </tr>\n",
       "  </thead>\n",
       "  <tbody>\n",
       "    <tr>\n",
       "      <th>count</th>\n",
       "      <td>2,875.000</td>\n",
       "      <td>2,875.000</td>\n",
       "      <td>2,875.000</td>\n",
       "      <td>2,875.000</td>\n",
       "      <td>2,875.000</td>\n",
       "      <td>2,875.000</td>\n",
       "    </tr>\n",
       "    <tr>\n",
       "      <th>mean</th>\n",
       "      <td>1.008</td>\n",
       "      <td>0.249</td>\n",
       "      <td>0.683</td>\n",
       "      <td>2.708</td>\n",
       "      <td>4.956</td>\n",
       "      <td>5.342</td>\n",
       "    </tr>\n",
       "    <tr>\n",
       "      <th>std</th>\n",
       "      <td>0.627</td>\n",
       "      <td>0.140</td>\n",
       "      <td>0.653</td>\n",
       "      <td>2.313</td>\n",
       "      <td>2.368</td>\n",
       "      <td>4.477</td>\n",
       "    </tr>\n",
       "    <tr>\n",
       "      <th>min</th>\n",
       "      <td>0.020</td>\n",
       "      <td>0.040</td>\n",
       "      <td>0.050</td>\n",
       "      <td>0.010</td>\n",
       "      <td>1.360</td>\n",
       "      <td>0.325</td>\n",
       "    </tr>\n",
       "    <tr>\n",
       "      <th>25%</th>\n",
       "      <td>0.040</td>\n",
       "      <td>0.050</td>\n",
       "      <td>0.050</td>\n",
       "      <td>0.020</td>\n",
       "      <td>1.360</td>\n",
       "      <td>0.470</td>\n",
       "    </tr>\n",
       "    <tr>\n",
       "      <th>50%</th>\n",
       "      <td>1.220</td>\n",
       "      <td>0.280</td>\n",
       "      <td>0.420</td>\n",
       "      <td>2.650</td>\n",
       "      <td>5.740</td>\n",
       "      <td>5.500</td>\n",
       "    </tr>\n",
       "    <tr>\n",
       "      <th>75%</th>\n",
       "      <td>1.420</td>\n",
       "      <td>0.340</td>\n",
       "      <td>1.100</td>\n",
       "      <td>4.890</td>\n",
       "      <td>6.660</td>\n",
       "      <td>10.000</td>\n",
       "    </tr>\n",
       "    <tr>\n",
       "      <th>max</th>\n",
       "      <td>2.630</td>\n",
       "      <td>0.910</td>\n",
       "      <td>2.530</td>\n",
       "      <td>6.580</td>\n",
       "      <td>9.660</td>\n",
       "      <td>10.000</td>\n",
       "    </tr>\n",
       "  </tbody>\n",
       "</table>\n",
       "</div>"
      ],
      "text/plain": [
       "       front-end_cpu_use  orders_cpu_use  carts_cpu_use  carts-db_cpu_use  \\\n",
       "count          2,875.000       2,875.000      2,875.000         2,875.000   \n",
       "mean               1.008           0.249          0.683             2.708   \n",
       "std                0.627           0.140          0.653             2.313   \n",
       "min                0.020           0.040          0.050             0.010   \n",
       "25%                0.040           0.050          0.050             0.020   \n",
       "50%                1.220           0.280          0.420             2.650   \n",
       "75%                1.420           0.340          1.100             4.890   \n",
       "max                2.630           0.910          2.530             6.580   \n",
       "\n",
       "       nodes_cpu_use  carts_ltcy  \n",
       "count      2,875.000   2,875.000  \n",
       "mean           4.956       5.342  \n",
       "std            2.368       4.477  \n",
       "min            1.360       0.325  \n",
       "25%            1.360       0.470  \n",
       "50%            5.740       5.500  \n",
       "75%            6.660      10.000  \n",
       "max            9.660      10.000  "
      ]
     },
     "execution_count": 34,
     "metadata": {},
     "output_type": "execute_result"
    }
   ],
   "source": [
    "df2.describe(include=\"all\")"
   ]
  },
  {
   "cell_type": "markdown",
   "metadata": {},
   "source": [
    "# Check missing values"
   ]
  },
  {
   "cell_type": "code",
   "execution_count": 13,
   "metadata": {},
   "outputs": [
    {
     "data": {
      "text/plain": [
       "front-end_cpu_use   0.000\n",
       "orders_cpu_use      0.000\n",
       "carts_cpu_use       0.000\n",
       "carts-db_cpu_use    0.000\n",
       "nodes_cpu_use       0.000\n",
       "carts_ltcy          0.000\n",
       "dtype: float64"
      ]
     },
     "execution_count": 13,
     "metadata": {},
     "output_type": "execute_result"
    }
   ],
   "source": [
    "# percent of missing value for every feature\n",
    "cart_flow_df.isnull().sum() * 100 / cart_flow_df.shape[0]"
   ]
  },
  {
   "cell_type": "markdown",
   "metadata": {},
   "source": [
    "# Check Outliers"
   ]
  },
  {
   "cell_type": "markdown",
   "metadata": {},
   "source": [
    "### latency target "
   ]
  },
  {
   "cell_type": "code",
   "execution_count": 16,
   "metadata": {},
   "outputs": [
    {
     "data": {
      "text/plain": [
       "<matplotlib.axes._subplots.AxesSubplot at 0x10898b610>"
      ]
     },
     "execution_count": 16,
     "metadata": {},
     "output_type": "execute_result"
    },
    {
     "data": {
      "image/png": "[encoded data removed]",
      "text/plain": [
       "<Figure size 432x288 with 1 Axes>"
      ]
     },
     "metadata": {},
     "output_type": "display_data"
    }
   ],
   "source": [
    "sns.distplot(cart_flow_df['carts_ltcy'], hist=True, rug=False, color=\"r\", label='ltcy')"
   ]
  },
  {
   "cell_type": "code",
   "execution_count": 39,
   "metadata": {},
   "outputs": [
    {
     "data": {
      "image/png": "[encoded data removed]",
      "text/plain": [
       "<Figure size 432x288 with 1 Axes>"
      ]
     },
     "metadata": {},
     "output_type": "display_data"
    }
   ],
   "source": [
    "# option 2: consider lower 99 percentile of the ltcy values\n",
    "\n",
    "df2 = cart_flow_df\n",
    "if 1 == 1:\n",
    "    minq = df2['carts_ltcy'].quantile(0.5)\n",
    "    maxq = df2['carts_ltcy'].quantile(0.8)\n",
    "    df2 = df2[df2['carts_ltcy'] > minq]\n",
    "    df2 = df2[df2['carts_ltcy'] < maxq]\n",
    "    sns.distplot(df2['carts_ltcy'])"
   ]
  },
  {
   "cell_type": "code",
   "execution_count": 33,
   "metadata": {},
   "outputs": [
    {
     "data": {
      "text/plain": [
       "(2875, 6)"
      ]
     },
     "execution_count": 33,
     "metadata": {},
     "output_type": "execute_result"
    }
   ],
   "source": [
    "df2.shape"
   ]
  },
  {
   "cell_type": "markdown",
   "metadata": {},
   "source": [
    "## Save Dataset to a file"
   ]
  },
  {
   "cell_type": "code",
   "execution_count": 58,
   "metadata": {},
   "outputs": [],
   "source": [
    "if 1 == 0:\n",
    "    cleaned_file_path = file_dir + 'no_missing_outliers_dataset.csv'\n",
    "    raw_data.to_csv(path_or_buf=cleaned_file_path, index=False)"
   ]
  }
 ],
 "metadata": {
  "kernelspec": {
   "display_name": "Python 3",
   "language": "python",
   "name": "python3"
  },
  "language_info": {
   "codemirror_mode": {
    "name": "ipython",
    "version": 3
   },
   "file_extension": ".py",
   "mimetype": "text/x-python",
   "name": "python",
   "nbconvert_exporter": "python",
   "pygments_lexer": "ipython3",
   "version": "3.7.6"
  }
 },
 "nbformat": 4,
 "nbformat_minor": 4
}
