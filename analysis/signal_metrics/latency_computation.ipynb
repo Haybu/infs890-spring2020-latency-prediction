{
 "cells": [
  {
   "cell_type": "code",
   "execution_count": 1,
   "metadata": {},
   "outputs": [],
   "source": [
    "import numpy as np\n",
    "import pandas as pd\n",
    "from scipy.stats import binned_statistic\n",
    "from datetime import datetime"
   ]
  },
  {
   "cell_type": "code",
   "execution_count": 3,
   "metadata": {},
   "outputs": [],
   "source": [
    "file_dir = '../../data/raw-data-linode-run3/merged/'\n",
    "concated_data_file = 'all_data.csv'"
   ]
  },
  {
   "cell_type": "code",
   "execution_count": 37,
   "metadata": {},
   "outputs": [
    {
     "data": {
      "text/html": [
       "<div>\n",
       "<style scoped>\n",
       "    .dataframe tbody tr th:only-of-type {\n",
       "        vertical-align: middle;\n",
       "    }\n",
       "\n",
       "    .dataframe tbody tr th {\n",
       "        vertical-align: top;\n",
       "    }\n",
       "\n",
       "    .dataframe thead th {\n",
       "        text-align: right;\n",
       "    }\n",
       "</style>\n",
       "<table border=\"1\" class=\"dataframe\">\n",
       "  <thead>\n",
       "    <tr style=\"text-align: right;\">\n",
       "      <th></th>\n",
       "      <th>date</th>\n",
       "      <th>value</th>\n",
       "      <th>metric</th>\n",
       "    </tr>\n",
       "  </thead>\n",
       "  <tbody>\n",
       "    <tr>\n",
       "      <th>0</th>\n",
       "      <td>2020-02-27 22:49:53</td>\n",
       "      <td>3504.829879</td>\n",
       "      <td>service_cpu_use</td>\n",
       "    </tr>\n",
       "    <tr>\n",
       "      <th>1</th>\n",
       "      <td>2020-02-27 22:49:54</td>\n",
       "      <td>5742.951598</td>\n",
       "      <td>service_cpu_use</td>\n",
       "    </tr>\n",
       "    <tr>\n",
       "      <th>2</th>\n",
       "      <td>2020-02-27 22:49:55</td>\n",
       "      <td>7981.073317</td>\n",
       "      <td>service_cpu_use</td>\n",
       "    </tr>\n",
       "  </tbody>\n",
       "</table>\n",
       "</div>"
      ],
      "text/plain": [
       "                  date        value           metric\n",
       "0  2020-02-27 22:49:53  3504.829879  service_cpu_use\n",
       "1  2020-02-27 22:49:54  5742.951598  service_cpu_use\n",
       "2  2020-02-27 22:49:55  7981.073317  service_cpu_use"
      ]
     },
     "execution_count": 37,
     "metadata": {},
     "output_type": "execute_result"
    }
   ],
   "source": [
    "df = pd.read_csv(file_dir + concated_data_file, header=None, skiprows=1, names=['date', 'value', 'metric'])\n",
    "\n",
    "df.head(3)"
   ]
  },
  {
   "cell_type": "code",
   "execution_count": 45,
   "metadata": {},
   "outputs": [
    {
     "data": {
      "text/html": [
       "<div>\n",
       "<style scoped>\n",
       "    .dataframe tbody tr th:only-of-type {\n",
       "        vertical-align: middle;\n",
       "    }\n",
       "\n",
       "    .dataframe tbody tr th {\n",
       "        vertical-align: top;\n",
       "    }\n",
       "\n",
       "    .dataframe thead th {\n",
       "        text-align: right;\n",
       "    }\n",
       "</style>\n",
       "<table border=\"1\" class=\"dataframe\">\n",
       "  <thead>\n",
       "    <tr style=\"text-align: right;\">\n",
       "      <th></th>\n",
       "      <th>service_ltcy_200</th>\n",
       "    </tr>\n",
       "    <tr>\n",
       "      <th>date</th>\n",
       "      <th></th>\n",
       "    </tr>\n",
       "  </thead>\n",
       "  <tbody>\n",
       "    <tr>\n",
       "      <th>2020-02-27 22:49:53</th>\n",
       "      <td>308186.000000</td>\n",
       "    </tr>\n",
       "    <tr>\n",
       "      <th>2020-02-27 22:49:54</th>\n",
       "      <td>308206.066667</td>\n",
       "    </tr>\n",
       "    <tr>\n",
       "      <th>2020-02-27 22:49:55</th>\n",
       "      <td>308226.133333</td>\n",
       "    </tr>\n",
       "    <tr>\n",
       "      <th>2020-02-27 22:49:56</th>\n",
       "      <td>308246.200000</td>\n",
       "    </tr>\n",
       "    <tr>\n",
       "      <th>2020-02-27 22:49:57</th>\n",
       "      <td>308266.266667</td>\n",
       "    </tr>\n",
       "  </tbody>\n",
       "</table>\n",
       "</div>"
      ],
      "text/plain": [
       "                     service_ltcy_200\n",
       "date                                 \n",
       "2020-02-27 22:49:53     308186.000000\n",
       "2020-02-27 22:49:54     308206.066667\n",
       "2020-02-27 22:49:55     308226.133333\n",
       "2020-02-27 22:49:56     308246.200000\n",
       "2020-02-27 22:49:57     308266.266667"
      ]
     },
     "execution_count": 45,
     "metadata": {},
     "output_type": "execute_result"
    }
   ],
   "source": [
    "latency = df.loc[df['metric'] == 'service_ltcy_200']\n",
    "latency = latency.drop(['metric'], axis=1)\n",
    "latency = latency.rename(index=str, columns={\"value\": 'service_ltcy_200'})\n",
    "latency.date = pd.to_datetime(latency.date)   \n",
    "latency['service_ltcy_200'] = pd.to_numeric(latency['service_ltcy_200'])\n",
    "latency.set_index('date', inplace=True)\n",
    "latency.sort_index()\n",
    "\n",
    "latency.head()\n"
   ]
  },
  {
   "cell_type": "code",
   "execution_count": 48,
   "metadata": {},
   "outputs": [
    {
     "data": {
      "text/plain": [
       "(78841, 1)"
      ]
     },
     "execution_count": 48,
     "metadata": {},
     "output_type": "execute_result"
    }
   ],
   "source": [
    "latency.shape"
   ]
  },
  {
   "cell_type": "code",
   "execution_count": 46,
   "metadata": {},
   "outputs": [
    {
     "data": {
      "text/plain": [
       "service_ltcy_200    0\n",
       "dtype: int64"
      ]
     },
     "execution_count": 46,
     "metadata": {},
     "output_type": "execute_result"
    }
   ],
   "source": [
    "# check number of nulls\n",
    "nulls = latency.isnull().sum()\n",
    "nulls"
   ]
  },
  {
   "cell_type": "code",
   "execution_count": 47,
   "metadata": {},
   "outputs": [
    {
     "name": "stdout",
     "output_type": "stream",
     "text": [
      "min date 2020-02-27T22:49:53.000000000 max 2020-02-28T20:43:53.000000000\n"
     ]
    }
   ],
   "source": [
    "min_dt = latency.index.values.min()\n",
    "max_dt = latency.index.values.max()\n",
    "print('min date {} max {}'.format(min_dt, max_dt))"
   ]
  },
  {
   "cell_type": "code",
   "execution_count": null,
   "metadata": {},
   "outputs": [],
   "source": [
    "values = latency.values\n",
    "stats.binned_statistic([0.05, 0.1, 0.15, 5, 7], values, 'sum', bins=2)"
   ]
  }
 ],
 "metadata": {
  "kernelspec": {
   "display_name": "Python 3",
   "language": "python",
   "name": "python3"
  },
  "language_info": {
   "codemirror_mode": {
    "name": "ipython",
    "version": 3
   },
   "file_extension": ".py",
   "mimetype": "text/x-python",
   "name": "python",
   "nbconvert_exporter": "python",
   "pygments_lexer": "ipython3",
   "version": "3.7.6"
  }
 },
 "nbformat": 4,
 "nbformat_minor": 4
}
